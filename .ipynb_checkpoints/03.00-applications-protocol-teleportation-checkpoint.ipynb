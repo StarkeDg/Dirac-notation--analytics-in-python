{
 "cells": [
  {
   "cell_type": "code",
   "execution_count": 17,
   "id": "7f5578f9",
   "metadata": {},
   "outputs": [],
   "source": [
    "%run init.ipynb\n",
    "%run init-quantum_gates.ipynb"
   ]
  },
  {
   "cell_type": "markdown",
   "id": "e4091d04",
   "metadata": {},
   "source": [
    "# Quantum Teleportation"
   ]
  },
  {
   "cell_type": "markdown",
   "id": "4edaef1e",
   "metadata": {},
   "source": [
    "File based on Professor Jonas Maziero's lecture notes: https://github.com/jonasmaziero/qiskit2/blob/main/12_qubit_teleportation.ipynb"
   ]
  },
  {
   "cell_type": "markdown",
   "id": "dc4f132a",
   "metadata": {},
   "source": [
    "The quantum teleportation protocol was proposed in C. H. Bennett, G. Brassard, C. Crépeau, R. Jozsa, A. Peres, and W. K. Wootters, Teleporting an unknown quantum state via dual classical and Einstein-Podolsky-Rosen channels, Phys. Rev Lett 70, 1895 (1993). In this protocol, Alice and Bob start by sharing a maximally entangled state $\\vert\\Phi_+\\rangle_{AB}$"
   ]
  },
  {
   "cell_type": "code",
   "execution_count": 19,
   "id": "aa8e9c43",
   "metadata": {},
   "outputs": [
    {
     "data": {
      "image/png": "[encoded data removed]",
      "text/latex": [
       "$\\displaystyle {\\left|\\Phi_{+}\\right\\rangle } = \\frac{\\sqrt{2} \\left({\\left|00\\right\\rangle } + {\\left|11\\right\\rangle }\\right)}{2}$"
      ],
      "text/plain": [
       "          √2⋅(❘00⟩ + ❘11⟩)\n",
       "❘\\Phi₊⟩ = ────────────────\n",
       "                 2        "
      ]
     },
     "execution_count": 19,
     "metadata": {},
     "output_type": "execute_result"
    }
   ],
   "source": [
    "Φ_plus = pbk('P')\n",
    "Eq(Ket('\\Phi_+'),mysim(mbk(Φ_plus)))"
   ]
  },
  {
   "cell_type": "markdown",
   "id": "af600f2d",
   "metadata": {},
   "source": [
    "Alice wants to send to Bob a certain unknown state, but that can be generically represented as"
   ]
  },
  {
   "cell_type": "code",
   "execution_count": 9,
   "id": "0ffc9fae",
   "metadata": {},
   "outputs": [
    {
     "data": {
      "image/png": "[encoded data removed]",
      "text/latex": [
       "$\\displaystyle {\\left|\\psi_{S}\\right\\rangle } = c_{0} {\\left|0\\right\\rangle } + c_{1} {\\left|1\\right\\rangle }$"
      ],
      "text/plain": [
       "❘\\psi_S⟩ = c₀⋅❘0⟩ + c₁⋅❘1⟩"
      ]
     },
     "execution_count": 9,
     "metadata": {},
     "output_type": "execute_result"
    }
   ],
   "source": [
    "ψ_S = psi_bin(2)\n",
    "Eq(Ket('\\psi_S'),mbk(ψ_S))"
   ]
  },
  {
   "cell_type": "markdown",
   "id": "79bfc569",
   "metadata": {},
   "source": [
    "Let's define some symbolic for future manipulations"
   ]
  },
  {
   "cell_type": "code",
   "execution_count": 10,
   "id": "d1a61af5",
   "metadata": {},
   "outputs": [
    {
     "data": {
      "image/png": "[encoded data removed]",
      "text/latex": [
       "$\\displaystyle \\left( c_{0}, \\  c_{1}\\right)$"
      ],
      "text/plain": [
       "(c₀, c₁)"
      ]
     },
     "execution_count": 10,
     "metadata": {},
     "output_type": "execute_result"
    }
   ],
   "source": [
    "c0, c1 = symbols('c_0, c_1')\n",
    "c0, c1"
   ]
  },
  {
   "cell_type": "markdown",
   "id": "841d6e91",
   "metadata": {},
   "source": [
    "## Construction of the protocol with the functions introduced\n",
    "Let's build the entangled state between Alice and Bob's labs starting from the $|00\\rangle_{AB}$ state, so"
   ]
  },
  {
   "cell_type": "code",
   "execution_count": 11,
   "id": "334faa97",
   "metadata": {
    "scrolled": true
   },
   "outputs": [
    {
     "data": {
      "image/png": "[encoded data removed]",
      "text/latex": [
       "$\\displaystyle {\\left|00\\right\\rangle }$"
      ],
      "text/plain": [
       "❘00⟩"
      ]
     },
     "execution_count": 11,
     "metadata": {},
     "output_type": "execute_result"
    }
   ],
   "source": [
    "ψ_AB = pbk('00')\n",
    "mbk(ψ_AB)"
   ]
  },
  {
   "cell_type": "markdown",
   "id": "34d444b6",
   "metadata": {},
   "source": [
    "to produce the state $\\vert \\Phi_+\\rangle$ of the Bell base, we must actuate gate $H$ in subsystem $A$ and CNOT with control in $A$ and target in $B$, thus, we have"
   ]
  },
  {
   "cell_type": "code",
   "execution_count": 12,
   "id": "50ac1358",
   "metadata": {},
   "outputs": [
    {
     "data": {
      "image/png": "[encoded data removed]",
      "text/latex": [
       "$\\displaystyle \\frac{\\sqrt{2} \\left({\\left|00\\right\\rangle } + {\\left|11\\right\\rangle }\\right)}{2}$"
      ],
      "text/plain": [
       "√2⋅(❘00⟩ + ❘11⟩)\n",
       "────────────────\n",
       "       2        "
      ]
     },
     "execution_count": 12,
     "metadata": {},
     "output_type": "execute_result"
    }
   ],
   "source": [
    "Ψ1_AB = gatep(H, ψ_AB, 1)\n",
    "Ψ1_AB = ctrlp(pauli(1), Ψ1_AB, [1,1],[0])\n",
    "mysim(mbk(Ψ1_AB))"
   ]
  },
  {
   "cell_type": "markdown",
   "id": "80fe3ca1",
   "metadata": {},
   "source": [
    "that if we convert to the Bell base, with our codes, it gives us"
   ]
  },
  {
   "cell_type": "code",
   "execution_count": 13,
   "id": "49ac572a",
   "metadata": {
    "scrolled": false
   },
   "outputs": [
    {
     "data": {
      "image/png": "[encoded data removed]",
      "text/latex": [
       "$\\displaystyle {\\left|\\Phi_{+}\\right\\rangle }$"
      ],
      "text/plain": [
       "❘\\Phi_{+}⟩"
      ]
     },
     "execution_count": 13,
     "metadata": {},
     "output_type": "execute_result"
    }
   ],
   "source": [
    "mbk_xyBB(Ψ1_AB, ('BB',(1,0)))"
   ]
  },
  {
   "cell_type": "markdown",
   "id": "5f7f07e8",
   "metadata": {},
   "source": [
    "The total state of the composite system is given by"
   ]
  },
  {
   "cell_type": "code",
   "execution_count": 14,
   "id": "7eb34202",
   "metadata": {
    "scrolled": true
   },
   "outputs": [
    {
     "data": {
      "image/png": "[encoded data removed]",
      "text/latex": [
       "$\\displaystyle {\\left|\\Psi_{SAB}\\right\\rangle } = \\frac{\\sqrt{2} \\left(c_{0} \\left({\\left|000\\right\\rangle } + {\\left|011\\right\\rangle }\\right) + c_{1} \\left({\\left|100\\right\\rangle } + {\\left|111\\right\\rangle }\\right)\\right)}{2}$"
      ],
      "text/plain": [
       "               √2⋅(c₀⋅(❘000⟩ + ❘011⟩) + c₁⋅(❘100⟩ + ❘111⟩))\n",
       "❘\\Psi_{SAB}⟩ = ────────────────────────────────────────────\n",
       "                                    2                      "
      ]
     },
     "execution_count": 14,
     "metadata": {},
     "output_type": "execute_result"
    }
   ],
   "source": [
    "Ψ_SAB = comp_sys(ψ_S, Ψ1_AB)\n",
    "x = mysim(mbk(Ψ_SAB))\n",
    "x = collect(collect(x, c0),c1)\n",
    "Eq(Ket('\\Psi_{SAB}'), x)"
   ]
  },
  {
   "cell_type": "markdown",
   "id": "d8462fa5",
   "metadata": {},
   "source": [
    "If we rewrite Alice's subsystems and the state that Alice wants to send in Bell's base, we have"
   ]
  },
  {
   "cell_type": "code",
   "execution_count": 18,
   "id": "b7da4a5b",
   "metadata": {},
   "outputs": [
    {
     "data": {
      "image/png": "[encoded data removed]",
      "text/latex": [
       "$\\displaystyle {\\left|\\Psi_{SAB}\\right\\rangle } = \\frac{c_{0} \\left({\\left|\\Phi_{+}\\right\\rangle } {\\left|0\\right\\rangle } + {\\left|\\Phi_{-}\\right\\rangle } {\\left|0\\right\\rangle } + {\\left|\\Psi_{+}\\right\\rangle } {\\left|1\\right\\rangle } + {\\left|\\Psi_{-}\\right\\rangle } {\\left|1\\right\\rangle }\\right) + c_{1} \\left({\\left|\\Phi_{+}\\right\\rangle } {\\left|1\\right\\rangle } - {\\left|\\Phi_{-}\\right\\rangle } {\\left|1\\right\\rangle } + {\\left|\\Psi_{+}\\right\\rangle } {\\left|0\\right\\rangle } - {\\left|\\Psi_{-}\\right\\rangle } {\\left|0\\right\\rangle }\\right)}{2}$"
      ],
      "text/plain": [
       "               c₀⋅(❘\\Phi_{+}⟩⋅❘0⟩ + ❘\\Phi_{-}⟩⋅❘0⟩ + ❘\\Psi_{+}⟩⋅❘1⟩ + ❘\\Psi_{-\n",
       "❘\\Psi_{SAB}⟩ = ───────────────────────────────────────────────────────────────\n",
       "                                                                              \n",
       "\n",
       "}⟩⋅❘1⟩) + c₁⋅(❘\\Phi_{+}⟩⋅❘1⟩ - ❘\\Phi_{-}⟩⋅❘1⟩ + ❘\\Psi_{+}⟩⋅❘0⟩ - ❘\\Psi_{-}⟩⋅❘0\n",
       "──────────────────────────────────────────────────────────────────────────────\n",
       "        2                                                                     \n",
       "\n",
       "⟩)\n",
       "──\n",
       "  "
      ]
     },
     "execution_count": 18,
     "metadata": {},
     "output_type": "execute_result"
    }
   ],
   "source": [
    "x = mysim(mbk_xyBB(Ψ_SAB, ('BB',(2,1)), split=1))\n",
    "x = collect(collect(x, c0),c1)\n",
    "Eq(Ket('\\Psi_{SAB}'), x)"
   ]
  },
  {
   "cell_type": "markdown",
   "id": "168b6fe4",
   "metadata": {},
   "source": [
    "Or isolating Bell's base we have\n",
    "$$\n",
    "{\\left|\\Psi_{SAB}\\right\\rangle } = \\frac{\n",
    "{\\left|\\Phi_{+}\\right\\rangle } (c_{0} {\\left|0\\right\\rangle } + c_{1} {\\left|1\\right\\rangle }) +\n",
    "{\\left|\\Phi_{-}\\right\\rangle } (c_{0} {\\left|0\\right\\rangle } - c_{1} {\\left|1\\right\\rangle })  +\n",
    "{\\left|\\Psi_{+}\\right\\rangle } (c_{0} {\\left|1\\right\\rangle } + c_{1} {\\left|0\\right\\rangle }) +\n",
    "{\\left|\\Psi_{-}\\right\\rangle } (c_{0} {\\left|1\\right\\rangle }   - c_{1} {\\left|0\\right\\rangle })\n",
    "}{2}\n",
    "$$"
   ]
  },
  {
   "cell_type": "markdown",
   "id": "b4a6fed5",
   "metadata": {},
   "source": [
    "Since Alice can make a measurement on the basis of Bell, the protocol could end here. But let's assume that Alice was only able to measure in the base of $z$, so we need to convert the Bell base to the computational base, as we will do next."
   ]
  },
  {
   "cell_type": "markdown",
   "id": "47d69de6",
   "metadata": {},
   "source": [
    "### Encoding the Bell basis in terms of the computational basis"
   ]
  },
  {
   "cell_type": "markdown",
   "id": "babbac04",
   "metadata": {},
   "source": [
    "Considering that"
   ]
  },
  {
   "cell_type": "code",
   "execution_count": 3,
   "id": "6eaef1e2",
   "metadata": {},
   "outputs": [
    {
     "data": {
      "image/png": "[encoded data removed]",
      "text/latex": [
       "$\\displaystyle {\\left|\\Phi_{+}\\right\\rangle } = \\frac{\\sqrt{2} \\left({\\left|00\\right\\rangle } + {\\left|11\\right\\rangle }\\right)}{2}$"
      ],
      "text/plain": [
       "          √2⋅(❘00⟩ + ❘11⟩)\n",
       "❘\\Phi₊⟩ = ────────────────\n",
       "                 2        "
      ]
     },
     "execution_count": 3,
     "metadata": {},
     "output_type": "execute_result"
    }
   ],
   "source": [
    "Φ_plus = pbk('P')\n",
    "x = mysim(mbk(Φ_plus))\n",
    "Eq(Ket('\\Phi_+'), x)"
   ]
  },
  {
   "cell_type": "code",
   "execution_count": 4,
   "id": "a2427002",
   "metadata": {},
   "outputs": [
    {
     "data": {
      "image/png": "[encoded data removed]",
      "text/latex": [
       "$\\displaystyle {\\left|\\Phi_{-}\\right\\rangle } = \\frac{\\sqrt{2} \\left({\\left|00\\right\\rangle } - {\\left|11\\right\\rangle }\\right)}{2}$"
      ],
      "text/plain": [
       "          √2⋅(❘00⟩ - ❘11⟩)\n",
       "❘\\Phi₋⟩ = ────────────────\n",
       "                 2        "
      ]
     },
     "execution_count": 4,
     "metadata": {},
     "output_type": "execute_result"
    }
   ],
   "source": [
    "Φ_minus = pbk('Q')\n",
    "x = mysim(mbk(Φ_minus))\n",
    "Eq(Ket('\\Phi_-'), x)"
   ]
  },
  {
   "cell_type": "code",
   "execution_count": 5,
   "id": "a6a08e8b",
   "metadata": {},
   "outputs": [
    {
     "data": {
      "image/png": "[encoded data removed]",
      "text/latex": [
       "$\\displaystyle {\\left|\\Psi_{+}\\right\\rangle } = \\frac{\\sqrt{2} \\left({\\left|01\\right\\rangle } + {\\left|10\\right\\rangle }\\right)}{2}$"
      ],
      "text/plain": [
       "          √2⋅(❘01⟩ + ❘10⟩)\n",
       "❘\\Psi₊⟩ = ────────────────\n",
       "                 2        "
      ]
     },
     "execution_count": 5,
     "metadata": {},
     "output_type": "execute_result"
    }
   ],
   "source": [
    "Ψ_plus = pbk('R')\n",
    "x = mysim(mbk(Ψ_plus))\n",
    "Eq(Ket('\\Psi_+'), x)"
   ]
  },
  {
   "cell_type": "code",
   "execution_count": 6,
   "id": "2eefe1b9",
   "metadata": {},
   "outputs": [
    {
     "data": {
      "image/png": "[encoded data removed]",
      "text/latex": [
       "$\\displaystyle {\\left|\\Psi_{-}\\right\\rangle } = \\frac{\\sqrt{2} \\left({\\left|01\\right\\rangle } - {\\left|10\\right\\rangle }\\right)}{2}$"
      ],
      "text/plain": [
       "          √2⋅(❘01⟩ - ❘10⟩)\n",
       "❘\\Psi₋⟩ = ────────────────\n",
       "                 2        "
      ]
     },
     "execution_count": 6,
     "metadata": {},
     "output_type": "execute_result"
    }
   ],
   "source": [
    "Ψ_minus = pbk('S')\n",
    "x = mysim(mbk(Ψ_minus))\n",
    "Eq(Ket('\\Psi_-'), x)"
   ]
  },
  {
   "cell_type": "markdown",
   "id": "870cce59",
   "metadata": {},
   "source": [
    "If we act on the CNOT gate (left subsystem as control and right as target) and then the $H$ gate (left subsystem) on the Bell basis, we can encode Bell's basis in terms of the computational basis. Then, the Bell base encoded in terms of the computational basis is given, respectively, by"
   ]
  },
  {
   "cell_type": "code",
   "execution_count": 92,
   "id": "16ec2a6f",
   "metadata": {},
   "outputs": [
    {
     "data": {
      "image/png": "[encoded data removed]",
      "text/latex": [
       "$\\displaystyle {\\left|00\\right\\rangle }$"
      ],
      "text/plain": [
       "❘00⟩"
      ]
     },
     "metadata": {},
     "output_type": "display_data"
    }
   ],
   "source": [
    "step1 = ctrlp(pauli(1), Φ_plus, [1,1], [0])\n",
    "display(mbk(gatep(H, step1, 1)))"
   ]
  },
  {
   "cell_type": "code",
   "execution_count": 188,
   "id": "526d9ccd",
   "metadata": {
    "scrolled": true
   },
   "outputs": [
    {
     "data": {
      "image/png": "[encoded data removed]",
      "text/latex": [
       "$\\displaystyle {\\left|10\\right\\rangle }$"
      ],
      "text/plain": [
       "❘10⟩"
      ]
     },
     "metadata": {},
     "output_type": "display_data"
    }
   ],
   "source": [
    "step1 = ctrlp(pauli(1), Φ_minus, (1,1), 0)\n",
    "display(mbk(gatep(H, step1, 1)))"
   ]
  },
  {
   "cell_type": "code",
   "execution_count": 189,
   "id": "f46ad2e7",
   "metadata": {},
   "outputs": [
    {
     "data": {
      "image/png": "[encoded data removed]",
      "text/latex": [
       "$\\displaystyle {\\left|01\\right\\rangle }$"
      ],
      "text/plain": [
       "❘01⟩"
      ]
     },
     "metadata": {},
     "output_type": "display_data"
    }
   ],
   "source": [
    "step1 = ctrlp(pauli(1), Ψ_plus, (1,1), (0,))\n",
    "display(mbk(gatep(H, step1, 1)))"
   ]
  },
  {
   "cell_type": "code",
   "execution_count": 190,
   "id": "5a512416",
   "metadata": {},
   "outputs": [
    {
     "data": {
      "image/png": "[encoded data removed]",
      "text/latex": [
       "$\\displaystyle {\\left|11\\right\\rangle }$"
      ],
      "text/plain": [
       "❘11⟩"
      ]
     },
     "metadata": {},
     "output_type": "display_data"
    }
   ],
   "source": [
    "step1 = ctrlp(pauli(1), Ψ_minus, [1,1], 0)\n",
    "display(mbk(gatep(H, step1, 1)))"
   ]
  },
  {
   "cell_type": "markdown",
   "id": "f9d480e2",
   "metadata": {},
   "source": [
    "In summary:\n",
    "- $|\\Phi_+\\rangle \\longrightarrow |00\\rangle$\n",
    "- $|\\Psi_+\\rangle \\longrightarrow |01\\rangle$\n",
    "- $|\\Phi_-\\rangle \\longrightarrow |10\\rangle$\n",
    "- $|\\Psi_-\\rangle \\longrightarrow |11\\rangle$"
   ]
  },
  {
   "cell_type": "markdown",
   "id": "d2ffa12c",
   "metadata": {},
   "source": [
    "### Returning to the problem"
   ]
  },
  {
   "cell_type": "markdown",
   "id": "73a0169c",
   "metadata": {},
   "source": [
    "Thus, using this encoding in the `Ψ1_SAB` state, it follows that"
   ]
  },
  {
   "cell_type": "code",
   "execution_count": 115,
   "id": "fc48b1ac",
   "metadata": {},
   "outputs": [
    {
     "data": {
      "image/png": "[encoded data removed]",
      "text/latex": [
       "$\\displaystyle {\\left|\\Psi_{SAB}\\right\\rangle } = \\frac{c_{0} {\\left|000\\right\\rangle } + c_{0} {\\left|011\\right\\rangle } + c_{0} {\\left|100\\right\\rangle } + c_{0} {\\left|111\\right\\rangle } + c_{1} {\\left|001\\right\\rangle } + c_{1} {\\left|010\\right\\rangle } - c_{1} {\\left|101\\right\\rangle } - c_{1} {\\left|110\\right\\rangle }}{2}$"
      ],
      "text/plain": [
       "               c₀⋅❘000⟩ + c₀⋅❘011⟩ + c₀⋅❘100⟩ + c₀⋅❘111⟩ + c₁⋅❘001⟩ + c₁⋅❘010⟩\n",
       "❘\\Psi_{SAB}⟩ = ───────────────────────────────────────────────────────────────\n",
       "                                                         2                    \n",
       "\n",
       " - c₁⋅❘101⟩ - c₁⋅❘110⟩\n",
       "──────────────────────\n",
       "                      "
      ]
     },
     "execution_count": 115,
     "metadata": {},
     "output_type": "execute_result"
    }
   ],
   "source": [
    "Ψ2_SAB = ctrlp(pauli(1), Ψ_SAB, (2,1), 1)\n",
    "Ψ2_SAB = gatep(H, Ψ2_SAB, 2)\n",
    "x = mysim(mbk(Ψ2_SAB))\n",
    "Eq(Ket('\\Psi_{SAB}'), x)"
   ]
  },
  {
   "cell_type": "markdown",
   "id": "a1f6d67e",
   "metadata": {},
   "source": [
    "Which, after isolating subsystem $S$ and Alice's subsystem, we can write as\n",
    "$$\n",
    "\\left|\\Psi_{SAB}\\right\\rangle  = \\frac{\n",
    "  \\left|00\\right\\rangle(c_{0} {\\left|0\\right\\rangle } + c_{1} {\\left|1\\right\\rangle })\n",
    "+ \\left|10\\right\\rangle(c_{0} {\\left|0\\right\\rangle } - c_{1} {\\left|1\\right\\rangle })\n",
    "+ \\left|01\\right\\rangle(c_{0} {\\left|1\\right\\rangle } + c_{1} {\\left|0\\right\\rangle })\n",
    "+ \\left|11\\right\\rangle(c_{0} {\\left|1\\right\\rangle } - c_{1} {\\left|0\\right\\rangle })\n",
    "}{2}\n",
    "$$\n",
    "\n",
    "With this, we can see that Bob has the following possible states, depending on the result obtained by Alice\n",
    "\\begin{align}\n",
    "& c_{0}|0\\rangle_{B}+c_{1}|1\\rangle_{B}, \\\\\n",
    "& c_{0}|0\\rangle_{B}-c_{1}|1\\rangle_{B} , \\\\\n",
    "& c_{0}|1\\rangle_{B}+c_{1}|0\\rangle_{B} , \\\\\n",
    "& c_{0}|1\\rangle_{B}-c_{1}|0\\rangle_{B} ,\n",
    "\\end{align}\n",
    "but if he applies some operations, depending on Alice's result, we get the following possibilities\n",
    "\\begin{align}\n",
    " \\mathbb{I}(c_{0}|0\\rangle_{B}+c_{1}|1\\rangle_{B}) = |\\psi\\rangle_S,& \\\\\n",
    " Z(c_{0}|0\\rangle_{B}-c_{1}|1\\rangle_{B}) = |\\psi\\rangle_S,& \\\\\n",
    " X(c_{0}|1\\rangle_{B}+c_{1}|0\\rangle_{B}) = |\\psi\\rangle_S,& \\\\\n",
    " ZX(c_{0}|1\\rangle_{B}-c_{1}|0\\rangle_{B}) = |\\psi\\rangle_S.&\n",
    "\\end{align}\n",
    "In other words, If Alice measures the $S$ subsystem and the entangled qubit with Bob, this results in four possibilities. For each of them, Alice must inform Bob of her result and, through this, Bob will check which operation he must perform to build the state $S$ in his laboratory. The operations, depending on Alice's result, are as follows:\n",
    "\\begin{align}\n",
    "\\text{Alice gets } 00 \\ &\\rightarrow\\ \\text{Bob apply } \\mathbb{I}, \\\\\n",
    "\\text{Alice gets } 10 \\ &\\rightarrow\\ \\text{Bob apply } Z, \\\\\n",
    "\\text{Alice gets } 01 \\ &\\rightarrow\\ \\text{Bob apply } X, \\\\\n",
    "\\text{Alice gets } 11 \\ &\\rightarrow\\ \\text{Bob apply } ZX.\n",
    "\\end{align}"
   ]
  },
  {
   "cell_type": "code",
   "execution_count": null,
   "id": "c49a1041",
   "metadata": {},
   "outputs": [],
   "source": []
  }
 ],
 "metadata": {
  "kernelspec": {
   "display_name": "Python 3 (ipykernel)",
   "language": "python",
   "name": "python3"
  },
  "language_info": {
   "codemirror_mode": {
    "name": "ipython",
    "version": 3
   },
   "file_extension": ".py",
   "mimetype": "text/x-python",
   "name": "python",
   "nbconvert_exporter": "python",
   "pygments_lexer": "ipython3",
   "version": "3.9.13"
  }
 },
 "nbformat": 4,
 "nbformat_minor": 5
}
