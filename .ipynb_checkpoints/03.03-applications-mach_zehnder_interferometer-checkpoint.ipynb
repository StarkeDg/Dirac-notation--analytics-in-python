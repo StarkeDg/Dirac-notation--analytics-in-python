{
 "cells": [
  {
   "cell_type": "code",
   "execution_count": 1,
   "id": "7f5578f9",
   "metadata": {},
   "outputs": [],
   "source": [
    "%run init.ipynb\n",
    "%run init-quantum_gates.ipynb"
   ]
  },
  {
   "cell_type": "markdown",
   "id": "e4091d04",
   "metadata": {},
   "source": [
    "# Mach-Zehnder Interferometer"
   ]
  },
  {
   "cell_type": "markdown",
   "id": "9925d15b",
   "metadata": {},
   "source": [
    "<img src = 'MZI_psi.png' width = '50%'>"
   ]
  },
  {
   "cell_type": "markdown",
   "id": "7266b298",
   "metadata": {},
   "source": [
    "Adapted from: https://github.com/jonasmaziero/qiskit/blob/main/12_mach_zehnder.ipynb and http://localhost:8888/notebooks/%2B%2BJonas/qiskit/20_elitzur_vaidman_bomb.ipynb\n",
    "\n",
    "More about: https://arxiv.org/abs/2203.17062"
   ]
  },
  {
   "cell_type": "markdown",
   "id": "2de733c1",
   "metadata": {},
   "source": [
    "We intend to describe a quantum (more appropriate name for a quantum system that manifests dual behavior of particle and wave) entering a Mach-Zehnder interferometer. Let's make this description through a two-level system (one qubit), for that, let's make some definitions. Horizontal movement of the quantum will be denoted by $|0\\rangle$ and vertical movement will be denoted by $|1\\rangle$."
   ]
  },
  {
   "cell_type": "markdown",
   "id": "eaf66efa",
   "metadata": {},
   "source": [
    "Thus, the initial state of our system is given by $|\\psi_0\\rangle = |0\\rangle$, as shown in the figure above."
   ]
  },
  {
   "cell_type": "markdown",
   "id": "0aa23535",
   "metadata": {},
   "source": [
    "Quantum will pass through several optical devices: BSG is a general beam splitter, BS stands for beam splitter, M is the mirrors, PS stands for phase-shifter and D$_j$ are the detectors in positions $j=0.1$ (horizontal and vertical respectively)."
   ]
  },
  {
   "cell_type": "markdown",
   "id": "251b98ab",
   "metadata": {},
   "source": [
    "Some symbolic definitions"
   ]
  },
  {
   "cell_type": "code",
   "execution_count": 2,
   "id": "8b14010c",
   "metadata": {},
   "outputs": [
    {
     "data": {
      "image/png": "[encoded data removed]",
      "text/latex": [
       "$\\displaystyle \\left( \\theta, \\  \\phi, \\  T, \\  R\\right)$"
      ],
      "text/plain": [
       "(θ, φ, T, R)"
      ]
     },
     "execution_count": 2,
     "metadata": {},
     "output_type": "execute_result"
    }
   ],
   "source": [
    "th, ph, T, R = symbols('theta phi T R', real=True)\n",
    "th, ph, T, R"
   ]
  },
  {
   "cell_type": "markdown",
   "id": "363000fb",
   "metadata": {},
   "source": [
    "## Optical devices"
   ]
  },
  {
   "cell_type": "markdown",
   "id": "84403032",
   "metadata": {},
   "source": [
    "Optical devices can be represented by unitary matrices. For the BSG, we have"
   ]
  },
  {
   "cell_type": "code",
   "execution_count": 3,
   "id": "7c9d76e3",
   "metadata": {},
   "outputs": [
    {
     "data": {
      "image/png": "[encoded data removed]",
      "text/latex": [
       "$\\displaystyle \\left[\\begin{matrix}\\cos{\\left(\\theta \\right)} & i \\sin{\\left(\\theta \\right)}\\\\i \\sin{\\left(\\theta \\right)} & \\cos{\\left(\\theta \\right)}\\end{matrix}\\right]$"
      ],
      "text/plain": [
       "⎡ cos(θ)   ⅈ⋅sin(θ)⎤\n",
       "⎢                  ⎥\n",
       "⎣ⅈ⋅sin(θ)   cos(θ) ⎦"
      ]
     },
     "execution_count": 3,
     "metadata": {},
     "output_type": "execute_result"
    }
   ],
   "source": [
    "BSG = Matrix([[cos(th), 1j*sin(th)], [1j*sin(th), cos(th)]])\n",
    "mysim(BSG)"
   ]
  },
  {
   "cell_type": "markdown",
   "id": "3beb8db9",
   "metadata": {},
   "source": [
    "You can also think of the BSG as a device that is built to let transmit ($T$) thequantum with a certain probability amplitude and reflect ($R$) thequantum with a certain probability amplitude. So, we can write"
   ]
  },
  {
   "cell_type": "code",
   "execution_count": 4,
   "id": "0a8f0206",
   "metadata": {},
   "outputs": [
    {
     "data": {
      "image/png": "[encoded data removed]",
      "text/latex": [
       "$\\displaystyle \\left[\\begin{matrix}T & i R\\\\i R & T\\end{matrix}\\right]$"
      ],
      "text/plain": [
       "⎡ T   ⅈ⋅R⎤\n",
       "⎢        ⎥\n",
       "⎣ⅈ⋅R   T ⎦"
      ]
     },
     "execution_count": 4,
     "metadata": {},
     "output_type": "execute_result"
    }
   ],
   "source": [
    "BSG = Matrix([[T, 1j*R], [1j*R, T]])\n",
    "mysim(BSG)"
   ]
  },
  {
   "cell_type": "markdown",
   "id": "d565b524",
   "metadata": {},
   "source": [
    "where"
   ]
  },
  {
   "cell_type": "code",
   "execution_count": 5,
   "id": "c77a6323",
   "metadata": {},
   "outputs": [
    {
     "data": {
      "image/png": "[encoded data removed]",
      "text/latex": [
       "$\\displaystyle \\left( T = \\cos{\\left(\\theta \\right)}, \\  R = \\sin{\\left(\\theta \\right)}\\right)$"
      ],
      "text/plain": [
       "(T = cos(θ), R = sin(θ))"
      ]
     },
     "execution_count": 5,
     "metadata": {},
     "output_type": "execute_result"
    }
   ],
   "source": [
    "Eq(T, cos(th)), Eq(R, sin(th))"
   ]
  },
  {
   "cell_type": "markdown",
   "id": "df321b6a",
   "metadata": {},
   "source": [
    "The BS is given by (this is a particular case of the BSG considering $\\theta = \\pi/4$)"
   ]
  },
  {
   "cell_type": "code",
   "execution_count": 6,
   "id": "323ea833",
   "metadata": {},
   "outputs": [
    {
     "data": {
      "image/png": "[encoded data removed]",
      "text/latex": [
       "$\\displaystyle \\left[\\begin{matrix}\\frac{\\sqrt{2}}{2} & \\frac{\\sqrt{2} i}{2}\\\\\\frac{\\sqrt{2} i}{2} & \\frac{\\sqrt{2}}{2}\\end{matrix}\\right]$"
      ],
      "text/plain": [
       "⎡ √2   √2⋅ⅈ⎤\n",
       "⎢ ──   ────⎥\n",
       "⎢ 2     2  ⎥\n",
       "⎢          ⎥\n",
       "⎢√2⋅ⅈ   √2 ⎥\n",
       "⎢────   ── ⎥\n",
       "⎣ 2     2  ⎦"
      ]
     },
     "execution_count": 6,
     "metadata": {},
     "output_type": "execute_result"
    }
   ],
   "source": [
    "BS = (1/sqrt(2))*Matrix([[1, 1j], [1j, 1]])\n",
    "mysim(BS)"
   ]
  },
  {
   "cell_type": "markdown",
   "id": "626df423",
   "metadata": {},
   "source": [
    "that is, the BS is a balanced device which allows the quantum to pass with equal amplitude of probability for the part in $T$ and in $R$."
   ]
  },
  {
   "cell_type": "markdown",
   "id": "1a67db4c",
   "metadata": {},
   "source": [
    "The combined action of the mirrors is given by"
   ]
  },
  {
   "cell_type": "code",
   "execution_count": 7,
   "id": "e65abaeb",
   "metadata": {},
   "outputs": [
    {
     "data": {
      "image/png": "[encoded data removed]",
      "text/latex": [
       "$\\displaystyle \\left[\\begin{matrix}0 & i\\\\i & 0\\end{matrix}\\right]$"
      ],
      "text/plain": [
       "⎡0  ⅈ⎤\n",
       "⎢    ⎥\n",
       "⎣ⅈ  0⎦"
      ]
     },
     "execution_count": 7,
     "metadata": {},
     "output_type": "execute_result"
    }
   ],
   "source": [
    "M = Matrix([[0, 1j], [1j, 0]])\n",
    "mysim(M)"
   ]
  },
  {
   "cell_type": "markdown",
   "id": "d57ec9a6",
   "metadata": {},
   "source": [
    "The PS, on the other hand, is actuated through"
   ]
  },
  {
   "cell_type": "code",
   "execution_count": 8,
   "id": "751a63dc",
   "metadata": {
    "scrolled": true
   },
   "outputs": [
    {
     "data": {
      "image/png": "[encoded data removed]",
      "text/latex": [
       "$\\displaystyle \\left[\\begin{matrix}1 & 0\\\\0 & e^{i \\phi}\\end{matrix}\\right]$"
      ],
      "text/plain": [
       "⎡1   0  ⎤\n",
       "⎢       ⎥\n",
       "⎢    ⅈ⋅φ⎥\n",
       "⎣0  ℯ   ⎦"
      ]
     },
     "execution_count": 8,
     "metadata": {},
     "output_type": "execute_result"
    }
   ],
   "source": [
    "PS = Matrix([[1,0],[0, exp(1j*ph)]])\n",
    "mysim(PS)"
   ]
  },
  {
   "cell_type": "markdown",
   "id": "0458bdb0",
   "metadata": {},
   "source": [
    "## Implementing"
   ]
  },
  {
   "cell_type": "markdown",
   "id": "eb6de618",
   "metadata": {},
   "source": [
    "The initial state is given by"
   ]
  },
  {
   "cell_type": "code",
   "execution_count": 9,
   "id": "6250de59",
   "metadata": {},
   "outputs": [
    {
     "data": {
      "image/png": "[encoded data removed]",
      "text/latex": [
       "$\\displaystyle {\\left|0\\right\\rangle }$"
      ],
      "text/plain": [
       "❘0⟩"
      ]
     },
     "execution_count": 9,
     "metadata": {},
     "output_type": "execute_result"
    }
   ],
   "source": [
    "ψ0 = pbk('0')\n",
    "mysim(mbk(ψ0))"
   ]
  },
  {
   "cell_type": "markdown",
   "id": "b1e6ff41",
   "metadata": {},
   "source": [
    "After the BSG we have"
   ]
  },
  {
   "cell_type": "code",
   "execution_count": 10,
   "id": "12feb4f3",
   "metadata": {},
   "outputs": [
    {
     "data": {
      "image/png": "[encoded data removed]",
      "text/latex": [
       "$\\displaystyle i R {\\left|1\\right\\rangle } + T {\\left|0\\right\\rangle }$"
      ],
      "text/plain": [
       "ⅈ⋅R⋅❘1⟩ + T⋅❘0⟩"
      ]
     },
     "execution_count": 10,
     "metadata": {},
     "output_type": "execute_result"
    }
   ],
   "source": [
    "ψ1 = gatep(BSG, ψ0, 0)\n",
    "mysim(mbk(ψ1))"
   ]
  },
  {
   "cell_type": "markdown",
   "id": "facfd6a3",
   "metadata": {},
   "source": [
    "After the combined action of the mirrors, it follows that"
   ]
  },
  {
   "cell_type": "code",
   "execution_count": 11,
   "id": "76f637d8",
   "metadata": {},
   "outputs": [
    {
     "data": {
      "image/png": "[encoded data removed]",
      "text/latex": [
       "$\\displaystyle - R {\\left|0\\right\\rangle } + i T {\\left|1\\right\\rangle }$"
      ],
      "text/plain": [
       "-R⋅❘0⟩ + ⅈ⋅T⋅❘1⟩"
      ]
     },
     "execution_count": 11,
     "metadata": {},
     "output_type": "execute_result"
    }
   ],
   "source": [
    "ψ2 = gatep(M, ψ1, 0)\n",
    "mysim(mbk(ψ2))"
   ]
  },
  {
   "cell_type": "markdown",
   "id": "69deabf5",
   "metadata": {},
   "source": [
    "PS gives us"
   ]
  },
  {
   "cell_type": "code",
   "execution_count": 12,
   "id": "ea175d26",
   "metadata": {},
   "outputs": [
    {
     "data": {
      "image/png": "[encoded data removed]",
      "text/latex": [
       "$\\displaystyle - R {\\left|0\\right\\rangle } + i T e^{i \\phi} {\\left|1\\right\\rangle }$"
      ],
      "text/plain": [
       "              ⅈ⋅φ    \n",
       "-R⋅❘0⟩ + ⅈ⋅T⋅ℯ   ⋅❘1⟩"
      ]
     },
     "execution_count": 12,
     "metadata": {},
     "output_type": "execute_result"
    }
   ],
   "source": [
    "ψ3 = gatep(PS, ψ2, 0)\n",
    "mysim(mbk(ψ3))"
   ]
  },
  {
   "cell_type": "markdown",
   "id": "b97d7bc6",
   "metadata": {},
   "source": [
    "Finally, after the BS, we have"
   ]
  },
  {
   "cell_type": "code",
   "execution_count": 13,
   "id": "5634fab9",
   "metadata": {},
   "outputs": [
    {
     "data": {
      "image/png": "[encoded data removed]",
      "text/latex": [
       "$\\displaystyle \\frac{\\sqrt{2} \\left(i \\left(- R + T e^{i \\phi}\\right) {\\left|1\\right\\rangle } - \\left(R + T e^{i \\phi}\\right) {\\left|0\\right\\rangle }\\right)}{2}$"
      ],
      "text/plain": [
       "   ⎛  ⎛        ⅈ⋅φ⎞       ⎛       ⅈ⋅φ⎞    ⎞\n",
       "√2⋅⎝ⅈ⋅⎝-R + T⋅ℯ   ⎠⋅❘1⟩ - ⎝R + T⋅ℯ   ⎠⋅❘0⟩⎠\n",
       "───────────────────────────────────────────\n",
       "                     2                     "
      ]
     },
     "execution_count": 13,
     "metadata": {},
     "output_type": "execute_result"
    }
   ],
   "source": [
    "ψ4 = gatep(BS, ψ3, 0)\n",
    "x = mysim(mbk(ψ4))\n",
    "x"
   ]
  },
  {
   "cell_type": "code",
   "execution_count": 116,
   "id": "a7681821",
   "metadata": {},
   "outputs": [
    {
     "data": {
      "image/png": "[encoded data removed]",
      "text/latex": [
       "$\\displaystyle 0.5 \\sin{\\left(2 \\theta \\right)} + 0.5$"
      ],
      "text/plain": [
       "0.5⋅sin(2⋅θ) + 0.5"
      ]
     },
     "execution_count": 116,
     "metadata": {},
     "output_type": "execute_result"
    }
   ],
   "source": [
    "simplify(regra_de_born(ψ4, pbk('0'))).subs(ph, 0)"
   ]
  },
  {
   "cell_type": "code",
   "execution_count": 42,
   "id": "f38869a3",
   "metadata": {},
   "outputs": [],
   "source": [
    "from sympy import Matrix, sqrt, conjugate\n",
    "def regra_de_born(vetor_estado, vetor_probabilidade):\n",
    "    vetor_estado_conjugado = conjugate(vetor_estado)\n",
    "    inner_prod_c = inner_product(vetor_estado_conjugado, vetor_probabilidade)\n",
    "    probabilidade = abs(inner_prod_c * inner_product(vetor_estado, vetor_probabilidade))\n",
    "    return probabilidade"
   ]
  },
  {
   "cell_type": "code",
   "execution_count": 47,
   "id": "36c96405",
   "metadata": {},
   "outputs": [
    {
     "name": "stdout",
     "output_type": "stream",
     "text": [
      "A probabilidade de encontrar o vetor de estado no vetor de probabilidade é: 1/2\n"
     ]
    }
   ],
   "source": [
    "vetor_estado = Matrix([1, 0])\n",
    "vetor_probabilidade = Matrix([1/sqrt(2), 1/sqrt(2)])\n",
    "\n",
    "probabilidade = regra_de_born(vetor_estado, vetor_probabilidade)\n",
    "print(f\"A probabilidade de encontrar o vetor de estado no vetor de probabilidade é: {probabilidade}\")"
   ]
  },
  {
   "cell_type": "code",
   "execution_count": 49,
   "id": "5a8c0aa4",
   "metadata": {},
   "outputs": [
    {
     "name": "stdout",
     "output_type": "stream",
     "text": [
      "A probabilidade de encontrar o vetor de estado no vetor de probabilidade é: 0.250000000000000\n"
     ]
    }
   ],
   "source": [
    "vetor_estado = Matrix([0,1,0,0])\n",
    "vetor_probabilidade = Matrix([1/2, 1/2, 1/2, 1/2])\n",
    "\n",
    "probabilidade = regra_de_born(vetor_estado, vetor_probabilidade)\n",
    "print(f\"A probabilidade de encontrar o vetor de estado no vetor de probabilidade é: {probabilidade}\")"
   ]
  },
  {
   "cell_type": "code",
   "execution_count": 48,
   "id": "9a4e9109",
   "metadata": {},
   "outputs": [
    {
     "name": "stdout",
     "output_type": "stream",
     "text": [
      "A probabilidade de encontrar o vetor de estado no vetor de probabilidade é: 1\n"
     ]
    }
   ],
   "source": [
    "vetor_estado = Matrix([1/sqrt(2), 1/sqrt(2)])\n",
    "vetor_probabilidade = Matrix([1/sqrt(2), 1/sqrt(2)])\n",
    "\n",
    "probabilidade = regra_de_born(vetor_estado, vetor_probabilidade)\n",
    "print(f\"A probabilidade de encontrar o vetor de estado no vetor de probabilidade é: {probabilidade}\")"
   ]
  },
  {
   "cell_type": "code",
   "execution_count": null,
   "id": "b4cce24a",
   "metadata": {},
   "outputs": [],
   "source": []
  }
 ],
 "metadata": {
  "kernelspec": {
   "display_name": "Python 3 (ipykernel)",
   "language": "python",
   "name": "python3"
  },
  "language_info": {
   "codemirror_mode": {
    "name": "ipython",
    "version": 3
   },
   "file_extension": ".py",
   "mimetype": "text/x-python",
   "name": "python",
   "nbconvert_exporter": "python",
   "pygments_lexer": "ipython3",
   "version": "3.9.13"
  }
 },
 "nbformat": 4,
 "nbformat_minor": 5
}
