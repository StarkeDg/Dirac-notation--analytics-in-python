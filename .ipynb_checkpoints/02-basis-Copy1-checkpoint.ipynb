{
 "cells": [
  {
   "cell_type": "code",
   "execution_count": 1,
   "id": "945009b8",
   "metadata": {},
   "outputs": [],
   "source": [
    "%run init.ipynb"
   ]
  },
  {
   "cell_type": "markdown",
   "id": "b2c36f31",
   "metadata": {},
   "source": [
    "# Bell's basis"
   ]
  },
  {
   "cell_type": "code",
   "execution_count": 23,
   "id": "4800c61c",
   "metadata": {},
   "outputs": [],
   "source": [
    "def BBasis(matrix, *pos):\n",
    "    lst = list(pos)\n",
    "    x = len(matrix)\n",
    "    n = int(log(x, 2))\n",
    "    psi_mod = copy.deepcopy(matrix)\n",
    "    psi_f = Matrix([0]*2**n)\n",
    "    for j in range(x):\n",
    "        char = list('{:0{}b}'.format(j, math.ceil(math.log(x, 2))))\n",
    "        # 00 = phi_plus, 01 = phi_minus, 10 = psi_plus, 11 = psi_minus\n",
    "        phi_plus = (1/sqrt(2)) * (pbk(''.join(char[:n-1-lst[0][0]]) + '00' + ''.join(char[n-lst[0][1]:]))\\\n",
    "                          + pbk(''.join(char[:n-1-lst[0][0]]) + '11' + ''.join(char[n-lst[0][1]:])))\n",
    "        phi_minus = (1/sqrt(2)) * (pbk(''.join(char[:n-1-lst[0][0]]) + '00' + ''.join(char[n-lst[0][1]:]))\\\n",
    "                          - pbk(''.join(char[:n-1-lst[0][0]]) + '11' + ''.join(char[n-lst[0][1]:])))\n",
    "        psi_plus = (1/sqrt(2)) * (pbk(''.join(char[:n-1-lst[0][0]]) + '01' + ''.join(char[n-lst[0][1]:]))\\\n",
    "                          + pbk(''.join(char[:n-1-lst[0][0]]) + '10' + ''.join(char[n-lst[0][1]:])))\n",
    "        psi_minus = (1/sqrt(2)) * (pbk(''.join(char[:n-1-lst[0][0]]) + '01' + ''.join(char[n-lst[0][1]:]))\\\n",
    "                          - pbk(''.join(char[:n-1-lst[0][0]]) + '10' + ''.join(char[n-lst[0][1]:])))\n",
    "        if char[n-1-lst[0][0]] == str(0) and char[n-1-lst[0][1]] == str(0):\n",
    "            psi_f = psi_mod[j] * phi_plus + psi_f\n",
    "            psi_mod[j] = 0\n",
    "        if char[n-1-lst[0][0]] == str(1) and char[n-1-lst[0][1]] == str(1):\n",
    "            psi_f = psi_mod[j] * phi_minus + psi_f\n",
    "            psi_mod[j] = 0\n",
    "        if char[n-1-lst[0][0]] == str(0) and char[n-1-lst[0][1]] == str(1):\n",
    "            psi_f = psi_mod[j] * psi_plus + psi_f\n",
    "            psi_mod[j] = 0\n",
    "        if char[n-1-lst[0][0]] == str(1) and char[n-1-lst[0][1]] == str(0):\n",
    "            psi_f = psi_mod[j] * psi_minus + psi_f\n",
    "            psi_mod[j] = 0\n",
    "    psi_f = psi_f + psi_mod\n",
    "    return psi_f"
   ]
  },
  {
   "cell_type": "code",
   "execution_count": 24,
   "id": "e579d6bc",
   "metadata": {},
   "outputs": [],
   "source": [
    "def change_to_BB(matrix, *pos):\n",
    "    lst = list(pos)\n",
    "    matrix_aux = copy.deepcopy(matrix)\n",
    "    for j in range(len(lst)):\n",
    "        matrix_aux = BBasis(matrix_aux, lst[j])\n",
    "    val, poss, poss_bin, order = [], [], [], [[]]\n",
    "    if isinstance(matrix_aux, sympy.matrices.dense.MutableDenseMatrix):\n",
    "        n_linhas, n_colunas = matrix_aux.shape\n",
    "        if n_colunas == 1:\n",
    "            Psi = 0\n",
    "            x = len(matrix_aux)\n",
    "            n = int(math.log(x)/math.log(2))\n",
    "            pos_t = n-1-lst[0][0]\n",
    "            for i in range(x):\n",
    "                if matrix_aux[i] != 0:\n",
    "                    val.append(matrix_aux[i])\n",
    "                    poss_bin.append(format(i, f'0{int(math.log(x)/math.log(2))}b'))\n",
    "            for i in range(len(val)):\n",
    "                order = []\n",
    "                for j in range(len(lst)):\n",
    "                    if poss_bin[i][n-1-lst[j][0]] == str('0') and poss_bin[i][n-1-lst[j][1]] == str('0'):\n",
    "                        order.append(poss_bin[i][:n-1-lst[j][0]] + 'aa' + poss_bin[i][n-lst[j][1]:])\n",
    "                    if poss_bin[i][n-1-lst[j][0]] == str('1') and poss_bin[i][n-1-lst[j][1]] == str('1'):\n",
    "                        order.append(poss_bin[i][:n-1-lst[j][0]] + 'bb' + poss_bin[i][n-lst[j][1]:])\n",
    "                    if poss_bin[i][n-1-lst[j][0]] == str('0') and poss_bin[i][n-1-lst[j][1]] == str('1'):\n",
    "                        order.append(poss_bin[i][:n-1-lst[j][0]] + 'cc' + poss_bin[i][n-lst[j][1]:])\n",
    "                    if poss_bin[i][n-1-lst[j][0]] == str('1') and poss_bin[i][n-1-lst[j][1]] == str('0'):\n",
    "                        order.append(poss_bin[i][:n-1-lst[j][0]] + 'dd' + poss_bin[i][n-lst[j][1]:])\n",
    "                    if j < len(lst):\n",
    "                        poss_bin.pop(i)\n",
    "                        poss_bin.insert(i, order[j])\n",
    "                string = order[-1]\n",
    "                string = string.replace(\"aa\", \"\\Phi_{+}\").replace(\"bb\", \"\\Phi_{-}\")\\\n",
    "                            .replace(\"cc\", \"\\Psi_{+}\").replace(\"dd\", \"\\Psi_{-}\")\n",
    "                Psi += val[i]*Ket(string)\n",
    "            return Psi"
   ]
  },
  {
   "cell_type": "markdown",
   "id": "64d80f73",
   "metadata": {},
   "source": [
    "# $S_z$-, $S_x$- and $S_y$-basis"
   ]
  },
  {
   "cell_type": "code",
   "execution_count": 2,
   "id": "6e130270",
   "metadata": {},
   "outputs": [],
   "source": [
    "\"\"\"\n",
    "Interesting function to say exactly which matrix values\n",
    "are different from zero and at the same time have a visualization\n",
    "of the state vector as if it were written in Dirac notation\n",
    "\"\"\"\n",
    "def pbk(seq, dim=2, mtype=0):\n",
    "    \"\"\"\n",
    "    Args:\n",
    "        seq (str): input sequence. Ex: '010110'\n",
    "        dim (int): computational basis dimension (default=2 for qubits)\n",
    "        mtype (int): array type, column array or row array. Zero (default=0) for\n",
    "            row matrix and one (1) for row matrix\n",
    "\n",
    "    Returns:\n",
    "        array: ket vector for the input sequence in the computational basis of dimension 'dim'\n",
    "    \"\"\"\n",
    "    vec = []\n",
    "    for digito in seq:\n",
    "        vec.append(digito)\n",
    "    n = len(vec)\n",
    "    if vec[0] == '+':\n",
    "        psi = (1/sqrt(2))*(cb(dim, 0) + cb(dim, 1))\n",
    "    elif vec[0] == '-':\n",
    "        psi = (1/sqrt(2))*(cb(dim, 0) - cb(dim, 1))\n",
    "    elif vec[0] == 'r':\n",
    "        psi = (1/sqrt(2))*(cb(dim, 0) + 1j*cb(dim, 1))\n",
    "    elif vec[0] == 'l':\n",
    "        psi = (1/sqrt(2))*(cb(dim, 0) - 1j*cb(dim, 1))\n",
    "    else:\n",
    "        psi = cb(dim, int(vec[0]))\n",
    "    for j in range(1,n):\n",
    "        if vec[j] == '+':\n",
    "            psi = (1/sqrt(2))*(tp(psi,cb(dim, 0)) + tp(psi,cb(dim, 1)))\n",
    "        elif vec[j] == '-':\n",
    "            psi = (1/sqrt(2))*(tp(psi,cb(dim, 0)) - tp(psi,cb(dim, 1)))\n",
    "        elif vec[j] == 'r':\n",
    "            psi = (1/sqrt(2))*(tp(psi,cb(dim, 0)) + 1j*tp(psi,cb(dim, 1)))\n",
    "        elif vec[j] == 'l':\n",
    "            psi = (1/sqrt(2))*(tp(psi,cb(dim, 0)) - 1j*tp(psi,cb(dim, 1)))\n",
    "        else:\n",
    "            psi = tp(psi,cb(dim, int(vec[j])))\n",
    "    if mtype == 1:\n",
    "        return transpose(psi).as_mutable()\n",
    "    return psi"
   ]
  },
  {
   "cell_type": "code",
   "execution_count": 3,
   "id": "5d674d43",
   "metadata": {},
   "outputs": [],
   "source": [
    "def xyzBasis(matrix, *pos, base='x'):\n",
    "    lst = list(pos)\n",
    "    x = len(matrix)\n",
    "    n = int(log(x, 2))\n",
    "    psi_mod = copy.deepcopy(matrix)\n",
    "    psi_f = Matrix([0]*2**n)\n",
    "    for j in range(x):\n",
    "        char = list('{:0{}b}'.format(j, math.ceil(math.log(x, 2))))\n",
    "        if base == 'x':\n",
    "            plus =  (1/sqrt(2)) * (pbk(''.join(char[:n-1-lst[0]]) + '0' + ''.join(char[n-lst[0]:]))\\\n",
    "                                 + pbk(''.join(char[:n-1-lst[0]]) + '1' + ''.join(char[n-lst[0]:])))\n",
    "            minus = (1/sqrt(2)) * (pbk(''.join(char[:n-1-lst[0]]) + '0' + ''.join(char[n-lst[0]:]))\\\n",
    "                                 - pbk(''.join(char[:n-1-lst[0]]) + '1' + ''.join(char[n-lst[0]:])))\n",
    "        if base == 'y':\n",
    "            plus  =  (1/sqrt(2)) * (pbk(''.join(char[:n-1-lst[0]]) + '0' + ''.join(char[n-lst[0]:]))\\\n",
    "                                  + pbk(''.join(char[:n-1-lst[0]]) + '1' + ''.join(char[n-lst[0]:])))\n",
    "            minus =  (-1j/sqrt(2))*(pbk(''.join(char[:n-1-lst[0]]) + '0' + ''.join(char[n-lst[0]:]))\\\n",
    "                                  - pbk(''.join(char[:n-1-lst[0]]) + '1' + ''.join(char[n-lst[0]:])))\n",
    "        if char[n-1-lst[0]] == str(0):\n",
    "            #print('1st')\n",
    "            psi_f = psi_mod[j] * plus + psi_f\n",
    "            psi_mod[j] = 0\n",
    "        if char[n-1-lst[0]] == str(1):\n",
    "            #print('2nd')\n",
    "            psi_f = psi_mod[j] * minus + psi_f\n",
    "            psi_mod[j] = 0\n",
    "    psi_f = psi_f + psi_mod\n",
    "    return psi_f"
   ]
  },
  {
   "cell_type": "code",
   "execution_count": 8,
   "id": "6699e535",
   "metadata": {},
   "outputs": [],
   "source": [
    "def mbk_xyz(matrix, *bpos):\n",
    "    base = [t[0] for t in bpos]\n",
    "    lst = [t[1:] for t in bpos]\n",
    "    matrix_aux = copy.deepcopy(matrix)\n",
    "    for j in range(len(base)):\n",
    "        for k in range(len(lst[j])):\n",
    "            matrix_aux = xyzBasis(matrix_aux, lst[j][k], base=base[j])\n",
    "    val, poss, poss_bin, order = [], [], [], [[]]\n",
    "    if isinstance(matrix_aux, sympy.matrices.dense.MutableDenseMatrix):\n",
    "        n_linhas, n_colunas = matrix_aux.shape\n",
    "        if n_colunas == 1:\n",
    "            Psi = 0\n",
    "            x = len(matrix_aux)\n",
    "            n = int(math.log(x)/math.log(2))\n",
    "            for i in range(x):\n",
    "                if matrix_aux[i] != 0:\n",
    "                    val.append(matrix_aux[i])\n",
    "                    poss_bin.append(format(i, f'0{int(math.log(x)/math.log(2))}b'))\n",
    "            for i in range(len(base)):\n",
    "                for j in range(len(val)):\n",
    "                    order = []\n",
    "                    for k in range(len(lst[i])):\n",
    "                        if base[i] == 'x':\n",
    "                            if poss_bin[j][n-1-lst[i][k]] == str('0'):\n",
    "                                order.append(poss_bin[j][:n-1-lst[i][k]] + 'a' + poss_bin[j][n-lst[i][k]:])\n",
    "                            elif poss_bin[j][n-1-lst[i][k]] == str('1'):\n",
    "                                order.append(poss_bin[j][:n-1-lst[i][k]] + 'b' + poss_bin[j][n-lst[i][k]:])\n",
    "                        if base[i] == 'y':\n",
    "                            if poss_bin[j][n-1-lst[i][k]] == str('0'):\n",
    "                                order.append(poss_bin[j][:n-1-lst[i][k]] + 'c' + poss_bin[j][n-lst[i][k]:])\n",
    "                            elif poss_bin[j][n-1-lst[i][k]] == str('1'):\n",
    "                                order.append(poss_bin[j][:n-1-lst[i][k]] + 'd' + poss_bin[j][n-lst[i][k]:])\n",
    "                        if k < len(lst):\n",
    "                            poss_bin.pop(j)\n",
    "                            poss_bin.insert(j,order[k])\n",
    "                    if i == len(base)-1:\n",
    "                        string = order[-1]\n",
    "                        string = string.replace(\"a\", \"+\").replace(\"b\", \"-\")\\\n",
    "                                .replace(\"c\", \"\\oplus\").replace(\"d\", \"\\ominus\")\n",
    "                        Psi += val[j]*Ket(string)\n",
    "            return Psi"
   ]
  },
  {
   "cell_type": "code",
   "execution_count": 9,
   "id": "b5d9b49b",
   "metadata": {},
   "outputs": [
    {
     "data": {
      "image/png": "[encoded data removed]",
      "text/latex": [
       "$\\displaystyle \\frac{\\sqrt{2} \\left({\\left|000000\\right\\rangle } - i {\\left|000011\\right\\rangle } + i {\\left|000101\\right\\rangle } + {\\left|000110\\right\\rangle } - {\\left|001001\\right\\rangle } + i {\\left|001010\\right\\rangle } - i {\\left|001100\\right\\rangle } - {\\left|001111\\right\\rangle } + {\\left|010001\\right\\rangle } - i {\\left|010010\\right\\rangle } + i {\\left|010100\\right\\rangle } + {\\left|010111\\right\\rangle } - {\\left|011000\\right\\rangle } + i {\\left|011011\\right\\rangle } - i {\\left|011101\\right\\rangle } - {\\left|011110\\right\\rangle } + {\\left|100000\\right\\rangle } - {\\left|100001\\right\\rangle } + {\\left|100110\\right\\rangle } - {\\left|100111\\right\\rangle } + i {\\left|101010\\right\\rangle } - i {\\left|101011\\right\\rangle } - i {\\left|101100\\right\\rangle } + i {\\left|101101\\right\\rangle } - i {\\left|110010\\right\\rangle } + i {\\left|110011\\right\\rangle } + i {\\left|110100\\right\\rangle } - i {\\left|110101\\right\\rangle } - {\\left|111000\\right\\rangle } + {\\left|111001\\right\\rangle } - {\\left|111110\\right\\rangle } + {\\left|111111\\right\\rangle }\\right)}{8}$"
      ],
      "text/plain": [
       "√2⋅(❘000000⟩ - ⅈ⋅❘000011⟩ + ⅈ⋅❘000101⟩ + ❘000110⟩ - ❘001001⟩ + ⅈ⋅❘001010⟩ - ⅈ⋅\n",
       "──────────────────────────────────────────────────────────────────────────────\n",
       "                                                                              \n",
       "\n",
       "❘001100⟩ - ❘001111⟩ + ❘010001⟩ - ⅈ⋅❘010010⟩ + ⅈ⋅❘010100⟩ + ❘010111⟩ - ❘011000⟩\n",
       "──────────────────────────────────────────────────────────────────────────────\n",
       "                                                                              \n",
       "\n",
       " + ⅈ⋅❘011011⟩ - ⅈ⋅❘011101⟩ - ❘011110⟩ + ❘100000⟩ - ❘100001⟩ + ❘100110⟩ - ❘1001\n",
       "──────────────────────────────────────────────────────────────────────────────\n",
       "                                    8                                         \n",
       "\n",
       "11⟩ + ⅈ⋅❘101010⟩ - ⅈ⋅❘101011⟩ - ⅈ⋅❘101100⟩ + ⅈ⋅❘101101⟩ - ⅈ⋅❘110010⟩ + ⅈ⋅❘1100\n",
       "──────────────────────────────────────────────────────────────────────────────\n",
       "                                                                              \n",
       "\n",
       "11⟩ + ⅈ⋅❘110100⟩ - ⅈ⋅❘110101⟩ - ❘111000⟩ + ❘111001⟩ - ❘111110⟩ + ❘111111⟩)\n",
       "──────────────────────────────────────────────────────────────────────────\n",
       "                                                                          "
      ]
     },
     "execution_count": 9,
     "metadata": {},
     "output_type": "execute_result"
    }
   ],
   "source": [
    "ψ = (1/2)*(pbk('0+-rl+') + pbk('0-+lr-') + pbk('1+-rl-') + pbk('1-+lr-'))\n",
    "mysim(mbk(ψ))"
   ]
  },
  {
   "cell_type": "code",
   "execution_count": 10,
   "id": "2c23e656",
   "metadata": {
    "scrolled": false
   },
   "outputs": [
    {
     "data": {
      "image/png": "[encoded data removed]",
      "text/latex": [
       "$\\displaystyle \\frac{{\\left|0+-\\oplus\\ominus+\\right\\rangle } + {\\left|0-+\\ominus\\oplus-\\right\\rangle } + {\\left|1+-\\oplus\\ominus-\\right\\rangle } + {\\left|1-+\\ominus\\oplus-\\right\\rangle }}{2}$"
      ],
      "text/plain": [
       "❘0+-\\oplus\\ominus+⟩ + ❘0-+\\ominus\\oplus-⟩ + ❘1+-\\oplus\\ominus-⟩ + ❘1-+\\ominus\\\n",
       "──────────────────────────────────────────────────────────────────────────────\n",
       "                                          2                                   \n",
       "\n",
       "oplus-⟩\n",
       "───────\n",
       "       "
      ]
     },
     "execution_count": 10,
     "metadata": {},
     "output_type": "execute_result"
    }
   ],
   "source": [
    "mysim(mbk_xyz(ψ, ('y', 1,2), ('x', 3,4,0)))"
   ]
  },
  {
   "cell_type": "markdown",
   "id": "11aba437",
   "metadata": {},
   "source": [
    "# $S_z$-, $S_x$- and $S_y$-basis ans Bell Basis"
   ]
  },
  {
   "cell_type": "code",
   "execution_count": 91,
   "id": "c7200982",
   "metadata": {},
   "outputs": [],
   "source": [
    "\"\"\"\n",
    "Interesting function to say exactly which matrix values\n",
    "are different from zero and at the same time have a visualization\n",
    "of the state vector as if it were written in Dirac notation\n",
    "\"\"\"\n",
    "def pbk(seq, dim=2, mtype=0):\n",
    "    \"\"\"\n",
    "    Args:\n",
    "        seq (str): input sequence. Ex: '010110'\n",
    "        dim (int): computational basis dimension (default=2 for qubits)\n",
    "        mtype (int): array type, column array or row array. Zero (default=0) for\n",
    "            row matrix and one (1) for row matrix\n",
    "\n",
    "    Returns:\n",
    "        array: ket vector for the input sequence in the computational basis of dimension 'dim'\n",
    "    \"\"\"\n",
    "    vec = []\n",
    "    for digito in seq:\n",
    "        vec.append(digito)\n",
    "    n = len(vec)\n",
    "    if vec[0] == '+':\n",
    "        psi = (1/sqrt(2))*(cb(dim, 0) + cb(dim, 1))\n",
    "    elif vec[0] == '-':\n",
    "        psi = (1/sqrt(2))*(cb(dim, 0) - cb(dim, 1))\n",
    "    elif vec[0] == 'r':\n",
    "        psi = (1/sqrt(2))*(cb(dim, 0) + 1j*cb(dim, 1))\n",
    "    elif vec[0] == 'l':\n",
    "        psi = (1/sqrt(2))*(cb(dim, 0) - 1j*cb(dim, 1))\n",
    "    elif vec[0] == 'P':\n",
    "        psi = (1/sqrt(2))*(tp(cb(dim, 0), cb(dim, 0)) + tp(cb(dim, 1),cb(dim, 1)))\n",
    "    elif vec[0] == 'Q':\n",
    "        psi = (1/sqrt(2))*(tp(cb(dim, 0), cb(dim, 0)) - tp(cb(dim, 1),cb(dim, 1)))\n",
    "    elif vec[0] == 'R':\n",
    "        psi = (1/sqrt(2))*(tp(cb(dim, 0), cb(dim, 1)) + tp(cb(dim, 1),cb(dim, 0)))\n",
    "    elif vec[0] == 'S':\n",
    "        psi = (1/sqrt(2))*(tp(cb(dim, 0), cb(dim, 1)) - tp(cb(dim, 1),cb(dim, 0)))\n",
    "    else:\n",
    "        psi = cb(dim, int(vec[0]))\n",
    "    for j in range(1,n):\n",
    "        if vec[j] == '+':\n",
    "            psi = (1/sqrt(2))*(tp(psi,cb(dim, 0)) + tp(psi,cb(dim, 1)))\n",
    "        elif vec[j] == '-':\n",
    "            psi = (1/sqrt(2))*(tp(psi,cb(dim, 0)) - tp(psi,cb(dim, 1)))\n",
    "        elif vec[j] == 'r':\n",
    "            psi = (1/sqrt(2))*(tp(psi,cb(dim, 0)) + 1j*tp(psi,cb(dim, 1)))\n",
    "        elif vec[j] == 'l':\n",
    "            psi = (1/sqrt(2))*(tp(psi,cb(dim, 0)) - 1j*tp(psi,cb(dim, 1)))\n",
    "        elif vec[j] == 'P':\n",
    "            psi = (1/sqrt(2))*tp(psi,(tp(cb(dim, 0), cb(dim, 0)) + tp(cb(dim, 1),cb(dim, 1))))\n",
    "        elif vec[j] == 'Q':\n",
    "            psi = (1/sqrt(2))*tp(psi,(tp(cb(dim, 0), cb(dim, 0)) - tp(cb(dim, 1),cb(dim, 1))))\n",
    "        elif vec[j] == 'R':\n",
    "            psi = (1/sqrt(2))*tp(psi,(tp(cb(dim, 0), cb(dim, 1)) + tp(cb(dim, 1),cb(dim, 0))))\n",
    "        elif vec[j] == 'S':\n",
    "            psi = (1/sqrt(2))*tp(psi,(tp(cb(dim, 0), cb(dim, 1)) - tp(cb(dim, 1),cb(dim, 0))))\n",
    "        else:\n",
    "            psi = tp(psi,cb(dim, int(vec[j])))\n",
    "    if mtype == 1:\n",
    "        return transpose(psi).as_mutable()\n",
    "    return psi"
   ]
  },
  {
   "cell_type": "code",
   "execution_count": 92,
   "id": "6eaa1c5e",
   "metadata": {},
   "outputs": [],
   "source": [
    "def mbk_xyzBB(matrix, *bpos):\n",
    "    base = [t[0] for t in bpos]\n",
    "    lst = [t[1:] for t in bpos]\n",
    "    matrix_aux = copy.deepcopy(matrix)\n",
    "    for j in range(len(base)):\n",
    "        if base[j] == 'x' or base[j] == 'y':\n",
    "            for k in range(len(lst[j])):\n",
    "                matrix_aux = xyzBasis(matrix_aux, lst[j][k], base=base[j])\n",
    "        elif base[j] == 'BB':\n",
    "            for k in range(len(lst[j])):\n",
    "                matrix_aux = BBasis(matrix_aux, lst[j][k])\n",
    "    val, poss, poss_bin, order = [], [], [], [[]]\n",
    "    if isinstance(matrix_aux, sympy.matrices.dense.MutableDenseMatrix):\n",
    "        n_linhas, n_colunas = matrix_aux.shape\n",
    "        if n_colunas == 1:\n",
    "            Psi = 0\n",
    "            x = len(matrix_aux)\n",
    "            n = int(math.log(x)/math.log(2))\n",
    "            for i in range(x):\n",
    "                if matrix_aux[i] != 0:\n",
    "                    val.append(matrix_aux[i])\n",
    "                    poss_bin.append(format(i, f'0{int(math.log(x)/math.log(2))}b'))\n",
    "            for i in range(len(base)):\n",
    "                for j in range(len(val)):\n",
    "                    order = []\n",
    "                    for k in range(len(lst[i])):\n",
    "                        if base[i] == 'x':\n",
    "                            if poss_bin[j][n-1-lst[i][k]] == str('0'):\n",
    "                                order.append(poss_bin[j][:n-1-lst[i][k]] + 'a' + poss_bin[j][n-lst[i][k]:])\n",
    "                            elif poss_bin[j][n-1-lst[i][k]] == str('1'):\n",
    "                                order.append(poss_bin[j][:n-1-lst[i][k]] + 'b' + poss_bin[j][n-lst[i][k]:])\n",
    "                        if base[i] == 'y':\n",
    "                            if poss_bin[j][n-1-lst[i][k]] == str('0'):\n",
    "                                order.append(poss_bin[j][:n-1-lst[i][k]] + 'c' + poss_bin[j][n-lst[i][k]:])\n",
    "                            elif poss_bin[j][n-1-lst[i][k]] == str('1'):\n",
    "                                order.append(poss_bin[j][:n-1-lst[i][k]] + 'd' + poss_bin[j][n-lst[i][k]:])\n",
    "                        if base[i] == 'BB':\n",
    "                            if poss_bin[j][n-1-lst[i][k][0]] == str('0') and poss_bin[j][n-1-lst[i][k][1]] == str('0'):\n",
    "                                order.append(poss_bin[j][:n-1-lst[i][k][0]] + 'PP' + poss_bin[j][n-lst[i][k][1]:])\n",
    "                            if poss_bin[j][n-1-lst[i][k][0]] == str('1') and poss_bin[j][n-1-lst[i][k][1]] == str('1'):\n",
    "                                order.append(poss_bin[j][:n-1-lst[i][k][0]] + 'QQ' + poss_bin[j][n-lst[i][k][1]:])\n",
    "                            if poss_bin[j][n-1-lst[i][k][0]] == str('0') and poss_bin[j][n-1-lst[i][k][1]] == str('1'):\n",
    "                                order.append(poss_bin[j][:n-1-lst[i][k][0]] + 'RR' + poss_bin[j][n-lst[i][k][1]:])\n",
    "                            if poss_bin[j][n-1-lst[i][k][0]] == str('1') and poss_bin[j][n-1-lst[i][k][1]] == str('0'):\n",
    "                                order.append(poss_bin[j][:n-1-lst[i][k][0]] + 'SS' + poss_bin[j][n-lst[i][k][1]:])\n",
    "                        if k < len(lst):\n",
    "                            poss_bin.pop(j)\n",
    "                            poss_bin.insert(j,order[k])\n",
    "                    if i == len(base)-1:\n",
    "                        string = order[-1]\n",
    "                        string = string.replace(\"a\", \"+\").replace(\"b\", \"-\")\\\n",
    "                                .replace(\"c\", \"\\oplus\").replace(\"d\", \"\\ominus\")\\\n",
    "                                .replace(\"PP\", \"\\Phi_{+}\").replace(\"QQ\", \"\\Phi_{-}\")\\\n",
    "                                .replace(\"RR\", \"\\Psi_{+}\").replace(\"SS\", \"\\Psi_{-}\")\n",
    "                        Psi += val[j]*Ket(string)\n",
    "            return Psi"
   ]
  },
  {
   "cell_type": "code",
   "execution_count": 97,
   "id": "a53c36c2",
   "metadata": {
    "scrolled": false
   },
   "outputs": [
    {
     "data": {
      "image/png": "[encoded data removed]",
      "text/latex": [
       "$\\displaystyle \\frac{\\sqrt{2} \\left({\\left|00000101\\right\\rangle } - {\\left|00000110\\right\\rangle } - {\\left|00001101\\right\\rangle } + {\\left|00001110\\right\\rangle } - i {\\left|00010101\\right\\rangle } + i {\\left|00010110\\right\\rangle } + i {\\left|00011101\\right\\rangle } - i {\\left|00011110\\right\\rangle } + i {\\left|00100101\\right\\rangle } - i {\\left|00100110\\right\\rangle } - i {\\left|00101101\\right\\rangle } + i {\\left|00101110\\right\\rangle } + {\\left|00110101\\right\\rangle } - {\\left|00110110\\right\\rangle } - {\\left|00111101\\right\\rangle } + {\\left|00111110\\right\\rangle } + {\\left|01000101\\right\\rangle } - {\\left|01000110\\right\\rangle } - {\\left|01001101\\right\\rangle } + {\\left|01001110\\right\\rangle } - i {\\left|01010101\\right\\rangle } + i {\\left|01010110\\right\\rangle } + i {\\left|01011101\\right\\rangle } - i {\\left|01011110\\right\\rangle } + i {\\left|01100101\\right\\rangle } - i {\\left|01100110\\right\\rangle } - i {\\left|01101101\\right\\rangle } + i {\\left|01101110\\right\\rangle } + {\\left|01110101\\right\\rangle } - {\\left|01110110\\right\\rangle } - {\\left|01111101\\right\\rangle } + {\\left|01111110\\right\\rangle }\\right)}{8}$"
      ],
      "text/plain": [
       "√2⋅(❘00000101⟩ - ❘00000110⟩ - ❘00001101⟩ + ❘00001110⟩ - ⅈ⋅❘00010101⟩ + ⅈ⋅❘0001\n",
       "──────────────────────────────────────────────────────────────────────────────\n",
       "                                                                              \n",
       "\n",
       "0110⟩ + ⅈ⋅❘00011101⟩ - ⅈ⋅❘00011110⟩ + ⅈ⋅❘00100101⟩ - ⅈ⋅❘00100110⟩ - ⅈ⋅❘0010110\n",
       "──────────────────────────────────────────────────────────────────────────────\n",
       "                                                                              \n",
       "\n",
       "1⟩ + ⅈ⋅❘00101110⟩ + ❘00110101⟩ - ❘00110110⟩ - ❘00111101⟩ + ❘00111110⟩ + ❘01000\n",
       "──────────────────────────────────────────────────────────────────────────────\n",
       "                                                                    8         \n",
       "\n",
       "101⟩ - ❘01000110⟩ - ❘01001101⟩ + ❘01001110⟩ - ⅈ⋅❘01010101⟩ + ⅈ⋅❘01010110⟩ + ⅈ⋅\n",
       "──────────────────────────────────────────────────────────────────────────────\n",
       "                                                                              \n",
       "\n",
       "❘01011101⟩ - ⅈ⋅❘01011110⟩ + ⅈ⋅❘01100101⟩ - ⅈ⋅❘01100110⟩ - ⅈ⋅❘01101101⟩ + ⅈ⋅❘01\n",
       "──────────────────────────────────────────────────────────────────────────────\n",
       "                                                                              \n",
       "\n",
       "101110⟩ + ❘01110101⟩ - ❘01110110⟩ - ❘01111101⟩ + ❘01111110⟩)\n",
       "────────────────────────────────────────────────────────────\n",
       "                                                            "
      ]
     },
     "execution_count": 97,
     "metadata": {},
     "output_type": "execute_result"
    }
   ],
   "source": [
    "ψ = pbk('0+rl-1S') #14 qubits\n",
    "mysim(mbk(ψ))"
   ]
  },
  {
   "cell_type": "code",
   "execution_count": 99,
   "id": "e2fca45c",
   "metadata": {},
   "outputs": [
    {
     "data": {
      "image/png": "[encoded data removed]",
      "text/latex": [
       "$\\displaystyle {\\left|0+\\oplus\\ominus-1\\Psi_{-}\\right\\rangle }$"
      ],
      "text/plain": [
       "❘0+\\oplus\\ominus-1\\Psi_{-}⟩"
      ]
     },
     "execution_count": 99,
     "metadata": {},
     "output_type": "execute_result"
    }
   ],
   "source": [
    "mysim(mbk_xyzBB(ψ, ('BB', (1,0)), ('x', 3,6), ('y', 4,5)))"
   ]
  },
  {
   "cell_type": "code",
   "execution_count": null,
   "id": "1becad4d",
   "metadata": {},
   "outputs": [],
   "source": []
  }
 ],
 "metadata": {
  "kernelspec": {
   "display_name": "Python 3 (ipykernel)",
   "language": "python",
   "name": "python3"
  },
  "language_info": {
   "codemirror_mode": {
    "name": "ipython",
    "version": 3
   },
   "file_extension": ".py",
   "mimetype": "text/x-python",
   "name": "python",
   "nbconvert_exporter": "python",
   "pygments_lexer": "ipython3",
   "version": "3.9.13"
  }
 },
 "nbformat": 4,
 "nbformat_minor": 5
}
