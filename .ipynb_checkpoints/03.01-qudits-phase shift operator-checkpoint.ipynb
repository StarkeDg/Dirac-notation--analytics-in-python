{
 "cells": [
  {
   "cell_type": "code",
   "execution_count": 1,
   "id": "ef9618a5",
   "metadata": {},
   "outputs": [],
   "source": [
    "%run init.ipynb\n",
    "%run init-quantum_gates.ipynb"
   ]
  },
  {
   "cell_type": "markdown",
   "id": "e960e559",
   "metadata": {},
   "source": [
    "# Phase shift operator"
   ]
  },
  {
   "cell_type": "markdown",
   "id": "98c73161",
   "metadata": {},
   "source": [
    "The phase shift operator generalizes the $Z$ gate (Pauli-$Z$) to a system of $d$ levels and is defined as\n",
    "\\begin{equation}\n",
    "Z(j)|k\\rangle = e^{2\\pi ijk/d}|k\\rangle.\n",
    "\\end{equation}\n",
    "\n",
    "It's easy to see that:\n",
    "\\begin{align}\n",
    "& Z(0)|k\\rangle = e^{2\\pi ij0/d}|k\\rangle = |k\\rangle \\\\\n",
    "& \\therefore\\ Z(0) = \\mathbb{I}\\ \\forall\\ d.\n",
    "\\end{align}\n",
    "\n",
    "Furthermore\n",
    "\\begin{equation}\n",
    "Z(j)|0\\rangle = e^{2\\pi ij0/d}|0\\rangle = |0\\rangle \\ \\forall\\ j.\n",
    "\\end{equation}"
   ]
  },
  {
   "cell_type": "markdown",
   "id": "4e519d51",
   "metadata": {},
   "source": [
    "## `Z_j(d,j)`"
   ]
  },
  {
   "cell_type": "code",
   "execution_count": 26,
   "id": "64be4d45",
   "metadata": {},
   "outputs": [],
   "source": [
    "def Z_j(d, j):\n",
    "    \"\"\"\n",
    "    Args:\n",
    "        d (int): levels\n",
    "        j (int): 1,2,...,d-1.\n",
    "    Returns:\n",
    "        array: returns a square matrix dxd\n",
    "    \"\"\"\n",
    "    Z_j = zeros(d,d)\n",
    "    for k in range(0,d):\n",
    "        for l in range(0,d):\n",
    "            if k == l:\n",
    "                Z_j[k,l] = simplify(exp(2*sym.pi*1j*j*l/d), rational=True)\n",
    "    return Z_j"
   ]
  },
  {
   "cell_type": "markdown",
   "id": "e3e65b8e",
   "metadata": {},
   "source": [
    "## Qubits - $d=2$"
   ]
  },
  {
   "cell_type": "code",
   "execution_count": 31,
   "id": "e0e28dc8",
   "metadata": {},
   "outputs": [
    {
     "data": {
      "image/png": "[encoded data removed]",
      "text/latex": [
       "$\\displaystyle \\left( \\left[\\begin{matrix}1 & 0\\\\0 & 1\\end{matrix}\\right], \\  \\left[\\begin{matrix}1 & 0\\\\0 & -1\\end{matrix}\\right]\\right)$"
      ],
      "text/plain": [
       "⎛⎡1  0⎤  ⎡1  0 ⎤⎞\n",
       "⎜⎢    ⎥, ⎢     ⎥⎟\n",
       "⎝⎣0  1⎦  ⎣0  -1⎦⎠"
      ]
     },
     "execution_count": 31,
     "metadata": {},
     "output_type": "execute_result"
    }
   ],
   "source": [
    "Z2_0 = Z_j(2,0)\n",
    "Z2_1 = Z_j(2,1)\n",
    "Z2_0, Z2_1"
   ]
  },
  {
   "cell_type": "markdown",
   "id": "c8f278a9",
   "metadata": {},
   "source": [
    "Indeed, $Z2_1 = Z$ where $Z$ is the Pauli gate."
   ]
  },
  {
   "cell_type": "markdown",
   "id": "713e0334",
   "metadata": {},
   "source": [
    "Consider"
   ]
  },
  {
   "cell_type": "code",
   "execution_count": 30,
   "id": "fb066a08",
   "metadata": {},
   "outputs": [
    {
     "data": {
      "image/png": "[encoded data removed]",
      "text/latex": [
       "$\\displaystyle \\left( {\\left|0\\right\\rangle }, \\  {\\left|1\\right\\rangle }\\right)$"
      ],
      "text/plain": [
       "(❘0⟩, ❘1⟩)"
      ]
     },
     "execution_count": 30,
     "metadata": {},
     "output_type": "execute_result"
    }
   ],
   "source": [
    "ψ2_0 = pbk('0')\n",
    "ψ2_1 = pbk('1')\n",
    "mbk(ψ2_0), mbk(ψ2_1)"
   ]
  },
  {
   "cell_type": "markdown",
   "id": "84a27249",
   "metadata": {},
   "source": [
    "so"
   ]
  },
  {
   "cell_type": "code",
   "execution_count": 33,
   "id": "524b6754",
   "metadata": {},
   "outputs": [
    {
     "data": {
      "image/png": "[encoded data removed]",
      "text/latex": [
       "$\\displaystyle {\\left|0\\right\\rangle }$"
      ],
      "text/plain": [
       "❘0⟩"
      ]
     },
     "execution_count": 33,
     "metadata": {},
     "output_type": "execute_result"
    }
   ],
   "source": [
    "mbk(Z2_0 * ψ2_0)"
   ]
  },
  {
   "cell_type": "code",
   "execution_count": 34,
   "id": "7e9e7f7d",
   "metadata": {},
   "outputs": [
    {
     "data": {
      "image/png": "[encoded data removed]",
      "text/latex": [
       "$\\displaystyle {\\left|0\\right\\rangle }$"
      ],
      "text/plain": [
       "❘0⟩"
      ]
     },
     "execution_count": 34,
     "metadata": {},
     "output_type": "execute_result"
    }
   ],
   "source": [
    "mbk(Z2_1 * ψ2_0)"
   ]
  },
  {
   "cell_type": "code",
   "execution_count": 36,
   "id": "250d2b26",
   "metadata": {},
   "outputs": [
    {
     "data": {
      "image/png": "[encoded data removed]",
      "text/latex": [
       "$\\displaystyle {\\left|1\\right\\rangle }$"
      ],
      "text/plain": [
       "❘1⟩"
      ]
     },
     "execution_count": 36,
     "metadata": {},
     "output_type": "execute_result"
    }
   ],
   "source": [
    "mbk(Z2_0 * ψ2_1)"
   ]
  },
  {
   "cell_type": "code",
   "execution_count": 37,
   "id": "cc199d9e",
   "metadata": {},
   "outputs": [
    {
     "data": {
      "image/png": "[encoded data removed]",
      "text/latex": [
       "$\\displaystyle - {\\left|1\\right\\rangle }$"
      ],
      "text/plain": [
       "-❘1⟩"
      ]
     },
     "execution_count": 37,
     "metadata": {},
     "output_type": "execute_result"
    }
   ],
   "source": [
    "mbk(Z2_1 * ψ2_1)"
   ]
  },
  {
   "cell_type": "markdown",
   "id": "81b436bb",
   "metadata": {},
   "source": [
    "## Qutrits - $d=3$"
   ]
  },
  {
   "cell_type": "code",
   "execution_count": 41,
   "id": "1b64e613",
   "metadata": {},
   "outputs": [
    {
     "name": "stdout",
     "output_type": "stream",
     "text": [
      "[0 0 0]\n"
     ]
    }
   ],
   "source": [
    "# python vector to save the vectors we will get\n",
    "Z3 = np.zeros(3, dtype=object)\n",
    "print(Z3)"
   ]
  },
  {
   "cell_type": "code",
   "execution_count": 52,
   "id": "3b25882f",
   "metadata": {},
   "outputs": [
    {
     "name": "stdout",
     "output_type": "stream",
     "text": [
      "Z3[0] =\n"
     ]
    },
    {
     "data": {
      "image/png": "[encoded data removed]",
      "text/latex": [
       "$\\displaystyle \\left[\\begin{matrix}1 & 0 & 0\\\\0 & 1 & 0\\\\0 & 0 & 1\\end{matrix}\\right]$"
      ],
      "text/plain": [
       "⎡1  0  0⎤\n",
       "⎢       ⎥\n",
       "⎢0  1  0⎥\n",
       "⎢       ⎥\n",
       "⎣0  0  1⎦"
      ]
     },
     "metadata": {},
     "output_type": "display_data"
    },
    {
     "name": "stdout",
     "output_type": "stream",
     "text": [
      "Z3[1] =\n"
     ]
    },
    {
     "data": {
      "image/png": "[encoded data removed]",
      "text/latex": [
       "$\\displaystyle \\left[\\begin{matrix}1 & 0 & 0\\\\0 & e^{\\frac{2 i \\pi}{3}} & 0\\\\0 & 0 & e^{- \\frac{2 i \\pi}{3}}\\end{matrix}\\right]$"
      ],
      "text/plain": [
       "⎡1    0        0    ⎤\n",
       "⎢                   ⎥\n",
       "⎢    2⋅ⅈ⋅π          ⎥\n",
       "⎢    ─────          ⎥\n",
       "⎢      3            ⎥\n",
       "⎢0  ℯ          0    ⎥\n",
       "⎢                   ⎥\n",
       "⎢            -2⋅ⅈ⋅π ⎥\n",
       "⎢            ───────⎥\n",
       "⎢               3   ⎥\n",
       "⎣0    0     ℯ       ⎦"
      ]
     },
     "metadata": {},
     "output_type": "display_data"
    },
    {
     "name": "stdout",
     "output_type": "stream",
     "text": [
      "Z3[2] =\n"
     ]
    },
    {
     "data": {
      "image/png": "[encoded data removed]",
      "text/latex": [
       "$\\displaystyle \\left[\\begin{matrix}1 & 0 & 0\\\\0 & e^{- \\frac{2 i \\pi}{3}} & 0\\\\0 & 0 & e^{\\frac{2 i \\pi}{3}}\\end{matrix}\\right]$"
      ],
      "text/plain": [
       "⎡1     0        0   ⎤\n",
       "⎢                   ⎥\n",
       "⎢    -2⋅ⅈ⋅π         ⎥\n",
       "⎢    ───────        ⎥\n",
       "⎢       3           ⎥\n",
       "⎢0  ℯ           0   ⎥\n",
       "⎢                   ⎥\n",
       "⎢              2⋅ⅈ⋅π⎥\n",
       "⎢              ─────⎥\n",
       "⎢                3  ⎥\n",
       "⎣0     0      ℯ     ⎦"
      ]
     },
     "metadata": {},
     "output_type": "display_data"
    }
   ],
   "source": [
    "from IPython.display import display, Math\n",
    "d = 3\n",
    "for j in range(3):\n",
    "    Z3[j] = Z_j(d,j)\n",
    "    print('Z3[{}] ='.format(j))\n",
    "    display(Z3[j])"
   ]
  },
  {
   "cell_type": "markdown",
   "id": "45de6571",
   "metadata": {},
   "source": [
    "Consider"
   ]
  },
  {
   "cell_type": "code",
   "execution_count": 54,
   "id": "64beca5d",
   "metadata": {},
   "outputs": [
    {
     "name": "stdout",
     "output_type": "stream",
     "text": [
      "[0 0 0]\n"
     ]
    }
   ],
   "source": [
    "# python vector to save the vectors we will get\n",
    "ψ3 = np.zeros(3, dtype=object)\n",
    "print(ψ3)"
   ]
  },
  {
   "cell_type": "code",
   "execution_count": 61,
   "id": "fde31151",
   "metadata": {},
   "outputs": [
    {
     "name": "stdout",
     "output_type": "stream",
     "text": [
      "ψ3[0] = \n"
     ]
    },
    {
     "data": {
      "image/png": "[encoded data removed]",
      "text/latex": [
       "$\\displaystyle {\\left|0\\right\\rangle }$"
      ],
      "text/plain": [
       "❘0⟩"
      ]
     },
     "metadata": {},
     "output_type": "display_data"
    },
    {
     "name": "stdout",
     "output_type": "stream",
     "text": [
      "ψ3[1] = \n"
     ]
    },
    {
     "data": {
      "image/png": "[encoded data removed]",
      "text/latex": [
       "$\\displaystyle {\\left|1\\right\\rangle }$"
      ],
      "text/plain": [
       "❘1⟩"
      ]
     },
     "metadata": {},
     "output_type": "display_data"
    },
    {
     "name": "stdout",
     "output_type": "stream",
     "text": [
      "ψ3[2] = \n"
     ]
    },
    {
     "data": {
      "image/png": "[encoded data removed]",
      "text/latex": [
       "$\\displaystyle {\\left|2\\right\\rangle }$"
      ],
      "text/plain": [
       "❘2⟩"
      ]
     },
     "metadata": {},
     "output_type": "display_data"
    }
   ],
   "source": [
    "d = 3\n",
    "for j in range(3):\n",
    "    ψ3[j] = pbk(str(j), dim=d)\n",
    "    print('ψ3[{}] = '.format(j))\n",
    "    display(mbk(ψ3[j], dim=3))"
   ]
  },
  {
   "cell_type": "markdown",
   "id": "b8433713",
   "metadata": {},
   "source": [
    "so"
   ]
  },
  {
   "cell_type": "code",
   "execution_count": 60,
   "id": "e5965108",
   "metadata": {},
   "outputs": [
    {
     "name": "stdout",
     "output_type": "stream",
     "text": [
      "Z3[0] * ψ3[0] = \n"
     ]
    },
    {
     "data": {
      "image/png": "[encoded data removed]",
      "text/latex": [
       "$\\displaystyle {\\left|0\\right\\rangle }$"
      ],
      "text/plain": [
       "❘0⟩"
      ]
     },
     "metadata": {},
     "output_type": "display_data"
    },
    {
     "name": "stdout",
     "output_type": "stream",
     "text": [
      "Z3[0] * ψ3[1] = \n"
     ]
    },
    {
     "data": {
      "image/png": "[encoded data removed]",
      "text/latex": [
       "$\\displaystyle {\\left|1\\right\\rangle }$"
      ],
      "text/plain": [
       "❘1⟩"
      ]
     },
     "metadata": {},
     "output_type": "display_data"
    },
    {
     "name": "stdout",
     "output_type": "stream",
     "text": [
      "Z3[0] * ψ3[2] = \n"
     ]
    },
    {
     "data": {
      "image/png": "[encoded data removed]",
      "text/latex": [
       "$\\displaystyle {\\left|2\\right\\rangle }$"
      ],
      "text/plain": [
       "❘2⟩"
      ]
     },
     "metadata": {},
     "output_type": "display_data"
    },
    {
     "name": "stdout",
     "output_type": "stream",
     "text": [
      "Z3[1] * ψ3[0] = \n"
     ]
    },
    {
     "data": {
      "image/png": "[encoded data removed]",
      "text/latex": [
       "$\\displaystyle {\\left|0\\right\\rangle }$"
      ],
      "text/plain": [
       "❘0⟩"
      ]
     },
     "metadata": {},
     "output_type": "display_data"
    },
    {
     "name": "stdout",
     "output_type": "stream",
     "text": [
      "Z3[1] * ψ3[1] = \n"
     ]
    },
    {
     "data": {
      "image/png": "[encoded data removed]",
      "text/latex": [
       "$\\displaystyle e^{\\frac{2 i \\pi}{3}} {\\left|1\\right\\rangle }$"
      ],
      "text/plain": [
       " 2⋅ⅈ⋅π    \n",
       " ─────    \n",
       "   3      \n",
       "ℯ     ⋅❘1⟩"
      ]
     },
     "metadata": {},
     "output_type": "display_data"
    },
    {
     "name": "stdout",
     "output_type": "stream",
     "text": [
      "Z3[1] * ψ3[2] = \n"
     ]
    },
    {
     "data": {
      "image/png": "[encoded data removed]",
      "text/latex": [
       "$\\displaystyle e^{- \\frac{2 i \\pi}{3}} {\\left|2\\right\\rangle }$"
      ],
      "text/plain": [
       " -2⋅ⅈ⋅π     \n",
       " ───────    \n",
       "    3       \n",
       "ℯ       ⋅❘2⟩"
      ]
     },
     "metadata": {},
     "output_type": "display_data"
    },
    {
     "name": "stdout",
     "output_type": "stream",
     "text": [
      "Z3[2] * ψ3[0] = \n"
     ]
    },
    {
     "data": {
      "image/png": "[encoded data removed]",
      "text/latex": [
       "$\\displaystyle {\\left|0\\right\\rangle }$"
      ],
      "text/plain": [
       "❘0⟩"
      ]
     },
     "metadata": {},
     "output_type": "display_data"
    },
    {
     "name": "stdout",
     "output_type": "stream",
     "text": [
      "Z3[2] * ψ3[1] = \n"
     ]
    },
    {
     "data": {
      "image/png": "[encoded data removed]",
      "text/latex": [
       "$\\displaystyle e^{- \\frac{2 i \\pi}{3}} {\\left|1\\right\\rangle }$"
      ],
      "text/plain": [
       " -2⋅ⅈ⋅π     \n",
       " ───────    \n",
       "    3       \n",
       "ℯ       ⋅❘1⟩"
      ]
     },
     "metadata": {},
     "output_type": "display_data"
    },
    {
     "name": "stdout",
     "output_type": "stream",
     "text": [
      "Z3[2] * ψ3[2] = \n"
     ]
    },
    {
     "data": {
      "image/png": "[encoded data removed]",
      "text/latex": [
       "$\\displaystyle e^{\\frac{2 i \\pi}{3}} {\\left|2\\right\\rangle }$"
      ],
      "text/plain": [
       " 2⋅ⅈ⋅π    \n",
       " ─────    \n",
       "   3      \n",
       "ℯ     ⋅❘2⟩"
      ]
     },
     "metadata": {},
     "output_type": "display_data"
    }
   ],
   "source": [
    "d = 3\n",
    "for j,k in product(range(3), repeat=2):\n",
    "    print('Z3[{}] * ψ3[{}] = '.format(j,k))\n",
    "    display(mbk(Z3[j]*ψ3[k], dim=d))"
   ]
  },
  {
   "cell_type": "markdown",
   "id": "4c1dec85",
   "metadata": {},
   "source": [
    "The same idea remains for higher dimensions."
   ]
  },
  {
   "cell_type": "code",
   "execution_count": null,
   "id": "ae4e748b",
   "metadata": {},
   "outputs": [],
   "source": []
  }
 ],
 "metadata": {
  "kernelspec": {
   "display_name": "Python 3 (ipykernel)",
   "language": "python",
   "name": "python3"
  },
  "language_info": {
   "codemirror_mode": {
    "name": "ipython",
    "version": 3
   },
   "file_extension": ".py",
   "mimetype": "text/x-python",
   "name": "python",
   "nbconvert_exporter": "python",
   "pygments_lexer": "ipython3",
   "version": "3.9.13"
  }
 },
 "nbformat": 4,
 "nbformat_minor": 5
}
