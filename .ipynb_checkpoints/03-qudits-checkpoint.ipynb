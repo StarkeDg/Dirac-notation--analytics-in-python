{
 "cells": [
  {
   "cell_type": "code",
   "execution_count": 1,
   "id": "ef9618a5",
   "metadata": {},
   "outputs": [],
   "source": [
    "%run init.ipynb\n",
    "%run init-quantum_gates.ipynb"
   ]
  },
  {
   "cell_type": "markdown",
   "id": "3081cdea",
   "metadata": {},
   "source": [
    "# Qudits"
   ]
  },
  {
   "cell_type": "markdown",
   "id": "e85c30a5",
   "metadata": {},
   "source": [
    "In this material, we will present some generalizations for systems of $d$ levels of gates commonly used in qubits.\n",
    "\n",
    "The production of this content was through the reference of the following link: [https://github.com/jonasmaziero/qiskit2/blob/main/10_qudits.ipynb](https://github.com/jonasmaziero/qiskit2/blob/main /10_qudits.ipynb)"
   ]
  },
  {
   "cell_type": "markdown",
   "id": "19607ed5",
   "metadata": {},
   "source": [
    "# Fourier operator"
   ]
  },
  {
   "cell_type": "markdown",
   "id": "6272d369",
   "metadata": {},
   "source": [
    "The Fourier operator generalizes the Hadamard gate to a system of $d$ levels. The Fourier gate, or Fourier operator, is defined as"
   ]
  },
  {
   "cell_type": "markdown",
   "id": "be37a033",
   "metadata": {},
   "source": [
    "\\begin{equation}\n",
    "F = \\frac{1}{\\sqrt{d}}\\sum_{j,k=0}^{d-1}e^{2\\pi ijk/d}|j\\rangle\\langle k|.\n",
    "\\end{equation}"
   ]
  },
  {
   "cell_type": "markdown",
   "id": "121a99d8",
   "metadata": {},
   "source": [
    "Let's look at some particular cases."
   ]
  },
  {
   "cell_type": "markdown",
   "id": "2dfe9474",
   "metadata": {},
   "source": [
    "## `op_Fourier(d)`\n",
    "With this function it is possible to build the Fourier operator for any dimension $d$."
   ]
  },
  {
   "cell_type": "code",
   "execution_count": 2,
   "id": "b202ead8",
   "metadata": {},
   "outputs": [],
   "source": [
    "def op_Fourier(d):\n",
    "    \"\"\"\n",
    "    Args:\n",
    "        d (int): levels\n",
    "\n",
    "    Returns:\n",
    "        array: returns a square matrix dxd\n",
    "    \"\"\"\n",
    "    F = zeros(d,d)\n",
    "    for j in range(0,d):\n",
    "        for k in range(0,d):\n",
    "            F[j,k] = (1/sqrt(d))*exp(simplify(1j*2*sympy.pi*j*k/d, rational=True))\n",
    "    return F"
   ]
  },
  {
   "cell_type": "markdown",
   "id": "498dd244",
   "metadata": {},
   "source": [
    "### Qubits - $d=2$"
   ]
  },
  {
   "cell_type": "code",
   "execution_count": 3,
   "id": "747f89a4",
   "metadata": {},
   "outputs": [
    {
     "data": {
      "image/png": "[encoded data removed]",
      "text/latex": [
       "$\\displaystyle \\left[\\begin{matrix}\\frac{\\sqrt{2}}{2} & \\frac{\\sqrt{2}}{2}\\\\\\frac{\\sqrt{2}}{2} & - \\frac{\\sqrt{2}}{2}\\end{matrix}\\right]$"
      ],
      "text/plain": [
       "⎡√2   √2 ⎤\n",
       "⎢──   ── ⎥\n",
       "⎢2    2  ⎥\n",
       "⎢        ⎥\n",
       "⎢√2  -√2 ⎥\n",
       "⎢──  ────⎥\n",
       "⎣2    2  ⎦"
      ]
     },
     "execution_count": 3,
     "metadata": {},
     "output_type": "execute_result"
    }
   ],
   "source": [
    "F2 = op_Fourier(2)\n",
    "F2"
   ]
  },
  {
   "cell_type": "markdown",
   "id": "a9f645a1",
   "metadata": {},
   "source": [
    "For this particular case, we have the Hadamard gate already presented in the other files. Just to recap, when we actuate the H gate on the computational basis ($|0\\rangle,|1\\rangle$) for qubits we have respectively ($|+\\rangle,|-\\rangle$), or with our code, we have"
   ]
  },
  {
   "cell_type": "code",
   "execution_count": 4,
   "id": "97a77cb1",
   "metadata": {},
   "outputs": [
    {
     "data": {
      "image/png": "[encoded data removed]",
      "text/latex": [
       "$\\displaystyle \\left( {\\left|0\\right\\rangle }, \\  {\\left|1\\right\\rangle }\\right)$"
      ],
      "text/plain": [
       "(❘0⟩, ❘1⟩)"
      ]
     },
     "execution_count": 4,
     "metadata": {},
     "output_type": "execute_result"
    }
   ],
   "source": [
    "ψ2_0 = pbk('0')\n",
    "ψ2_1 = pbk('1')\n",
    "mbk(ψ2_0), mbk(ψ2_1)"
   ]
  },
  {
   "cell_type": "code",
   "execution_count": 5,
   "id": "f6088fbb",
   "metadata": {},
   "outputs": [
    {
     "data": {
      "image/png": "[encoded data removed]",
      "text/latex": [
       "$\\displaystyle {\\left|+\\right\\rangle } = \\frac{\\sqrt{2} \\left({\\left|0\\right\\rangle } + {\\left|1\\right\\rangle }\\right)}{2}$"
      ],
      "text/plain": [
       "      √2⋅(❘0⟩ + ❘1⟩)\n",
       "❘+⟩ = ──────────────\n",
       "            2       "
      ]
     },
     "execution_count": 5,
     "metadata": {},
     "output_type": "execute_result"
    }
   ],
   "source": [
    "xp = gatep(F2, ψ2_0, 0)\n",
    "Eq(mysim(mbk_xyBB(xp, ('x',0))), mysim(mbk(xp)))"
   ]
  },
  {
   "cell_type": "markdown",
   "id": "33dce4b4",
   "metadata": {},
   "source": [
    "and"
   ]
  },
  {
   "cell_type": "code",
   "execution_count": 6,
   "id": "be31ed8c",
   "metadata": {},
   "outputs": [
    {
     "data": {
      "image/png": "[encoded data removed]",
      "text/latex": [
       "$\\displaystyle {\\left|-\\right\\rangle } = \\frac{\\sqrt{2} \\left({\\left|0\\right\\rangle } - {\\left|1\\right\\rangle }\\right)}{2}$"
      ],
      "text/plain": [
       "      √2⋅(❘0⟩ - ❘1⟩)\n",
       "❘-⟩ = ──────────────\n",
       "            2       "
      ]
     },
     "execution_count": 6,
     "metadata": {},
     "output_type": "execute_result"
    }
   ],
   "source": [
    "xm = gatep(F2, ψ2_1, 0)\n",
    "Eq(mysim(mbk_xyBB(xm, ('x',0))), mysim(mbk(xm)))"
   ]
  },
  {
   "cell_type": "markdown",
   "id": "e5b4ec7b",
   "metadata": {},
   "source": [
    "As we know, $|+\\rangle,|-\\rangle$ are ortogonal, the inner product between them result zero, so"
   ]
  },
  {
   "cell_type": "code",
   "execution_count": 7,
   "id": "e7df848d",
   "metadata": {},
   "outputs": [
    {
     "data": {
      "image/png": "[encoded data removed]",
      "text/latex": [
       "$\\displaystyle 1$"
      ],
      "text/plain": [
       "1"
      ]
     },
     "execution_count": 7,
     "metadata": {},
     "output_type": "execute_result"
    }
   ],
   "source": [
    "inner_product(xp,xp)"
   ]
  },
  {
   "cell_type": "code",
   "execution_count": 8,
   "id": "ab30f1fc",
   "metadata": {},
   "outputs": [
    {
     "data": {
      "image/png": "[encoded data removed]",
      "text/latex": [
       "$\\displaystyle 0$"
      ],
      "text/plain": [
       "0"
      ]
     },
     "execution_count": 8,
     "metadata": {},
     "output_type": "execute_result"
    }
   ],
   "source": [
    "inner_product(xp,xm)"
   ]
  },
  {
   "cell_type": "code",
   "execution_count": 9,
   "id": "5692d987",
   "metadata": {},
   "outputs": [
    {
     "data": {
      "image/png": "[encoded data removed]",
      "text/latex": [
       "$\\displaystyle 0$"
      ],
      "text/plain": [
       "0"
      ]
     },
     "execution_count": 9,
     "metadata": {},
     "output_type": "execute_result"
    }
   ],
   "source": [
    "inner_product(xm,xp)"
   ]
  },
  {
   "cell_type": "code",
   "execution_count": 10,
   "id": "71987eef",
   "metadata": {},
   "outputs": [
    {
     "data": {
      "image/png": "[encoded data removed]",
      "text/latex": [
       "$\\displaystyle 1$"
      ],
      "text/plain": [
       "1"
      ]
     },
     "execution_count": 10,
     "metadata": {},
     "output_type": "execute_result"
    }
   ],
   "source": [
    "inner_product(xm,xm)"
   ]
  },
  {
   "cell_type": "markdown",
   "id": "62e3895d",
   "metadata": {},
   "source": [
    "### Qutrits - $d=3$"
   ]
  },
  {
   "cell_type": "code",
   "execution_count": 11,
   "id": "c0a242b5",
   "metadata": {},
   "outputs": [
    {
     "data": {
      "image/png": "[encoded data removed]",
      "text/latex": [
       "$\\displaystyle \\left[\\begin{matrix}\\frac{\\sqrt{3}}{3} & \\frac{\\sqrt{3}}{3} & \\frac{\\sqrt{3}}{3}\\\\\\frac{\\sqrt{3}}{3} & \\frac{\\sqrt{3} e^{\\frac{2 i \\pi}{3}}}{3} & \\frac{\\sqrt{3} e^{- \\frac{2 i \\pi}{3}}}{3}\\\\\\frac{\\sqrt{3}}{3} & \\frac{\\sqrt{3} e^{- \\frac{2 i \\pi}{3}}}{3} & \\frac{\\sqrt{3} e^{\\frac{2 i \\pi}{3}}}{3}\\end{matrix}\\right]$"
      ],
      "text/plain": [
       "⎡√3      √3           √3     ⎤\n",
       "⎢──      ──           ──     ⎥\n",
       "⎢3       3            3      ⎥\n",
       "⎢                            ⎥\n",
       "⎢         2⋅ⅈ⋅π       -2⋅ⅈ⋅π ⎥\n",
       "⎢         ─────       ───────⎥\n",
       "⎢           3            3   ⎥\n",
       "⎢√3   √3⋅ℯ        √3⋅ℯ       ⎥\n",
       "⎢──   ─────────   ───────────⎥\n",
       "⎢3        3            3     ⎥\n",
       "⎢                            ⎥\n",
       "⎢        -2⋅ⅈ⋅π        2⋅ⅈ⋅π ⎥\n",
       "⎢        ───────       ───── ⎥\n",
       "⎢           3            3   ⎥\n",
       "⎢√3  √3⋅ℯ          √3⋅ℯ      ⎥\n",
       "⎢──  ───────────   ───────── ⎥\n",
       "⎣3        3            3     ⎦"
      ]
     },
     "execution_count": 11,
     "metadata": {},
     "output_type": "execute_result"
    }
   ],
   "source": [
    "F3 = op_Fourier(3)\n",
    "F3"
   ]
  },
  {
   "cell_type": "markdown",
   "id": "8063d2c7",
   "metadata": {},
   "source": [
    "Consider"
   ]
  },
  {
   "cell_type": "code",
   "execution_count": 12,
   "id": "c90f3ca8",
   "metadata": {},
   "outputs": [
    {
     "data": {
      "image/png": "[encoded data removed]",
      "text/latex": [
       "$\\displaystyle \\left( {\\left|0\\right\\rangle }, \\  {\\left|1\\right\\rangle }, \\  {\\left|2\\right\\rangle }\\right)$"
      ],
      "text/plain": [
       "(❘0⟩, ❘1⟩, ❘2⟩)"
      ]
     },
     "execution_count": 12,
     "metadata": {},
     "output_type": "execute_result"
    }
   ],
   "source": [
    "ψ3_0 = pbk('0', dim=3)\n",
    "ψ3_1 = pbk('1', dim=3)\n",
    "ψ3_2 = pbk('2', dim=3)\n",
    "mbk(ψ3_0, dim=3), mbk(ψ3_1, dim=3), mbk(ψ3_2, dim=3)"
   ]
  },
  {
   "cell_type": "code",
   "execution_count": 13,
   "id": "bbc917d4",
   "metadata": {},
   "outputs": [
    {
     "name": "stdout",
     "output_type": "stream",
     "text": [
      "[0 0 0]\n"
     ]
    }
   ],
   "source": [
    "# python vector to save the vectors we will get\n",
    "x3 = np.zeros(3, dtype=object)\n",
    "print(x3)"
   ]
  },
  {
   "cell_type": "markdown",
   "id": "7430aaf4",
   "metadata": {},
   "source": [
    "So, acting $F3$ on the computacional basis to qutrit, we have"
   ]
  },
  {
   "cell_type": "code",
   "execution_count": 14,
   "id": "d8790e49",
   "metadata": {},
   "outputs": [
    {
     "data": {
      "image/png": "[encoded data removed]",
      "text/latex": [
       "$\\displaystyle \\frac{\\sqrt{3} \\left({\\left|0\\right\\rangle } + {\\left|1\\right\\rangle } + {\\left|2\\right\\rangle }\\right)}{3}$"
      ],
      "text/plain": [
       "√3⋅(❘0⟩ + ❘1⟩ + ❘2⟩)\n",
       "────────────────────\n",
       "         3          "
      ]
     },
     "execution_count": 14,
     "metadata": {},
     "output_type": "execute_result"
    }
   ],
   "source": [
    "x3[0] = gatep(F3, ψ3_0, 0, dim=3)\n",
    "mysim(mbk(x3[0], dim=3))"
   ]
  },
  {
   "cell_type": "code",
   "execution_count": 15,
   "id": "0f296280",
   "metadata": {},
   "outputs": [
    {
     "data": {
      "image/png": "[encoded data removed]",
      "text/latex": [
       "$\\displaystyle \\frac{\\sqrt{3} {\\left|0\\right\\rangle }}{3} + \\frac{\\sqrt{3} e^{\\frac{2 i \\pi}{3}} {\\left|1\\right\\rangle }}{3} + \\frac{\\sqrt{3} e^{- \\frac{2 i \\pi}{3}} {\\left|2\\right\\rangle }}{3}$"
      ],
      "text/plain": [
       "             2⋅ⅈ⋅π           -2⋅ⅈ⋅π     \n",
       "             ─────           ───────    \n",
       "               3                3       \n",
       "√3⋅❘0⟩   √3⋅ℯ     ⋅❘1⟩   √3⋅ℯ       ⋅❘2⟩\n",
       "────── + ───────────── + ───────────────\n",
       "  3            3                3       "
      ]
     },
     "execution_count": 15,
     "metadata": {},
     "output_type": "execute_result"
    }
   ],
   "source": [
    "x3[1] = gatep(F3, ψ3_1, 0, dim=3)\n",
    "mbk(x3[1], dim=3)"
   ]
  },
  {
   "cell_type": "code",
   "execution_count": 16,
   "id": "cc5ff208",
   "metadata": {},
   "outputs": [
    {
     "data": {
      "image/png": "[encoded data removed]",
      "text/latex": [
       "$\\displaystyle \\frac{\\sqrt{3} {\\left|0\\right\\rangle }}{3} + \\frac{\\sqrt{3} e^{- \\frac{2 i \\pi}{3}} {\\left|1\\right\\rangle }}{3} + \\frac{\\sqrt{3} e^{\\frac{2 i \\pi}{3}} {\\left|2\\right\\rangle }}{3}$"
      ],
      "text/plain": [
       "             -2⋅ⅈ⋅π            2⋅ⅈ⋅π    \n",
       "             ───────           ─────    \n",
       "                3                3      \n",
       "√3⋅❘0⟩   √3⋅ℯ       ⋅❘1⟩   √3⋅ℯ     ⋅❘2⟩\n",
       "────── + ─────────────── + ─────────────\n",
       "  3             3                3      "
      ]
     },
     "execution_count": 16,
     "metadata": {},
     "output_type": "execute_result"
    }
   ],
   "source": [
    "x3[2] = gatep(F3, ψ3_2, 0, dim=3)\n",
    "mbk(x3[2], dim=3)"
   ]
  },
  {
   "cell_type": "markdown",
   "id": "5992b329",
   "metadata": {},
   "source": [
    "As we saw for qubit, the inner product between each of these distinct resultant vectors produced by the operation of the Fourier operator on the computational base of qutrits must be zero, thus"
   ]
  },
  {
   "cell_type": "code",
   "execution_count": 17,
   "id": "04bc51d0",
   "metadata": {},
   "outputs": [
    {
     "name": "stdout",
     "output_type": "stream",
     "text": [
      "< x3[0] | x3[0] > = 1\n",
      "< x3[0] | x3[1] > = 0\n",
      "< x3[0] | x3[2] > = 0\n",
      "< x3[1] | x3[0] > = 0\n",
      "< x3[1] | x3[1] > = 1\n",
      "< x3[1] | x3[2] > = 0\n",
      "< x3[2] | x3[0] > = 0\n",
      "< x3[2] | x3[1] > = 0\n",
      "< x3[2] | x3[2] > = 1\n"
     ]
    }
   ],
   "source": [
    "#< x3[j] | x3[k] > = δ_{jk}\n",
    "for i in range(3):\n",
    "    for j in range(3):\n",
    "        x = nsimplify(inner_product(x3[i],x3[j]))\n",
    "        print('< x3[{}] | x3[{}] > = {}'.format(i,j, x))"
   ]
  },
  {
   "cell_type": "markdown",
   "id": "c1e8e9c0",
   "metadata": {},
   "source": [
    "As we would like to obtain, the inner product on equal vectors results in 1 and on different vectors results in 0."
   ]
  },
  {
   "cell_type": "markdown",
   "id": "f246280f",
   "metadata": {},
   "source": [
    "### Ququad - $d=4$"
   ]
  },
  {
   "cell_type": "code",
   "execution_count": 18,
   "id": "2034940b",
   "metadata": {},
   "outputs": [
    {
     "data": {
      "image/png": "[encoded data removed]",
      "text/latex": [
       "$\\displaystyle \\left[\\begin{matrix}\\frac{1}{2} & \\frac{1}{2} & \\frac{1}{2} & \\frac{1}{2}\\\\\\frac{1}{2} & \\frac{i}{2} & - \\frac{1}{2} & - \\frac{i}{2}\\\\\\frac{1}{2} & - \\frac{1}{2} & \\frac{1}{2} & - \\frac{1}{2}\\\\\\frac{1}{2} & - \\frac{i}{2} & - \\frac{1}{2} & \\frac{i}{2}\\end{matrix}\\right]$"
      ],
      "text/plain": [
       "⎡1/2  1/2   1/2   1/2 ⎤\n",
       "⎢                     ⎥\n",
       "⎢      ⅈ          -ⅈ  ⎥\n",
       "⎢1/2   ─    -1/2  ─── ⎥\n",
       "⎢      2           2  ⎥\n",
       "⎢                     ⎥\n",
       "⎢1/2  -1/2  1/2   -1/2⎥\n",
       "⎢                     ⎥\n",
       "⎢     -ⅈ           ⅈ  ⎥\n",
       "⎢1/2  ───   -1/2   ─  ⎥\n",
       "⎣      2           2  ⎦"
      ]
     },
     "execution_count": 18,
     "metadata": {},
     "output_type": "execute_result"
    }
   ],
   "source": [
    "F4 = op_Fourier(4)\n",
    "F4"
   ]
  },
  {
   "cell_type": "markdown",
   "id": "620ea0cc",
   "metadata": {},
   "source": [
    "Consider"
   ]
  },
  {
   "cell_type": "code",
   "execution_count": 19,
   "id": "a5d46727",
   "metadata": {},
   "outputs": [
    {
     "data": {
      "image/png": "[encoded data removed]",
      "text/latex": [
       "$\\displaystyle \\left( {\\left|0\\right\\rangle }, \\  {\\left|1\\right\\rangle }, \\  {\\left|2\\right\\rangle }, \\  {\\left|3\\right\\rangle }\\right)$"
      ],
      "text/plain": [
       "(❘0⟩, ❘1⟩, ❘2⟩, ❘3⟩)"
      ]
     },
     "execution_count": 19,
     "metadata": {},
     "output_type": "execute_result"
    }
   ],
   "source": [
    "ψ4_0 = pbk('0', dim=4)\n",
    "ψ4_1 = pbk('1', dim=4)\n",
    "ψ4_2 = pbk('2', dim=4)\n",
    "ψ4_3 = pbk('3', dim=4)\n",
    "mbk(ψ4_0, dim=4), mbk(ψ4_1, dim=4), mbk(ψ4_2, dim=4), mbk(ψ4_3, dim=4)"
   ]
  },
  {
   "cell_type": "code",
   "execution_count": 20,
   "id": "996ef577",
   "metadata": {},
   "outputs": [
    {
     "name": "stdout",
     "output_type": "stream",
     "text": [
      "[0 0 0 0]\n"
     ]
    }
   ],
   "source": [
    "# python vector to save the vectors we will get\n",
    "x4 = np.zeros(4, dtype=object)\n",
    "print(x4)"
   ]
  },
  {
   "cell_type": "markdown",
   "id": "7a1abe2f",
   "metadata": {},
   "source": [
    "Acting on the computacional basis to ququad, we have"
   ]
  },
  {
   "cell_type": "code",
   "execution_count": 21,
   "id": "0fecd3e0",
   "metadata": {},
   "outputs": [
    {
     "data": {
      "image/png": "[encoded data removed]",
      "text/latex": [
       "$\\displaystyle \\frac{{\\left|0\\right\\rangle }}{2} + \\frac{{\\left|1\\right\\rangle }}{2} + \\frac{{\\left|2\\right\\rangle }}{2} + \\frac{{\\left|3\\right\\rangle }}{2}$"
      ],
      "text/plain": [
       "❘0⟩   ❘1⟩   ❘2⟩   ❘3⟩\n",
       "─── + ─── + ─── + ───\n",
       " 2     2     2     2 "
      ]
     },
     "execution_count": 21,
     "metadata": {},
     "output_type": "execute_result"
    }
   ],
   "source": [
    "x4[0] = gatep(F4, ψ4_0, 0, 4)\n",
    "mbk(x4[0], dim=4)"
   ]
  },
  {
   "cell_type": "code",
   "execution_count": 22,
   "id": "f35e77a2",
   "metadata": {},
   "outputs": [
    {
     "data": {
      "image/png": "[encoded data removed]",
      "text/latex": [
       "$\\displaystyle \\frac{{\\left|0\\right\\rangle }}{2} + \\frac{i {\\left|1\\right\\rangle }}{2} - \\frac{{\\left|2\\right\\rangle }}{2} - \\frac{i {\\left|3\\right\\rangle }}{2}$"
      ],
      "text/plain": [
       "❘0⟩   ⅈ⋅❘1⟩   ❘2⟩   ⅈ⋅❘3⟩\n",
       "─── + ───── - ─── - ─────\n",
       " 2      2      2      2  "
      ]
     },
     "execution_count": 22,
     "metadata": {},
     "output_type": "execute_result"
    }
   ],
   "source": [
    "x4[1] = gatep(F4, ψ4_1, 0, 4)\n",
    "mbk(x4[1], dim=4)"
   ]
  },
  {
   "cell_type": "code",
   "execution_count": 23,
   "id": "94306e66",
   "metadata": {},
   "outputs": [
    {
     "data": {
      "image/png": "[encoded data removed]",
      "text/latex": [
       "$\\displaystyle \\frac{{\\left|0\\right\\rangle }}{2} - \\frac{{\\left|1\\right\\rangle }}{2} + \\frac{{\\left|2\\right\\rangle }}{2} - \\frac{{\\left|3\\right\\rangle }}{2}$"
      ],
      "text/plain": [
       "❘0⟩   ❘1⟩   ❘2⟩   ❘3⟩\n",
       "─── - ─── + ─── - ───\n",
       " 2     2     2     2 "
      ]
     },
     "execution_count": 23,
     "metadata": {},
     "output_type": "execute_result"
    }
   ],
   "source": [
    "x4[2] = gatep(F4, ψ4_2, 0, 4)\n",
    "mbk(x4[2], dim=4)"
   ]
  },
  {
   "cell_type": "code",
   "execution_count": 24,
   "id": "1866782e",
   "metadata": {},
   "outputs": [
    {
     "data": {
      "image/png": "[encoded data removed]",
      "text/latex": [
       "$\\displaystyle \\frac{{\\left|0\\right\\rangle }}{2} - \\frac{i {\\left|1\\right\\rangle }}{2} - \\frac{{\\left|2\\right\\rangle }}{2} + \\frac{i {\\left|3\\right\\rangle }}{2}$"
      ],
      "text/plain": [
       "❘0⟩   ⅈ⋅❘1⟩   ❘2⟩   ⅈ⋅❘3⟩\n",
       "─── - ───── - ─── + ─────\n",
       " 2      2      2      2  "
      ]
     },
     "execution_count": 24,
     "metadata": {},
     "output_type": "execute_result"
    }
   ],
   "source": [
    "x4[3] = gatep(F4, ψ4_3, 0, 4)\n",
    "mbk(x4[3], dim=4)"
   ]
  },
  {
   "cell_type": "markdown",
   "id": "42f2783a",
   "metadata": {},
   "source": [
    "Checking the inner product between each of the vectors obtained"
   ]
  },
  {
   "cell_type": "code",
   "execution_count": 25,
   "id": "5eeff5b7",
   "metadata": {
    "scrolled": false
   },
   "outputs": [
    {
     "name": "stdout",
     "output_type": "stream",
     "text": [
      "< x4[0] | x4[0] > = 1\n",
      "< x4[0] | x4[1] > = 0\n",
      "< x4[0] | x4[2] > = 0\n",
      "< x4[0] | x4[3] > = 0\n",
      "< x4[1] | x4[0] > = 0\n",
      "< x4[1] | x4[1] > = 1\n",
      "< x4[1] | x4[2] > = 0\n",
      "< x4[1] | x4[3] > = 0\n",
      "< x4[2] | x4[0] > = 0\n",
      "< x4[2] | x4[1] > = 0\n",
      "< x4[2] | x4[2] > = 1\n",
      "< x4[2] | x4[3] > = 0\n",
      "< x4[3] | x4[0] > = 0\n",
      "< x4[3] | x4[1] > = 0\n",
      "< x4[3] | x4[2] > = 0\n",
      "< x4[3] | x4[3] > = 1\n"
     ]
    }
   ],
   "source": [
    "#< x4[j] | x4[k] > = δ_{jk}\n",
    "for i in range(4):\n",
    "    for j in range(4):\n",
    "        x = nsimplify(inner_product(x4[i],x4[j]))\n",
    "        print('< x4[{}] | x4[{}] > = {}'.format(i,j, x))"
   ]
  },
  {
   "cell_type": "markdown",
   "id": "e960e559",
   "metadata": {},
   "source": [
    "# Phse shift operator"
   ]
  },
  {
   "cell_type": "markdown",
   "id": "98c73161",
   "metadata": {},
   "source": [
    "The phase shift operator generalizes the $Z$ gate (Pauli-$Z$) to a system of $d$ levels and is defined as\n",
    "\\begin{equation}\n",
    "Z(j)|k\\rangle = e^{2\\pi ijk/d}|k\\rangle.\n",
    "\\end{equation}\n",
    "\n",
    "It's easy to see that:\n",
    "\\begin{align}\n",
    "& Z(0)|k\\rangle = e^{2\\pi ij0/d}|k\\rangle = |k\\rangle \\\\\n",
    "& \\therefore\\ Z(0) = \\mathbb{I}\\ \\forall\\ d.\n",
    "\\end{align}\n",
    "\n",
    "Furthermore\n",
    "\\begin{equation}\n",
    "Z(j)|0\\rangle = e^{2\\pi ij0/d}|0\\rangle = |0\\rangle \\ \\forall\\ j.\n",
    "\\end{equation}"
   ]
  },
  {
   "cell_type": "markdown",
   "id": "4e519d51",
   "metadata": {},
   "source": [
    "## `Z_j(d,j)`"
   ]
  },
  {
   "cell_type": "code",
   "execution_count": 26,
   "id": "64be4d45",
   "metadata": {},
   "outputs": [],
   "source": [
    "def Z_j(d, j):\n",
    "    '''\n",
    "    d = levels\n",
    "    j = 1,2,...,d-1\n",
    "    '''\n",
    "    Z_j = zeros(d,d)\n",
    "    for k in range(0,d):\n",
    "        for l in range(0,d):\n",
    "            if k == l:\n",
    "                Z_j[k,l] = simplify(exp(2*sym.pi*1j*j*l/d), rational=True)\n",
    "    return Z_j"
   ]
  },
  {
   "cell_type": "markdown",
   "id": "e3e65b8e",
   "metadata": {},
   "source": [
    "## Qubits - $d=2$"
   ]
  },
  {
   "cell_type": "code",
   "execution_count": 27,
   "id": "e0e28dc8",
   "metadata": {},
   "outputs": [
    {
     "data": {
      "image/png": "[encoded data removed]",
      "text/latex": [
       "$\\displaystyle \\left( \\left[\\begin{matrix}1 & 0\\\\0 & 1\\end{matrix}\\right], \\  \\left[\\begin{matrix}1 & 0\\\\0 & -1\\end{matrix}\\right]\\right)$"
      ],
      "text/plain": [
       "⎛⎡1  0⎤  ⎡1  0 ⎤⎞\n",
       "⎜⎢    ⎥, ⎢     ⎥⎟\n",
       "⎝⎣0  1⎦  ⎣0  -1⎦⎠"
      ]
     },
     "execution_count": 27,
     "metadata": {},
     "output_type": "execute_result"
    }
   ],
   "source": [
    "Z2_0 = Z_j(2,0)\n",
    "Z2_1 = Z_j(2,1)\n",
    "Z2_0, Z2_1"
   ]
  },
  {
   "cell_type": "markdown",
   "id": "713e0334",
   "metadata": {},
   "source": [
    "Consider"
   ]
  },
  {
   "cell_type": "code",
   "execution_count": 28,
   "id": "fb066a08",
   "metadata": {},
   "outputs": [
    {
     "data": {
      "image/png": "[encoded data removed]",
      "text/latex": [
       "$\\displaystyle \\left( {\\left|0\\right\\rangle }, \\  {\\left|1\\right\\rangle }\\right)$"
      ],
      "text/plain": [
       "(❘0⟩, ❘1⟩)"
      ]
     },
     "execution_count": 28,
     "metadata": {},
     "output_type": "execute_result"
    }
   ],
   "source": [
    "ψ2_0 = pbk('0')\n",
    "ψ2_1 = pbk('1')\n",
    "mbk(ψ2_0), mbk(ψ2_1)"
   ]
  },
  {
   "cell_type": "markdown",
   "id": "84a27249",
   "metadata": {},
   "source": [
    "so"
   ]
  },
  {
   "cell_type": "code",
   "execution_count": 29,
   "id": "524b6754",
   "metadata": {},
   "outputs": [
    {
     "data": {
      "image/png": "[encoded data removed]",
      "text/latex": [
       "$\\displaystyle {\\left|0\\right\\rangle }$"
      ],
      "text/plain": [
       "❘0⟩"
      ]
     },
     "execution_count": 29,
     "metadata": {},
     "output_type": "execute_result"
    }
   ],
   "source": [
    "mbk(Z2_0 * ψ2_0)"
   ]
  },
  {
   "cell_type": "code",
   "execution_count": 30,
   "id": "7e9e7f7d",
   "metadata": {},
   "outputs": [
    {
     "data": {
      "image/png": "[encoded data removed]",
      "text/latex": [
       "$\\displaystyle {\\left|0\\right\\rangle }$"
      ],
      "text/plain": [
       "❘0⟩"
      ]
     },
     "execution_count": 30,
     "metadata": {},
     "output_type": "execute_result"
    }
   ],
   "source": [
    "mbk(Z2_1 * ψ2_0)"
   ]
  },
  {
   "cell_type": "code",
   "execution_count": 31,
   "id": "250d2b26",
   "metadata": {},
   "outputs": [
    {
     "data": {
      "image/png": "[encoded data removed]",
      "text/latex": [
       "$\\displaystyle {\\left|1\\right\\rangle }$"
      ],
      "text/plain": [
       "❘1⟩"
      ]
     },
     "execution_count": 31,
     "metadata": {},
     "output_type": "execute_result"
    }
   ],
   "source": [
    "mbk(Z2_0 * ψ2_1)"
   ]
  },
  {
   "cell_type": "code",
   "execution_count": 32,
   "id": "cc199d9e",
   "metadata": {},
   "outputs": [
    {
     "data": {
      "image/png": "[encoded data removed]",
      "text/latex": [
       "$\\displaystyle - {\\left|1\\right\\rangle }$"
      ],
      "text/plain": [
       "-❘1⟩"
      ]
     },
     "execution_count": 32,
     "metadata": {},
     "output_type": "execute_result"
    }
   ],
   "source": [
    "mbk(Z2_1 * ψ2_1)"
   ]
  },
  {
   "cell_type": "markdown",
   "id": "81b436bb",
   "metadata": {},
   "source": [
    "## Qutrits - $d=3$"
   ]
  },
  {
   "cell_type": "code",
   "execution_count": 33,
   "id": "1b64e613",
   "metadata": {},
   "outputs": [
    {
     "name": "stdout",
     "output_type": "stream",
     "text": [
      "[0 0 0]\n"
     ]
    }
   ],
   "source": [
    "# python vector to save the vectors we will get\n",
    "Z3 = np.zeros(3, dtype=object)\n",
    "print(Z3)"
   ]
  },
  {
   "cell_type": "code",
   "execution_count": 34,
   "id": "3b25882f",
   "metadata": {},
   "outputs": [
    {
     "name": "stdout",
     "output_type": "stream",
     "text": [
      "Z3[0] =\n"
     ]
    },
    {
     "data": {
      "image/png": "[encoded data removed]",
      "text/latex": [
       "$\\displaystyle \\left[\\begin{matrix}1 & 0 & 0\\\\0 & 1 & 0\\\\0 & 0 & 1\\end{matrix}\\right]$"
      ],
      "text/plain": [
       "⎡1  0  0⎤\n",
       "⎢       ⎥\n",
       "⎢0  1  0⎥\n",
       "⎢       ⎥\n",
       "⎣0  0  1⎦"
      ]
     },
     "metadata": {},
     "output_type": "display_data"
    },
    {
     "name": "stdout",
     "output_type": "stream",
     "text": [
      "Z3[1] =\n"
     ]
    },
    {
     "data": {
      "image/png": "[encoded data removed]",
      "text/latex": [
       "$\\displaystyle \\left[\\begin{matrix}1 & 0 & 0\\\\0 & e^{\\frac{2 i \\pi}{3}} & 0\\\\0 & 0 & e^{- \\frac{2 i \\pi}{3}}\\end{matrix}\\right]$"
      ],
      "text/plain": [
       "⎡1    0        0    ⎤\n",
       "⎢                   ⎥\n",
       "⎢    2⋅ⅈ⋅π          ⎥\n",
       "⎢    ─────          ⎥\n",
       "⎢      3            ⎥\n",
       "⎢0  ℯ          0    ⎥\n",
       "⎢                   ⎥\n",
       "⎢            -2⋅ⅈ⋅π ⎥\n",
       "⎢            ───────⎥\n",
       "⎢               3   ⎥\n",
       "⎣0    0     ℯ       ⎦"
      ]
     },
     "metadata": {},
     "output_type": "display_data"
    },
    {
     "name": "stdout",
     "output_type": "stream",
     "text": [
      "Z3[2] =\n"
     ]
    },
    {
     "data": {
      "image/png": "[encoded data removed]",
      "text/latex": [
       "$\\displaystyle \\left[\\begin{matrix}1 & 0 & 0\\\\0 & e^{- \\frac{2 i \\pi}{3}} & 0\\\\0 & 0 & e^{\\frac{2 i \\pi}{3}}\\end{matrix}\\right]$"
      ],
      "text/plain": [
       "⎡1     0        0   ⎤\n",
       "⎢                   ⎥\n",
       "⎢    -2⋅ⅈ⋅π         ⎥\n",
       "⎢    ───────        ⎥\n",
       "⎢       3           ⎥\n",
       "⎢0  ℯ           0   ⎥\n",
       "⎢                   ⎥\n",
       "⎢              2⋅ⅈ⋅π⎥\n",
       "⎢              ─────⎥\n",
       "⎢                3  ⎥\n",
       "⎣0     0      ℯ     ⎦"
      ]
     },
     "metadata": {},
     "output_type": "display_data"
    }
   ],
   "source": [
    "from IPython.display import display, Math\n",
    "d = 3\n",
    "for j in range(3):\n",
    "    Z3[j] = Z_j(d,j)\n",
    "    print('Z3[{}] ='.format(j))\n",
    "    display(Z3[j])"
   ]
  },
  {
   "cell_type": "markdown",
   "id": "45de6571",
   "metadata": {},
   "source": [
    "Consider"
   ]
  },
  {
   "cell_type": "code",
   "execution_count": 35,
   "id": "64beca5d",
   "metadata": {},
   "outputs": [
    {
     "name": "stdout",
     "output_type": "stream",
     "text": [
      "[0 0 0]\n"
     ]
    }
   ],
   "source": [
    "# python vector to save the vectors we will get\n",
    "ψ3 = np.zeros(3, dtype=object)\n",
    "print(ψ3)"
   ]
  },
  {
   "cell_type": "code",
   "execution_count": 36,
   "id": "fde31151",
   "metadata": {},
   "outputs": [
    {
     "name": "stdout",
     "output_type": "stream",
     "text": [
      "ψ3[0] = \n"
     ]
    },
    {
     "data": {
      "image/png": "[encoded data removed]",
      "text/latex": [
       "$\\displaystyle {\\left|0\\right\\rangle }$"
      ],
      "text/plain": [
       "❘0⟩"
      ]
     },
     "metadata": {},
     "output_type": "display_data"
    },
    {
     "name": "stdout",
     "output_type": "stream",
     "text": [
      "ψ3[1] = \n"
     ]
    },
    {
     "data": {
      "image/png": "[encoded data removed]",
      "text/latex": [
       "$\\displaystyle {\\left|1\\right\\rangle }$"
      ],
      "text/plain": [
       "❘1⟩"
      ]
     },
     "metadata": {},
     "output_type": "display_data"
    },
    {
     "name": "stdout",
     "output_type": "stream",
     "text": [
      "ψ3[2] = \n"
     ]
    },
    {
     "data": {
      "image/png": "[encoded data removed]",
      "text/latex": [
       "$\\displaystyle {\\left|2\\right\\rangle }$"
      ],
      "text/plain": [
       "❘2⟩"
      ]
     },
     "metadata": {},
     "output_type": "display_data"
    }
   ],
   "source": [
    "d = 3\n",
    "for j in range(3):\n",
    "    ψ3[j] = pbk(str(j), dim=d)\n",
    "    print('ψ3[{}] = '.format(j))\n",
    "    display(mbk(ψ3[j], dim=3))"
   ]
  },
  {
   "cell_type": "markdown",
   "id": "b8433713",
   "metadata": {},
   "source": [
    "so"
   ]
  },
  {
   "cell_type": "code",
   "execution_count": 37,
   "id": "e5965108",
   "metadata": {},
   "outputs": [
    {
     "name": "stdout",
     "output_type": "stream",
     "text": [
      "Z3[0] * ψ3[0] = \n"
     ]
    },
    {
     "data": {
      "image/png": "[encoded data removed]",
      "text/latex": [
       "$\\displaystyle {\\left|0\\right\\rangle }$"
      ],
      "text/plain": [
       "❘0⟩"
      ]
     },
     "metadata": {},
     "output_type": "display_data"
    },
    {
     "name": "stdout",
     "output_type": "stream",
     "text": [
      "Z3[0] * ψ3[1] = \n"
     ]
    },
    {
     "data": {
      "image/png": "[encoded data removed]",
      "text/latex": [
       "$\\displaystyle {\\left|1\\right\\rangle }$"
      ],
      "text/plain": [
       "❘1⟩"
      ]
     },
     "metadata": {},
     "output_type": "display_data"
    },
    {
     "name": "stdout",
     "output_type": "stream",
     "text": [
      "Z3[0] * ψ3[2] = \n"
     ]
    },
    {
     "data": {
      "image/png": "[encoded data removed]",
      "text/latex": [
       "$\\displaystyle {\\left|2\\right\\rangle }$"
      ],
      "text/plain": [
       "❘2⟩"
      ]
     },
     "metadata": {},
     "output_type": "display_data"
    },
    {
     "name": "stdout",
     "output_type": "stream",
     "text": [
      "Z3[1] * ψ3[0] = \n"
     ]
    },
    {
     "data": {
      "image/png": "[encoded data removed]",
      "text/latex": [
       "$\\displaystyle {\\left|0\\right\\rangle }$"
      ],
      "text/plain": [
       "❘0⟩"
      ]
     },
     "metadata": {},
     "output_type": "display_data"
    },
    {
     "name": "stdout",
     "output_type": "stream",
     "text": [
      "Z3[1] * ψ3[1] = \n"
     ]
    },
    {
     "data": {
      "image/png": "[encoded data removed]",
      "text/latex": [
       "$\\displaystyle e^{\\frac{2 i \\pi}{3}} {\\left|1\\right\\rangle }$"
      ],
      "text/plain": [
       " 2⋅ⅈ⋅π    \n",
       " ─────    \n",
       "   3      \n",
       "ℯ     ⋅❘1⟩"
      ]
     },
     "metadata": {},
     "output_type": "display_data"
    },
    {
     "name": "stdout",
     "output_type": "stream",
     "text": [
      "Z3[1] * ψ3[2] = \n"
     ]
    },
    {
     "data": {
      "image/png": "[encoded data removed]",
      "text/latex": [
       "$\\displaystyle e^{- \\frac{2 i \\pi}{3}} {\\left|2\\right\\rangle }$"
      ],
      "text/plain": [
       " -2⋅ⅈ⋅π     \n",
       " ───────    \n",
       "    3       \n",
       "ℯ       ⋅❘2⟩"
      ]
     },
     "metadata": {},
     "output_type": "display_data"
    },
    {
     "name": "stdout",
     "output_type": "stream",
     "text": [
      "Z3[2] * ψ3[0] = \n"
     ]
    },
    {
     "data": {
      "image/png": "[encoded data removed]",
      "text/latex": [
       "$\\displaystyle {\\left|0\\right\\rangle }$"
      ],
      "text/plain": [
       "❘0⟩"
      ]
     },
     "metadata": {},
     "output_type": "display_data"
    },
    {
     "name": "stdout",
     "output_type": "stream",
     "text": [
      "Z3[2] * ψ3[1] = \n"
     ]
    },
    {
     "data": {
      "image/png": "[encoded data removed]",
      "text/latex": [
       "$\\displaystyle e^{- \\frac{2 i \\pi}{3}} {\\left|1\\right\\rangle }$"
      ],
      "text/plain": [
       " -2⋅ⅈ⋅π     \n",
       " ───────    \n",
       "    3       \n",
       "ℯ       ⋅❘1⟩"
      ]
     },
     "metadata": {},
     "output_type": "display_data"
    },
    {
     "name": "stdout",
     "output_type": "stream",
     "text": [
      "Z3[2] * ψ3[2] = \n"
     ]
    },
    {
     "data": {
      "image/png": "[encoded data removed]",
      "text/latex": [
       "$\\displaystyle e^{\\frac{2 i \\pi}{3}} {\\left|2\\right\\rangle }$"
      ],
      "text/plain": [
       " 2⋅ⅈ⋅π    \n",
       " ─────    \n",
       "   3      \n",
       "ℯ     ⋅❘2⟩"
      ]
     },
     "metadata": {},
     "output_type": "display_data"
    }
   ],
   "source": [
    "for j,k in product(range(3), repeat=2):\n",
    "    print('Z3[{}] * ψ3[{}] = '.format(j,k))\n",
    "    display(mbk(Z3[j]*ψ3[k], dim=d))"
   ]
  },
  {
   "cell_type": "markdown",
   "id": "4c1dec85",
   "metadata": {},
   "source": [
    "The same idea remains for higher dimensions."
   ]
  },
  {
   "cell_type": "markdown",
   "id": "03fc3687",
   "metadata": {},
   "source": [
    "# Phase shift operator"
   ]
  },
  {
   "cell_type": "markdown",
   "id": "ed8a59c4",
   "metadata": {},
   "source": [
    "The phase shift operator generalizes the $Z$ gate (Pauli-$Z$) to a system of $d$ levels and is defined as\n",
    "\\begin{equation}\n",
    "Z(j)|k\\rangle = e^{2\\pi ijk/d}|k\\rangle.\n",
    "\\end{equation}\n",
    "\n",
    "It's easy to see that:\n",
    "\\begin{align}\n",
    "& Z(0)|k\\rangle = e^{2\\pi ij0/d}|k\\rangle = |k\\rangle \\\\\n",
    "& \\therefore\\ Z(0) = \\mathbb{I}\\ \\forall\\ d.\n",
    "\\end{align}\n",
    "\n",
    "Furthermore\n",
    "\\begin{equation}\n",
    "Z(j)|0\\rangle = e^{2\\pi ij0/d}|0\\rangle = |0\\rangle \\ \\forall\\ j.\n",
    "\\end{equation}"
   ]
  },
  {
   "cell_type": "markdown",
   "id": "fd601be9",
   "metadata": {},
   "source": [
    "## `Z_j(d,j)`"
   ]
  },
  {
   "cell_type": "code",
   "execution_count": 38,
   "id": "f8813e61",
   "metadata": {},
   "outputs": [],
   "source": [
    "def Z_j(d, j):\n",
    "    \"\"\"\n",
    "    Args:\n",
    "        d (int): levels\n",
    "        j (int): 1,2,...,d-1.\n",
    "    Returns:\n",
    "        array: returns a square matrix dxd\n",
    "    \"\"\"\n",
    "    Z_j = zeros(d,d)\n",
    "    for k in range(0,d):\n",
    "        for l in range(0,d):\n",
    "            if k == l:\n",
    "                Z_j[k,l] = simplify(exp(2*sym.pi*1j*j*l/d), rational=True)\n",
    "    return Z_j"
   ]
  },
  {
   "cell_type": "markdown",
   "id": "e7db318d",
   "metadata": {},
   "source": [
    "## Qubits - $d=2$"
   ]
  },
  {
   "cell_type": "code",
   "execution_count": 39,
   "id": "fbbc05e2",
   "metadata": {},
   "outputs": [
    {
     "data": {
      "image/png": "[encoded data removed]",
      "text/latex": [
       "$\\displaystyle \\left( \\left[\\begin{matrix}1 & 0\\\\0 & 1\\end{matrix}\\right], \\  \\left[\\begin{matrix}1 & 0\\\\0 & -1\\end{matrix}\\right]\\right)$"
      ],
      "text/plain": [
       "⎛⎡1  0⎤  ⎡1  0 ⎤⎞\n",
       "⎜⎢    ⎥, ⎢     ⎥⎟\n",
       "⎝⎣0  1⎦  ⎣0  -1⎦⎠"
      ]
     },
     "execution_count": 39,
     "metadata": {},
     "output_type": "execute_result"
    }
   ],
   "source": [
    "Z2_0 = Z_j(2,0)\n",
    "Z2_1 = Z_j(2,1)\n",
    "Z2_0, Z2_1"
   ]
  },
  {
   "cell_type": "markdown",
   "id": "c8f278a9",
   "metadata": {},
   "source": [
    "Indeed, $Z2_1 = Z$ where $Z$ is the Pauli gate."
   ]
  },
  {
   "cell_type": "markdown",
   "id": "c52e65c9",
   "metadata": {},
   "source": [
    "Consider"
   ]
  },
  {
   "cell_type": "code",
   "execution_count": 40,
   "id": "82956a0d",
   "metadata": {},
   "outputs": [
    {
     "data": {
      "image/png": "[encoded data removed]",
      "text/latex": [
       "$\\displaystyle \\left( {\\left|0\\right\\rangle }, \\  {\\left|1\\right\\rangle }\\right)$"
      ],
      "text/plain": [
       "(❘0⟩, ❘1⟩)"
      ]
     },
     "execution_count": 40,
     "metadata": {},
     "output_type": "execute_result"
    }
   ],
   "source": [
    "ψ2_0 = pbk('0')\n",
    "ψ2_1 = pbk('1')\n",
    "mbk(ψ2_0), mbk(ψ2_1)"
   ]
  },
  {
   "cell_type": "markdown",
   "id": "227be50b",
   "metadata": {},
   "source": [
    "so"
   ]
  },
  {
   "cell_type": "code",
   "execution_count": 41,
   "id": "8c07472f",
   "metadata": {},
   "outputs": [
    {
     "data": {
      "image/png": "[encoded data removed]",
      "text/latex": [
       "$\\displaystyle {\\left|0\\right\\rangle }$"
      ],
      "text/plain": [
       "❘0⟩"
      ]
     },
     "execution_count": 41,
     "metadata": {},
     "output_type": "execute_result"
    }
   ],
   "source": [
    "mbk(Z2_0 * ψ2_0)"
   ]
  },
  {
   "cell_type": "code",
   "execution_count": 42,
   "id": "d52c9b85",
   "metadata": {},
   "outputs": [
    {
     "data": {
      "image/png": "[encoded data removed]",
      "text/latex": [
       "$\\displaystyle {\\left|0\\right\\rangle }$"
      ],
      "text/plain": [
       "❘0⟩"
      ]
     },
     "execution_count": 42,
     "metadata": {},
     "output_type": "execute_result"
    }
   ],
   "source": [
    "mbk(Z2_1 * ψ2_0)"
   ]
  },
  {
   "cell_type": "code",
   "execution_count": 43,
   "id": "1b74fdd2",
   "metadata": {},
   "outputs": [
    {
     "data": {
      "image/png": "[encoded data removed]",
      "text/latex": [
       "$\\displaystyle {\\left|1\\right\\rangle }$"
      ],
      "text/plain": [
       "❘1⟩"
      ]
     },
     "execution_count": 43,
     "metadata": {},
     "output_type": "execute_result"
    }
   ],
   "source": [
    "mbk(Z2_0 * ψ2_1)"
   ]
  },
  {
   "cell_type": "code",
   "execution_count": 44,
   "id": "3eee9fae",
   "metadata": {},
   "outputs": [
    {
     "data": {
      "image/png": "[encoded data removed]",
      "text/latex": [
       "$\\displaystyle - {\\left|1\\right\\rangle }$"
      ],
      "text/plain": [
       "-❘1⟩"
      ]
     },
     "execution_count": 44,
     "metadata": {},
     "output_type": "execute_result"
    }
   ],
   "source": [
    "mbk(Z2_1 * ψ2_1)"
   ]
  },
  {
   "cell_type": "markdown",
   "id": "998e5a53",
   "metadata": {},
   "source": [
    "## Qutrits - $d=3$"
   ]
  },
  {
   "cell_type": "code",
   "execution_count": 45,
   "id": "bf9ee63d",
   "metadata": {},
   "outputs": [
    {
     "name": "stdout",
     "output_type": "stream",
     "text": [
      "[0 0 0]\n"
     ]
    }
   ],
   "source": [
    "# python vector to save the vectors we will get\n",
    "Z3 = np.zeros(3, dtype=object)\n",
    "print(Z3)"
   ]
  },
  {
   "cell_type": "code",
   "execution_count": 46,
   "id": "7141fa5b",
   "metadata": {},
   "outputs": [
    {
     "name": "stdout",
     "output_type": "stream",
     "text": [
      "Z3[0] =\n"
     ]
    },
    {
     "data": {
      "image/png": "[encoded data removed]",
      "text/latex": [
       "$\\displaystyle \\left[\\begin{matrix}1 & 0 & 0\\\\0 & 1 & 0\\\\0 & 0 & 1\\end{matrix}\\right]$"
      ],
      "text/plain": [
       "⎡1  0  0⎤\n",
       "⎢       ⎥\n",
       "⎢0  1  0⎥\n",
       "⎢       ⎥\n",
       "⎣0  0  1⎦"
      ]
     },
     "metadata": {},
     "output_type": "display_data"
    },
    {
     "name": "stdout",
     "output_type": "stream",
     "text": [
      "Z3[1] =\n"
     ]
    },
    {
     "data": {
      "image/png": "[encoded data removed]",
      "text/latex": [
       "$\\displaystyle \\left[\\begin{matrix}1 & 0 & 0\\\\0 & e^{\\frac{2 i \\pi}{3}} & 0\\\\0 & 0 & e^{- \\frac{2 i \\pi}{3}}\\end{matrix}\\right]$"
      ],
      "text/plain": [
       "⎡1    0        0    ⎤\n",
       "⎢                   ⎥\n",
       "⎢    2⋅ⅈ⋅π          ⎥\n",
       "⎢    ─────          ⎥\n",
       "⎢      3            ⎥\n",
       "⎢0  ℯ          0    ⎥\n",
       "⎢                   ⎥\n",
       "⎢            -2⋅ⅈ⋅π ⎥\n",
       "⎢            ───────⎥\n",
       "⎢               3   ⎥\n",
       "⎣0    0     ℯ       ⎦"
      ]
     },
     "metadata": {},
     "output_type": "display_data"
    },
    {
     "name": "stdout",
     "output_type": "stream",
     "text": [
      "Z3[2] =\n"
     ]
    },
    {
     "data": {
      "image/png": "[encoded data removed]",
      "text/latex": [
       "$\\displaystyle \\left[\\begin{matrix}1 & 0 & 0\\\\0 & e^{- \\frac{2 i \\pi}{3}} & 0\\\\0 & 0 & e^{\\frac{2 i \\pi}{3}}\\end{matrix}\\right]$"
      ],
      "text/plain": [
       "⎡1     0        0   ⎤\n",
       "⎢                   ⎥\n",
       "⎢    -2⋅ⅈ⋅π         ⎥\n",
       "⎢    ───────        ⎥\n",
       "⎢       3           ⎥\n",
       "⎢0  ℯ           0   ⎥\n",
       "⎢                   ⎥\n",
       "⎢              2⋅ⅈ⋅π⎥\n",
       "⎢              ─────⎥\n",
       "⎢                3  ⎥\n",
       "⎣0     0      ℯ     ⎦"
      ]
     },
     "metadata": {},
     "output_type": "display_data"
    }
   ],
   "source": [
    "from IPython.display import display, Math\n",
    "d = 3\n",
    "for j in range(3):\n",
    "    Z3[j] = Z_j(d,j)\n",
    "    print('Z3[{}] ='.format(j))\n",
    "    display(Z3[j])"
   ]
  },
  {
   "cell_type": "markdown",
   "id": "d858cf9c",
   "metadata": {},
   "source": [
    "Consider"
   ]
  },
  {
   "cell_type": "code",
   "execution_count": 47,
   "id": "7237c455",
   "metadata": {},
   "outputs": [
    {
     "name": "stdout",
     "output_type": "stream",
     "text": [
      "[0 0 0]\n"
     ]
    }
   ],
   "source": [
    "# python vector to save the vectors we will get\n",
    "ψ3 = np.zeros(3, dtype=object)\n",
    "print(ψ3)"
   ]
  },
  {
   "cell_type": "code",
   "execution_count": 48,
   "id": "57e5e110",
   "metadata": {},
   "outputs": [
    {
     "name": "stdout",
     "output_type": "stream",
     "text": [
      "ψ3[0] = \n"
     ]
    },
    {
     "data": {
      "image/png": "[encoded data removed]",
      "text/latex": [
       "$\\displaystyle {\\left|0\\right\\rangle }$"
      ],
      "text/plain": [
       "❘0⟩"
      ]
     },
     "metadata": {},
     "output_type": "display_data"
    },
    {
     "name": "stdout",
     "output_type": "stream",
     "text": [
      "ψ3[1] = \n"
     ]
    },
    {
     "data": {
      "image/png": "[encoded data removed]",
      "text/latex": [
       "$\\displaystyle {\\left|1\\right\\rangle }$"
      ],
      "text/plain": [
       "❘1⟩"
      ]
     },
     "metadata": {},
     "output_type": "display_data"
    },
    {
     "name": "stdout",
     "output_type": "stream",
     "text": [
      "ψ3[2] = \n"
     ]
    },
    {
     "data": {
      "image/png": "[encoded data removed]",
      "text/latex": [
       "$\\displaystyle {\\left|2\\right\\rangle }$"
      ],
      "text/plain": [
       "❘2⟩"
      ]
     },
     "metadata": {},
     "output_type": "display_data"
    }
   ],
   "source": [
    "d = 3\n",
    "for j in range(3):\n",
    "    ψ3[j] = pbk(str(j), dim=d)\n",
    "    print('ψ3[{}] = '.format(j))\n",
    "    display(mbk(ψ3[j], dim=3))"
   ]
  },
  {
   "cell_type": "markdown",
   "id": "242ac1bc",
   "metadata": {},
   "source": [
    "so"
   ]
  },
  {
   "cell_type": "code",
   "execution_count": 49,
   "id": "a517b230",
   "metadata": {},
   "outputs": [
    {
     "name": "stdout",
     "output_type": "stream",
     "text": [
      "Z3[0] * ψ3[0] = \n"
     ]
    },
    {
     "data": {
      "image/png": "[encoded data removed]",
      "text/latex": [
       "$\\displaystyle {\\left|0\\right\\rangle }$"
      ],
      "text/plain": [
       "❘0⟩"
      ]
     },
     "metadata": {},
     "output_type": "display_data"
    },
    {
     "name": "stdout",
     "output_type": "stream",
     "text": [
      "Z3[0] * ψ3[1] = \n"
     ]
    },
    {
     "data": {
      "image/png": "[encoded data removed]",
      "text/latex": [
       "$\\displaystyle {\\left|1\\right\\rangle }$"
      ],
      "text/plain": [
       "❘1⟩"
      ]
     },
     "metadata": {},
     "output_type": "display_data"
    },
    {
     "name": "stdout",
     "output_type": "stream",
     "text": [
      "Z3[0] * ψ3[2] = \n"
     ]
    },
    {
     "data": {
      "image/png": "[encoded data removed]",
      "text/latex": [
       "$\\displaystyle {\\left|2\\right\\rangle }$"
      ],
      "text/plain": [
       "❘2⟩"
      ]
     },
     "metadata": {},
     "output_type": "display_data"
    },
    {
     "name": "stdout",
     "output_type": "stream",
     "text": [
      "Z3[1] * ψ3[0] = \n"
     ]
    },
    {
     "data": {
      "image/png": "[encoded data removed]",
      "text/latex": [
       "$\\displaystyle {\\left|0\\right\\rangle }$"
      ],
      "text/plain": [
       "❘0⟩"
      ]
     },
     "metadata": {},
     "output_type": "display_data"
    },
    {
     "name": "stdout",
     "output_type": "stream",
     "text": [
      "Z3[1] * ψ3[1] = \n"
     ]
    },
    {
     "data": {
      "image/png": "[encoded data removed]",
      "text/latex": [
       "$\\displaystyle e^{\\frac{2 i \\pi}{3}} {\\left|1\\right\\rangle }$"
      ],
      "text/plain": [
       " 2⋅ⅈ⋅π    \n",
       " ─────    \n",
       "   3      \n",
       "ℯ     ⋅❘1⟩"
      ]
     },
     "metadata": {},
     "output_type": "display_data"
    },
    {
     "name": "stdout",
     "output_type": "stream",
     "text": [
      "Z3[1] * ψ3[2] = \n"
     ]
    },
    {
     "data": {
      "image/png": "[encoded data removed]",
      "text/latex": [
       "$\\displaystyle e^{- \\frac{2 i \\pi}{3}} {\\left|2\\right\\rangle }$"
      ],
      "text/plain": [
       " -2⋅ⅈ⋅π     \n",
       " ───────    \n",
       "    3       \n",
       "ℯ       ⋅❘2⟩"
      ]
     },
     "metadata": {},
     "output_type": "display_data"
    },
    {
     "name": "stdout",
     "output_type": "stream",
     "text": [
      "Z3[2] * ψ3[0] = \n"
     ]
    },
    {
     "data": {
      "image/png": "[encoded data removed]",
      "text/latex": [
       "$\\displaystyle {\\left|0\\right\\rangle }$"
      ],
      "text/plain": [
       "❘0⟩"
      ]
     },
     "metadata": {},
     "output_type": "display_data"
    },
    {
     "name": "stdout",
     "output_type": "stream",
     "text": [
      "Z3[2] * ψ3[1] = \n"
     ]
    },
    {
     "data": {
      "image/png": "[encoded data removed]",
      "text/latex": [
       "$\\displaystyle e^{- \\frac{2 i \\pi}{3}} {\\left|1\\right\\rangle }$"
      ],
      "text/plain": [
       " -2⋅ⅈ⋅π     \n",
       " ───────    \n",
       "    3       \n",
       "ℯ       ⋅❘1⟩"
      ]
     },
     "metadata": {},
     "output_type": "display_data"
    },
    {
     "name": "stdout",
     "output_type": "stream",
     "text": [
      "Z3[2] * ψ3[2] = \n"
     ]
    },
    {
     "data": {
      "image/png": "[encoded data removed]",
      "text/latex": [
       "$\\displaystyle e^{\\frac{2 i \\pi}{3}} {\\left|2\\right\\rangle }$"
      ],
      "text/plain": [
       " 2⋅ⅈ⋅π    \n",
       " ─────    \n",
       "   3      \n",
       "ℯ     ⋅❘2⟩"
      ]
     },
     "metadata": {},
     "output_type": "display_data"
    }
   ],
   "source": [
    "d = 3\n",
    "for j,k in product(range(3), repeat=2):\n",
    "    print('Z3[{}] * ψ3[{}] = '.format(j,k))\n",
    "    display(mbk(Z3[j]*ψ3[k], dim=d))"
   ]
  },
  {
   "cell_type": "markdown",
   "id": "1b3bcbff",
   "metadata": {},
   "source": [
    "The same idea remains for higher dimensions."
   ]
  },
  {
   "cell_type": "markdown",
   "id": "e4861e37",
   "metadata": {},
   "source": [
    "# Cyclic shift operator or state shift operator"
   ]
  },
  {
   "cell_type": "markdown",
   "id": "19197ab2",
   "metadata": {},
   "source": [
    "The cyclic shift operator is the generalization of the X Pauli gate. Its definition is given by\n",
    "\\begin{equation}\n",
    "X(j)|k\\rangle = |j\\oplus k\\rangle \\equiv |(j+k)\\mod(d)\\rangle.\n",
    "\\end{equation}\n",
    "\n",
    "The elements of the matrix X(j) are given by $\\langle k|X(j)|l\\rangle = \\delta_{k,j\\oplus l}$"
   ]
  },
  {
   "cell_type": "markdown",
   "id": "00ae00fe",
   "metadata": {},
   "source": [
    "## `X_j(d,j)`"
   ]
  },
  {
   "cell_type": "code",
   "execution_count": 50,
   "id": "4043dc84",
   "metadata": {},
   "outputs": [],
   "source": [
    "def X_j(d, j):\n",
    "    \"\"\"\n",
    "    Args:\n",
    "        d (int): levels\n",
    "        j (int): 1,2,...,d-1.\n",
    "    Returns:\n",
    "        array: returns a square matrix dxd\n",
    "    \"\"\"\n",
    "    X_j = zeros(d,d)\n",
    "    if j==0:\n",
    "        X_j = sym.eye(d)\n",
    "        return X_j\n",
    "    for k in range(0,d):\n",
    "        for l in range(0,d):\n",
    "            resul = l + j\n",
    "            s = resul % d\n",
    "            if k == s:\n",
    "                X_j[k,l] = 1\n",
    "    return X_j"
   ]
  },
  {
   "cell_type": "markdown",
   "id": "e5ef3d5a",
   "metadata": {},
   "source": [
    "## Qubits - $d=2$"
   ]
  },
  {
   "cell_type": "code",
   "execution_count": 51,
   "id": "06450ca4",
   "metadata": {},
   "outputs": [
    {
     "data": {
      "image/png": "[encoded data removed]",
      "text/latex": [
       "$\\displaystyle \\left( \\left[\\begin{matrix}1 & 0\\\\0 & 1\\end{matrix}\\right], \\  \\left[\\begin{matrix}0 & 1\\\\1 & 0\\end{matrix}\\right]\\right)$"
      ],
      "text/plain": [
       "⎛⎡1  0⎤  ⎡0  1⎤⎞\n",
       "⎜⎢    ⎥, ⎢    ⎥⎟\n",
       "⎝⎣0  1⎦  ⎣1  0⎦⎠"
      ]
     },
     "execution_count": 51,
     "metadata": {},
     "output_type": "execute_result"
    }
   ],
   "source": [
    "X2_0 = X_j(2,0)\n",
    "X2_1 = X_j(2,1)\n",
    "X2_0, X2_1"
   ]
  },
  {
   "cell_type": "markdown",
   "id": "07853457",
   "metadata": {},
   "source": [
    "Indeed, $X2_1 = X$ where $X$ is the Pauli gate."
   ]
  },
  {
   "cell_type": "markdown",
   "id": "7cf26e29",
   "metadata": {},
   "source": [
    "Consider"
   ]
  },
  {
   "cell_type": "code",
   "execution_count": 52,
   "id": "f4081e1b",
   "metadata": {},
   "outputs": [
    {
     "data": {
      "image/png": "[encoded data removed]",
      "text/latex": [
       "$\\displaystyle \\left( {\\left|0\\right\\rangle }, \\  {\\left|1\\right\\rangle }\\right)$"
      ],
      "text/plain": [
       "(❘0⟩, ❘1⟩)"
      ]
     },
     "execution_count": 52,
     "metadata": {},
     "output_type": "execute_result"
    }
   ],
   "source": [
    "ψ2_0 = pbk('0')\n",
    "ψ2_1 = pbk('1')\n",
    "mbk(ψ2_0), mbk(ψ2_1)"
   ]
  },
  {
   "cell_type": "markdown",
   "id": "86c08ea6",
   "metadata": {},
   "source": [
    "so"
   ]
  },
  {
   "cell_type": "code",
   "execution_count": 53,
   "id": "cab10ba1",
   "metadata": {},
   "outputs": [
    {
     "data": {
      "image/png": "[encoded data removed]",
      "text/latex": [
       "$\\displaystyle {\\left|0\\right\\rangle }$"
      ],
      "text/plain": [
       "❘0⟩"
      ]
     },
     "execution_count": 53,
     "metadata": {},
     "output_type": "execute_result"
    }
   ],
   "source": [
    "mbk(X2_0 * ψ2_0)"
   ]
  },
  {
   "cell_type": "code",
   "execution_count": 54,
   "id": "124e7707",
   "metadata": {},
   "outputs": [
    {
     "data": {
      "image/png": "[encoded data removed]",
      "text/latex": [
       "$\\displaystyle {\\left|1\\right\\rangle }$"
      ],
      "text/plain": [
       "❘1⟩"
      ]
     },
     "execution_count": 54,
     "metadata": {},
     "output_type": "execute_result"
    }
   ],
   "source": [
    "mbk(X2_1 * ψ2_0)"
   ]
  },
  {
   "cell_type": "code",
   "execution_count": 55,
   "id": "1a424846",
   "metadata": {},
   "outputs": [
    {
     "data": {
      "image/png": "[encoded data removed]",
      "text/latex": [
       "$\\displaystyle {\\left|1\\right\\rangle }$"
      ],
      "text/plain": [
       "❘1⟩"
      ]
     },
     "execution_count": 55,
     "metadata": {},
     "output_type": "execute_result"
    }
   ],
   "source": [
    "mbk(X2_0 * ψ2_1)"
   ]
  },
  {
   "cell_type": "code",
   "execution_count": 56,
   "id": "201f71a5",
   "metadata": {},
   "outputs": [
    {
     "data": {
      "image/png": "[encoded data removed]",
      "text/latex": [
       "$\\displaystyle {\\left|0\\right\\rangle }$"
      ],
      "text/plain": [
       "❘0⟩"
      ]
     },
     "execution_count": 56,
     "metadata": {},
     "output_type": "execute_result"
    }
   ],
   "source": [
    "mbk(X2_1 * ψ2_1)"
   ]
  },
  {
   "cell_type": "markdown",
   "id": "2e01898d",
   "metadata": {},
   "source": [
    "## Qutrits - $d=3$"
   ]
  },
  {
   "cell_type": "code",
   "execution_count": 57,
   "id": "db25eed8",
   "metadata": {},
   "outputs": [
    {
     "name": "stdout",
     "output_type": "stream",
     "text": [
      "[0 0 0]\n"
     ]
    }
   ],
   "source": [
    "# python vector to save the vectors we will get\n",
    "X3 = np.zeros(3, dtype=object)\n",
    "print(X3)"
   ]
  },
  {
   "cell_type": "code",
   "execution_count": 58,
   "id": "d173badf",
   "metadata": {},
   "outputs": [
    {
     "name": "stdout",
     "output_type": "stream",
     "text": [
      "X3[0] =\n"
     ]
    },
    {
     "data": {
      "image/png": "[encoded data removed]",
      "text/latex": [
       "$\\displaystyle \\left[\\begin{matrix}1 & 0 & 0\\\\0 & 1 & 0\\\\0 & 0 & 1\\end{matrix}\\right]$"
      ],
      "text/plain": [
       "⎡1  0  0⎤\n",
       "⎢       ⎥\n",
       "⎢0  1  0⎥\n",
       "⎢       ⎥\n",
       "⎣0  0  1⎦"
      ]
     },
     "metadata": {},
     "output_type": "display_data"
    },
    {
     "name": "stdout",
     "output_type": "stream",
     "text": [
      "X3[1] =\n"
     ]
    },
    {
     "data": {
      "image/png": "[encoded data removed]",
      "text/latex": [
       "$\\displaystyle \\left[\\begin{matrix}0 & 0 & 1\\\\1 & 0 & 0\\\\0 & 1 & 0\\end{matrix}\\right]$"
      ],
      "text/plain": [
       "⎡0  0  1⎤\n",
       "⎢       ⎥\n",
       "⎢1  0  0⎥\n",
       "⎢       ⎥\n",
       "⎣0  1  0⎦"
      ]
     },
     "metadata": {},
     "output_type": "display_data"
    },
    {
     "name": "stdout",
     "output_type": "stream",
     "text": [
      "X3[2] =\n"
     ]
    },
    {
     "data": {
      "image/png": "[encoded data removed]",
      "text/latex": [
       "$\\displaystyle \\left[\\begin{matrix}0 & 1 & 0\\\\0 & 0 & 1\\\\1 & 0 & 0\\end{matrix}\\right]$"
      ],
      "text/plain": [
       "⎡0  1  0⎤\n",
       "⎢       ⎥\n",
       "⎢0  0  1⎥\n",
       "⎢       ⎥\n",
       "⎣1  0  0⎦"
      ]
     },
     "metadata": {},
     "output_type": "display_data"
    }
   ],
   "source": [
    "from IPython.display import display, Math\n",
    "d = 3\n",
    "for j in range(3):\n",
    "    X3[j] = X_j(d,j)\n",
    "    print('X3[{}] ='.format(j))\n",
    "    display(X3[j])"
   ]
  },
  {
   "cell_type": "markdown",
   "id": "5bffe321",
   "metadata": {},
   "source": [
    "Consider"
   ]
  },
  {
   "cell_type": "code",
   "execution_count": 59,
   "id": "e8ce54fd",
   "metadata": {},
   "outputs": [
    {
     "name": "stdout",
     "output_type": "stream",
     "text": [
      "[0 0 0]\n"
     ]
    }
   ],
   "source": [
    "# python vector to save the vectors we will get\n",
    "ψ3 = np.zeros(3, dtype=object)\n",
    "print(ψ3)"
   ]
  },
  {
   "cell_type": "code",
   "execution_count": 60,
   "id": "e94e7bd4",
   "metadata": {},
   "outputs": [
    {
     "name": "stdout",
     "output_type": "stream",
     "text": [
      "ψ3[0] = \n"
     ]
    },
    {
     "data": {
      "image/png": "[encoded data removed]",
      "text/latex": [
       "$\\displaystyle {\\left|0\\right\\rangle }$"
      ],
      "text/plain": [
       "❘0⟩"
      ]
     },
     "metadata": {},
     "output_type": "display_data"
    },
    {
     "name": "stdout",
     "output_type": "stream",
     "text": [
      "ψ3[1] = \n"
     ]
    },
    {
     "data": {
      "image/png": "[encoded data removed]",
      "text/latex": [
       "$\\displaystyle {\\left|1\\right\\rangle }$"
      ],
      "text/plain": [
       "❘1⟩"
      ]
     },
     "metadata": {},
     "output_type": "display_data"
    },
    {
     "name": "stdout",
     "output_type": "stream",
     "text": [
      "ψ3[2] = \n"
     ]
    },
    {
     "data": {
      "image/png": "[encoded data removed]",
      "text/latex": [
       "$\\displaystyle {\\left|2\\right\\rangle }$"
      ],
      "text/plain": [
       "❘2⟩"
      ]
     },
     "metadata": {},
     "output_type": "display_data"
    }
   ],
   "source": [
    "d = 3\n",
    "for j in range(3):\n",
    "    ψ3[j] = pbk(str(j), dim=d)\n",
    "    print('ψ3[{}] = '.format(j))\n",
    "    display(mbk(ψ3[j], dim=3))"
   ]
  },
  {
   "cell_type": "markdown",
   "id": "9d9678ed",
   "metadata": {},
   "source": [
    "so"
   ]
  },
  {
   "cell_type": "code",
   "execution_count": 61,
   "id": "497cc502",
   "metadata": {
    "scrolled": false
   },
   "outputs": [
    {
     "name": "stdout",
     "output_type": "stream",
     "text": [
      "X3[0] * ψ3[0] = \n"
     ]
    },
    {
     "data": {
      "image/png": "[encoded data removed]",
      "text/latex": [
       "$\\displaystyle {\\left|0\\right\\rangle }$"
      ],
      "text/plain": [
       "❘0⟩"
      ]
     },
     "metadata": {},
     "output_type": "display_data"
    },
    {
     "name": "stdout",
     "output_type": "stream",
     "text": [
      "X3[0] * ψ3[1] = \n"
     ]
    },
    {
     "data": {
      "image/png": "[encoded data removed]",
      "text/latex": [
       "$\\displaystyle {\\left|1\\right\\rangle }$"
      ],
      "text/plain": [
       "❘1⟩"
      ]
     },
     "metadata": {},
     "output_type": "display_data"
    },
    {
     "name": "stdout",
     "output_type": "stream",
     "text": [
      "X3[0] * ψ3[2] = \n"
     ]
    },
    {
     "data": {
      "image/png": "[encoded data removed]",
      "text/latex": [
       "$\\displaystyle {\\left|2\\right\\rangle }$"
      ],
      "text/plain": [
       "❘2⟩"
      ]
     },
     "metadata": {},
     "output_type": "display_data"
    },
    {
     "name": "stdout",
     "output_type": "stream",
     "text": [
      "X3[1] * ψ3[0] = \n"
     ]
    },
    {
     "data": {
      "image/png": "[encoded data removed]",
      "text/latex": [
       "$\\displaystyle {\\left|1\\right\\rangle }$"
      ],
      "text/plain": [
       "❘1⟩"
      ]
     },
     "metadata": {},
     "output_type": "display_data"
    },
    {
     "name": "stdout",
     "output_type": "stream",
     "text": [
      "X3[1] * ψ3[1] = \n"
     ]
    },
    {
     "data": {
      "image/png": "[encoded data removed]",
      "text/latex": [
       "$\\displaystyle {\\left|2\\right\\rangle }$"
      ],
      "text/plain": [
       "❘2⟩"
      ]
     },
     "metadata": {},
     "output_type": "display_data"
    },
    {
     "name": "stdout",
     "output_type": "stream",
     "text": [
      "X3[1] * ψ3[2] = \n"
     ]
    },
    {
     "data": {
      "image/png": "[encoded data removed]",
      "text/latex": [
       "$\\displaystyle {\\left|0\\right\\rangle }$"
      ],
      "text/plain": [
       "❘0⟩"
      ]
     },
     "metadata": {},
     "output_type": "display_data"
    },
    {
     "name": "stdout",
     "output_type": "stream",
     "text": [
      "X3[2] * ψ3[0] = \n"
     ]
    },
    {
     "data": {
      "image/png": "[encoded data removed]",
      "text/latex": [
       "$\\displaystyle {\\left|2\\right\\rangle }$"
      ],
      "text/plain": [
       "❘2⟩"
      ]
     },
     "metadata": {},
     "output_type": "display_data"
    },
    {
     "name": "stdout",
     "output_type": "stream",
     "text": [
      "X3[2] * ψ3[1] = \n"
     ]
    },
    {
     "data": {
      "image/png": "[encoded data removed]",
      "text/latex": [
       "$\\displaystyle {\\left|0\\right\\rangle }$"
      ],
      "text/plain": [
       "❘0⟩"
      ]
     },
     "metadata": {},
     "output_type": "display_data"
    },
    {
     "name": "stdout",
     "output_type": "stream",
     "text": [
      "X3[2] * ψ3[2] = \n"
     ]
    },
    {
     "data": {
      "image/png": "[encoded data removed]",
      "text/latex": [
       "$\\displaystyle {\\left|1\\right\\rangle }$"
      ],
      "text/plain": [
       "❘1⟩"
      ]
     },
     "metadata": {},
     "output_type": "display_data"
    }
   ],
   "source": [
    "d = 3\n",
    "for j,k in product(range(3), repeat=2):\n",
    "    print('X3[{}] * ψ3[{}] = '.format(j,k))\n",
    "    display(mbk(X3[j]*ψ3[k], dim=d))"
   ]
  },
  {
   "cell_type": "markdown",
   "id": "3bcea2b7",
   "metadata": {},
   "source": [
    "The same idea remains for higher dimensions."
   ]
  },
  {
   "cell_type": "code",
   "execution_count": null,
   "id": "ae4e748b",
   "metadata": {},
   "outputs": [],
   "source": []
  }
 ],
 "metadata": {
  "kernelspec": {
   "display_name": "Python 3 (ipykernel)",
   "language": "python",
   "name": "python3"
  },
  "language_info": {
   "codemirror_mode": {
    "name": "ipython",
    "version": 3
   },
   "file_extension": ".py",
   "mimetype": "text/x-python",
   "name": "python",
   "nbconvert_exporter": "python",
   "pygments_lexer": "ipython3",
   "version": "3.9.13"
  }
 },
 "nbformat": 4,
 "nbformat_minor": 5
}
