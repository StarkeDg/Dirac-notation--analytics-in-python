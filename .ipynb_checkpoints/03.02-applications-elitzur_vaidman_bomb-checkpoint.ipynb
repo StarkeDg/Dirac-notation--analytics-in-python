{
 "cells": [
  {
   "cell_type": "code",
   "execution_count": 3,
   "id": "7f5578f9",
   "metadata": {},
   "outputs": [],
   "source": [
    "%run init.ipynb\n",
    "%run init-quantum_gates.ipynb"
   ]
  },
  {
   "cell_type": "markdown",
   "id": "e4091d04",
   "metadata": {},
   "source": [
    "# Mach-Zender Interferometer"
   ]
  },
  {
   "cell_type": "markdown",
   "id": "9925d15b",
   "metadata": {},
   "source": [
    "<img src = 'MZI_wbomb.png' width = '50%'>"
   ]
  },
  {
   "cell_type": "markdown",
   "id": "7266b298",
   "metadata": {},
   "source": [
    "Adapted from: https://github.com/jonasmaziero/qiskit/blob/main/12_mach_zehnder.ipynb and http://localhost:8888/notebooks/%2B%2BJonas/qiskit/20_elitzur_vaidman_bomb.ipynb\n",
    "\n",
    "More about: https://arxiv.org/abs/2203.17062"
   ]
  },
  {
   "cell_type": "markdown",
   "id": "1d8f552f",
   "metadata": {},
   "source": [
    " Before we describe the Elitzur-Vaidman bomb, let's do a brief study of the Mach-Zehnder Interferometer (MZI)."
   ]
  },
  {
   "cell_type": "markdown",
   "id": "2de733c1",
   "metadata": {},
   "source": [
    "We intend to describe a quanton (more appropriate name for a quantum system - e.g. photon, electron - that manifests dual behavior of particle and wave) entering a Mach-Zehnder interferometer. Let's make this description through a two-level system (one qubit), for that, let's make some definitions. Horizontal movement of the quanton will be denoted by $|0\\rangle$ and vertical movement will be denoted by $|1\\rangle$."
   ]
  },
  {
   "cell_type": "markdown",
   "id": "eaf66efa",
   "metadata": {},
   "source": [
    "Thus, the initial state of our system is given by $|\\psi_0\\rangle = |0\\rangle$, as shown in the figure above."
   ]
  },
  {
   "cell_type": "markdown",
   "id": "0aa23535",
   "metadata": {},
   "source": [
    "Quantum will pass through some optical devices: BS stands for beam splitter, M is the mirrors, PS stand for phase-shifter and D$_j$ are the detectors in positions $j=0,1$ (horizontal and vertical path respectively)."
   ]
  },
  {
   "cell_type": "markdown",
   "id": "363000fb",
   "metadata": {},
   "source": [
    "## Optical devices"
   ]
  },
  {
   "cell_type": "markdown",
   "id": "df321b6a",
   "metadata": {},
   "source": [
    "The BS is given by"
   ]
  },
  {
   "cell_type": "code",
   "execution_count": 4,
   "id": "323ea833",
   "metadata": {},
   "outputs": [
    {
     "data": {
      "image/png": "[encoded data removed]",
      "text/latex": [
       "$\\displaystyle \\left[\\begin{matrix}\\frac{\\sqrt{2}}{2} & \\frac{\\sqrt{2} i}{2}\\\\\\frac{\\sqrt{2} i}{2} & \\frac{\\sqrt{2}}{2}\\end{matrix}\\right]$"
      ],
      "text/plain": [
       "⎡ √2   √2⋅ⅈ⎤\n",
       "⎢ ──   ────⎥\n",
       "⎢ 2     2  ⎥\n",
       "⎢          ⎥\n",
       "⎢√2⋅ⅈ   √2 ⎥\n",
       "⎢────   ── ⎥\n",
       "⎣ 2     2  ⎦"
      ]
     },
     "execution_count": 4,
     "metadata": {},
     "output_type": "execute_result"
    }
   ],
   "source": [
    "BS = (1/sqrt(2))*Matrix([[1, 1j], [1j, 1]])\n",
    "mysim(BS)"
   ]
  },
  {
   "cell_type": "markdown",
   "id": "626df423",
   "metadata": {},
   "source": [
    "that is, the BS is a balanced device which allows the quanton to pass with equal amplitude of probability for the part in $T$ and in $R$."
   ]
  },
  {
   "cell_type": "markdown",
   "id": "1a67db4c",
   "metadata": {},
   "source": [
    "The combined action of the mirrors (M) is given by"
   ]
  },
  {
   "cell_type": "code",
   "execution_count": 5,
   "id": "e65abaeb",
   "metadata": {},
   "outputs": [
    {
     "data": {
      "image/png": "[encoded data removed]",
      "text/latex": [
       "$\\displaystyle \\left[\\begin{matrix}0 & i\\\\i & 0\\end{matrix}\\right]$"
      ],
      "text/plain": [
       "⎡0  ⅈ⎤\n",
       "⎢    ⎥\n",
       "⎣ⅈ  0⎦"
      ]
     },
     "execution_count": 5,
     "metadata": {},
     "output_type": "execute_result"
    }
   ],
   "source": [
    "M = Matrix([[0, 1j], [1j, 0]])\n",
    "mysim(M)"
   ]
  },
  {
   "cell_type": "markdown",
   "id": "251b98ab",
   "metadata": {},
   "source": [
    "Symbolic definitions for the PS"
   ]
  },
  {
   "cell_type": "code",
   "execution_count": 6,
   "id": "8b14010c",
   "metadata": {},
   "outputs": [
    {
     "data": {
      "image/png": "[encoded data removed]",
      "text/latex": [
       "$\\displaystyle \\phi$"
      ],
      "text/plain": [
       "φ"
      ]
     },
     "execution_count": 6,
     "metadata": {},
     "output_type": "execute_result"
    }
   ],
   "source": [
    "ph = symbols('phi', real=True)\n",
    "ph"
   ]
  },
  {
   "cell_type": "markdown",
   "id": "d57ec9a6",
   "metadata": {},
   "source": [
    "The PS, on the other hand, is actuated through"
   ]
  },
  {
   "cell_type": "code",
   "execution_count": 7,
   "id": "751a63dc",
   "metadata": {
    "scrolled": true
   },
   "outputs": [
    {
     "data": {
      "image/png": "[encoded data removed]",
      "text/latex": [
       "$\\displaystyle \\left[\\begin{matrix}1 & 0\\\\0 & e^{i \\phi}\\end{matrix}\\right]$"
      ],
      "text/plain": [
       "⎡1   0  ⎤\n",
       "⎢       ⎥\n",
       "⎢    ⅈ⋅φ⎥\n",
       "⎣0  ℯ   ⎦"
      ]
     },
     "execution_count": 7,
     "metadata": {},
     "output_type": "execute_result"
    }
   ],
   "source": [
    "PS = Matrix([[1,0],[0, exp(1j*ph)]])\n",
    "mysim(PS)"
   ]
  },
  {
   "cell_type": "markdown",
   "id": "0458bdb0",
   "metadata": {},
   "source": [
    "## Implementing"
   ]
  },
  {
   "cell_type": "markdown",
   "id": "eb6de618",
   "metadata": {},
   "source": [
    "The initial state is given by"
   ]
  },
  {
   "cell_type": "code",
   "execution_count": 8,
   "id": "6250de59",
   "metadata": {},
   "outputs": [
    {
     "data": {
      "image/png": "[encoded data removed]",
      "text/latex": [
       "$\\displaystyle {\\left|0\\right\\rangle }$"
      ],
      "text/plain": [
       "❘0⟩"
      ]
     },
     "execution_count": 8,
     "metadata": {},
     "output_type": "execute_result"
    }
   ],
   "source": [
    "ψ0 = pbk('0')\n",
    "mysim(mbk(ψ0))"
   ]
  },
  {
   "cell_type": "markdown",
   "id": "b1e6ff41",
   "metadata": {},
   "source": [
    "After the BS we have"
   ]
  },
  {
   "cell_type": "code",
   "execution_count": 9,
   "id": "12feb4f3",
   "metadata": {},
   "outputs": [
    {
     "data": {
      "image/png": "[encoded data removed]",
      "text/latex": [
       "$\\displaystyle \\frac{\\sqrt{2} \\left({\\left|0\\right\\rangle } + i {\\left|1\\right\\rangle }\\right)}{2}$"
      ],
      "text/plain": [
       "√2⋅(❘0⟩ + ⅈ⋅❘1⟩)\n",
       "────────────────\n",
       "       2        "
      ]
     },
     "execution_count": 9,
     "metadata": {},
     "output_type": "execute_result"
    }
   ],
   "source": [
    "ψ1 = gatep(BS, ψ0, 0)\n",
    "mysim(mbk(ψ1))"
   ]
  },
  {
   "cell_type": "markdown",
   "id": "facfd6a3",
   "metadata": {},
   "source": [
    "After the combined action of the mirrors, it follows that"
   ]
  },
  {
   "cell_type": "code",
   "execution_count": 10,
   "id": "76f637d8",
   "metadata": {},
   "outputs": [
    {
     "data": {
      "image/png": "[encoded data removed]",
      "text/latex": [
       "$\\displaystyle \\frac{\\sqrt{2} \\left(- {\\left|0\\right\\rangle } + i {\\left|1\\right\\rangle }\\right)}{2}$"
      ],
      "text/plain": [
       "√2⋅(-❘0⟩ + ⅈ⋅❘1⟩)\n",
       "─────────────────\n",
       "        2        "
      ]
     },
     "execution_count": 10,
     "metadata": {},
     "output_type": "execute_result"
    }
   ],
   "source": [
    "ψ2 = gatep(M, ψ1, 0)\n",
    "mysim(mbk(ψ2))"
   ]
  },
  {
   "cell_type": "markdown",
   "id": "69deabf5",
   "metadata": {},
   "source": [
    "PS gives us"
   ]
  },
  {
   "cell_type": "code",
   "execution_count": 11,
   "id": "ea175d26",
   "metadata": {},
   "outputs": [
    {
     "data": {
      "image/png": "[encoded data removed]",
      "text/latex": [
       "$\\displaystyle \\frac{\\sqrt{2} \\left(i e^{i \\phi} {\\left|1\\right\\rangle } - {\\left|0\\right\\rangle }\\right)}{2}$"
      ],
      "text/plain": [
       "   ⎛   ⅈ⋅φ          ⎞\n",
       "√2⋅⎝ⅈ⋅ℯ   ⋅❘1⟩ - ❘0⟩⎠\n",
       "─────────────────────\n",
       "          2          "
      ]
     },
     "execution_count": 11,
     "metadata": {},
     "output_type": "execute_result"
    }
   ],
   "source": [
    "ψ3 = gatep(PS, ψ2, 0)\n",
    "mysim(mbk(ψ3))"
   ]
  },
  {
   "cell_type": "markdown",
   "id": "b97d7bc6",
   "metadata": {},
   "source": [
    "Finally, after the BS, we have"
   ]
  },
  {
   "cell_type": "code",
   "execution_count": 12,
   "id": "5634fab9",
   "metadata": {},
   "outputs": [
    {
     "data": {
      "image/png": "[encoded data removed]",
      "text/latex": [
       "$\\displaystyle \\frac{- i \\left(1 - e^{i \\phi}\\right) {\\left|1\\right\\rangle } - \\left(e^{i \\phi} + 1\\right) {\\left|0\\right\\rangle }}{2}$"
      ],
      "text/plain": [
       "    ⎛     ⅈ⋅φ⎞       ⎛ ⅈ⋅φ    ⎞    \n",
       "- ⅈ⋅⎝1 - ℯ   ⎠⋅❘1⟩ - ⎝ℯ    + 1⎠⋅❘0⟩\n",
       "───────────────────────────────────\n",
       "                 2                 "
      ]
     },
     "execution_count": 12,
     "metadata": {},
     "output_type": "execute_result"
    }
   ],
   "source": [
    "ψ4 = gatep(BS, ψ3, 0)\n",
    "mysim(mbk(ψ4))"
   ]
  },
  {
   "cell_type": "markdown",
   "id": "949a022f",
   "metadata": {},
   "source": [
    "We have included the PS for a more complete description of the MZI that we found in the literature, but without prejudice to our analysis, we will assume that $\\phi=0$, so"
   ]
  },
  {
   "cell_type": "code",
   "execution_count": 13,
   "id": "536a0764",
   "metadata": {},
   "outputs": [
    {
     "data": {
      "image/png": "[encoded data removed]",
      "text/latex": [
       "$\\displaystyle - {\\left|0\\right\\rangle }$"
      ],
      "text/plain": [
       "-❘0⟩"
      ]
     },
     "execution_count": 13,
     "metadata": {},
     "output_type": "execute_result"
    }
   ],
   "source": [
    "mysim(mbk(ψ4.subs(ph,0)))"
   ]
  },
  {
   "cell_type": "markdown",
   "id": "0d0829d8",
   "metadata": {},
   "source": [
    "If we calculate, by means of Born's rule, the probability of clicking on D$_0$ (D$_1$) of state $|\\psi_4\\rangle$, we will get probability 1 of clicking on detector D$_0$ (and no click on D$_1$). That is, with this configuration of the MZI it is impossible to have a detection in D$_1$. This finding will be important for the development of the ELitzur-Vaidman bomb. For the configuration of this development, let's change the PS for the bomb."
   ]
  },
  {
   "cell_type": "markdown",
   "id": "c563ab2b",
   "metadata": {},
   "source": [
    "# Elitzur-Vaidman bomb"
   ]
  },
  {
   "cell_type": "markdown",
   "id": "ef8d6cac",
   "metadata": {},
   "source": [
    "<img src = 'MZI_bomb.png' width = '50%'>"
   ]
  },
  {
   "cell_type": "markdown",
   "id": "38ec4348",
   "metadata": {},
   "source": [
    "Before proceeding with the analysis, let's make another definition. The state of the bomb without exploding will be denoted by $|0\\rangle$ and if the explosion occurs the state will become $|1\\rangle$."
   ]
  },
  {
   "cell_type": "markdown",
   "id": "758eb273",
   "metadata": {},
   "source": [
    "Imagine that we have a bomb with the following mechanism. Using a photon, we can check whether or not the bomb is functional. If the bomb is functional, then the photon finds the bomb and it will detonate. If the bomb is non-functional, then the photon goes through the path normally. For the case where the bomb is non-functional, and therefore the photon passes normally, we fall back on the initial development of this file. That is, we will have photon detection only in D$_0$ (with $\\phi=0$)."
   ]
  },
  {
   "cell_type": "markdown",
   "id": "7940b5e6",
   "metadata": {},
   "source": [
    "Let's then develop the case where the bomb is functional. The big idea here is to know if the bomb is functional, but not detonating. The bomb can be included in the analitical development through a CNOT gate. This can be done as we have two paths within the MZI. If the photon passes through the upper arm, the bomb's state will change from $|0\\rangle$ to $|1\\rangle$ (in other words, the photon find the bomb), that is, an explosion will occur. If the photon passes through the lower arm, the photon will not reach the bomb and the photon will pass through the BS creating path superposition. Lets start the development again, the initial state is given by"
   ]
  },
  {
   "cell_type": "code",
   "execution_count": 31,
   "id": "39f130ac",
   "metadata": {},
   "outputs": [
    {
     "data": {
      "image/png": "[encoded data removed]",
      "text/latex": [
       "$\\displaystyle {\\left|\\psi_{0b}\\right\\rangle } = {\\left|00\\right\\rangle }$"
      ],
      "text/plain": [
       "❘\\psi_{0b}⟩ = ❘00⟩"
      ]
     },
     "execution_count": 31,
     "metadata": {},
     "output_type": "execute_result"
    }
   ],
   "source": [
    "ψ0b = pbk('00')\n",
    "x = mbk(ψ0b)\n",
    "Eq(Ket('\\psi_{0b}'), x)"
   ]
  },
  {
   "cell_type": "markdown",
   "id": "23ff1fe6",
   "metadata": {},
   "source": [
    "After the BS we get"
   ]
  },
  {
   "cell_type": "code",
   "execution_count": 32,
   "id": "515b9a64",
   "metadata": {},
   "outputs": [
    {
     "data": {
      "image/png": "[encoded data removed]",
      "text/latex": [
       "$\\displaystyle {\\left|\\psi_{1b}\\right\\rangle } = \\frac{\\sqrt{2} \\left({\\left|00\\right\\rangle } + i {\\left|10\\right\\rangle }\\right)}{2}$"
      ],
      "text/plain": [
       "              √2⋅(❘00⟩ + ⅈ⋅❘10⟩)\n",
       "❘\\psi_{1b}⟩ = ──────────────────\n",
       "                      2         "
      ]
     },
     "execution_count": 32,
     "metadata": {},
     "output_type": "execute_result"
    }
   ],
   "source": [
    "ψ1b = gatep(BS, ψ0b, 1)\n",
    "x = mysim(mbk(ψ1b))\n",
    "Eq(Ket('\\psi_{1b}'), x)"
   ]
  },
  {
   "cell_type": "markdown",
   "id": "476dc1a8",
   "metadata": {},
   "source": [
    "Mirrors"
   ]
  },
  {
   "cell_type": "code",
   "execution_count": 33,
   "id": "0830dec0",
   "metadata": {},
   "outputs": [
    {
     "data": {
      "image/png": "[encoded data removed]",
      "text/latex": [
       "$\\displaystyle {\\left|\\psi_{2b}\\right\\rangle } = \\frac{\\sqrt{2} \\left(- {\\left|00\\right\\rangle } + i {\\left|10\\right\\rangle }\\right)}{2}$"
      ],
      "text/plain": [
       "              √2⋅(-❘00⟩ + ⅈ⋅❘10⟩)\n",
       "❘\\psi_{2b}⟩ = ───────────────────\n",
       "                       2         "
      ]
     },
     "execution_count": 33,
     "metadata": {},
     "output_type": "execute_result"
    }
   ],
   "source": [
    "ψ2b = gatep(M, ψ1b, 1)\n",
    "x = mysim(mbk(ψ2b))\n",
    "Eq(Ket('\\psi_{2b}'), x)"
   ]
  },
  {
   "cell_type": "markdown",
   "id": "4c6b0944",
   "metadata": {},
   "source": [
    "Now we have the performance of the bomb through CNOT. The control is the path and the target is qubit `0`. If the path is $|1\\rangle$, we change the bomb state (upper path). If path is $|0\\rangle$, nothing happens (lower paths), therefore"
   ]
  },
  {
   "cell_type": "code",
   "execution_count": 34,
   "id": "c278486d",
   "metadata": {},
   "outputs": [
    {
     "data": {
      "image/png": "[encoded data removed]",
      "text/latex": [
       "$\\displaystyle {\\left|\\psi_{3b}\\right\\rangle } = \\frac{\\sqrt{2} \\left(- {\\left|00\\right\\rangle } + i {\\left|11\\right\\rangle }\\right)}{2}$"
      ],
      "text/plain": [
       "              √2⋅(-❘00⟩ + ⅈ⋅❘11⟩)\n",
       "❘\\psi_{3b}⟩ = ───────────────────\n",
       "                       2         "
      ]
     },
     "execution_count": 34,
     "metadata": {},
     "output_type": "execute_result"
    }
   ],
   "source": [
    "ψ3b = ctrlp(pauli(1), ψ2b, [1,1], 0)\n",
    "x = mysim(mbk(ψ3b))\n",
    "Eq(Ket('\\psi_{3b}'), x)"
   ]
  },
  {
   "cell_type": "markdown",
   "id": "03728aed",
   "metadata": {},
   "source": [
    "with this we entangle the bomb state with the photon path. Now the performance of the second BS gives us"
   ]
  },
  {
   "cell_type": "code",
   "execution_count": 35,
   "id": "b7474f0c",
   "metadata": {},
   "outputs": [
    {
     "data": {
      "image/png": "[encoded data removed]",
      "text/latex": [
       "$\\displaystyle {\\left|\\psi_{4b}\\right\\rangle } = \\frac{- {\\left|00\\right\\rangle } - {\\left|01\\right\\rangle } - i {\\left|10\\right\\rangle } + i {\\left|11\\right\\rangle }}{2}$"
      ],
      "text/plain": [
       "              -❘00⟩ - ❘01⟩ - ⅈ⋅❘10⟩ + ⅈ⋅❘11⟩\n",
       "❘\\psi_{4b}⟩ = ──────────────────────────────\n",
       "                            2               "
      ]
     },
     "execution_count": 35,
     "metadata": {},
     "output_type": "execute_result"
    }
   ],
   "source": [
    "ψ4b = gatep(BS, ψ3b, 1)\n",
    "x = mysim(mbk(ψ4b))\n",
    "Eq(Ket('\\psi_{4b}'), x)"
   ]
  },
  {
   "cell_type": "markdown",
   "id": "b4af9a26",
   "metadata": {},
   "source": [
    "Calculating the probabilities of in each of the detectors, with the bomb detonating or not, we will arrive at 1/4 for each situation. Let's analyze the possible situations:\n",
    "- Case $|00\\rangle$: clicking on D$_0$ and the detonation does not occur tells us nothing, because this case also occurs when the bomb is non-functional;\n",
    "- Cases $|01\\rangle$ and $|11\\rangle$: they are not expected cases, because there is a bomb detonation;\n",
    "- Case $|10\\rangle$: this is the case of interest. Something happened that doesn't happen when the bomb is non-functional and at the same time it didn't detonate.\n",
    "In short, we have a 1/4 probability of finding out if the bomb is functional without detonating."
   ]
  },
  {
   "cell_type": "code",
   "execution_count": null,
   "id": "caa65925",
   "metadata": {},
   "outputs": [],
   "source": []
  }
 ],
 "metadata": {
  "kernelspec": {
   "display_name": "Python 3 (ipykernel)",
   "language": "python",
   "name": "python3"
  },
  "language_info": {
   "codemirror_mode": {
    "name": "ipython",
    "version": 3
   },
   "file_extension": ".py",
   "mimetype": "text/x-python",
   "name": "python",
   "nbconvert_exporter": "python",
   "pygments_lexer": "ipython3",
   "version": "3.9.13"
  }
 },
 "nbformat": 4,
 "nbformat_minor": 5
}
