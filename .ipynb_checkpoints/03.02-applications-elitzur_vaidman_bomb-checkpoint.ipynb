{
 "cells": [
  {
   "cell_type": "code",
   "execution_count": 3,
   "id": "7f5578f9",
   "metadata": {},
   "outputs": [],
   "source": [
    "%run init.ipynb\n",
    "%run init-quantum_gates.ipynb"
   ]
  },
  {
   "cell_type": "markdown",
   "id": "e4091d04",
   "metadata": {},
   "source": [
    "# Mach-Zender Interferometer"
   ]
  },
  {
   "cell_type": "markdown",
   "id": "9925d15b",
   "metadata": {},
   "source": [
    "<img src = 'MZI_wbomb.png' width = '50%'>"
   ]
  },
  {
   "cell_type": "markdown",
   "id": "7266b298",
   "metadata": {},
   "source": [
    "Adapted from: https://github.com/jonasmaziero/qiskit/blob/main/12_mach_zehnder.ipynb and http://localhost:8888/notebooks/%2B%2BJonas/qiskit/20_elitzur_vaidman_bomb.ipynb\n",
    "\n",
    "More about: https://arxiv.org/abs/2203.17062"
   ]
  },
  {
   "cell_type": "markdown",
   "id": "1d8f552f",
   "metadata": {},
   "source": [
    " Before we describe the Elitzur-Vaidman bomb, let's do a brief study of the Mach-Zehnder Interferometer (MZI)."
   ]
  },
  {
   "cell_type": "markdown",
   "id": "2de733c1",
   "metadata": {},
   "source": [
    "We intend to describe a quanton (more appropriate name for a quantum system - e.g. photon, electron - that manifests dual behavior of particle and wave) entering a Mach-Zehnder interferometer. Let's make this description through a two-level system (one qubit), for that, let's make some definitions. Horizontal movement of the quanton will be denoted by $|0\\rangle$ and vertical movement will be denoted by $|1\\rangle$."
   ]
  },
  {
   "cell_type": "markdown",
   "id": "eaf66efa",
   "metadata": {},
   "source": [
    "Thus, the initial state of our system is given by $|\\psi_0\\rangle = |0\\rangle$, as shown in the figure above."
   ]
  },
  {
   "cell_type": "markdown",
   "id": "0aa23535",
   "metadata": {},
   "source": [
    "Quanton will pass through some optical devices: BS stands for beam splitter, M is the mirrors, PS stand for phase-shifter and D$_j$ are the detectors in positions $j=0,1$ (horizontal and vertical path respectively)."
   ]
  },
  {
   "cell_type": "markdown",
   "id": "363000fb",
   "metadata": {},
   "source": [
    "## Optical devices"
   ]
  },
  {
   "cell_type": "markdown",
   "id": "55d60fc1",
   "metadata": {},
   "source": [
    "Optical devices can be represented by quantum logic gates. Below we present how it is possible to build these optical devices through the port that we have already discussed at some point."
   ]
  },
  {
   "cell_type": "markdown",
   "id": "df321b6a",
   "metadata": {},
   "source": [
    "The BS is given by"
   ]
  },
  {
   "cell_type": "code",
   "execution_count": 4,
   "id": "323ea833",
   "metadata": {},
   "outputs": [
    {
     "data": {
      "image/png": "[encoded data removed]",
      "text/latex": [
       "$\\displaystyle \\left[\\begin{matrix}\\frac{\\sqrt{2}}{2} & \\frac{\\sqrt{2} i}{2}\\\\\\frac{\\sqrt{2} i}{2} & \\frac{\\sqrt{2}}{2}\\end{matrix}\\right]$"
      ],
      "text/plain": [
       "⎡ √2   √2⋅ⅈ⎤\n",
       "⎢ ──   ────⎥\n",
       "⎢ 2     2  ⎥\n",
       "⎢          ⎥\n",
       "⎢√2⋅ⅈ   √2 ⎥\n",
       "⎢────   ── ⎥\n",
       "⎣ 2     2  ⎦"
      ]
     },
     "execution_count": 4,
     "metadata": {},
     "output_type": "execute_result"
    }
   ],
   "source": [
    "BS = S*H*S\n",
    "mysim(BS)"
   ]
  },
  {
   "cell_type": "markdown",
   "id": "626df423",
   "metadata": {},
   "source": [
    "that is, the BS is a balanced device which allows the quanton to pass with equal amplitude of probability for the part in $T$ and in $R$."
   ]
  },
  {
   "cell_type": "markdown",
   "id": "1a67db4c",
   "metadata": {},
   "source": [
    "The combined action of the mirrors (M) is given by"
   ]
  },
  {
   "cell_type": "code",
   "execution_count": 5,
   "id": "e65abaeb",
   "metadata": {},
   "outputs": [
    {
     "data": {
      "image/png": "[encoded data removed]",
      "text/latex": [
       "$\\displaystyle \\left[\\begin{matrix}0 & i\\\\i & 0\\end{matrix}\\right]$"
      ],
      "text/plain": [
       "⎡0  ⅈ⎤\n",
       "⎢    ⎥\n",
       "⎣ⅈ  0⎦"
      ]
     },
     "execution_count": 5,
     "metadata": {},
     "output_type": "execute_result"
    }
   ],
   "source": [
    "M = pauli(2)*pauli(3)\n",
    "mysim(M)"
   ]
  },
  {
   "cell_type": "markdown",
   "id": "5894cf94",
   "metadata": {},
   "source": [
    "The mirrors change the movement of the quanton within the MZI, that is, if the movement is $|0\\rangle$, after the action of the mirrors, the movement will be $i|1\\rangle$, where $e^{i\\frac{\\pi}{2}} =i$ is a phase that occurs in the reflections of the quanton. The mirrors change the movement of the A inside the MZI, that is, if the movement is $|0\\rangle$, after the action of the mirrors, the movement will be $i|1\\rangle$, where $exp{i\\frac{\\pi}{2}} =i$ is a phase that occurs in the reflections of the A. For $|1\\rangle$, after the action of the mirrors we will have $i|0\\rangle$."
   ]
  },
  {
   "cell_type": "markdown",
   "id": "251b98ab",
   "metadata": {},
   "source": [
    "Symbolic definitions for the PS"
   ]
  },
  {
   "cell_type": "code",
   "execution_count": 6,
   "id": "8b14010c",
   "metadata": {},
   "outputs": [
    {
     "data": {
      "image/png": "[encoded data removed]",
      "text/latex": [
       "$\\displaystyle \\phi$"
      ],
      "text/plain": [
       "φ"
      ]
     },
     "execution_count": 6,
     "metadata": {},
     "output_type": "execute_result"
    }
   ],
   "source": [
    "ph = symbols('phi', real=True)\n",
    "ph"
   ]
  },
  {
   "cell_type": "markdown",
   "id": "d57ec9a6",
   "metadata": {},
   "source": [
    "The PS, on the other hand, is actuated through"
   ]
  },
  {
   "cell_type": "code",
   "execution_count": 7,
   "id": "751a63dc",
   "metadata": {
    "scrolled": true
   },
   "outputs": [
    {
     "data": {
      "image/png": "[encoded data removed]",
      "text/latex": [
       "$\\displaystyle \\left[\\begin{matrix}1 & 0\\\\0 & e^{i \\phi}\\end{matrix}\\right]$"
      ],
      "text/plain": [
       "⎡1   0  ⎤\n",
       "⎢       ⎥\n",
       "⎢    ⅈ⋅φ⎥\n",
       "⎣0  ℯ   ⎦"
      ]
     },
     "execution_count": 7,
     "metadata": {},
     "output_type": "execute_result"
    }
   ],
   "source": [
    "PS = Matrix([[1,0],[0, exp(1j*ph)]])\n",
    "mysim(PS)"
   ]
  },
  {
   "cell_type": "markdown",
   "id": "76b6d596",
   "metadata": {},
   "source": [
    "PS is included in more complete MZI descriptions. With it we can modulate different phases for the photons that pass through the upper path from those that pass through the lower path. This assists in different desired tasks after the beams recombine in the second BS. It is worth noting that the $e^{i\\phi}$ phase is only included when the quanton move is $|1\\rangle$."
   ]
  },
  {
   "cell_type": "markdown",
   "id": "0458bdb0",
   "metadata": {},
   "source": [
    "## Implementing"
   ]
  },
  {
   "cell_type": "markdown",
   "id": "eb6de618",
   "metadata": {},
   "source": [
    "The initial state is given by"
   ]
  },
  {
   "cell_type": "code",
   "execution_count": 8,
   "id": "6250de59",
   "metadata": {},
   "outputs": [
    {
     "data": {
      "image/png": "[encoded data removed]",
      "text/latex": [
       "$\\displaystyle {\\left|0\\right\\rangle }$"
      ],
      "text/plain": [
       "❘0⟩"
      ]
     },
     "execution_count": 8,
     "metadata": {},
     "output_type": "execute_result"
    }
   ],
   "source": [
    "ψ0 = pbk('0')\n",
    "mysim(mbk(ψ0))"
   ]
  },
  {
   "cell_type": "markdown",
   "id": "b1e6ff41",
   "metadata": {},
   "source": [
    "After the BS we have"
   ]
  },
  {
   "cell_type": "code",
   "execution_count": 9,
   "id": "12feb4f3",
   "metadata": {},
   "outputs": [
    {
     "data": {
      "image/png": "[encoded data removed]",
      "text/latex": [
       "$\\displaystyle \\frac{\\sqrt{2} \\left({\\left|0\\right\\rangle } + i {\\left|1\\right\\rangle }\\right)}{2}$"
      ],
      "text/plain": [
       "√2⋅(❘0⟩ + ⅈ⋅❘1⟩)\n",
       "────────────────\n",
       "       2        "
      ]
     },
     "execution_count": 9,
     "metadata": {},
     "output_type": "execute_result"
    }
   ],
   "source": [
    "ψ1 = gatep(BS, ψ0, 0)\n",
    "mysim(mbk(ψ1))"
   ]
  },
  {
   "cell_type": "markdown",
   "id": "facfd6a3",
   "metadata": {},
   "source": [
    "After the combined action of the mirrors, it follows that"
   ]
  },
  {
   "cell_type": "code",
   "execution_count": 10,
   "id": "76f637d8",
   "metadata": {},
   "outputs": [
    {
     "data": {
      "image/png": "[encoded data removed]",
      "text/latex": [
       "$\\displaystyle \\frac{\\sqrt{2} \\left(- {\\left|0\\right\\rangle } + i {\\left|1\\right\\rangle }\\right)}{2}$"
      ],
      "text/plain": [
       "√2⋅(-❘0⟩ + ⅈ⋅❘1⟩)\n",
       "─────────────────\n",
       "        2        "
      ]
     },
     "execution_count": 10,
     "metadata": {},
     "output_type": "execute_result"
    }
   ],
   "source": [
    "ψ2 = gatep(M, ψ1, 0)\n",
    "mysim(mbk(ψ2))"
   ]
  },
  {
   "cell_type": "markdown",
   "id": "69deabf5",
   "metadata": {},
   "source": [
    "PS gives us"
   ]
  },
  {
   "cell_type": "code",
   "execution_count": 11,
   "id": "ea175d26",
   "metadata": {},
   "outputs": [
    {
     "data": {
      "image/png": "[encoded data removed]",
      "text/latex": [
       "$\\displaystyle \\frac{\\sqrt{2} \\left(i e^{i \\phi} {\\left|1\\right\\rangle } - {\\left|0\\right\\rangle }\\right)}{2}$"
      ],
      "text/plain": [
       "   ⎛   ⅈ⋅φ          ⎞\n",
       "√2⋅⎝ⅈ⋅ℯ   ⋅❘1⟩ - ❘0⟩⎠\n",
       "─────────────────────\n",
       "          2          "
      ]
     },
     "execution_count": 11,
     "metadata": {},
     "output_type": "execute_result"
    }
   ],
   "source": [
    "ψ3 = gatep(PS, ψ2, 0)\n",
    "mysim(mbk(ψ3))"
   ]
  },
  {
   "cell_type": "markdown",
   "id": "b97d7bc6",
   "metadata": {},
   "source": [
    "Finally, after the BS, we have"
   ]
  },
  {
   "cell_type": "code",
   "execution_count": 12,
   "id": "5634fab9",
   "metadata": {},
   "outputs": [
    {
     "data": {
      "image/png": "[encoded data removed]",
      "text/latex": [
       "$\\displaystyle \\frac{- i \\left(1 - e^{i \\phi}\\right) {\\left|1\\right\\rangle } - \\left(e^{i \\phi} + 1\\right) {\\left|0\\right\\rangle }}{2}$"
      ],
      "text/plain": [
       "    ⎛     ⅈ⋅φ⎞       ⎛ ⅈ⋅φ    ⎞    \n",
       "- ⅈ⋅⎝1 - ℯ   ⎠⋅❘1⟩ - ⎝ℯ    + 1⎠⋅❘0⟩\n",
       "───────────────────────────────────\n",
       "                 2                 "
      ]
     },
     "execution_count": 12,
     "metadata": {},
     "output_type": "execute_result"
    }
   ],
   "source": [
    "ψ4 = gatep(BS, ψ3, 0)\n",
    "mysim(mbk(ψ4))"
   ]
  },
  {
   "cell_type": "markdown",
   "id": "949a022f",
   "metadata": {},
   "source": [
    "We have included the PS for a more complete description of the MZI that we found in the literature, but without prejudice to our analysis, we will assume that $\\phi=0$, so"
   ]
  },
  {
   "cell_type": "code",
   "execution_count": 13,
   "id": "536a0764",
   "metadata": {},
   "outputs": [
    {
     "data": {
      "image/png": "[encoded data removed]",
      "text/latex": [
       "$\\displaystyle - {\\left|0\\right\\rangle }$"
      ],
      "text/plain": [
       "-❘0⟩"
      ]
     },
     "execution_count": 13,
     "metadata": {},
     "output_type": "execute_result"
    }
   ],
   "source": [
    "mysim(mbk(ψ4.subs(ph,0)))"
   ]
  },
  {
   "cell_type": "markdown",
   "id": "0d0829d8",
   "metadata": {},
   "source": [
    "If we calculate, by means of Born's rule, the probability of clicking on D$_0$ (D$_1$) of state $|\\psi_4\\rangle$, we will get probability 1 of clicking on detector D$_0$ (zero probability for clicking on D$_1$). That is, with this configuration of the MZI it is impossible to have a detection in D$_1$. This finding will be important for the development of the Elitzur-Vaidman bomb. For the configuration of what we are going to do next, let's change the PS for the bomb with peculiar characteristics."
   ]
  },
  {
   "cell_type": "markdown",
   "id": "c563ab2b",
   "metadata": {},
   "source": [
    "# Elitzur-Vaidman bomb"
   ]
  },
  {
   "cell_type": "markdown",
   "id": "ef8d6cac",
   "metadata": {},
   "source": [
    "<img src = 'MZI_bomb.png' width = '50%'>"
   ]
  },
  {
   "cell_type": "markdown",
   "id": "38ec4348",
   "metadata": {},
   "source": [
    "Before proceeding with the analysis, let's make another definition. The state of the bomb without exploding will be denoted by $|0\\rangle$ and if the explosion occurs the state will become $|1\\rangle$."
   ]
  },
  {
   "cell_type": "markdown",
   "id": "d83d5258",
   "metadata": {},
   "source": [
    "Each of the states is denoted to preserve the order in which the qubits are ordered in the ket. So $|\\psi_j^{pb}\\rangle$ we have that $j$ is the index of each stage with which the state is evolved, $p$ is the path of the photon and $b$ is relative to bomb's state."
   ]
  },
  {
   "cell_type": "markdown",
   "id": "758eb273",
   "metadata": {},
   "source": [
    "Imagine that we have a bomb with the following mechanism. Using a photon, we can check whether or not the bomb is functional. If the bomb is functional, then the photon finds the bomb and it will detonate. If the bomb is non-functional, then the photon goes through the path normally. For the case where the bomb is non-functional, and therefore the photon passes normally, we fall back on the initial development of this file. That is, we will have photon detection only in D$_0$ (with $\\phi=0$)."
   ]
  },
  {
   "cell_type": "markdown",
   "id": "7940b5e6",
   "metadata": {},
   "source": [
    "Let's then develop the case where the bomb is functional. The big idea here is to know if the bomb is functional, but without detonating it. The bomb can be included in the analitical development through a CNOT gate. This can be done as we have two paths within the MZI. If the photon passes through the upper arm, the bomb's state will change from $|0\\rangle$ to $|1\\rangle$ (in other words, the photon find the bomb), that is, an explosion will occur. If the photon passes through the lower arm, the photon will not reach the bomb and the photon will pass through the BS creating path superposition. Lets start the development again, the initial state is given by"
   ]
  },
  {
   "cell_type": "code",
   "execution_count": 14,
   "id": "39f130ac",
   "metadata": {},
   "outputs": [
    {
     "data": {
      "image/png": "[encoded data removed]",
      "text/latex": [
       "$\\displaystyle {\\left|\\psi_{0}^{pb}\\right\\rangle } = {\\left|00\\right\\rangle }$"
      ],
      "text/plain": [
       "❘\\psi_{0}__{pb}⟩ = ❘00⟩"
      ]
     },
     "execution_count": 14,
     "metadata": {},
     "output_type": "execute_result"
    }
   ],
   "source": [
    "ψ0pb = pbk('00')\n",
    "x = mbk(ψ0pb)\n",
    "Eq(Ket('\\psi_{0}^{pb}'), x)"
   ]
  },
  {
   "cell_type": "markdown",
   "id": "23ff1fe6",
   "metadata": {},
   "source": [
    "After the BS we get"
   ]
  },
  {
   "cell_type": "code",
   "execution_count": 15,
   "id": "515b9a64",
   "metadata": {},
   "outputs": [
    {
     "data": {
      "image/png": "[encoded data removed]",
      "text/latex": [
       "$\\displaystyle {\\left|\\psi_{1}^{pb}\\right\\rangle } = \\frac{\\sqrt{2} \\left({\\left|00\\right\\rangle } + i {\\left|10\\right\\rangle }\\right)}{2}$"
      ],
      "text/plain": [
       "                   √2⋅(❘00⟩ + ⅈ⋅❘10⟩)\n",
       "❘\\psi_{1}__{pb}⟩ = ──────────────────\n",
       "                           2         "
      ]
     },
     "execution_count": 15,
     "metadata": {},
     "output_type": "execute_result"
    }
   ],
   "source": [
    "ψ1pb = gatep(BS, ψ0pb, 1)\n",
    "x = mysim(mbk(ψ1pb))\n",
    "Eq(Ket('\\psi_{1}^{pb}'), x)"
   ]
  },
  {
   "cell_type": "markdown",
   "id": "476dc1a8",
   "metadata": {},
   "source": [
    "Mirrors"
   ]
  },
  {
   "cell_type": "code",
   "execution_count": 16,
   "id": "0830dec0",
   "metadata": {},
   "outputs": [
    {
     "data": {
      "image/png": "[encoded data removed]",
      "text/latex": [
       "$\\displaystyle {\\left|\\psi_{2}^{pb}\\right\\rangle } = \\frac{\\sqrt{2} \\left(- {\\left|00\\right\\rangle } + i {\\left|10\\right\\rangle }\\right)}{2}$"
      ],
      "text/plain": [
       "                   √2⋅(-❘00⟩ + ⅈ⋅❘10⟩)\n",
       "❘\\psi_{2}__{pb}⟩ = ───────────────────\n",
       "                            2         "
      ]
     },
     "execution_count": 16,
     "metadata": {},
     "output_type": "execute_result"
    }
   ],
   "source": [
    "ψ2pb = gatep(M, ψ1pb, 1)\n",
    "x = mysim(mbk(ψ2pb))\n",
    "Eq(Ket('\\psi_{2}^{pb}'), x)"
   ]
  },
  {
   "cell_type": "markdown",
   "id": "4c6b0944",
   "metadata": {},
   "source": [
    "Now we have the performance of the bomb through CNOT. The control is the path and the target is qubit `0`. If the path is $|1\\rangle$, we change the bomb state (upper path). If path is $|0\\rangle$, nothing happens (lower paths), therefore"
   ]
  },
  {
   "cell_type": "code",
   "execution_count": 17,
   "id": "c278486d",
   "metadata": {},
   "outputs": [
    {
     "data": {
      "image/png": "[encoded data removed]",
      "text/latex": [
       "$\\displaystyle {\\left|\\psi_{3}^{pb}\\right\\rangle } = \\frac{\\sqrt{2} \\left(- {\\left|00\\right\\rangle } + i {\\left|11\\right\\rangle }\\right)}{2}$"
      ],
      "text/plain": [
       "                   √2⋅(-❘00⟩ + ⅈ⋅❘11⟩)\n",
       "❘\\psi_{3}__{pb}⟩ = ───────────────────\n",
       "                            2         "
      ]
     },
     "execution_count": 17,
     "metadata": {},
     "output_type": "execute_result"
    }
   ],
   "source": [
    "ψ3pb = ctrlp(pauli(1), ψ2pb, [1,1], 0)\n",
    "x = mysim(mbk(ψ3pb))\n",
    "Eq(Ket('\\psi_{3}^{pb}'), x)"
   ]
  },
  {
   "cell_type": "markdown",
   "id": "03728aed",
   "metadata": {},
   "source": [
    "with this we entangle the bomb state with the photon path. Now the performance of the second BS gives us"
   ]
  },
  {
   "cell_type": "code",
   "execution_count": 18,
   "id": "b7474f0c",
   "metadata": {},
   "outputs": [
    {
     "data": {
      "image/png": "[encoded data removed]",
      "text/latex": [
       "$\\displaystyle {\\left|\\psi_{4}^{pb}\\right\\rangle } = \\frac{- {\\left|00\\right\\rangle } - {\\left|01\\right\\rangle } - i {\\left|10\\right\\rangle } + i {\\left|11\\right\\rangle }}{2}$"
      ],
      "text/plain": [
       "                   -❘00⟩ - ❘01⟩ - ⅈ⋅❘10⟩ + ⅈ⋅❘11⟩\n",
       "❘\\psi_{4}__{pb}⟩ = ──────────────────────────────\n",
       "                                 2               "
      ]
     },
     "execution_count": 18,
     "metadata": {},
     "output_type": "execute_result"
    }
   ],
   "source": [
    "ψ4pb = gatep(BS, ψ3pb, 1)\n",
    "x = mysim(mbk(ψ4pb))\n",
    "Eq(Ket('\\psi_{4}^{pb}'), x)"
   ]
  },
  {
   "cell_type": "markdown",
   "id": "b4af9a26",
   "metadata": {},
   "source": [
    "Calculating the probabilities of in each of the detectors, with the bomb detonating or not, we will arrive at 1/4 for each situation. Let's analyze the possible situations:\n",
    "- Case $|00\\rangle$: clicking on D$_0$ and the detonation does not occur tells us nothing, because this case also occurs when the bomb is non-functional;\n",
    "- Cases $|01\\rangle$ and $|11\\rangle$: they are not expected cases, because there is a bomb detonation;\n",
    "- Case $|10\\rangle$: this is the case of interest. Something happened that doesn't happen when the bomb is non-functional and at the same time it didn't detonate.\n",
    "In short, we have a 1/4 probability of finding out if the bomb is functional without detonating."
   ]
  },
  {
   "cell_type": "markdown",
   "id": "0f8e1d52",
   "metadata": {},
   "source": [
    "# Elitzur-Vaidman bomb in superposition of inserted and not inserted"
   ]
  },
  {
   "cell_type": "markdown",
   "id": "bcb6e6d9",
   "metadata": {},
   "source": [
    "<img src = 'MZI_bomb_sup.png' width = '50%'>"
   ]
  },
  {
   "cell_type": "markdown",
   "id": "5a92a50a",
   "metadata": {},
   "source": [
    "In order to expand the use of our codes, we are going to implement an even more comprehensive version that includes the two previous cases in a single experiment. Let's assume that supposedly the bomb is in superposition of being inserted in the MZI path or not. Let's also assume that we can modulate this amount of superposition by means of the free parameters $c_0,c_1$."
   ]
  },
  {
   "cell_type": "markdown",
   "id": "ef02322e",
   "metadata": {},
   "source": [
    "Each of the states is denoted to preserve the order in which the qubits are ordered in the ket. So $|\\psi_j^{pbI}\\rangle$ we have that $j$ is the index of each stage with which the state is evolved, $p$ is the path of the photon, $b$ is relative to bomb and $I$ is relative to whether or not bomb is included in the path."
   ]
  },
  {
   "cell_type": "markdown",
   "id": "edfc67d7",
   "metadata": {},
   "source": [
    "Let's make an even more comprehensive description. Let's assume that this bomb can be inserted into the path with a certain probability through a state of the type"
   ]
  },
  {
   "cell_type": "code",
   "execution_count": 19,
   "id": "48f5f603",
   "metadata": {},
   "outputs": [
    {
     "data": {
      "image/png": "[encoded data removed]",
      "text/latex": [
       "$\\displaystyle c_{0} {\\left|0\\right\\rangle } + c_{1} {\\left|1\\right\\rangle }$"
      ],
      "text/plain": [
       "c₀⋅❘0⟩ + c₁⋅❘1⟩"
      ]
     },
     "execution_count": 19,
     "metadata": {},
     "output_type": "execute_result"
    }
   ],
   "source": [
    "ψI = psi_c(2)\n",
    "mbk(ψI)"
   ]
  },
  {
   "cell_type": "markdown",
   "id": "36dba046",
   "metadata": {},
   "source": [
    "With $c_0=1$ the bomb is always not inserted ($|0_I\\rangle$) and with $c_1=1$ the bomb is always inserted in the path ($|1_I\\rangle$). Knowing that $c_0^2 + c_1^2 =1$, for intermediate values we will have overlapping levels between inserted or not inserted. The global system composed of these three subssytems is given by"
   ]
  },
  {
   "cell_type": "code",
   "execution_count": 20,
   "id": "a09e0ecf",
   "metadata": {},
   "outputs": [
    {
     "data": {
      "image/png": "[encoded data removed]",
      "text/latex": [
       "$\\displaystyle {\\left|\\psi_{0}^{pbI}\\right\\rangle } = c_{0} {\\left|000\\right\\rangle } + c_{1} {\\left|001\\right\\rangle }$"
      ],
      "text/plain": [
       "❘\\psi_{0}__{pbI}⟩ = c₀⋅❘000⟩ + c₁⋅❘001⟩"
      ]
     },
     "execution_count": 20,
     "metadata": {},
     "output_type": "execute_result"
    }
   ],
   "source": [
    "ψ0pbI = comp_sys(pbk('00'), ψI)\n",
    "x = mbk(ψ0pbI)\n",
    "Eq(Ket('\\psi_{0}^{pbI}'), x)"
   ]
  },
  {
   "cell_type": "markdown",
   "id": "e1781d2f",
   "metadata": {},
   "source": [
    "After the BS we get"
   ]
  },
  {
   "cell_type": "code",
   "execution_count": 21,
   "id": "363c5415",
   "metadata": {},
   "outputs": [
    {
     "data": {
      "image/png": "[encoded data removed]",
      "text/latex": [
       "$\\displaystyle {\\left|\\psi_{1}^{pbI}\\right\\rangle } = \\frac{\\sqrt{2} \\left(c_{0} {\\left|000\\right\\rangle } + i c_{0} {\\left|100\\right\\rangle } + c_{1} {\\left|001\\right\\rangle } + i c_{1} {\\left|101\\right\\rangle }\\right)}{2}$"
      ],
      "text/plain": [
       "                    √2⋅(c₀⋅❘000⟩ + ⅈ⋅c₀⋅❘100⟩ + c₁⋅❘001⟩ + ⅈ⋅c₁⋅❘101⟩)\n",
       "❘\\psi_{1}__{pbI}⟩ = ──────────────────────────────────────────────────\n",
       "                                            2                         "
      ]
     },
     "execution_count": 21,
     "metadata": {},
     "output_type": "execute_result"
    }
   ],
   "source": [
    "ψ1pbI = gatep(BS, ψ0pbI, 2)\n",
    "x = mysim(mbk(ψ1pbI))\n",
    "Eq(Ket('\\psi_{1}^{pbI}'), x)"
   ]
  },
  {
   "cell_type": "markdown",
   "id": "6c5438a9",
   "metadata": {},
   "source": [
    "Mirrors"
   ]
  },
  {
   "cell_type": "code",
   "execution_count": 22,
   "id": "02b16eab",
   "metadata": {},
   "outputs": [
    {
     "data": {
      "image/png": "[encoded data removed]",
      "text/latex": [
       "$\\displaystyle {\\left|\\psi_{2}^{pbI}\\right\\rangle } = \\frac{\\sqrt{2} \\left(- c_{0} {\\left|000\\right\\rangle } + i c_{0} {\\left|100\\right\\rangle } - c_{1} {\\left|001\\right\\rangle } + i c_{1} {\\left|101\\right\\rangle }\\right)}{2}$"
      ],
      "text/plain": [
       "                    √2⋅(-c₀⋅❘000⟩ + ⅈ⋅c₀⋅❘100⟩ - c₁⋅❘001⟩ + ⅈ⋅c₁⋅❘101⟩)\n",
       "❘\\psi_{2}__{pbI}⟩ = ───────────────────────────────────────────────────\n",
       "                                             2                         "
      ]
     },
     "execution_count": 22,
     "metadata": {},
     "output_type": "execute_result"
    }
   ],
   "source": [
    "ψ2pbI = gatep(M, ψ1pbI, 2)\n",
    "x = mysim(mbk(ψ2pbI))\n",
    "Eq(Ket('\\psi_{2}^{pbI}'), x)"
   ]
  },
  {
   "cell_type": "markdown",
   "id": "22f9a0eb",
   "metadata": {},
   "source": [
    "Now we need a multicontrolled port, that is, we need to check if the bomb is inserted in the path and also know what the path is. The path activation bit remains 1 and to know if the bomb is inserted we also define it as 1, so we will have a Toffoli gate, which is a CNOT with two controls. Therefore"
   ]
  },
  {
   "cell_type": "code",
   "execution_count": 23,
   "id": "163f48d2",
   "metadata": {},
   "outputs": [
    {
     "data": {
      "image/png": "[encoded data removed]",
      "text/latex": [
       "$\\displaystyle {\\left|\\psi_{3}^{pbI}\\right\\rangle } = \\frac{\\sqrt{2} \\left(- c_{0} {\\left|000\\right\\rangle } + i c_{0} {\\left|100\\right\\rangle } - c_{1} {\\left|001\\right\\rangle } + i c_{1} {\\left|111\\right\\rangle }\\right)}{2}$"
      ],
      "text/plain": [
       "                    √2⋅(-c₀⋅❘000⟩ + ⅈ⋅c₀⋅❘100⟩ - c₁⋅❘001⟩ + ⅈ⋅c₁⋅❘111⟩)\n",
       "❘\\psi_{3}__{pbI}⟩ = ───────────────────────────────────────────────────\n",
       "                                             2                         "
      ]
     },
     "execution_count": 23,
     "metadata": {},
     "output_type": "execute_result"
    }
   ],
   "source": [
    "ψ3pbI = ctrlp(pauli(1), ψ2pbI, [(0,1), (2,1)], 1)\n",
    "x = mysim(mbk(ψ3pbI))\n",
    "Eq(Ket('\\psi_{3}^{pbI}'), x)"
   ]
  },
  {
   "cell_type": "markdown",
   "id": "19ca3a3a",
   "metadata": {},
   "source": [
    "with this we have a three-part entangled state. Now the performance of the second BS gives us"
   ]
  },
  {
   "cell_type": "code",
   "execution_count": 24,
   "id": "59660a6e",
   "metadata": {},
   "outputs": [
    {
     "data": {
      "image/png": "[encoded data removed]",
      "text/latex": [
       "$\\displaystyle {\\left|\\psi_{4}^{pbI}\\right\\rangle } = \\frac{- 2 c_{0} {\\left|000\\right\\rangle } - c_{1} {\\left|001\\right\\rangle } - c_{1} {\\left|011\\right\\rangle } - i c_{1} {\\left|101\\right\\rangle } + i c_{1} {\\left|111\\right\\rangle }}{2}$"
      ],
      "text/plain": [
       "                    -2⋅c₀⋅❘000⟩ - c₁⋅❘001⟩ - c₁⋅❘011⟩ - ⅈ⋅c₁⋅❘101⟩ + ⅈ⋅c₁⋅❘111\n",
       "❘\\psi_{4}__{pbI}⟩ = ──────────────────────────────────────────────────────────\n",
       "                                                 2                            \n",
       "\n",
       "⟩\n",
       "─\n",
       " "
      ]
     },
     "execution_count": 24,
     "metadata": {},
     "output_type": "execute_result"
    }
   ],
   "source": [
    "ψ4pbI = gatep(BS, ψ3pbI, 2)\n",
    "x = mysim(mbk(ψ4pbI))\n",
    "Eq(Ket('\\psi_{4}^{pbI}'), x)"
   ]
  },
  {
   "cell_type": "markdown",
   "id": "2f24bb00",
   "metadata": {},
   "source": [
    "Calculating the probabilities of in each of the detectors, with the bomb detonating or not, and inserted or not in the path, we will arrive in several situations. The only case of interest for the purpose of the experiment is when we have the state $|101\\rangle$ in order from left to right: it passed through the vertical where the bomb is inserted ($|1_p\\rangle$), it was not detonated ($|0_b\\rangle$) and it is inserted in the path ($|1_I\\rangle$). By Born's rule, the probability of this happening is $c_1^2/4$. Graphically, we have"
   ]
  },
  {
   "cell_type": "code",
   "execution_count": 33,
   "id": "48f9ca61",
   "metadata": {
    "scrolled": false
   },
   "outputs": [
    {
     "data": {
      "image/png": "[encoded data removed]",
      "text/plain": [
       "<Figure size 400x300 with 1 Axes>"
      ]
     },
     "metadata": {},
     "output_type": "display_data"
    }
   ],
   "source": [
    "import matplotlib.pyplot as plt\n",
    "\n",
    "c_1 = np.linspace(0, 1, 1000)\n",
    "c_0 = np.sqrt(1-c_1**2)\n",
    "prob101 = c_1**2/4\n",
    "#prob000 = c_0**2\n",
    "\n",
    "plt.figure(figsize = (4,3), constrained_layout = True)\n",
    "plt.plot(c_1, prob101)\n",
    "#plt.plot(c_1, prob000)\n",
    "plt.xlabel(r'$c_1$')\n",
    "plt.ylabel(r'$\\Pr(101|\\psi_4)$')\n",
    "plt.xticks(fontsize=10)\n",
    "plt.yticks(fontsize=10)\n",
    "#plt.title('Gráfico da função')\n",
    "plt.show()"
   ]
  },
  {
   "cell_type": "markdown",
   "id": "df0a376d",
   "metadata": {},
   "source": [
    "Note that from $|\\psi_4\\rangle$ we could not have the state $|_{0}^{1}10\\rangle$, because it would mean that the bomb exploded, but it wasn't even inserted in the path. The state $|100\\rangle$ is also not possible, since if the bomb is not inserted in the path there is detection in D$_1$. We also have situation $|001\\rangle$ but, even though the bomb is inserted in the path, there is the possibility that the bomb is not functional, i.e. falling back to the case where we have detection in D$_0$ and it does not help us to know if the bomb is funcional or not (only the detection in D$_1$ guarantees that it is functional). Another point is the probability that $|000\\rangle$ occurs. This is due to the fact that in this approach there is a situation where in fact the bomb will not be included in the path and all the possibilities of click are on D$_0$."
   ]
  },
  {
   "cell_type": "code",
   "execution_count": null,
   "id": "d6b4873c",
   "metadata": {},
   "outputs": [],
   "source": []
  }
 ],
 "metadata": {
  "kernelspec": {
   "display_name": "Python 3 (ipykernel)",
   "language": "python",
   "name": "python3"
  },
  "language_info": {
   "codemirror_mode": {
    "name": "ipython",
    "version": 3
   },
   "file_extension": ".py",
   "mimetype": "text/x-python",
   "name": "python",
   "nbconvert_exporter": "python",
   "pygments_lexer": "ipython3",
   "version": "3.9.13"
  }
 },
 "nbformat": 4,
 "nbformat_minor": 5
}
