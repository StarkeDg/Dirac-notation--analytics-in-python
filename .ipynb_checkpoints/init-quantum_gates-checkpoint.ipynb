{
 "cells": [
  {
   "cell_type": "markdown",
   "id": "962dd3e6",
   "metadata": {},
   "source": [
    "# Quantum gates"
   ]
  },
  {
   "cell_type": "markdown",
   "id": "fffbbf83",
   "metadata": {},
   "source": [
    "## Pauli matrices"
   ]
  },
  {
   "cell_type": "code",
   "execution_count": 20,
   "id": "b578cac6",
   "metadata": {},
   "outputs": [],
   "source": [
    "def pauli(j):\n",
    "    '''\n",
    "    Returns the Pauli matrices\n",
    "    \n",
    "    Args:\n",
    "        j (int): 0 for id, 1 for X, 2 for Y and 3 for Z\n",
    "    '''\n",
    "    if j == 0:\n",
    "        return sym.eye(2)\n",
    "    if j == 1:\n",
    "        return Matrix([[0,1],[1,0]])\n",
    "    elif j == 2:\n",
    "        return Matrix([[0,-1j],[1j,0]])\n",
    "    elif j == 3:\n",
    "        return Matrix([[1,0],[0,-1]])"
   ]
  },
  {
   "cell_type": "code",
   "execution_count": 53,
   "id": "fda1a443",
   "metadata": {},
   "outputs": [
    {
     "data": {
      "image/png": "[encoded data removed]",
      "text/latex": [
       "$\\displaystyle \\left( {\\left|0\\right\\rangle }{\\left\\langle 0\\right|} + {\\left|1\\right\\rangle }{\\left\\langle 1\\right|}, \\  \\left[\\begin{matrix}1 & 0\\\\0 & 1\\end{matrix}\\right]\\right)$"
      ],
      "text/plain": [
       "⎛                 ⎡1  0⎤⎞\n",
       "⎜❘0⟩⟨0❘ + ❘1⟩⟨1❘, ⎢    ⎥⎟\n",
       "⎝                 ⎣0  1⎦⎠"
      ]
     },
     "execution_count": 53,
     "metadata": {},
     "output_type": "execute_result"
    }
   ],
   "source": [
    "mbk(pauli(0)), pauli(0)"
   ]
  },
  {
   "cell_type": "code",
   "execution_count": 54,
   "id": "aade2642",
   "metadata": {},
   "outputs": [
    {
     "data": {
      "image/png": "[encoded data removed]",
      "text/latex": [
       "$\\displaystyle \\left( {\\left|0\\right\\rangle }{\\left\\langle 1\\right|} + {\\left|1\\right\\rangle }{\\left\\langle 0\\right|}, \\  \\left[\\begin{matrix}0 & 1\\\\1 & 0\\end{matrix}\\right]\\right)$"
      ],
      "text/plain": [
       "⎛                 ⎡0  1⎤⎞\n",
       "⎜❘0⟩⟨1❘ + ❘1⟩⟨0❘, ⎢    ⎥⎟\n",
       "⎝                 ⎣1  0⎦⎠"
      ]
     },
     "execution_count": 54,
     "metadata": {},
     "output_type": "execute_result"
    }
   ],
   "source": [
    "mbk(pauli(1)),pauli(1)"
   ]
  },
  {
   "cell_type": "code",
   "execution_count": 55,
   "id": "b1ae37d3",
   "metadata": {},
   "outputs": [
    {
     "data": {
      "image/png": "[encoded data removed]",
      "text/latex": [
       "$\\displaystyle \\left( i \\left(- {\\left|0\\right\\rangle } {\\left\\langle 1\\right|} + {\\left|1\\right\\rangle } {\\left\\langle 0\\right|}\\right), \\  \\left[\\begin{matrix}0 & - i\\\\i & 0\\end{matrix}\\right]\\right)$"
      ],
      "text/plain": [
       "⎛                        ⎡0  -ⅈ⎤⎞\n",
       "⎜ⅈ⋅(-❘0⟩⋅⟨1❘ + ❘1⟩⋅⟨0❘), ⎢     ⎥⎟\n",
       "⎝                        ⎣ⅈ  0 ⎦⎠"
      ]
     },
     "execution_count": 55,
     "metadata": {},
     "output_type": "execute_result"
    }
   ],
   "source": [
    "mysim(mbk(pauli(2))), mysim(pauli(2))"
   ]
  },
  {
   "cell_type": "code",
   "execution_count": 56,
   "id": "90892324",
   "metadata": {},
   "outputs": [
    {
     "data": {
      "image/png": "[encoded data removed]",
      "text/latex": [
       "$\\displaystyle \\left( - {\\left|1\\right\\rangle } {\\left\\langle 1\\right|} + {\\left|0\\right\\rangle }{\\left\\langle 0\\right|}, \\  \\left[\\begin{matrix}1 & 0\\\\0 & -1\\end{matrix}\\right]\\right)$"
      ],
      "text/plain": [
       "⎛                   ⎡1  0 ⎤⎞\n",
       "⎜-❘1⟩⋅⟨1❘ + ❘0⟩⟨0❘, ⎢     ⎥⎟\n",
       "⎝                   ⎣0  -1⎦⎠"
      ]
     },
     "execution_count": 56,
     "metadata": {},
     "output_type": "execute_result"
    }
   ],
   "source": [
    "mbk(pauli(3)), pauli(3)"
   ]
  },
  {
   "cell_type": "markdown",
   "id": "36904412",
   "metadata": {},
   "source": [
    "## Hadamard"
   ]
  },
  {
   "cell_type": "code",
   "execution_count": 22,
   "id": "6dae9044",
   "metadata": {},
   "outputs": [
    {
     "data": {
      "image/png": "[encoded data removed]",
      "text/latex": [
       "$\\displaystyle \\left[\\begin{matrix}\\frac{\\sqrt{2}}{2} & \\frac{\\sqrt{2}}{2}\\\\\\frac{\\sqrt{2}}{2} & - \\frac{\\sqrt{2}}{2}\\end{matrix}\\right]$"
      ],
      "text/plain": [
       "⎡√2   √2 ⎤\n",
       "⎢──   ── ⎥\n",
       "⎢2    2  ⎥\n",
       "⎢        ⎥\n",
       "⎢√2  -√2 ⎥\n",
       "⎢──  ────⎥\n",
       "⎣2    2  ⎦"
      ]
     },
     "execution_count": 22,
     "metadata": {},
     "output_type": "execute_result"
    }
   ],
   "source": [
    "H = (1/sqrt(2))*(pauli(1) + pauli(3))\n",
    "H"
   ]
  },
  {
   "cell_type": "markdown",
   "id": "c44dd661",
   "metadata": {},
   "source": [
    "## S and S$^\\dagger$"
   ]
  },
  {
   "cell_type": "code",
   "execution_count": 23,
   "id": "4bd700a2",
   "metadata": {},
   "outputs": [
    {
     "data": {
      "image/png": "[encoded data removed]",
      "text/latex": [
       "$\\displaystyle \\left[\\begin{matrix}1 & 0\\\\0 & i\\end{matrix}\\right]$"
      ],
      "text/plain": [
       "⎡1  0⎤\n",
       "⎢    ⎥\n",
       "⎣0  ⅈ⎦"
      ]
     },
     "execution_count": 23,
     "metadata": {},
     "output_type": "execute_result"
    }
   ],
   "source": [
    "S = pauli(3).applyfunc(lambda x: sqrt(x))\n",
    "S"
   ]
  },
  {
   "cell_type": "code",
   "execution_count": 24,
   "id": "bd205e1a",
   "metadata": {},
   "outputs": [
    {
     "data": {
      "image/png": "[encoded data removed]",
      "text/latex": [
       "$\\displaystyle \\left[\\begin{matrix}1 & 0\\\\0 & - i\\end{matrix}\\right]$"
      ],
      "text/plain": [
       "⎡1  0 ⎤\n",
       "⎢     ⎥\n",
       "⎣0  -ⅈ⎦"
      ]
     },
     "execution_count": 24,
     "metadata": {},
     "output_type": "execute_result"
    }
   ],
   "source": [
    "Sdg = tsco(S)\n",
    "Sdg"
   ]
  },
  {
   "cell_type": "markdown",
   "id": "b01b3d4b",
   "metadata": {},
   "source": [
    "# Quantum controlled gates"
   ]
  },
  {
   "cell_type": "markdown",
   "id": "b88b4088",
   "metadata": {},
   "source": [
    "## CNOT"
   ]
  },
  {
   "cell_type": "code",
   "execution_count": 25,
   "id": "ac2fc427",
   "metadata": {},
   "outputs": [
    {
     "data": {
      "image/png": "[encoded data removed]",
      "text/latex": [
       "$\\displaystyle {\\left|00\\right\\rangle }{\\left\\langle 00\\right|} + {\\left|01\\right\\rangle }{\\left\\langle 01\\right|} + {\\left|10\\right\\rangle }{\\left\\langle 11\\right|} + {\\left|11\\right\\rangle }{\\left\\langle 10\\right|}$"
      ],
      "text/plain": [
       "❘00⟩⟨00❘ + ❘01⟩⟨01❘ + ❘10⟩⟨11❘ + ❘11⟩⟨10❘"
      ]
     },
     "execution_count": 25,
     "metadata": {},
     "output_type": "execute_result"
    }
   ],
   "source": [
    "CNOT_ct = tp(proj(pbk('0')), pauli(0)) + tp(proj(pbk('1')), pauli(1))\n",
    "mbk(CNOT_ct)"
   ]
  },
  {
   "cell_type": "code",
   "execution_count": 26,
   "id": "d04380e2",
   "metadata": {},
   "outputs": [
    {
     "data": {
      "image/png": "[encoded data removed]",
      "text/latex": [
       "$\\displaystyle \\left[\\begin{matrix}1 & 0 & 0 & 0\\\\0 & 1 & 0 & 0\\\\0 & 0 & 0 & 1\\\\0 & 0 & 1 & 0\\end{matrix}\\right]$"
      ],
      "text/plain": [
       "⎡1  0  0  0⎤\n",
       "⎢          ⎥\n",
       "⎢0  1  0  0⎥\n",
       "⎢          ⎥\n",
       "⎢0  0  0  1⎥\n",
       "⎢          ⎥\n",
       "⎣0  0  1  0⎦"
      ]
     },
     "execution_count": 26,
     "metadata": {},
     "output_type": "execute_result"
    }
   ],
   "source": [
    "CNOT_ct"
   ]
  },
  {
   "cell_type": "code",
   "execution_count": null,
   "id": "7a9a5be1",
   "metadata": {},
   "outputs": [],
   "source": []
  }
 ],
 "metadata": {
  "kernelspec": {
   "display_name": "Python 3 (ipykernel)",
   "language": "python",
   "name": "python3"
  },
  "language_info": {
   "codemirror_mode": {
    "name": "ipython",
    "version": 3
   },
   "file_extension": ".py",
   "mimetype": "text/x-python",
   "name": "python",
   "nbconvert_exporter": "python",
   "pygments_lexer": "ipython3",
   "version": "3.9.13"
  }
 },
 "nbformat": 4,
 "nbformat_minor": 5
}
