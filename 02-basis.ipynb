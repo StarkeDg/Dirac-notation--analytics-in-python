{
 "cells": [
  {
   "cell_type": "code",
   "execution_count": 51,
   "id": "945009b8",
   "metadata": {},
   "outputs": [],
   "source": [
    "%run init.ipynb"
   ]
  },
  {
   "cell_type": "markdown",
   "id": "64d80f73",
   "metadata": {},
   "source": [
    "# $S_z$-, $S_x$- and $S_y$-basis"
   ]
  },
  {
   "cell_type": "code",
   "execution_count": 52,
   "id": "6e130270",
   "metadata": {},
   "outputs": [],
   "source": [
    "\"\"\"\n",
    "Interesting function to say exactly which matrix values\n",
    "are different from zero and at the same time have a visualization\n",
    "of the state vector as if it were written in Dirac notation\n",
    "\"\"\"\n",
    "def pbk(seq, dim=2, mtype=0):\n",
    "    \"\"\"\n",
    "    Args:\n",
    "        seq (str): input sequence. Ex: '010110'\n",
    "        dim (int): computational basis dimension (default=2 for qubits)\n",
    "        mtype (int): array type, column array or row array. Zero (default=0) for\n",
    "            row matrix and one (1) for row matrix\n",
    "\n",
    "    Returns:\n",
    "        array: ket vector for the input sequence in the computational basis of dimension 'dim'\n",
    "    \"\"\"\n",
    "    vec = []\n",
    "    for digito in seq:\n",
    "        vec.append(digito)\n",
    "    n = len(vec)\n",
    "    if vec[0] == '+':\n",
    "        psi = (1/sqrt(2))*(cb(dim, 0) + cb(dim, 1))\n",
    "    elif vec[0] == '-':\n",
    "        psi = (1/sqrt(2))*(cb(dim, 0) - cb(dim, 1))\n",
    "    elif vec[0] == 'r':\n",
    "        psi = (1/sqrt(2))*(cb(dim, 0) + 1j*cb(dim, 1))\n",
    "    elif vec[0] == 'l':\n",
    "        psi = (1/sqrt(2))*(cb(dim, 0) - 1j*cb(dim, 1))\n",
    "    else:\n",
    "        psi = cb(dim, int(vec[0]))\n",
    "    for j in range(1,n):\n",
    "        if vec[j] == '+':\n",
    "            psi = (1/sqrt(2))*(tp(psi,cb(dim, 0)) + tp(psi,cb(dim, 1)))\n",
    "        elif vec[j] == '-':\n",
    "            psi = (1/sqrt(2))*(tp(psi,cb(dim, 0)) - tp(psi,cb(dim, 1)))\n",
    "        elif vec[j] == 'r':\n",
    "            psi = (1/sqrt(2))*(tp(psi,cb(dim, 0)) + 1j*tp(psi,cb(dim, 1)))\n",
    "        elif vec[j] == 'l':\n",
    "            psi = (1/sqrt(2))*(tp(psi,cb(dim, 0)) - 1j*tp(psi,cb(dim, 1)))\n",
    "        else:\n",
    "            psi = tp(psi,cb(dim, int(vec[j])))\n",
    "    if mtype == 1:\n",
    "        return transpose(psi).as_mutable()\n",
    "    return psi"
   ]
  },
  {
   "cell_type": "code",
   "execution_count": 53,
   "id": "feaeee64",
   "metadata": {},
   "outputs": [],
   "source": [
    "def mbk_xyz(matrix, *pos, base='x'):\n",
    "    lst = list(pos)\n",
    "    matrix_aux = copy.deepcopy(matrix)\n",
    "    for j in range(len(lst)):\n",
    "        matrix_aux = xyzBasis(matrix_aux, lst[j], base=base)\n",
    "    val, poss, poss_bin, order = [], [], [], [[]]\n",
    "    if isinstance(matrix_aux, sympy.matrices.dense.MutableDenseMatrix):\n",
    "        n_linhas, n_colunas = matrix_aux.shape\n",
    "        if n_colunas == 1:\n",
    "            Psi = 0\n",
    "            x = len(matrix_aux)\n",
    "            n = int(math.log(x)/math.log(2))\n",
    "            for i in range(x):\n",
    "                if matrix_aux[i] != 0:\n",
    "                    val.append(matrix_aux[i])\n",
    "                    poss_bin.append(format(i, f'0{int(math.log(x)/math.log(2))}b'))\n",
    "            for i in range(len(val)):\n",
    "                order = []\n",
    "                for j in range(len(lst)):\n",
    "                    if poss_bin[i][n-1-lst[j]] == str('0'):\n",
    "                        order.append(poss_bin[i][:n-1-lst[j]] + 'a' + poss_bin[i][n-lst[j]:])\n",
    "                    elif poss_bin[i][n-1-lst[j]] == str('1'):\n",
    "                        order.append(poss_bin[i][:n-1-lst[j]] + 'b' + poss_bin[i][n-lst[j]:])\n",
    "                    if j < len(lst):\n",
    "                        poss_bin.pop(i)\n",
    "                        poss_bin.insert(i, order[j])\n",
    "                if base == 'x':\n",
    "                    string = order[-1]\n",
    "                    string = string.replace(\"a\", \"+\").replace(\"b\", \"-\")\n",
    "                    Psi += val[i]*Ket(string)\n",
    "                elif base == 'y':\n",
    "                    string = order[-1]\n",
    "                    string = string.replace(\"a\", \"\\oplus\").replace(\"b\", \"\\ominus\")\n",
    "                    Psi += val[i]*Ket(string)\n",
    "            return Psi"
   ]
  },
  {
   "cell_type": "code",
   "execution_count": 54,
   "id": "5d674d43",
   "metadata": {},
   "outputs": [],
   "source": [
    "def xyzBasis(matrix, *pos, base='x'):\n",
    "    lst = list(pos)\n",
    "    x = len(matrix)\n",
    "    n = int(log(x, 2))\n",
    "    psi_mod = copy.deepcopy(matrix)\n",
    "    psi_f = Matrix([0]*2**n)\n",
    "    for j in range(x):\n",
    "        char = list('{:0{}b}'.format(j, math.ceil(math.log(x, 2))))\n",
    "        if base == 'x':\n",
    "            plus =  (1/sqrt(2)) * (pbk(''.join(char[:n-1-lst[0]]) + '0' + ''.join(char[n-lst[0]:]))\\\n",
    "                                 + pbk(''.join(char[:n-1-lst[0]]) + '1' + ''.join(char[n-lst[0]:])))\n",
    "            minus = (1/sqrt(2)) * (pbk(''.join(char[:n-1-lst[0]]) + '0' + ''.join(char[n-lst[0]:]))\\\n",
    "                                 - pbk(''.join(char[:n-1-lst[0]]) + '1' + ''.join(char[n-lst[0]:])))\n",
    "        if base == 'y':\n",
    "            plus  =  (1/sqrt(2)) * (pbk(''.join(char[:n-1-lst[0]]) + '0' + ''.join(char[n-lst[0]:]))\\\n",
    "                                  + pbk(''.join(char[:n-1-lst[0]]) + '1' + ''.join(char[n-lst[0]:])))\n",
    "            minus = (-1j/sqrt(2))*(pbk(''.join(char[:n-1-lst[0]]) + '0' + ''.join(char[n-lst[0]:]))\\\n",
    "                                  - pbk(''.join(char[:n-1-lst[0]]) + '1' + ''.join(char[n-lst[0]:])))\n",
    "        if char[n-1-lst[0]] == str(0):\n",
    "            #print('1st')\n",
    "            psi_f = psi_mod[j] * plus + psi_f\n",
    "            psi_mod[j] = 0\n",
    "        if char[n-1-lst[0]] == str(1):\n",
    "            #print('2nd')\n",
    "            psi_f = psi_mod[j] * minus + psi_f\n",
    "            psi_mod[j] = 0\n",
    "    psi_f = psi_f + psi_mod\n",
    "    return psi_f"
   ]
  },
  {
   "cell_type": "code",
   "execution_count": 55,
   "id": "74714d4c",
   "metadata": {},
   "outputs": [
    {
     "data": {
      "image/png": "[encoded data removed]",
      "text/latex": [
       "$\\displaystyle \\frac{\\sqrt{2} \\left({\\left|0\\right\\rangle } - {\\left|1\\right\\rangle }\\right)}{2}$"
      ],
      "text/plain": [
       "√2⋅(❘0⟩ - ❘1⟩)\n",
       "──────────────\n",
       "      2       "
      ]
     },
     "execution_count": 55,
     "metadata": {},
     "output_type": "execute_result"
    }
   ],
   "source": [
    "ψ = pbk('-')\n",
    "mysim(mbk(ψ))"
   ]
  },
  {
   "cell_type": "code",
   "execution_count": 56,
   "id": "dc9a1723",
   "metadata": {
    "scrolled": false
   },
   "outputs": [
    {
     "data": {
      "image/png": "[encoded data removed]",
      "text/latex": [
       "$\\displaystyle {\\left|-\\right\\rangle }$"
      ],
      "text/plain": [
       "❘-⟩"
      ]
     },
     "execution_count": 56,
     "metadata": {},
     "output_type": "execute_result"
    }
   ],
   "source": [
    "mysim(mbk_xyz(ψ, 0, base='x'))"
   ]
  },
  {
   "cell_type": "code",
   "execution_count": 29,
   "id": "0542ccc7",
   "metadata": {
    "scrolled": false
   },
   "outputs": [
    {
     "data": {
      "image/png": "[encoded data removed]",
      "text/latex": [
       "$\\displaystyle \\frac{\\left(1 - i\\right) {\\left|\\ominus\\right\\rangle } + \\left(1 + i\\right) {\\left|\\oplus\\right\\rangle }}{2}$"
      ],
      "text/plain": [
       "(1 - ⅈ)⋅❘\\ominus⟩ + (1 + ⅈ)⋅❘\\oplus⟩\n",
       "────────────────────────────────────\n",
       "                 2                  "
      ]
     },
     "execution_count": 29,
     "metadata": {},
     "output_type": "execute_result"
    }
   ],
   "source": [
    "mysim(mbk_xyz(ψ, 0, base='y'))"
   ]
  },
  {
   "cell_type": "code",
   "execution_count": 30,
   "id": "f794aedf",
   "metadata": {},
   "outputs": [
    {
     "data": {
      "image/png": "[encoded data removed]",
      "text/latex": [
       "$\\displaystyle \\frac{\\sqrt{2} \\left({\\left|0\\right\\rangle } + i {\\left|1\\right\\rangle }\\right)}{2}$"
      ],
      "text/plain": [
       "√2⋅(❘0⟩ + ⅈ⋅❘1⟩)\n",
       "────────────────\n",
       "       2        "
      ]
     },
     "execution_count": 30,
     "metadata": {},
     "output_type": "execute_result"
    }
   ],
   "source": [
    "ψ = pbk('r')\n",
    "mysim(mbk(ψ))"
   ]
  },
  {
   "cell_type": "code",
   "execution_count": 31,
   "id": "57ba173b",
   "metadata": {
    "scrolled": true
   },
   "outputs": [
    {
     "data": {
      "image/png": "[encoded data removed]",
      "text/latex": [
       "$\\displaystyle {\\left|\\oplus\\right\\rangle }$"
      ],
      "text/plain": [
       "❘\\oplus⟩"
      ]
     },
     "execution_count": 31,
     "metadata": {},
     "output_type": "execute_result"
    }
   ],
   "source": [
    "mysim(mbk_xyz(ψ, 0 , base='y'))"
   ]
  },
  {
   "cell_type": "code",
   "execution_count": 32,
   "id": "7b67990c",
   "metadata": {
    "scrolled": true
   },
   "outputs": [
    {
     "data": {
      "image/png": "[encoded data removed]",
      "text/latex": [
       "$\\displaystyle \\frac{\\left(1 + i\\right) {\\left|+\\right\\rangle } + \\left(1 - i\\right) {\\left|-\\right\\rangle }}{2}$"
      ],
      "text/plain": [
       "(1 + ⅈ)⋅❘+⟩ + (1 - ⅈ)⋅❘-⟩\n",
       "─────────────────────────\n",
       "            2            "
      ]
     },
     "execution_count": 32,
     "metadata": {},
     "output_type": "execute_result"
    }
   ],
   "source": [
    "mysim(mbk_xyz(ψ, 0 , base='x'))"
   ]
  },
  {
   "cell_type": "code",
   "execution_count": 33,
   "id": "a21fa20c",
   "metadata": {},
   "outputs": [
    {
     "data": {
      "image/png": "[encoded data removed]",
      "text/latex": [
       "$\\displaystyle \\frac{\\sqrt{2} \\left({\\left|0\\right\\rangle } - i {\\left|1\\right\\rangle }\\right)}{2}$"
      ],
      "text/plain": [
       "√2⋅(❘0⟩ - ⅈ⋅❘1⟩)\n",
       "────────────────\n",
       "       2        "
      ]
     },
     "execution_count": 33,
     "metadata": {},
     "output_type": "execute_result"
    }
   ],
   "source": [
    "ψ = pbk('l')\n",
    "mysim(mbk(ψ))"
   ]
  },
  {
   "cell_type": "code",
   "execution_count": 34,
   "id": "dc437ae9",
   "metadata": {
    "scrolled": true
   },
   "outputs": [
    {
     "data": {
      "image/png": "[encoded data removed]",
      "text/latex": [
       "$\\displaystyle {\\left|\\ominus\\right\\rangle }$"
      ],
      "text/plain": [
       "❘\\ominus⟩"
      ]
     },
     "execution_count": 34,
     "metadata": {},
     "output_type": "execute_result"
    }
   ],
   "source": [
    "mysim(mbk_xyz(ψ, 0 , base='y'))"
   ]
  },
  {
   "cell_type": "code",
   "execution_count": 35,
   "id": "09e55d4e",
   "metadata": {
    "scrolled": true
   },
   "outputs": [
    {
     "data": {
      "image/png": "[encoded data removed]",
      "text/latex": [
       "$\\displaystyle \\frac{\\left(1 - i\\right) {\\left|+\\right\\rangle } + \\left(1 + i\\right) {\\left|-\\right\\rangle }}{2}$"
      ],
      "text/plain": [
       "(1 - ⅈ)⋅❘+⟩ + (1 + ⅈ)⋅❘-⟩\n",
       "─────────────────────────\n",
       "            2            "
      ]
     },
     "execution_count": 35,
     "metadata": {},
     "output_type": "execute_result"
    }
   ],
   "source": [
    "mysim(mbk_xyz(ψ, 0 , base='x'))"
   ]
  },
  {
   "cell_type": "code",
   "execution_count": 36,
   "id": "060f630c",
   "metadata": {},
   "outputs": [
    {
     "data": {
      "image/png": "[encoded data removed]",
      "text/latex": [
       "$\\displaystyle {\\left|0\\right\\rangle }$"
      ],
      "text/plain": [
       "❘0⟩"
      ]
     },
     "execution_count": 36,
     "metadata": {},
     "output_type": "execute_result"
    }
   ],
   "source": [
    "ψ = pbk('0')\n",
    "mysim(mbk(ψ))"
   ]
  },
  {
   "cell_type": "code",
   "execution_count": 37,
   "id": "a42a5c1a",
   "metadata": {
    "scrolled": true
   },
   "outputs": [
    {
     "data": {
      "image/png": "[encoded data removed]",
      "text/latex": [
       "$\\displaystyle \\frac{\\sqrt{2} \\left({\\left|+\\right\\rangle } + {\\left|-\\right\\rangle }\\right)}{2}$"
      ],
      "text/plain": [
       "√2⋅(❘+⟩ + ❘-⟩)\n",
       "──────────────\n",
       "      2       "
      ]
     },
     "execution_count": 37,
     "metadata": {},
     "output_type": "execute_result"
    }
   ],
   "source": [
    "mysim(mbk_xyz(ψ, 0 , base='x'))"
   ]
  },
  {
   "cell_type": "code",
   "execution_count": 38,
   "id": "7d4142be",
   "metadata": {
    "scrolled": true
   },
   "outputs": [
    {
     "data": {
      "image/png": "[encoded data removed]",
      "text/latex": [
       "$\\displaystyle \\frac{\\sqrt{2} \\left({\\left|\\ominus\\right\\rangle } + {\\left|\\oplus\\right\\rangle }\\right)}{2}$"
      ],
      "text/plain": [
       "√2⋅(❘\\ominus⟩ + ❘\\oplus⟩)\n",
       "─────────────────────────\n",
       "            2            "
      ]
     },
     "execution_count": 38,
     "metadata": {},
     "output_type": "execute_result"
    }
   ],
   "source": [
    "mysim(mbk_xyz(ψ, 0 , base='y'))"
   ]
  },
  {
   "cell_type": "code",
   "execution_count": 39,
   "id": "b169f180",
   "metadata": {},
   "outputs": [
    {
     "data": {
      "image/png": "[encoded data removed]",
      "text/latex": [
       "$\\displaystyle {\\left|1\\right\\rangle }$"
      ],
      "text/plain": [
       "❘1⟩"
      ]
     },
     "execution_count": 39,
     "metadata": {},
     "output_type": "execute_result"
    }
   ],
   "source": [
    "ψ = pbk('1')\n",
    "mysim(mbk(ψ))"
   ]
  },
  {
   "cell_type": "code",
   "execution_count": 40,
   "id": "f377178a",
   "metadata": {
    "scrolled": true
   },
   "outputs": [
    {
     "data": {
      "image/png": "[encoded data removed]",
      "text/latex": [
       "$\\displaystyle \\frac{\\sqrt{2} \\left({\\left|+\\right\\rangle } - {\\left|-\\right\\rangle }\\right)}{2}$"
      ],
      "text/plain": [
       "√2⋅(❘+⟩ - ❘-⟩)\n",
       "──────────────\n",
       "      2       "
      ]
     },
     "execution_count": 40,
     "metadata": {},
     "output_type": "execute_result"
    }
   ],
   "source": [
    "mysim(mbk_xyz(ψ, 0 , base='x'))"
   ]
  },
  {
   "cell_type": "code",
   "execution_count": 41,
   "id": "e7a419d9",
   "metadata": {
    "scrolled": true
   },
   "outputs": [
    {
     "data": {
      "image/png": "[encoded data removed]",
      "text/latex": [
       "$\\displaystyle \\frac{\\sqrt{2} i \\left({\\left|\\ominus\\right\\rangle } - {\\left|\\oplus\\right\\rangle }\\right)}{2}$"
      ],
      "text/plain": [
       "√2⋅ⅈ⋅(❘\\ominus⟩ - ❘\\oplus⟩)\n",
       "───────────────────────────\n",
       "             2             "
      ]
     },
     "execution_count": 41,
     "metadata": {},
     "output_type": "execute_result"
    }
   ],
   "source": [
    "mysim(mbk_xyz(ψ, 0 , base='y'))"
   ]
  },
  {
   "cell_type": "code",
   "execution_count": 524,
   "id": "02b23c8f",
   "metadata": {},
   "outputs": [
    {
     "data": {
      "image/png": "[encoded data removed]",
      "text/latex": [
       "$\\displaystyle {\\left|01\\right\\rangle }$"
      ],
      "text/plain": [
       "❘01⟩"
      ]
     },
     "execution_count": 524,
     "metadata": {},
     "output_type": "execute_result"
    }
   ],
   "source": [
    "ψ = pbk('01')\n",
    "mysim(mbk(ψ))"
   ]
  },
  {
   "cell_type": "code",
   "execution_count": 526,
   "id": "8acdc9e1",
   "metadata": {},
   "outputs": [
    {
     "data": {
      "image/png": "[encoded data removed]",
      "text/latex": [
       "$\\displaystyle \\frac{\\sqrt{2} \\left({\\left|0+\\right\\rangle } - {\\left|0-\\right\\rangle }\\right)}{2}$"
      ],
      "text/plain": [
       "√2⋅(❘0+⟩ - ❘0-⟩)\n",
       "────────────────\n",
       "       2        "
      ]
     },
     "execution_count": 526,
     "metadata": {},
     "output_type": "execute_result"
    }
   ],
   "source": [
    "mysim(mbk_xyz(ψ, 0, base='x'))"
   ]
  },
  {
   "cell_type": "code",
   "execution_count": 42,
   "id": "3240165c",
   "metadata": {},
   "outputs": [
    {
     "data": {
      "image/png": "[encoded data removed]",
      "text/latex": [
       "$\\displaystyle \\frac{{\\left|00\\right\\rangle } - i {\\left|01\\right\\rangle } + i {\\left|10\\right\\rangle } + {\\left|11\\right\\rangle }}{2}$"
      ],
      "text/plain": [
       "❘00⟩ - ⅈ⋅❘01⟩ + ⅈ⋅❘10⟩ + ❘11⟩\n",
       "─────────────────────────────\n",
       "              2              "
      ]
     },
     "execution_count": 42,
     "metadata": {},
     "output_type": "execute_result"
    }
   ],
   "source": [
    "ψ = pbk('rl')\n",
    "mysim(mbk(ψ))"
   ]
  },
  {
   "cell_type": "code",
   "execution_count": 45,
   "id": "79d63066",
   "metadata": {
    "scrolled": true
   },
   "outputs": [
    {
     "data": {
      "image/png": "[encoded data removed]",
      "text/latex": [
       "$\\displaystyle {\\left|\\oplus\\ominus\\right\\rangle }$"
      ],
      "text/plain": [
       "❘\\oplus\\ominus⟩"
      ]
     },
     "execution_count": 45,
     "metadata": {},
     "output_type": "execute_result"
    }
   ],
   "source": [
    "mysim(mbk_xyz(ψ, 0, 1, base='y'))"
   ]
  },
  {
   "cell_type": "code",
   "execution_count": 64,
   "id": "b2d117a2",
   "metadata": {},
   "outputs": [
    {
     "data": {
      "image/png": "[encoded data removed]",
      "text/latex": [
       "$\\displaystyle \\frac{\\sqrt{2} \\left({\\left|00000\\right\\rangle } - {\\left|00001\\right\\rangle } + {\\left|00010\\right\\rangle } - {\\left|00011\\right\\rangle } - {\\left|00100\\right\\rangle } + {\\left|00101\\right\\rangle } - {\\left|00110\\right\\rangle } + {\\left|00111\\right\\rangle } + {\\left|01000\\right\\rangle } - {\\left|01001\\right\\rangle } + {\\left|01010\\right\\rangle } - {\\left|01011\\right\\rangle } - {\\left|01100\\right\\rangle } + {\\left|01101\\right\\rangle } - {\\left|01110\\right\\rangle } + {\\left|01111\\right\\rangle } - {\\left|10000\\right\\rangle } + {\\left|10001\\right\\rangle } - {\\left|10010\\right\\rangle } + {\\left|10011\\right\\rangle } + {\\left|10100\\right\\rangle } - {\\left|10101\\right\\rangle } + {\\left|10110\\right\\rangle } - {\\left|10111\\right\\rangle } - {\\left|11000\\right\\rangle } + {\\left|11001\\right\\rangle } - {\\left|11010\\right\\rangle } + {\\left|11011\\right\\rangle } + {\\left|11100\\right\\rangle } - {\\left|11101\\right\\rangle } + {\\left|11110\\right\\rangle } - {\\left|11111\\right\\rangle }\\right)}{8}$"
      ],
      "text/plain": [
       "√2⋅(❘00000⟩ - ❘00001⟩ + ❘00010⟩ - ❘00011⟩ - ❘00100⟩ + ❘00101⟩ - ❘00110⟩ + ❘001\n",
       "──────────────────────────────────────────────────────────────────────────────\n",
       "                                                                              \n",
       "\n",
       "11⟩ + ❘01000⟩ - ❘01001⟩ + ❘01010⟩ - ❘01011⟩ - ❘01100⟩ + ❘01101⟩ - ❘01110⟩ + ❘0\n",
       "──────────────────────────────────────────────────────────────────────────────\n",
       "                                                                              \n",
       "\n",
       "1111⟩ - ❘10000⟩ + ❘10001⟩ - ❘10010⟩ + ❘10011⟩ + ❘10100⟩ - ❘10101⟩ + ❘10110⟩ - \n",
       "──────────────────────────────────────────────────────────────────────────────\n",
       "    8                                                                         \n",
       "\n",
       "❘10111⟩ - ❘11000⟩ + ❘11001⟩ - ❘11010⟩ + ❘11011⟩ + ❘11100⟩ - ❘11101⟩ + ❘11110⟩ \n",
       "──────────────────────────────────────────────────────────────────────────────\n",
       "                                                                              \n",
       "\n",
       "- ❘11111⟩)\n",
       "──────────\n",
       "          "
      ]
     },
     "execution_count": 64,
     "metadata": {},
     "output_type": "execute_result"
    }
   ],
   "source": [
    "ψ = pbk('-+-+-')\n",
    "mysim(mbk(ψ))"
   ]
  },
  {
   "cell_type": "code",
   "execution_count": 66,
   "id": "c0e804e8",
   "metadata": {},
   "outputs": [
    {
     "data": {
      "image/png": "[encoded data removed]",
      "text/latex": [
       "$\\displaystyle {\\left|-+-+-\\right\\rangle }$"
      ],
      "text/plain": [
       "❘-+-+-⟩"
      ]
     },
     "execution_count": 66,
     "metadata": {},
     "output_type": "execute_result"
    }
   ],
   "source": [
    "mysim(mbk_xyz(ψ, 4,3,2,1,0, base='x'))"
   ]
  },
  {
   "cell_type": "markdown",
   "id": "c82fdf9f",
   "metadata": {},
   "source": [
    "# Bell's basis"
   ]
  },
  {
   "cell_type": "code",
   "execution_count": null,
   "id": "dfffab3b",
   "metadata": {},
   "outputs": [],
   "source": [
    "def BBasis(matrix, *pos):\n",
    "    lst = list(pos)\n",
    "    x = len(matrix)\n",
    "    n = int(log(x, 2))\n",
    "    psi_mod = copy.deepcopy(matrix)\n",
    "    psi_f = Matrix([0]*2**n)\n",
    "    for j in range(x):\n",
    "        char = list('{:0{}b}'.format(j, math.ceil(math.log(x, 2))))\n",
    "        # 00 = phi_plus, 01 = phi_minus, 10 = psi_plus, 11 = psi_minus\n",
    "        phi_plus = (1/sqrt(2)) * (pbk(''.join(char[:n-1-lst[0][0]]) + '00' + ''.join(char[n-lst[0][1]:]))\\\n",
    "                          + pbk(''.join(char[:n-1-lst[0][0]]) + '11' + ''.join(char[n-lst[0][1]:])))\n",
    "        phi_minus = (1/sqrt(2)) * (pbk(''.join(char[:n-1-lst[0][0]]) + '00' + ''.join(char[n-lst[0][1]:]))\\\n",
    "                          - pbk(''.join(char[:n-1-lst[0][0]]) + '11' + ''.join(char[n-lst[0][1]:])))\n",
    "        psi_plus = (1/sqrt(2)) * (pbk(''.join(char[:n-1-lst[0][0]]) + '01' + ''.join(char[n-lst[0][1]:]))\\\n",
    "                          + pbk(''.join(char[:n-1-lst[0][0]]) + '10' + ''.join(char[n-lst[0][1]:])))\n",
    "        psi_minus = (1/sqrt(2)) * (pbk(''.join(char[:n-1-lst[0][0]]) + '01' + ''.join(char[n-lst[0][1]:]))\\\n",
    "                          - pbk(''.join(char[:n-1-lst[0][0]]) + '10' + ''.join(char[n-lst[0][1]:])))\n",
    "        if char[n-1-lst[0][0]] == str(0) and char[n-1-lst[0][1]] == str(0):\n",
    "            psi_f = psi_mod[j] * phi_plus + psi_f\n",
    "            psi_mod[j] = 0\n",
    "        if char[n-1-lst[0][0]] == str(1) and char[n-1-lst[0][1]] == str(1):\n",
    "            psi_f = psi_mod[j] * phi_minus + psi_f\n",
    "            psi_mod[j] = 0\n",
    "        if char[n-1-lst[0][0]] == str(0) and char[n-1-lst[0][1]] == str(1):\n",
    "            psi_f = psi_mod[j] * psi_plus + psi_f\n",
    "            psi_mod[j] = 0\n",
    "        if char[n-1-lst[0][0]] == str(1) and char[n-1-lst[0][1]] == str(0):\n",
    "            psi_f = psi_mod[j] * psi_minus + psi_f\n",
    "            psi_mod[j] = 0\n",
    "    psi_f = psi_f + psi_mod\n",
    "    return psi_f"
   ]
  },
  {
   "cell_type": "code",
   "execution_count": null,
   "id": "f2740e9a",
   "metadata": {},
   "outputs": [],
   "source": [
    "def change_to_BB(matrix, *pos):\n",
    "    lst = list(pos)\n",
    "    matrix_aux = copy.deepcopy(matrix)\n",
    "    for j in range(len(lst)):\n",
    "        matrix_aux = BBasis(matrix_aux, lst[j])\n",
    "    val, poss, poss_bin, order = [], [], [], [[]]\n",
    "    if isinstance(matrix_aux, sympy.matrices.dense.MutableDenseMatrix):\n",
    "        n_linhas, n_colunas = matrix_aux.shape\n",
    "        if n_colunas == 1:\n",
    "            Psi = 0\n",
    "            x = len(matrix_aux)\n",
    "            n = int(math.log(x)/math.log(2))\n",
    "            pos_t = n-1-lst[0][0]\n",
    "            for i in range(x):\n",
    "                if matrix_aux[i] != 0:\n",
    "                    val.append(matrix_aux[i])\n",
    "                    poss_bin.append(format(i, f'0{int(math.log(x)/math.log(2))}b'))\n",
    "            for i in range(len(val)):\n",
    "                order = []\n",
    "                for j in range(len(lst)):\n",
    "                    if poss_bin[i][n-1-lst[j][0]] == str('0') and poss_bin[i][n-1-lst[j][1]] == str('0'):\n",
    "                        order.append(poss_bin[i][:n-1-lst[j][0]] + 'aa' + poss_bin[i][n-lst[j][1]:])\n",
    "                    if poss_bin[i][n-1-lst[j][0]] == str('1') and poss_bin[i][n-1-lst[j][1]] == str('1'):\n",
    "                        order.append(poss_bin[i][:n-1-lst[j][0]] + 'bb' + poss_bin[i][n-lst[j][1]:])\n",
    "                    if poss_bin[i][n-1-lst[j][0]] == str('0') and poss_bin[i][n-1-lst[j][1]] == str('1'):\n",
    "                        order.append(poss_bin[i][:n-1-lst[j][0]] + 'cc' + poss_bin[i][n-lst[j][1]:])\n",
    "                    if poss_bin[i][n-1-lst[j][0]] == str('1') and poss_bin[i][n-1-lst[j][1]] == str('0'):\n",
    "                        order.append(poss_bin[i][:n-1-lst[j][0]] + 'dd' + poss_bin[i][n-lst[j][1]:])\n",
    "                    if j < len(lst):\n",
    "                        poss_bin.pop(i)\n",
    "                        poss_bin.insert(i, order[j])\n",
    "                string = order[-1]\n",
    "                string = string.replace(\"aa\", \"\\Phi_{+}\").replace(\"bb\", \"\\Phi_{-}\")\\\n",
    "                            .replace(\"cc\", \"\\Psi_{+}\").replace(\"dd\", \"\\Psi_{-}\")\n",
    "                Psi += val[i]*Ket(string)\n",
    "            return Psi"
   ]
  },
  {
   "cell_type": "code",
   "execution_count": null,
   "id": "d35e79ca",
   "metadata": {},
   "outputs": [],
   "source": [
    "Φ_plus = (1/sqrt(2))*(pbk('00')+pbk('11'))\n",
    "Ψ_plus = (1/sqrt(2))*(pbk('01')+pbk('10'))\n",
    "Ψ_minus = (1/sqrt(2))*(pbk('01')-pbk('10'))\n",
    "Φ_minus = (1/sqrt(2))*(pbk('00')-pbk('11'))\n",
    "mysim(mbk(Φ_plus)), mysim(mbk(Ψ_plus)), mysim(mbk(Ψ_minus)), mysim(mbk(Φ_minus))"
   ]
  },
  {
   "cell_type": "code",
   "execution_count": null,
   "id": "ca184d6b",
   "metadata": {
    "scrolled": true
   },
   "outputs": [],
   "source": [
    "Ψ1 = comp_sys(Φ_plus, Ψ_plus, Ψ_minus, Φ_minus)\n",
    "mysim(mbk(Ψ1))"
   ]
  },
  {
   "cell_type": "markdown",
   "id": "a39a9c2e",
   "metadata": {},
   "source": [
    "#### Trivial cases"
   ]
  },
  {
   "cell_type": "code",
   "execution_count": null,
   "id": "d1bf4081",
   "metadata": {},
   "outputs": [],
   "source": [
    "mysim(change_to_BB(Ψ1, (7,6)))"
   ]
  },
  {
   "cell_type": "code",
   "execution_count": null,
   "id": "6e47be97",
   "metadata": {},
   "outputs": [],
   "source": [
    "mysim(change_to_BB(Ψ1, (5,4)))"
   ]
  },
  {
   "cell_type": "code",
   "execution_count": null,
   "id": "2dd10360",
   "metadata": {},
   "outputs": [],
   "source": [
    "mysim(change_to_BB(Ψ1, (3,2)))"
   ]
  },
  {
   "cell_type": "code",
   "execution_count": null,
   "id": "80df638a",
   "metadata": {},
   "outputs": [],
   "source": [
    "mysim(change_to_BB(Ψ1, (1,0)))"
   ]
  },
  {
   "cell_type": "code",
   "execution_count": null,
   "id": "f7b570b1",
   "metadata": {},
   "outputs": [],
   "source": [
    "mysim(change_to_BB(Ψ1, (7,6), (1,0)))"
   ]
  },
  {
   "cell_type": "code",
   "execution_count": null,
   "id": "13b42e04",
   "metadata": {},
   "outputs": [],
   "source": [
    "mysim(change_to_BB(Ψ1, (7,6), (3,2)))"
   ]
  },
  {
   "cell_type": "code",
   "execution_count": null,
   "id": "c6a3badf",
   "metadata": {},
   "outputs": [],
   "source": [
    "mysim(change_to_BB(Ψ1, (5,4), (1,0)))"
   ]
  },
  {
   "cell_type": "code",
   "execution_count": null,
   "id": "d50ef072",
   "metadata": {},
   "outputs": [],
   "source": [
    "mysim(change_to_BB(Ψ1, (5,4), (7,6)))"
   ]
  },
  {
   "cell_type": "code",
   "execution_count": null,
   "id": "f31ee696",
   "metadata": {},
   "outputs": [],
   "source": [
    "mysim(change_to_BB(Ψ1, (7,6), (5,4), (3,2), (1,0)))"
   ]
  },
  {
   "cell_type": "code",
   "execution_count": 544,
   "id": "481140c4",
   "metadata": {},
   "outputs": [
    {
     "data": {
      "image/png": "[encoded data removed]",
      "text/latex": [
       "$\\displaystyle \\frac{\\sqrt{2} \\left({\\left|0\\right\\rangle } - i {\\left|1\\right\\rangle }\\right)}{2}$"
      ],
      "text/plain": [
       "√2⋅(❘0⟩ - ⅈ⋅❘1⟩)\n",
       "────────────────\n",
       "       2        "
      ]
     },
     "execution_count": 544,
     "metadata": {},
     "output_type": "execute_result"
    }
   ],
   "source": [
    "ψ = pbk('l')\n",
    "mysim(mbk(ψ))"
   ]
  },
  {
   "cell_type": "code",
   "execution_count": 18,
   "id": "c37dbb47",
   "metadata": {
    "scrolled": false
   },
   "outputs": [
    {
     "data": {
      "image/png": "[encoded data removed]",
      "text/latex": [
       "$\\displaystyle {\\left|\\oplus\\right\\rangle }$"
      ],
      "text/plain": [
       "❘\\oplus⟩"
      ]
     },
     "execution_count": 18,
     "metadata": {},
     "output_type": "execute_result"
    }
   ],
   "source": [
    "mysim(mbk_xyz(ψ, 0 , base='y'))"
   ]
  },
  {
   "cell_type": "code",
   "execution_count": null,
   "id": "f965b9e2",
   "metadata": {},
   "outputs": [],
   "source": [
    "mysim(change_to_BB(Ψ1, (5,4), (7,6), (3,2), (1,0)))"
   ]
  },
  {
   "cell_type": "code",
   "execution_count": 17,
   "id": "243ac5a2",
   "metadata": {},
   "outputs": [
    {
     "data": {
      "image/png": "[encoded data removed]",
      "text/latex": [
       "$\\displaystyle \\frac{\\sqrt{2} \\left({\\left|0\\right\\rangle } + i {\\left|1\\right\\rangle }\\right)}{2}$"
      ],
      "text/plain": [
       "√2⋅(❘0⟩ + ⅈ⋅❘1⟩)\n",
       "────────────────\n",
       "       2        "
      ]
     },
     "execution_count": 17,
     "metadata": {},
     "output_type": "execute_result"
    }
   ],
   "source": [
    "ψ = pbk('r')\n",
    "mysim(mbk(ψ))"
   ]
  },
  {
   "cell_type": "code",
   "execution_count": null,
   "id": "d73245f8",
   "metadata": {},
   "outputs": [],
   "source": [
    "mysim(change_to_BB(Ψ1, (1,0), (3,2), (7,6), (5,4)))"
   ]
  },
  {
   "cell_type": "code",
   "execution_count": null,
   "id": "614fdb19",
   "metadata": {},
   "outputs": [],
   "source": [
    "mysim(change_to_BB(Ψ1, (1,0), (5,4), (7,6), (3,2)))"
   ]
  },
  {
   "cell_type": "markdown",
   "id": "0a4daa7b",
   "metadata": {},
   "source": [
    "#### Others 1"
   ]
  },
  {
   "cell_type": "code",
   "execution_count": 44,
   "id": "e1819573",
   "metadata": {
    "scrolled": true
   },
   "outputs": [
    {
     "data": {
      "image/png": "[encoded data removed]",
      "text/latex": [
       "$\\displaystyle \\frac{{\\left|++\\right\\rangle } + i {\\left|+-\\right\\rangle } - i {\\left|-+\\right\\rangle } + {\\left|--\\right\\rangle }}{2}$"
      ],
      "text/plain": [
       "❘++⟩ + ⅈ⋅❘+-⟩ - ⅈ⋅❘-+⟩ + ❘--⟩\n",
       "─────────────────────────────\n",
       "              2              "
      ]
     },
     "execution_count": 44,
     "metadata": {},
     "output_type": "execute_result"
    }
   ],
   "source": [
    "mysim(mbk_xyz(ψ, 0, 1, base='x'))"
   ]
  },
  {
   "cell_type": "code",
   "execution_count": null,
   "id": "ef91b89b",
   "metadata": {},
   "outputs": [],
   "source": [
    "mysim(change_to_BB(Ψ1, (6,5)))"
   ]
  },
  {
   "cell_type": "markdown",
   "id": "e4636f2a",
   "metadata": {},
   "source": [
    "#### Others 2"
   ]
  },
  {
   "cell_type": "code",
   "execution_count": null,
   "id": "5af8b733",
   "metadata": {},
   "outputs": [],
   "source": [
    "Ψ = psi_c(4)\n",
    "mysim(mbk(Ψ))"
   ]
  },
  {
   "cell_type": "code",
   "execution_count": null,
   "id": "39cb78f7",
   "metadata": {},
   "outputs": [],
   "source": [
    "mysim(change_to_BB(Ψ, (1,0)))"
   ]
  },
  {
   "cell_type": "code",
   "execution_count": null,
   "id": "71f8b8a4",
   "metadata": {},
   "outputs": [],
   "source": [
    "k00 = pbk('00')\n",
    "mysim(change_to_BB(k00, (1,0)))"
   ]
  },
  {
   "cell_type": "code",
   "execution_count": null,
   "id": "77e41045",
   "metadata": {},
   "outputs": [],
   "source": [
    "k01 = pbk('01')\n",
    "mysim(change_to_BB(k01, (1,0)))"
   ]
  },
  {
   "cell_type": "code",
   "execution_count": null,
   "id": "3330c9bc",
   "metadata": {},
   "outputs": [],
   "source": [
    "k10 = pbk('10')\n",
    "mysim(change_to_BB(k10, (1,0)))"
   ]
  },
  {
   "cell_type": "code",
   "execution_count": null,
   "id": "679677a4",
   "metadata": {
    "scrolled": true
   },
   "outputs": [],
   "source": [
    "k11 = pbk('11')\n",
    "mysim(change_to_BB(k11, (1,0)))"
   ]
  },
  {
   "cell_type": "markdown",
   "id": "64fd67de",
   "metadata": {},
   "source": [
    "#### Others 3"
   ]
  },
  {
   "cell_type": "code",
   "execution_count": null,
   "id": "4eec57f6",
   "metadata": {},
   "outputs": [],
   "source": [
    "Ψ = comp_sys(psi_c(4), pbk('+'))\n",
    "mysim(mbk(Ψ))"
   ]
  },
  {
   "cell_type": "code",
   "execution_count": null,
   "id": "9dae5f7c",
   "metadata": {},
   "outputs": [],
   "source": [
    "mysim(change_to_BB(Ψ, (2,1)))"
   ]
  },
  {
   "cell_type": "code",
   "execution_count": null,
   "id": "b74eaac6",
   "metadata": {},
   "outputs": [],
   "source": [
    "k00 = pbk('00')\n",
    "mysim(change_to_BB(k00, (1,0)))"
   ]
  },
  {
   "cell_type": "code",
   "execution_count": null,
   "id": "4ed4c2fb",
   "metadata": {},
   "outputs": [],
   "source": [
    "k01 = pbk('01')\n",
    "mysim(change_to_BB(k01, (1,0)))"
   ]
  },
  {
   "cell_type": "code",
   "execution_count": null,
   "id": "ad949b33",
   "metadata": {},
   "outputs": [],
   "source": [
    "k10 = pbk('10')\n",
    "mysim(change_to_BB(k10, (1,0)))"
   ]
  },
  {
   "cell_type": "code",
   "execution_count": null,
   "id": "b6950975",
   "metadata": {},
   "outputs": [],
   "source": [
    "k11 = pbk('11')\n",
    "mysim(change_to_BB(k11, (1,0)))"
   ]
  },
  {
   "cell_type": "code",
   "execution_count": null,
   "id": "f7056da0",
   "metadata": {},
   "outputs": [],
   "source": []
  }
 ],
 "metadata": {
  "kernelspec": {
   "display_name": "Python 3 (ipykernel)",
   "language": "python",
   "name": "python3"
  },
  "language_info": {
   "codemirror_mode": {
    "name": "ipython",
    "version": 3
   },
   "file_extension": ".py",
   "mimetype": "text/x-python",
   "name": "python",
   "nbconvert_exporter": "python",
   "pygments_lexer": "ipython3",
   "version": "3.9.13"
  }
 },
 "nbformat": 4,
 "nbformat_minor": 5
}
