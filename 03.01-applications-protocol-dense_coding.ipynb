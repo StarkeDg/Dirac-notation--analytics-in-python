{
 "cells": [
  {
   "cell_type": "code",
   "execution_count": 2,
   "id": "7f5578f9",
   "metadata": {},
   "outputs": [],
   "source": [
    "%run init.ipynb\n",
    "%run init-quantum_gates.ipynb"
   ]
  },
  {
   "cell_type": "markdown",
   "id": "e4091d04",
   "metadata": {},
   "source": [
    "# Dense Coding"
   ]
  },
  {
   "cell_type": "markdown",
   "id": "7266b298",
   "metadata": {},
   "source": [
    "Adapted from: https://github.com/jonasmaziero/qiskit2/blob/main/09_dense_coding.ipynb\n",
    "\n",
    "Super-dense coding (CSD) is a way of __sending 2 cbits by sending \"only\" 1 qubit__ (with some details to be discussed below). The protocol was proposed in\n",
    "* Bennett, Charles H., and Stephen J. Wiesner. “Communication via One- and Two-Particle Operators on Einstein-Podolsky-Rosen States.” Phys. Rev. Lett. 69, 2881 (1992)."
   ]
  },
  {
   "cell_type": "markdown",
   "id": "53cbd7ae",
   "metadata": {},
   "source": [
    "Alice prepares a pair of entangled photons, say"
   ]
  },
  {
   "cell_type": "code",
   "execution_count": 34,
   "id": "16ad76c4",
   "metadata": {},
   "outputs": [
    {
     "data": {
      "image/png": "[encoded data removed]",
      "text/latex": [
       "$\\displaystyle \\frac{\\sqrt{2} \\left({\\left|00\\right\\rangle } + {\\left|11\\right\\rangle }\\right)}{2} = {\\left|\\Phi_{+}\\right\\rangle }$"
      ],
      "text/plain": [
       "√2⋅(❘00⟩ + ❘11⟩)          \n",
       "──────────────── = ❘\\Phi₊⟩\n",
       "       2                  "
      ]
     },
     "execution_count": 34,
     "metadata": {},
     "output_type": "execute_result"
    }
   ],
   "source": [
    "Φ_p = pbk('P')\n",
    "x = mysim(mbk(Φ_p))\n",
    "Eq(x, Ket('\\Phi_+'))"
   ]
  },
  {
   "cell_type": "markdown",
   "id": "8d0c41ab",
   "metadata": {},
   "source": [
    "and sendsone of these qubits to Bob. Bob in turn performs some operations in his laboratory with the specific intention of sending certain information to Alice. Bob can have Alice receive $00, 01, 10$ or $11$. For this Bob needs to return his qubit to Alice, so Alice will carry out measurements in her laboratory to reveal the message sent by Bob."
   ]
  },
  {
   "cell_type": "markdown",
   "id": "8c82331a",
   "metadata": {},
   "source": [
    "Consider that the left qubit will be with Alice (qubit position $1$) and the right qubit she will send to Bob (qubit position $0$)."
   ]
  },
  {
   "cell_type": "markdown",
   "id": "6c0d5e45",
   "metadata": {},
   "source": [
    "Bob realizes that if he performs some operations on the qubit he received from Alice, the global entangled state can be modified to produce other Bell base states. The first case is when Bob receives the qubit and decides not to perform any operation, obviously the state remains the same ($|\\Phi_+\\rangle$). Now if Bob operates the $Z$ gate, we have"
   ]
  },
  {
   "cell_type": "code",
   "execution_count": 30,
   "id": "15d410c1",
   "metadata": {},
   "outputs": [
    {
     "data": {
      "image/png": "[encoded data removed]",
      "text/latex": [
       "$\\displaystyle \\frac{\\sqrt{2} \\left({\\left|00\\right\\rangle } - {\\left|11\\right\\rangle }\\right)}{2} = {\\left|\\Phi_{-}\\right\\rangle }$"
      ],
      "text/plain": [
       "√2⋅(❘00⟩ - ❘11⟩)          \n",
       "──────────────── = ❘\\Phi₋⟩\n",
       "       2                  "
      ]
     },
     "execution_count": 30,
     "metadata": {},
     "output_type": "execute_result"
    }
   ],
   "source": [
    "Φ_m = gatep(pauli(3), Φ_p, 0)\n",
    "x = mysim(mbk(Φ_m))\n",
    "Eq(x, Ket('\\Phi_-'))"
   ]
  },
  {
   "cell_type": "markdown",
   "id": "8776d50f",
   "metadata": {},
   "source": [
    "where the $Z$ gate is"
   ]
  },
  {
   "cell_type": "code",
   "execution_count": 26,
   "id": "4104685c",
   "metadata": {},
   "outputs": [
    {
     "data": {
      "image/png": "[encoded data removed]",
      "text/latex": [
       "$\\displaystyle \\left[\\begin{matrix}1 & 0\\\\0 & -1\\end{matrix}\\right]$"
      ],
      "text/plain": [
       "⎡1  0 ⎤\n",
       "⎢     ⎥\n",
       "⎣0  -1⎦"
      ]
     },
     "execution_count": 26,
     "metadata": {},
     "output_type": "execute_result"
    }
   ],
   "source": [
    "pauli(3)"
   ]
  },
  {
   "cell_type": "markdown",
   "id": "e18c8532",
   "metadata": {},
   "source": [
    "If Bob current to pauli X, we have"
   ]
  },
  {
   "cell_type": "code",
   "execution_count": 31,
   "id": "643aed92",
   "metadata": {},
   "outputs": [
    {
     "data": {
      "image/png": "[encoded data removed]",
      "text/latex": [
       "$\\displaystyle \\frac{\\sqrt{2} \\left({\\left|01\\right\\rangle } + {\\left|10\\right\\rangle }\\right)}{2} = {\\left|Ψ_{+}\\right\\rangle }$"
      ],
      "text/plain": [
       "√2⋅(❘01⟩ + ❘10⟩)       \n",
       "──────────────── = ❘Ψ₊⟩\n",
       "       2               "
      ]
     },
     "execution_count": 31,
     "metadata": {},
     "output_type": "execute_result"
    }
   ],
   "source": [
    "Ψ_m = gatep(pauli(1), Φ_p, 0)\n",
    "x = mysim(mbk(Ψ_m))\n",
    "Eq(x, Ket('Ψ_+'))"
   ]
  },
  {
   "cell_type": "markdown",
   "id": "16ad8eed",
   "metadata": {},
   "source": [
    "where the $X$ is"
   ]
  },
  {
   "cell_type": "code",
   "execution_count": 28,
   "id": "a1b94513",
   "metadata": {},
   "outputs": [
    {
     "data": {
      "image/png": "[encoded data removed]",
      "text/latex": [
       "$\\displaystyle \\left[\\begin{matrix}0 & 1\\\\1 & 0\\end{matrix}\\right]$"
      ],
      "text/plain": [
       "⎡0  1⎤\n",
       "⎢    ⎥\n",
       "⎣1  0⎦"
      ]
     },
     "execution_count": 28,
     "metadata": {},
     "output_type": "execute_result"
    }
   ],
   "source": [
    "pauli(1)"
   ]
  },
  {
   "cell_type": "markdown",
   "id": "bca21ba0",
   "metadata": {},
   "source": [
    "And if Bob simultaneously acts on the $XZ$ gates, it follows that"
   ]
  },
  {
   "cell_type": "code",
   "execution_count": 33,
   "id": "82bf3bf4",
   "metadata": {},
   "outputs": [
    {
     "data": {
      "image/png": "[encoded data removed]",
      "text/latex": [
       "$\\displaystyle \\frac{\\sqrt{2} \\left({\\left|01\\right\\rangle } - {\\left|10\\right\\rangle }\\right)}{2} = {\\left|Ψ_{-}\\right\\rangle }$"
      ],
      "text/plain": [
       "√2⋅(❘01⟩ - ❘10⟩)       \n",
       "──────────────── = ❘Ψ₋⟩\n",
       "       2               "
      ]
     },
     "execution_count": 33,
     "metadata": {},
     "output_type": "execute_result"
    }
   ],
   "source": [
    "Φ_m = gatep(pauli(1)*pauli(3), Φ_p, 0)\n",
    "x = mysim(mbk(Φ_m))\n",
    "Eq(x, Ket('Ψ_-'))"
   ]
  },
  {
   "cell_type": "markdown",
   "id": "c562b4b8",
   "metadata": {},
   "source": [
    "With this, Bob will be able to convert $|\\Phi_+\\rangle$ as the following\n",
    "\n",
    "\\begin{align}\n",
    "(\\mathbb{1}\\otimes \\mathbb{1})&|\\Phi_+\\rangle \\longrightarrow |\\Phi_+\\rangle\\\\\n",
    "(\\mathbb{1}\\otimes X)         &|\\Phi_+\\rangle \\longrightarrow |\\Psi_+\\rangle\\\\\n",
    "(\\mathbb{1}\\otimes Z)         &|\\Phi_+\\rangle \\longrightarrow |\\Phi_-\\rangle\\\\\n",
    "(\\mathbb{1}\\otimes ZX)        &|\\Phi_+\\rangle \\longrightarrow |\\Psi_-\\rangle\n",
    "\\end{align}\n",
    "\n",
    "After receiving back the qubit, Alice will perform the measurement to reveal the message. Considering that it can only make measurements in the computational base, it is necessary to apply the $CNOT$ gate (with control on qubit 1 and target on qubit 0) and actuate the gate $H$ on qubit $1$. So Alice will convert the Bell base to the computational base, analogous to what we did in the [teleportation protocol](https://github.com/StarkeDg/Dirac-notation--analytics-in-python/blob/main/03.00-protocol-teleportation.ipynb), so you will get:\n",
    "- $|\\Phi_+\\rangle \\longrightarrow |00\\rangle$\n",
    "- $|\\Psi_+\\rangle \\longrightarrow |01\\rangle$\n",
    "- $|\\Phi_-\\rangle \\longrightarrow |10\\rangle$\n",
    "- $|\\Psi_-\\rangle \\longrightarrow |11\\rangle$\n",
    "\n",
    "And after the measurement, Alice will know what operation Bob performed as well as the message he sent."
   ]
  },
  {
   "cell_type": "code",
   "execution_count": null,
   "id": "e0f1acae",
   "metadata": {},
   "outputs": [],
   "source": []
  }
 ],
 "metadata": {
  "kernelspec": {
   "display_name": "Python 3 (ipykernel)",
   "language": "python",
   "name": "python3"
  },
  "language_info": {
   "codemirror_mode": {
    "name": "ipython",
    "version": 3
   },
   "file_extension": ".py",
   "mimetype": "text/x-python",
   "name": "python",
   "nbconvert_exporter": "python",
   "pygments_lexer": "ipython3",
   "version": "3.9.13"
  }
 },
 "nbformat": 4,
 "nbformat_minor": 5
}
