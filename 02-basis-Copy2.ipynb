{
 "cells": [
  {
   "cell_type": "code",
   "execution_count": 163,
   "id": "945009b8",
   "metadata": {},
   "outputs": [],
   "source": [
    "%run init.ipynb"
   ]
  },
  {
   "cell_type": "markdown",
   "id": "0eb67222",
   "metadata": {},
   "source": [
    "# Bell's basis"
   ]
  },
  {
   "cell_type": "code",
   "execution_count": 4,
   "id": "8fb7bdee",
   "metadata": {},
   "outputs": [],
   "source": [
    "def BBasis(matrix, *pos):\n",
    "    lst = list(pos)\n",
    "    x = len(matrix)\n",
    "    n = int(log(x, 2))\n",
    "    psi_mod = copy.deepcopy(matrix)\n",
    "    psi_f = Matrix([0]*2**n)\n",
    "    for j in range(x):\n",
    "        char = list('{:0{}b}'.format(j, math.ceil(math.log(x, 2))))\n",
    "        # 00 = phi_plus, 01 = phi_minus, 10 = psi_plus, 11 = psi_minus\n",
    "        phi_plus = (1/sqrt(2)) * (pbk(''.join(char[:n-1-lst[0][0]]) + '00' + ''.join(char[n-lst[0][1]:]))\\\n",
    "                          + pbk(''.join(char[:n-1-lst[0][0]]) + '11' + ''.join(char[n-lst[0][1]:])))\n",
    "        phi_minus = (1/sqrt(2)) * (pbk(''.join(char[:n-1-lst[0][0]]) + '00' + ''.join(char[n-lst[0][1]:]))\\\n",
    "                          - pbk(''.join(char[:n-1-lst[0][0]]) + '11' + ''.join(char[n-lst[0][1]:])))\n",
    "        psi_plus = (1/sqrt(2)) * (pbk(''.join(char[:n-1-lst[0][0]]) + '01' + ''.join(char[n-lst[0][1]:]))\\\n",
    "                          + pbk(''.join(char[:n-1-lst[0][0]]) + '10' + ''.join(char[n-lst[0][1]:])))\n",
    "        psi_minus = (1/sqrt(2)) * (pbk(''.join(char[:n-1-lst[0][0]]) + '01' + ''.join(char[n-lst[0][1]:]))\\\n",
    "                          - pbk(''.join(char[:n-1-lst[0][0]]) + '10' + ''.join(char[n-lst[0][1]:])))\n",
    "        if char[n-1-lst[0][0]] == str(0) and char[n-1-lst[0][1]] == str(0):\n",
    "            psi_f = psi_mod[j] * phi_plus + psi_f\n",
    "            psi_mod[j] = 0\n",
    "        if char[n-1-lst[0][0]] == str(1) and char[n-1-lst[0][1]] == str(1):\n",
    "            psi_f = psi_mod[j] * phi_minus + psi_f\n",
    "            psi_mod[j] = 0\n",
    "        if char[n-1-lst[0][0]] == str(0) and char[n-1-lst[0][1]] == str(1):\n",
    "            psi_f = psi_mod[j] * psi_plus + psi_f\n",
    "            psi_mod[j] = 0\n",
    "        if char[n-1-lst[0][0]] == str(1) and char[n-1-lst[0][1]] == str(0):\n",
    "            psi_f = psi_mod[j] * psi_minus + psi_f\n",
    "            psi_mod[j] = 0\n",
    "    psi_f = psi_f + psi_mod\n",
    "    return psi_f"
   ]
  },
  {
   "cell_type": "code",
   "execution_count": 5,
   "id": "a563ba62",
   "metadata": {},
   "outputs": [],
   "source": [
    "def change_to_BB(matrix, *pos):\n",
    "    lst = list(pos)\n",
    "    matrix_aux = copy.deepcopy(matrix)\n",
    "    for j in range(len(lst)):\n",
    "        matrix_aux = BBasis(matrix_aux, lst[j])\n",
    "    val, poss, poss_bin, order = [], [], [], [[]]\n",
    "    if isinstance(matrix_aux, sympy.matrices.dense.MutableDenseMatrix):\n",
    "        n_linhas, n_colunas = matrix_aux.shape\n",
    "        if n_colunas == 1:\n",
    "            Psi = 0\n",
    "            x = len(matrix_aux)\n",
    "            n = int(math.log(x)/math.log(2))\n",
    "            pos_t = n-1-lst[0][0]\n",
    "            for i in range(x):\n",
    "                if matrix_aux[i] != 0:\n",
    "                    val.append(matrix_aux[i])\n",
    "                    poss_bin.append(format(i, f'0{int(math.log(x)/math.log(2))}b'))\n",
    "            for i in range(len(val)):\n",
    "                order = []\n",
    "                for j in range(len(lst)):\n",
    "                    if poss_bin[i][n-1-lst[j][0]] == str('0') and poss_bin[i][n-1-lst[j][1]] == str('0'):\n",
    "                        order.append(poss_bin[i][:n-1-lst[j][0]] + 'aa' + poss_bin[i][n-lst[j][1]:])\n",
    "                    if poss_bin[i][n-1-lst[j][0]] == str('1') and poss_bin[i][n-1-lst[j][1]] == str('1'):\n",
    "                        order.append(poss_bin[i][:n-1-lst[j][0]] + 'bb' + poss_bin[i][n-lst[j][1]:])\n",
    "                    if poss_bin[i][n-1-lst[j][0]] == str('0') and poss_bin[i][n-1-lst[j][1]] == str('1'):\n",
    "                        order.append(poss_bin[i][:n-1-lst[j][0]] + 'cc' + poss_bin[i][n-lst[j][1]:])\n",
    "                    if poss_bin[i][n-1-lst[j][0]] == str('1') and poss_bin[i][n-1-lst[j][1]] == str('0'):\n",
    "                        order.append(poss_bin[i][:n-1-lst[j][0]] + 'dd' + poss_bin[i][n-lst[j][1]:])\n",
    "                    if j < len(lst):\n",
    "                        poss_bin.pop(i)\n",
    "                        poss_bin.insert(i, order[j])\n",
    "                string = order[-1]\n",
    "                string = string.replace(\"aa\", \"\\Phi_{+}\").replace(\"bb\", \"\\Phi_{-}\")\\\n",
    "                            .replace(\"cc\", \"\\Psi_{+}\").replace(\"dd\", \"\\Psi_{-}\")\n",
    "                Psi += val[i]*Ket(string)\n",
    "            return Psi"
   ]
  },
  {
   "cell_type": "markdown",
   "id": "64d80f73",
   "metadata": {},
   "source": [
    "# $S_z$-, $S_x$- and $S_y$-basis"
   ]
  },
  {
   "cell_type": "code",
   "execution_count": 6,
   "id": "6e130270",
   "metadata": {},
   "outputs": [],
   "source": [
    "\"\"\"\n",
    "Interesting function to say exactly which matrix values\n",
    "are different from zero and at the same time have a visualization\n",
    "of the state vector as if it were written in Dirac notation\n",
    "\"\"\"\n",
    "def pbk(seq, dim=2, mtype=0):\n",
    "    \"\"\"\n",
    "    Args:\n",
    "        seq (str): input sequence. Ex: '010110'\n",
    "        dim (int): computational basis dimension (default=2 for qubits)\n",
    "        mtype (int): array type, column array or row array. Zero (default=0) for\n",
    "            row matrix and one (1) for row matrix\n",
    "\n",
    "    Returns:\n",
    "        array: ket vector for the input sequence in the computational basis of dimension 'dim'\n",
    "    \"\"\"\n",
    "    vec = []\n",
    "    for digito in seq:\n",
    "        vec.append(digito)\n",
    "    n = len(vec)\n",
    "    if vec[0] == '+':\n",
    "        psi = (1/sqrt(2))*(cb(dim, 0) + cb(dim, 1))\n",
    "    elif vec[0] == '-':\n",
    "        psi = (1/sqrt(2))*(cb(dim, 0) - cb(dim, 1))\n",
    "    elif vec[0] == 'r':\n",
    "        psi = (1/sqrt(2))*(cb(dim, 0) + 1j*cb(dim, 1))\n",
    "    elif vec[0] == 'l':\n",
    "        psi = (1/sqrt(2))*(cb(dim, 0) - 1j*cb(dim, 1))\n",
    "    else:\n",
    "        psi = cb(dim, int(vec[0]))\n",
    "    for j in range(1,n):\n",
    "        if vec[j] == '+':\n",
    "            psi = (1/sqrt(2))*(tp(psi,cb(dim, 0)) + tp(psi,cb(dim, 1)))\n",
    "        elif vec[j] == '-':\n",
    "            psi = (1/sqrt(2))*(tp(psi,cb(dim, 0)) - tp(psi,cb(dim, 1)))\n",
    "        elif vec[j] == 'r':\n",
    "            psi = (1/sqrt(2))*(tp(psi,cb(dim, 0)) + 1j*tp(psi,cb(dim, 1)))\n",
    "        elif vec[j] == 'l':\n",
    "            psi = (1/sqrt(2))*(tp(psi,cb(dim, 0)) - 1j*tp(psi,cb(dim, 1)))\n",
    "        else:\n",
    "            psi = tp(psi,cb(dim, int(vec[j])))\n",
    "    if mtype == 1:\n",
    "        return transpose(psi).as_mutable()\n",
    "    return psi"
   ]
  },
  {
   "cell_type": "code",
   "execution_count": 7,
   "id": "5d674d43",
   "metadata": {},
   "outputs": [],
   "source": [
    "def xyzBasis(matrix, *pos, base='x'):\n",
    "    lst = list(pos)\n",
    "    x = len(matrix)\n",
    "    n = int(log(x, 2))\n",
    "    psi_mod = copy.deepcopy(matrix)\n",
    "    psi_f = Matrix([0]*2**n)\n",
    "    for j in range(x):\n",
    "        char = list('{:0{}b}'.format(j, math.ceil(math.log(x, 2))))\n",
    "        if base == 'x':\n",
    "            plus =  (1/sqrt(2)) * (pbk(''.join(char[:n-1-lst[0]]) + '0' + ''.join(char[n-lst[0]:]))\\\n",
    "                                 + pbk(''.join(char[:n-1-lst[0]]) + '1' + ''.join(char[n-lst[0]:])))\n",
    "            minus = (1/sqrt(2)) * (pbk(''.join(char[:n-1-lst[0]]) + '0' + ''.join(char[n-lst[0]:]))\\\n",
    "                                 - pbk(''.join(char[:n-1-lst[0]]) + '1' + ''.join(char[n-lst[0]:])))\n",
    "        if base == 'y':\n",
    "            plus  =  (1/sqrt(2)) * (pbk(''.join(char[:n-1-lst[0]]) + '0' + ''.join(char[n-lst[0]:]))\\\n",
    "                                  + pbk(''.join(char[:n-1-lst[0]]) + '1' + ''.join(char[n-lst[0]:])))\n",
    "            minus =  (-1j/sqrt(2))*(pbk(''.join(char[:n-1-lst[0]]) + '0' + ''.join(char[n-lst[0]:]))\\\n",
    "                                  - pbk(''.join(char[:n-1-lst[0]]) + '1' + ''.join(char[n-lst[0]:])))\n",
    "        if char[n-1-lst[0]] == str(0):\n",
    "            #print('1st')\n",
    "            psi_f = psi_mod[j] * plus + psi_f\n",
    "            psi_mod[j] = 0\n",
    "        if char[n-1-lst[0]] == str(1):\n",
    "            #print('2nd')\n",
    "            psi_f = psi_mod[j] * minus + psi_f\n",
    "            psi_mod[j] = 0\n",
    "    psi_f = psi_f + psi_mod\n",
    "    return psi_f"
   ]
  },
  {
   "cell_type": "code",
   "execution_count": 8,
   "id": "e79710f9",
   "metadata": {},
   "outputs": [],
   "source": [
    "def mbk_xyz(matrix, *bpos):\n",
    "    base = [t[0] for t in bpos]\n",
    "    lst = [t[1:] for t in bpos]\n",
    "    matrix_aux = copy.deepcopy(matrix)\n",
    "    for j in range(len(base)):\n",
    "        for k in range(len(lst[j])):\n",
    "            matrix_aux = xyzBasis(matrix_aux, lst[j][k], base=base[j])\n",
    "    val, poss, poss_bin, order = [], [], [], [[]]\n",
    "    if isinstance(matrix_aux, sympy.matrices.dense.MutableDenseMatrix):\n",
    "        n_linhas, n_colunas = matrix_aux.shape\n",
    "        if n_colunas == 1:\n",
    "            Psi = 0\n",
    "            x = len(matrix_aux)\n",
    "            n = int(math.log(x)/math.log(2))\n",
    "            for i in range(x):\n",
    "                if matrix_aux[i] != 0:\n",
    "                    val.append(matrix_aux[i])\n",
    "                    poss_bin.append(format(i, f'0{int(math.log(x)/math.log(2))}b'))\n",
    "            for i in range(len(base)):\n",
    "                for j in range(len(val)):\n",
    "                    order = []\n",
    "                    for k in range(len(lst[i])):\n",
    "                        if base[i] == 'x':\n",
    "                            if poss_bin[j][n-1-lst[i][k]] == str('0'):\n",
    "                                order.append(poss_bin[j][:n-1-lst[i][k]] + 'a' + poss_bin[j][n-lst[i][k]:])\n",
    "                            elif poss_bin[j][n-1-lst[i][k]] == str('1'):\n",
    "                                order.append(poss_bin[j][:n-1-lst[i][k]] + 'b' + poss_bin[j][n-lst[i][k]:])\n",
    "                        if base[i] == 'y':\n",
    "                            if poss_bin[j][n-1-lst[i][k]] == str('0'):\n",
    "                                order.append(poss_bin[j][:n-1-lst[i][k]] + 'c' + poss_bin[j][n-lst[i][k]:])\n",
    "                            elif poss_bin[j][n-1-lst[i][k]] == str('1'):\n",
    "                                order.append(poss_bin[j][:n-1-lst[i][k]] + 'd' + poss_bin[j][n-lst[i][k]:])\n",
    "                        if k < len(lst):\n",
    "                            poss_bin.pop(j)\n",
    "                            poss_bin.insert(j,order[k])\n",
    "                    if i == len(base)-1:\n",
    "                        string = order[-1]\n",
    "                        string = string.replace(\"a\", \"+\").replace(\"b\", \"-\")\\\n",
    "                                .replace(\"c\", \"\\oplus\").replace(\"d\", \"\\ominus\")\n",
    "                        Psi += val[j]*Ket(string)\n",
    "            return Psi"
   ]
  },
  {
   "cell_type": "code",
   "execution_count": 9,
   "id": "b5d9b49b",
   "metadata": {},
   "outputs": [
    {
     "data": {
      "image/png": "[encoded data removed]",
      "text/latex": [
       "$\\displaystyle \\frac{\\sqrt{2} \\left({\\left|000000\\right\\rangle } - i {\\left|000011\\right\\rangle } + i {\\left|000101\\right\\rangle } + {\\left|000110\\right\\rangle } - {\\left|001001\\right\\rangle } + i {\\left|001010\\right\\rangle } - i {\\left|001100\\right\\rangle } - {\\left|001111\\right\\rangle } + {\\left|010001\\right\\rangle } - i {\\left|010010\\right\\rangle } + i {\\left|010100\\right\\rangle } + {\\left|010111\\right\\rangle } - {\\left|011000\\right\\rangle } + i {\\left|011011\\right\\rangle } - i {\\left|011101\\right\\rangle } - {\\left|011110\\right\\rangle } + {\\left|100000\\right\\rangle } - {\\left|100001\\right\\rangle } + {\\left|100110\\right\\rangle } - {\\left|100111\\right\\rangle } + i {\\left|101010\\right\\rangle } - i {\\left|101011\\right\\rangle } - i {\\left|101100\\right\\rangle } + i {\\left|101101\\right\\rangle } - i {\\left|110010\\right\\rangle } + i {\\left|110011\\right\\rangle } + i {\\left|110100\\right\\rangle } - i {\\left|110101\\right\\rangle } - {\\left|111000\\right\\rangle } + {\\left|111001\\right\\rangle } - {\\left|111110\\right\\rangle } + {\\left|111111\\right\\rangle }\\right)}{8}$"
      ],
      "text/plain": [
       "√2⋅(❘000000⟩ - ⅈ⋅❘000011⟩ + ⅈ⋅❘000101⟩ + ❘000110⟩ - ❘001001⟩ + ⅈ⋅❘001010⟩ - ⅈ⋅\n",
       "──────────────────────────────────────────────────────────────────────────────\n",
       "                                                                              \n",
       "\n",
       "❘001100⟩ - ❘001111⟩ + ❘010001⟩ - ⅈ⋅❘010010⟩ + ⅈ⋅❘010100⟩ + ❘010111⟩ - ❘011000⟩\n",
       "──────────────────────────────────────────────────────────────────────────────\n",
       "                                                                              \n",
       "\n",
       " + ⅈ⋅❘011011⟩ - ⅈ⋅❘011101⟩ - ❘011110⟩ + ❘100000⟩ - ❘100001⟩ + ❘100110⟩ - ❘1001\n",
       "──────────────────────────────────────────────────────────────────────────────\n",
       "                                    8                                         \n",
       "\n",
       "11⟩ + ⅈ⋅❘101010⟩ - ⅈ⋅❘101011⟩ - ⅈ⋅❘101100⟩ + ⅈ⋅❘101101⟩ - ⅈ⋅❘110010⟩ + ⅈ⋅❘1100\n",
       "──────────────────────────────────────────────────────────────────────────────\n",
       "                                                                              \n",
       "\n",
       "11⟩ + ⅈ⋅❘110100⟩ - ⅈ⋅❘110101⟩ - ❘111000⟩ + ❘111001⟩ - ❘111110⟩ + ❘111111⟩)\n",
       "──────────────────────────────────────────────────────────────────────────\n",
       "                                                                          "
      ]
     },
     "execution_count": 9,
     "metadata": {},
     "output_type": "execute_result"
    }
   ],
   "source": [
    "ψ = (1/2)*(pbk('0+-rl+') + pbk('0-+lr-') + pbk('1+-rl-') + pbk('1-+lr-'))\n",
    "mysim(mbk(ψ))"
   ]
  },
  {
   "cell_type": "code",
   "execution_count": 10,
   "id": "2c23e656",
   "metadata": {
    "scrolled": false
   },
   "outputs": [
    {
     "data": {
      "image/png": "[encoded data removed]",
      "text/latex": [
       "$\\displaystyle \\frac{{\\left|0+-\\oplus\\ominus+\\right\\rangle } + {\\left|0-+\\ominus\\oplus-\\right\\rangle } + {\\left|1+-\\oplus\\ominus-\\right\\rangle } + {\\left|1-+\\ominus\\oplus-\\right\\rangle }}{2}$"
      ],
      "text/plain": [
       "❘0+-\\oplus\\ominus+⟩ + ❘0-+\\ominus\\oplus-⟩ + ❘1+-\\oplus\\ominus-⟩ + ❘1-+\\ominus\\\n",
       "──────────────────────────────────────────────────────────────────────────────\n",
       "                                          2                                   \n",
       "\n",
       "oplus-⟩\n",
       "───────\n",
       "       "
      ]
     },
     "execution_count": 10,
     "metadata": {},
     "output_type": "execute_result"
    }
   ],
   "source": [
    "mysim(mbk_xyz(ψ, ('y', 1,2), ('x', 3,4,0)))"
   ]
  },
  {
   "cell_type": "markdown",
   "id": "77706ed8",
   "metadata": {},
   "source": [
    "# $S_z$-, $S_x$- and $S_y$-basis ans Bell Basis"
   ]
  },
  {
   "cell_type": "code",
   "execution_count": 189,
   "id": "396e04c5",
   "metadata": {},
   "outputs": [],
   "source": [
    "\"\"\"\n",
    "Interesting function to say exactly which matrix values\n",
    "are different from zero and at the same time have a visualization\n",
    "of the state vector as if it were written in Dirac notation\n",
    "\"\"\"\n",
    "def pbk(seq, dim=2, mtype=0):\n",
    "    \"\"\"\n",
    "    Args:\n",
    "        seq (str): input sequence. Ex: '010110'\n",
    "        dim (int): computational basis dimension (default=2 for qubits)\n",
    "        mtype (int): array type, column array or row array. Zero (default=0) for\n",
    "            row matrix and one (1) for row matrix\n",
    "\n",
    "    Returns:\n",
    "        array: ket vector for the input sequence in the computational basis of dimension 'dim'\n",
    "    \"\"\"\n",
    "    vec = []\n",
    "    for digito in seq:\n",
    "        vec.append(digito)\n",
    "    n = len(vec)\n",
    "    if vec[0] == '+':\n",
    "        psi = (1/sqrt(2))*(cb(dim, 0) + cb(dim, 1))\n",
    "    elif vec[0] == '-':\n",
    "        psi = (1/sqrt(2))*(cb(dim, 0) - cb(dim, 1))\n",
    "    elif vec[0] == 'r':\n",
    "        psi = (1/sqrt(2))*(cb(dim, 0) + 1j*cb(dim, 1))\n",
    "    elif vec[0] == 'l':\n",
    "        psi = (1/sqrt(2))*(cb(dim, 0) - 1j*cb(dim, 1))\n",
    "    elif vec[0] == 'P':\n",
    "        psi = (1/sqrt(2))*(tp(cb(dim, 0), cb(dim, 0)) + tp(cb(dim, 1),cb(dim, 1)))\n",
    "    elif vec[0] == 'Q':\n",
    "        psi = (1/sqrt(2))*(tp(cb(dim, 0), cb(dim, 0)) - tp(cb(dim, 1),cb(dim, 1)))\n",
    "    elif vec[0] == 'R':\n",
    "        psi = (1/sqrt(2))*(tp(cb(dim, 0), cb(dim, 1)) + tp(cb(dim, 1),cb(dim, 0)))\n",
    "    elif vec[0] == 'S':\n",
    "        psi = (1/sqrt(2))*(tp(cb(dim, 0), cb(dim, 1)) - tp(cb(dim, 1),cb(dim, 0)))\n",
    "    else:\n",
    "        psi = cb(dim, int(vec[0]))\n",
    "    for j in range(1,n):\n",
    "        if vec[j] == '+':\n",
    "            psi = (1/sqrt(2))*(tp(psi,cb(dim, 0)) + tp(psi,cb(dim, 1)))\n",
    "        elif vec[j] == '-':\n",
    "            psi = (1/sqrt(2))*(tp(psi,cb(dim, 0)) - tp(psi,cb(dim, 1)))\n",
    "        elif vec[j] == 'r':\n",
    "            psi = (1/sqrt(2))*(tp(psi,cb(dim, 0)) + 1j*tp(psi,cb(dim, 1)))\n",
    "        elif vec[j] == 'l':\n",
    "            psi = (1/sqrt(2))*(tp(psi,cb(dim, 0)) - 1j*tp(psi,cb(dim, 1)))\n",
    "        elif vec[j] == 'P':\n",
    "            psi = (1/sqrt(2))*tp(psi,(tp(cb(dim, 0), cb(dim, 0)) + tp(cb(dim, 1),cb(dim, 1))))\n",
    "        elif vec[j] == 'Q':\n",
    "            psi = (1/sqrt(2))*tp(psi,(tp(cb(dim, 0), cb(dim, 0)) - tp(cb(dim, 1),cb(dim, 1))))\n",
    "        elif vec[j] == 'R':\n",
    "            psi = (1/sqrt(2))*tp(psi,(tp(cb(dim, 0), cb(dim, 1)) + tp(cb(dim, 1),cb(dim, 0))))\n",
    "        elif vec[j] == 'S':\n",
    "            psi = (1/sqrt(2))*tp(psi,(tp(cb(dim, 0), cb(dim, 1)) - tp(cb(dim, 1),cb(dim, 0))))\n",
    "        else:\n",
    "            psi = tp(psi,cb(dim, int(vec[j])))\n",
    "    if mtype == 1:\n",
    "        return transpose(psi).as_mutable()\n",
    "    return psi"
   ]
  },
  {
   "cell_type": "code",
   "execution_count": 190,
   "id": "8d836333",
   "metadata": {},
   "outputs": [],
   "source": [
    "def mbk_xyzBB(matrix, *bpos):\n",
    "    base = [t[0] for t in bpos]\n",
    "    lst = [t[1:] for t in bpos]\n",
    "    matrix_aux = copy.deepcopy(matrix)\n",
    "    for j in range(len(base)):\n",
    "        if base[j] == 'x' or base[j] == 'y':\n",
    "            for k in range(len(lst[j])):\n",
    "                matrix_aux = xyzBasis(matrix_aux, lst[j][k], base=base[j])\n",
    "        elif base[j] == 'BB':\n",
    "            for k in range(len(lst[j])):\n",
    "                matrix_aux = BBasis(matrix_aux, lst[j][k])\n",
    "    val, poss, poss_bin, order = [], [], [], [[]]\n",
    "    if isinstance(matrix_aux, sympy.matrices.dense.MutableDenseMatrix):\n",
    "        n_linhas, n_colunas = matrix_aux.shape\n",
    "        if n_colunas == 1:\n",
    "            Psi = 0\n",
    "            x = len(matrix_aux)\n",
    "            n = int(math.log(x)/math.log(2))\n",
    "            for i in range(x):\n",
    "                if matrix_aux[i] != 0:\n",
    "                    val.append(matrix_aux[i])\n",
    "                    poss_bin.append(format(i, f'0{int(math.log(x)/math.log(2))}b'))\n",
    "            for i in range(len(base)):\n",
    "                for j in range(len(val)):\n",
    "                    order = []\n",
    "                    for k in range(len(lst[i])):\n",
    "                        if base[i] == 'x':\n",
    "                            if poss_bin[j][n-1-lst[i][k]] == str('0'):\n",
    "                                order.append(poss_bin[j][:n-1-lst[i][k]] + 'a' + poss_bin[j][n-lst[i][k]:])\n",
    "                            elif poss_bin[j][n-1-lst[i][k]] == str('1'):\n",
    "                                order.append(poss_bin[j][:n-1-lst[i][k]] + 'b' + poss_bin[j][n-lst[i][k]:])\n",
    "                        if base[i] == 'y':\n",
    "                            if poss_bin[j][n-1-lst[i][k]] == str('0'):\n",
    "                                order.append(poss_bin[j][:n-1-lst[i][k]] + 'c' + poss_bin[j][n-lst[i][k]:])\n",
    "                            elif poss_bin[j][n-1-lst[i][k]] == str('1'):\n",
    "                                order.append(poss_bin[j][:n-1-lst[i][k]] + 'd' + poss_bin[j][n-lst[i][k]:])\n",
    "                        if base[i] == 'BB':\n",
    "                            if poss_bin[j][n-1-lst[i][k][0]] == str('0') and poss_bin[j][n-1-lst[i][k][1]] == str('0'):\n",
    "                                order.append(poss_bin[j][:n-1-lst[i][k][0]] + 'PP' + poss_bin[j][n-lst[i][k][1]:])\n",
    "                            if poss_bin[j][n-1-lst[i][k][0]] == str('1') and poss_bin[j][n-1-lst[i][k][1]] == str('1'):\n",
    "                                order.append(poss_bin[j][:n-1-lst[i][k][0]] + 'QQ' + poss_bin[j][n-lst[i][k][1]:])\n",
    "                            if poss_bin[j][n-1-lst[i][k][0]] == str('0') and poss_bin[j][n-1-lst[i][k][1]] == str('1'):\n",
    "                                order.append(poss_bin[j][:n-1-lst[i][k][0]] + 'RR' + poss_bin[j][n-lst[i][k][1]:])\n",
    "                            if poss_bin[j][n-1-lst[i][k][0]] == str('1') and poss_bin[j][n-1-lst[i][k][1]] == str('0'):\n",
    "                                order.append(poss_bin[j][:n-1-lst[i][k][0]] + 'SS' + poss_bin[j][n-lst[i][k][1]:])\n",
    "                        if k < len(lst):\n",
    "                            poss_bin.pop(j)\n",
    "                            poss_bin.insert(j,order[k])\n",
    "                    if i == len(base)-1:\n",
    "                        string = order[-1]\n",
    "                        string = string.replace(\"a\", \"+\").replace(\"b\", \"-\")\\\n",
    "                                .replace(\"c\", \"\\oplus\").replace(\"d\", \"\\ominus\")\\\n",
    "                                .replace(\"PP\", \"\\Phi_{+}\").replace(\"QQ\", \"\\Phi_{-}\")\\\n",
    "                                .replace(\"RR\", \"\\Psi_{+}\").replace(\"SS\", \"\\Psi_{-}\")\n",
    "                        Psi += val[j]*Ket(string)\n",
    "            return Psi"
   ]
  },
  {
   "cell_type": "code",
   "execution_count": 206,
   "id": "78e591c0",
   "metadata": {
    "scrolled": false
   },
   "outputs": [
    {
     "data": {
      "image/png": "[encoded data removed]",
      "text/latex": [
       "$\\displaystyle \\frac{\\sqrt{2} \\left({\\left|000010000\\right\\rangle } + {\\left|000010001\\right\\rangle } + i {\\left|000010010\\right\\rangle } - i {\\left|000010011\\right\\rangle } + {\\left|000010100\\right\\rangle } - {\\left|000010101\\right\\rangle } + i {\\left|000010110\\right\\rangle } + i {\\left|000010111\\right\\rangle } - i {\\left|000011000\\right\\rangle } + i {\\left|000011001\\right\\rangle } + {\\left|000011010\\right\\rangle } + {\\left|000011011\\right\\rangle } - i {\\left|000011100\\right\\rangle } - i {\\left|000011101\\right\\rangle } + {\\left|000011110\\right\\rangle } - {\\left|000011111\\right\\rangle } + {\\left|000100000\\right\\rangle } + {\\left|000100001\\right\\rangle } + i {\\left|000100010\\right\\rangle } - i {\\left|000100011\\right\\rangle } + {\\left|000100100\\right\\rangle } - {\\left|000100101\\right\\rangle } + i {\\left|000100110\\right\\rangle } + i {\\left|000100111\\right\\rangle } - i {\\left|000101000\\right\\rangle } + i {\\left|000101001\\right\\rangle } + {\\left|000101010\\right\\rangle } + {\\left|000101011\\right\\rangle } - i {\\left|000101100\\right\\rangle } - i {\\left|000101101\\right\\rangle } + {\\left|000101110\\right\\rangle } - {\\left|000101111\\right\\rangle } - {\\left|001010000\\right\\rangle } + {\\left|001010001\\right\\rangle } - i {\\left|001010010\\right\\rangle } - i {\\left|001010011\\right\\rangle } - {\\left|001010100\\right\\rangle } - {\\left|001010101\\right\\rangle } - i {\\left|001010110\\right\\rangle } + i {\\left|001010111\\right\\rangle } + i {\\left|001011000\\right\\rangle } + i {\\left|001011001\\right\\rangle } - {\\left|001011010\\right\\rangle } + {\\left|001011011\\right\\rangle } + i {\\left|001011100\\right\\rangle } - i {\\left|001011101\\right\\rangle } - {\\left|001011110\\right\\rangle } - {\\left|001011111\\right\\rangle } - {\\left|001100000\\right\\rangle } + {\\left|001100001\\right\\rangle } - i {\\left|001100010\\right\\rangle } - i {\\left|001100011\\right\\rangle } - {\\left|001100100\\right\\rangle } - {\\left|001100101\\right\\rangle } - i {\\left|001100110\\right\\rangle } + i {\\left|001100111\\right\\rangle } + i {\\left|001101000\\right\\rangle } + i {\\left|001101001\\right\\rangle } - {\\left|001101010\\right\\rangle } + {\\left|001101011\\right\\rangle } + i {\\left|001101100\\right\\rangle } - i {\\left|001101101\\right\\rangle } - {\\left|001101110\\right\\rangle } - {\\left|001101111\\right\\rangle } + {\\left|110010000\\right\\rangle } + {\\left|110010001\\right\\rangle } + i {\\left|110010010\\right\\rangle } - i {\\left|110010011\\right\\rangle } + {\\left|110010100\\right\\rangle } - {\\left|110010101\\right\\rangle } + i {\\left|110010110\\right\\rangle } + i {\\left|110010111\\right\\rangle } - i {\\left|110011000\\right\\rangle } + i {\\left|110011001\\right\\rangle } + {\\left|110011010\\right\\rangle } + {\\left|110011011\\right\\rangle } - i {\\left|110011100\\right\\rangle } - i {\\left|110011101\\right\\rangle } + {\\left|110011110\\right\\rangle } - {\\left|110011111\\right\\rangle } + {\\left|110100000\\right\\rangle } + {\\left|110100001\\right\\rangle } + i {\\left|110100010\\right\\rangle } - i {\\left|110100011\\right\\rangle } + {\\left|110100100\\right\\rangle } - {\\left|110100101\\right\\rangle } + i {\\left|110100110\\right\\rangle } + i {\\left|110100111\\right\\rangle } - i {\\left|110101000\\right\\rangle } + i {\\left|110101001\\right\\rangle } + {\\left|110101010\\right\\rangle } + {\\left|110101011\\right\\rangle } - i {\\left|110101100\\right\\rangle } - i {\\left|110101101\\right\\rangle } + {\\left|110101110\\right\\rangle } - {\\left|110101111\\right\\rangle } - {\\left|111010000\\right\\rangle } + {\\left|111010001\\right\\rangle } - i {\\left|111010010\\right\\rangle } - i {\\left|111010011\\right\\rangle } - {\\left|111010100\\right\\rangle } - {\\left|111010101\\right\\rangle } - i {\\left|111010110\\right\\rangle } + i {\\left|111010111\\right\\rangle } + i {\\left|111011000\\right\\rangle } + i {\\left|111011001\\right\\rangle } - {\\left|111011010\\right\\rangle } + {\\left|111011011\\right\\rangle } + i {\\left|111011100\\right\\rangle } - i {\\left|111011101\\right\\rangle } - {\\left|111011110\\right\\rangle } - {\\left|111011111\\right\\rangle } - {\\left|111100000\\right\\rangle } + {\\left|111100001\\right\\rangle } - i {\\left|111100010\\right\\rangle } - i {\\left|111100011\\right\\rangle } - {\\left|111100100\\right\\rangle } - {\\left|111100101\\right\\rangle } - i {\\left|111100110\\right\\rangle } + i {\\left|111100111\\right\\rangle } + i {\\left|111101000\\right\\rangle } + i {\\left|111101001\\right\\rangle } - {\\left|111101010\\right\\rangle } + {\\left|111101011\\right\\rangle } + i {\\left|111101100\\right\\rangle } - i {\\left|111101101\\right\\rangle } - {\\left|111101110\\right\\rangle } - {\\left|111101111\\right\\rangle }\\right)}{16}$"
      ],
      "text/plain": [
       "√2⋅(❘000010000⟩ + ❘000010001⟩ + ⅈ⋅❘000010010⟩ - ⅈ⋅❘000010011⟩ + ❘000010100⟩ - \n",
       "──────────────────────────────────────────────────────────────────────────────\n",
       "                                                                              \n",
       "\n",
       "❘000010101⟩ + ⅈ⋅❘000010110⟩ + ⅈ⋅❘000010111⟩ - ⅈ⋅❘000011000⟩ + ⅈ⋅❘000011001⟩ + \n",
       "──────────────────────────────────────────────────────────────────────────────\n",
       "                                                                              \n",
       "\n",
       "❘000011010⟩ + ❘000011011⟩ - ⅈ⋅❘000011100⟩ - ⅈ⋅❘000011101⟩ + ❘000011110⟩ - ❘000\n",
       "──────────────────────────────────────────────────────────────────────────────\n",
       "                                                                              \n",
       "\n",
       "011111⟩ + ❘000100000⟩ + ❘000100001⟩ + ⅈ⋅❘000100010⟩ - ⅈ⋅❘000100011⟩ + ❘0001001\n",
       "──────────────────────────────────────────────────────────────────────────────\n",
       "                                                                              \n",
       "\n",
       "00⟩ - ❘000100101⟩ + ⅈ⋅❘000100110⟩ + ⅈ⋅❘000100111⟩ - ⅈ⋅❘000101000⟩ + ⅈ⋅❘0001010\n",
       "──────────────────────────────────────────────────────────────────────────────\n",
       "                                                                              \n",
       "\n",
       "01⟩ + ❘000101010⟩ + ❘000101011⟩ - ⅈ⋅❘000101100⟩ - ⅈ⋅❘000101101⟩ + ❘000101110⟩ \n",
       "──────────────────────────────────────────────────────────────────────────────\n",
       "                                                                              \n",
       "\n",
       "- ❘000101111⟩ - ❘001010000⟩ + ❘001010001⟩ - ⅈ⋅❘001010010⟩ - ⅈ⋅❘001010011⟩ - ❘0\n",
       "──────────────────────────────────────────────────────────────────────────────\n",
       "                                                                              \n",
       "\n",
       "01010100⟩ - ❘001010101⟩ - ⅈ⋅❘001010110⟩ + ⅈ⋅❘001010111⟩ + ⅈ⋅❘001011000⟩ + ⅈ⋅❘0\n",
       "──────────────────────────────────────────────────────────────────────────────\n",
       "                                                                              \n",
       "\n",
       "01011001⟩ - ❘001011010⟩ + ❘001011011⟩ + ⅈ⋅❘001011100⟩ - ⅈ⋅❘001011101⟩ - ❘00101\n",
       "──────────────────────────────────────────────────────────────────────────────\n",
       "                                                                              \n",
       "\n",
       "1110⟩ - ❘001011111⟩ - ❘001100000⟩ + ❘001100001⟩ - ⅈ⋅❘001100010⟩ - ⅈ⋅❘001100011\n",
       "──────────────────────────────────────────────────────────────────────────────\n",
       "                                                                              \n",
       "\n",
       "⟩ - ❘001100100⟩ - ❘001100101⟩ - ⅈ⋅❘001100110⟩ + ⅈ⋅❘001100111⟩ + ⅈ⋅❘001101000⟩ \n",
       "──────────────────────────────────────────────────────────────────────────────\n",
       "                                                                              \n",
       "\n",
       "+ ⅈ⋅❘001101001⟩ - ❘001101010⟩ + ❘001101011⟩ + ⅈ⋅❘001101100⟩ - ⅈ⋅❘001101101⟩ - \n",
       "──────────────────────────────────────────────────────────────────────────────\n",
       "                                                                              \n",
       "\n",
       "❘001101110⟩ - ❘001101111⟩ + ❘110010000⟩ + ❘110010001⟩ + ⅈ⋅❘110010010⟩ - ⅈ⋅❘110\n",
       "──────────────────────────────────────────────────────────────────────────────\n",
       "                        16                                                    \n",
       "\n",
       "010011⟩ + ❘110010100⟩ - ❘110010101⟩ + ⅈ⋅❘110010110⟩ + ⅈ⋅❘110010111⟩ - ⅈ⋅❘11001\n",
       "──────────────────────────────────────────────────────────────────────────────\n",
       "                                                                              \n",
       "\n",
       "1000⟩ + ⅈ⋅❘110011001⟩ + ❘110011010⟩ + ❘110011011⟩ - ⅈ⋅❘110011100⟩ - ⅈ⋅❘1100111\n",
       "──────────────────────────────────────────────────────────────────────────────\n",
       "                                                                              \n",
       "\n",
       "01⟩ + ❘110011110⟩ - ❘110011111⟩ + ❘110100000⟩ + ❘110100001⟩ + ⅈ⋅❘110100010⟩ - \n",
       "──────────────────────────────────────────────────────────────────────────────\n",
       "                                                                              \n",
       "\n",
       "ⅈ⋅❘110100011⟩ + ❘110100100⟩ - ❘110100101⟩ + ⅈ⋅❘110100110⟩ + ⅈ⋅❘110100111⟩ - ⅈ⋅\n",
       "──────────────────────────────────────────────────────────────────────────────\n",
       "                                                                              \n",
       "\n",
       "❘110101000⟩ + ⅈ⋅❘110101001⟩ + ❘110101010⟩ + ❘110101011⟩ - ⅈ⋅❘110101100⟩ - ⅈ⋅❘1\n",
       "──────────────────────────────────────────────────────────────────────────────\n",
       "                                                                              \n",
       "\n",
       "10101101⟩ + ❘110101110⟩ - ❘110101111⟩ - ❘111010000⟩ + ❘111010001⟩ - ⅈ⋅❘1110100\n",
       "──────────────────────────────────────────────────────────────────────────────\n",
       "                                                                              \n",
       "\n",
       "10⟩ - ⅈ⋅❘111010011⟩ - ❘111010100⟩ - ❘111010101⟩ - ⅈ⋅❘111010110⟩ + ⅈ⋅❘111010111\n",
       "──────────────────────────────────────────────────────────────────────────────\n",
       "                                                                              \n",
       "\n",
       "⟩ + ⅈ⋅❘111011000⟩ + ⅈ⋅❘111011001⟩ - ❘111011010⟩ + ❘111011011⟩ + ⅈ⋅❘111011100⟩ \n",
       "──────────────────────────────────────────────────────────────────────────────\n",
       "                                                                              \n",
       "\n",
       "- ⅈ⋅❘111011101⟩ - ❘111011110⟩ - ❘111011111⟩ - ❘111100000⟩ + ❘111100001⟩ - ⅈ⋅❘1\n",
       "──────────────────────────────────────────────────────────────────────────────\n",
       "                                                                              \n",
       "\n",
       "11100010⟩ - ⅈ⋅❘111100011⟩ - ❘111100100⟩ - ❘111100101⟩ - ⅈ⋅❘111100110⟩ + ⅈ⋅❘111\n",
       "──────────────────────────────────────────────────────────────────────────────\n",
       "                                                                              \n",
       "\n",
       "100111⟩ + ⅈ⋅❘111101000⟩ + ⅈ⋅❘111101001⟩ - ❘111101010⟩ + ❘111101011⟩ + ⅈ⋅❘11110\n",
       "──────────────────────────────────────────────────────────────────────────────\n",
       "                                                                              \n",
       "\n",
       "1100⟩ - ⅈ⋅❘111101101⟩ - ❘111101110⟩ - ❘111101111⟩)\n",
       "──────────────────────────────────────────────────\n",
       "                                                  "
      ]
     },
     "execution_count": 206,
     "metadata": {},
     "output_type": "execute_result"
    }
   ],
   "source": [
    "ψ = (1/sqrt(2))*(pbk('P-Rl+r0') + pbk('P+Rr-l1'))\n",
    "mysim(mbk(ψ))"
   ]
  },
  {
   "cell_type": "code",
   "execution_count": 207,
   "id": "dd046e18",
   "metadata": {},
   "outputs": [
    {
     "data": {
      "image/png": "[encoded data removed]",
      "text/latex": [
       "$\\displaystyle \\frac{\\sqrt{2} \\left({\\left|\\Phi_{+}+\\Psi_{+}\\oplus-\\ominus1\\right\\rangle } + {\\left|\\Phi_{+}-\\Psi_{+}\\ominus+\\oplus0\\right\\rangle }\\right)}{2}$"
      ],
      "text/plain": [
       "√2⋅(❘\\Phi_{+}+\\Psi_{+}\\oplus-\\ominus1⟩ + ❘\\Phi_{+}-\\Psi_{+}\\ominus+\\oplus0⟩)\n",
       "────────────────────────────────────────────────────────────────────────────\n",
       "                                     2                                      "
      ]
     },
     "execution_count": 207,
     "metadata": {},
     "output_type": "execute_result"
    }
   ],
   "source": [
    "mysim( mbk_xyzBB( ψ, ('y', 3, 1), ('BB', (8,7), (5,4)), ('x', 6, 2) ) )"
   ]
  },
  {
   "cell_type": "markdown",
   "id": "28bd6203",
   "metadata": {},
   "source": [
    "## Just `mbk` with specific base"
   ]
  },
  {
   "cell_type": "code",
   "execution_count": 151,
   "id": "e58cbd01",
   "metadata": {},
   "outputs": [],
   "source": [
    "import re\n",
    "\"\"\"\n",
    "Interesting function to say exactly which matrix values\n",
    "are different from zero and at the same time have a visualization\n",
    "of the state vector as if it were written in Dirac notation\n",
    "\"\"\"\n",
    "def pbk(seq, dim=2, mtype=0, prnt=0):\n",
    "    \"\"\"\n",
    "    Args:\n",
    "        seq (str): input sequence. Ex: '010110'\n",
    "        dim (int): computational basis dimension (default=2 for qubits)\n",
    "        mtype (int): array type, column array or row array. Zero (default=0) for\n",
    "            row matrix and one (1) for row matrix\n",
    "\n",
    "    Returns:\n",
    "        array: ket vector for the input sequence in the computational basis of dimension 'dim'\n",
    "    \"\"\"\n",
    "    if prnt==0:\n",
    "        vec = []\n",
    "        for digito in seq:\n",
    "            vec.append(digito)\n",
    "        n = len(vec)\n",
    "        if vec[0] == '+':\n",
    "            psi = (1/sqrt(2))*(cb(dim, 0) + cb(dim, 1))\n",
    "        elif vec[0] == '-':\n",
    "            psi = (1/sqrt(2))*(cb(dim, 0) - cb(dim, 1))\n",
    "        elif vec[0] == 'r':\n",
    "            psi = (1/sqrt(2))*(cb(dim, 0) + 1j*cb(dim, 1))\n",
    "        elif vec[0] == 'l':\n",
    "            psi = (1/sqrt(2))*(cb(dim, 0) - 1j*cb(dim, 1))\n",
    "        elif vec[0] == 'P':\n",
    "            psi = (1/sqrt(2))*(tp(cb(dim, 0), cb(dim, 0)) + tp(cb(dim, 1),cb(dim, 1)))\n",
    "        elif vec[0] == 'Q':\n",
    "            psi = (1/sqrt(2))*(tp(cb(dim, 0), cb(dim, 0)) - tp(cb(dim, 1),cb(dim, 1)))\n",
    "        elif vec[0] == 'R':\n",
    "            psi = (1/sqrt(2))*(tp(cb(dim, 0), cb(dim, 1)) + tp(cb(dim, 1),cb(dim, 0)))\n",
    "        elif vec[0] == 'S':\n",
    "            psi = (1/sqrt(2))*(tp(cb(dim, 0), cb(dim, 1)) - tp(cb(dim, 1),cb(dim, 0)))\n",
    "        else:\n",
    "            psi = cb(dim, int(vec[0]))\n",
    "        for j in range(1,n):\n",
    "            if vec[j] == '+':\n",
    "                psi = (1/sqrt(2))*(tp(psi,cb(dim, 0)) + tp(psi,cb(dim, 1)))\n",
    "            elif vec[j] == '-':\n",
    "                psi = (1/sqrt(2))*(tp(psi,cb(dim, 0)) - tp(psi,cb(dim, 1)))\n",
    "            elif vec[j] == 'r':\n",
    "                psi = (1/sqrt(2))*(tp(psi,cb(dim, 0)) + 1j*tp(psi,cb(dim, 1)))\n",
    "            elif vec[j] == 'l':\n",
    "                psi = (1/sqrt(2))*(tp(psi,cb(dim, 0)) - 1j*tp(psi,cb(dim, 1)))\n",
    "            elif vec[j] == 'P':\n",
    "                psi = (1/sqrt(2))*tp(psi,(tp(cb(dim, 0), cb(dim, 0)) + tp(cb(dim, 1),cb(dim, 1))))\n",
    "            elif vec[j] == 'Q':\n",
    "                psi = (1/sqrt(2))*tp(psi,(tp(cb(dim, 0), cb(dim, 0)) - tp(cb(dim, 1),cb(dim, 1))))\n",
    "            elif vec[j] == 'R':\n",
    "                psi = (1/sqrt(2))*tp(psi,(tp(cb(dim, 0), cb(dim, 1)) + tp(cb(dim, 1),cb(dim, 0))))\n",
    "            elif vec[j] == 'S':\n",
    "                psi = (1/sqrt(2))*tp(psi,(tp(cb(dim, 0), cb(dim, 1)) - tp(cb(dim, 1),cb(dim, 0))))\n",
    "            else:\n",
    "                psi = tp(psi,cb(dim, int(vec[j])))\n",
    "        if mtype == 1:\n",
    "            return transpose(psi).as_mutable()\n",
    "        return psi\n",
    "    elif prnt==1:\n",
    "        vec = []\n",
    "        Psi = 0\n",
    "        for digito in seq:\n",
    "            vec.append(digito)\n",
    "        for j in range(len(vec)):\n",
    "            if vec[j]==\"r\":\n",
    "                vec[j] = \"\\\\oplus\"\n",
    "            else:\n",
    "                vec[j] = vec[j].replace(\"P\", \"\\Phi_{+}\").replace(\"Q\", \"\\Phi_{-}\")\\\n",
    "                           .replace(\"R\", \"\\Psi_{+}\").replace(\"S\", \"\\Psi_{-}\")\\\n",
    "                           .replace(\"l\", \"\\ominus\")\n",
    "        for j in range(len(vec)):\n",
    "            if j==0:\n",
    "                Psi = Ket(vec[j])\n",
    "            else:\n",
    "                Psi = tp(Psi, Ket(vec[j]))\n",
    "        return Psi"
   ]
  },
  {
   "cell_type": "code",
   "execution_count": 152,
   "id": "5072f5c5",
   "metadata": {},
   "outputs": [
    {
     "data": {
      "image/png": "[encoded data removed]",
      "text/latex": [
       "$\\displaystyle {{{{{{{{{{{{\\left|\\Phi_{+}\\right\\rangle }}\\otimes {{\\left|\\Phi_{-}\\right\\rangle }}}\\otimes {{\\left|0\\right\\rangle }}}\\otimes {{\\left|+\\right\\rangle }}}\\otimes {{\\left|\\oplus\\right\\rangle }}}\\otimes {{\\left|1\\right\\rangle }}}\\otimes {{\\left|0\\right\\rangle }}}\\otimes {{\\left|\\ominus\\right\\rangle }}}\\otimes {{\\left|-\\right\\rangle }}}\\otimes {{\\left|1\\right\\rangle }}}\\otimes {{\\left|\\Psi_{+}\\right\\rangle }}}\\otimes {{\\left|\\Psi_{-}\\right\\rangle }}$"
      ],
      "text/plain": [
       "❘\\Phi_{+}⟩⨂ ❘\\Phi_{-}⟩⨂ ❘0⟩⨂ ❘+⟩⨂ ❘\\oplus⟩⨂ ❘1⟩⨂ ❘0⟩⨂ ❘\\ominus⟩⨂ ❘-⟩⨂ ❘1⟩⨂ ❘\\P\n",
       "si_{+}⟩⨂ ❘\\Psi_{-}⟩"
      ]
     },
     "execution_count": 152,
     "metadata": {},
     "output_type": "execute_result"
    }
   ],
   "source": [
    "ψ = pbk(\"PQ0+r10l-1RS\", prnt=1)\n",
    "ψ"
   ]
  },
  {
   "cell_type": "code",
   "execution_count": 153,
   "id": "22c5620b",
   "metadata": {},
   "outputs": [
    {
     "data": {
      "image/png": "[encoded data removed]",
      "text/latex": [
       "$\\displaystyle {{\\left|\\Phi_{+}\\right\\rangle }}\\otimes {{\\left|\\Phi_{-}\\right\\rangle }}\\otimes {{\\left|\\Psi_{+}\\right\\rangle }}\\otimes {{\\left|\\Psi_{-}\\right\\rangle }}$"
      ],
      "text/plain": [
       "❘\\Phi_{+}⟩⨂ ❘\\Phi_{-}⟩⨂ ❘\\Psi_{+}⟩⨂ ❘\\Psi_{-}⟩"
      ]
     },
     "execution_count": 153,
     "metadata": {},
     "output_type": "execute_result"
    }
   ],
   "source": [
    "ψ = tp(pbk(\"P\", prnt=1), pbk(\"Q\", prnt=1), pbk(\"R\", prnt=1), pbk(\"S\", prnt=1))\n",
    "ψ"
   ]
  },
  {
   "cell_type": "markdown",
   "id": "cb97f2bc",
   "metadata": {},
   "source": [
    "## Just `mbk` with specific base 2"
   ]
  },
  {
   "cell_type": "code",
   "execution_count": 179,
   "id": "fb8a92c7",
   "metadata": {},
   "outputs": [],
   "source": [
    "import re\n",
    "\"\"\"\n",
    "Interesting function to say exactly which matrix values\n",
    "are different from zero and at the same time have a visualization\n",
    "of the state vector as if it were written in Dirac notation\n",
    "\"\"\"\n",
    "def pbk(seq, mtype=0):\n",
    "    \"\"\"\n",
    "    Args:\n",
    "        seq (str): input sequence. Ex: '010110'\n",
    "        dim (int): computational basis dimension (default=2 for qubits)\n",
    "        mtype (int): array type, column array or row array. Zero (default=0) for\n",
    "            row matrix and one (1) for row matrix\n",
    "\n",
    "    Returns:\n",
    "        array: ket vector for the input sequence in the computational basis of dimension 'dim'\n",
    "    \"\"\"\n",
    "    vec = []\n",
    "    for digito in seq:\n",
    "        vec.append(digito)\n",
    "    n = len(vec)\n",
    "    if vec[0] == '+':\n",
    "        psi = (1/sqrt(2))*(cb(dim, 0) + cb(dim, 1))\n",
    "    elif vec[0] == '-':\n",
    "        psi = (1/sqrt(2))*(cb(dim, 0) - cb(dim, 1))\n",
    "    elif vec[0] == 'r':\n",
    "        psi = (1/sqrt(2))*(cb(dim, 0) + 1j*cb(dim, 1))\n",
    "    elif vec[0] == 'l':\n",
    "        psi = (1/sqrt(2))*(cb(dim, 0) - 1j*cb(dim, 1))\n",
    "    elif vec[0] == 'P':\n",
    "        psi = (1/sqrt(2))*(tp(cb(dim, 0), cb(dim, 0)) + tp(cb(dim, 1),cb(dim, 1)))\n",
    "    elif vec[0] == 'Q':\n",
    "        psi = (1/sqrt(2))*(tp(cb(dim, 0), cb(dim, 0)) - tp(cb(dim, 1),cb(dim, 1)))\n",
    "    elif vec[0] == 'R':\n",
    "        psi = (1/sqrt(2))*(tp(cb(dim, 0), cb(dim, 1)) + tp(cb(dim, 1),cb(dim, 0)))\n",
    "    elif vec[0] == 'S':\n",
    "        psi = (1/sqrt(2))*(tp(cb(dim, 0), cb(dim, 1)) - tp(cb(dim, 1),cb(dim, 0)))\n",
    "    else:\n",
    "        psi = cb(dim, int(vec[0]))\n",
    "    for j in range(1,n):\n",
    "        if vec[j] == '+':\n",
    "            psi = (1/sqrt(2))*(tp(psi,cb(dim, 0)) + tp(psi,cb(dim, 1)))\n",
    "        elif vec[j] == '-':\n",
    "            psi = (1/sqrt(2))*(tp(psi,cb(dim, 0)) - tp(psi,cb(dim, 1)))\n",
    "        elif vec[j] == 'r':\n",
    "            psi = (1/sqrt(2))*(tp(psi,cb(dim, 0)) + 1j*tp(psi,cb(dim, 1)))\n",
    "        elif vec[j] == 'l':\n",
    "            psi = (1/sqrt(2))*(tp(psi,cb(dim, 0)) - 1j*tp(psi,cb(dim, 1)))\n",
    "        elif vec[j] == 'P':\n",
    "            psi = (1/sqrt(2))*tp(psi,(tp(cb(dim, 0), cb(dim, 0)) + tp(cb(dim, 1),cb(dim, 1))))\n",
    "        elif vec[j] == 'Q':\n",
    "            psi = (1/sqrt(2))*tp(psi,(tp(cb(dim, 0), cb(dim, 0)) - tp(cb(dim, 1),cb(dim, 1))))\n",
    "        elif vec[j] == 'R':\n",
    "            psi = (1/sqrt(2))*tp(psi,(tp(cb(dim, 0), cb(dim, 1)) + tp(cb(dim, 1),cb(dim, 0))))\n",
    "        elif vec[j] == 'S':\n",
    "            psi = (1/sqrt(2))*tp(psi,(tp(cb(dim, 0), cb(dim, 1)) - tp(cb(dim, 1),cb(dim, 0))))\n",
    "        else:\n",
    "            psi = tp(psi,cb(dim, int(vec[j])))\n",
    "    if mtype == 1:\n",
    "        return transpose(psi).as_mutable()\n",
    "    return psi"
   ]
  },
  {
   "cell_type": "code",
   "execution_count": 180,
   "id": "ac0c7490",
   "metadata": {},
   "outputs": [
    {
     "name": "stdout",
     "output_type": "stream",
     "text": [
      "['P', 'Q']\n",
      "['\\\\Phi_{+}', '\\\\Phi_{-}']\n",
      "PQ\n",
      "['P', 'Q']\n"
     ]
    },
    {
     "data": {
      "image/png": "[encoded data removed]",
      "text/latex": [
       "$\\displaystyle {\\left|\\Phi_{+}\\right\\rangle }$"
      ],
      "text/plain": [
       "❘\\Phi_{+}⟩"
      ]
     },
     "metadata": {},
     "output_type": "display_data"
    },
    {
     "name": "stdout",
     "output_type": "stream",
     "text": [
      "['P', 'R']\n",
      "['\\\\Phi_{+}', '\\\\Psi_{+}']\n",
      "PR\n",
      "['P', 'R']\n"
     ]
    },
    {
     "data": {
      "image/png": "[encoded data removed]",
      "text/latex": [
       "$\\displaystyle {\\left|\\Phi_{+}\\right\\rangle }$"
      ],
      "text/plain": [
       "❘\\Phi_{+}⟩"
      ]
     },
     "metadata": {},
     "output_type": "display_data"
    },
    {
     "data": {
      "image/png": "[encoded data removed]",
      "text/latex": [
       "$\\displaystyle \\frac{\\sqrt{2} \\left({{\\left|\\Phi_{+}\\right\\rangle }}\\otimes {{\\left|\\Phi_{-}\\right\\rangle }} + {{\\left|\\Phi_{+}\\right\\rangle }}\\otimes {{\\left|\\Psi_{+}\\right\\rangle }}\\right)}{2}$"
      ],
      "text/plain": [
       "√2⋅(❘\\Phi_{+}⟩⨂ ❘\\Phi_{-}⟩ + ❘\\Phi_{+}⟩⨂ ❘\\Psi_{+}⟩)\n",
       "────────────────────────────────────────────────────\n",
       "                         2                          "
      ]
     },
     "execution_count": 180,
     "metadata": {},
     "output_type": "execute_result"
    }
   ],
   "source": [
    "ψ = (1/sqrt(2))*(pbk(\"PQ\", prnt=1) + pbk(\"PR\", prnt=1))\n",
    "mysim(ψ)"
   ]
  },
  {
   "cell_type": "code",
   "execution_count": 156,
   "id": "bd363c68",
   "metadata": {
    "scrolled": true
   },
   "outputs": [
    {
     "data": {
      "image/png": "[encoded data removed]",
      "text/latex": [
       "$\\displaystyle {{\\left|\\Phi_{+}\\right\\rangle }}\\otimes {{\\left|\\Phi_{-}\\right\\rangle }}\\otimes {{\\left|\\Psi_{+}\\right\\rangle }}\\otimes {{\\left|\\Psi_{-}\\right\\rangle }}$"
      ],
      "text/plain": [
       "❘\\Phi_{+}⟩⨂ ❘\\Phi_{-}⟩⨂ ❘\\Psi_{+}⟩⨂ ❘\\Psi_{-}⟩"
      ]
     },
     "execution_count": 156,
     "metadata": {},
     "output_type": "execute_result"
    }
   ],
   "source": [
    "ψ = tp(pbk(\"P\", prnt=1), pbk(\"Q\", prnt=1), pbk(\"R\", prnt=1), pbk(\"S\", prnt=1))\n",
    "ψ"
   ]
  },
  {
   "cell_type": "markdown",
   "id": "692bb73f",
   "metadata": {},
   "source": [
    "## Just `mbk` with specific base 3"
   ]
  },
  {
   "cell_type": "code",
   "execution_count": 181,
   "id": "74eb1fe9",
   "metadata": {},
   "outputs": [],
   "source": [
    "\"\"\"\n",
    "Interesting function to say exactly which matrix values\n",
    "are different from zero and at the same time have a visualization\n",
    "of the state vector as if it were written in Dirac notation\n",
    "\"\"\"\n",
    "def mbk_pbk(seq, mtype=0):\n",
    "    \"\"\"\n",
    "    Args:\n",
    "        seq (str): input sequence. Ex: '010110'\n",
    "        dim (int): computational basis dimension (default=2 for qubits)\n",
    "        mtype (int): array type, column array or row array. Zero (default=0) for\n",
    "            row matrix and one (1) for row matrix\n",
    "\n",
    "    Returns:\n",
    "        array: ket vector for the input sequence in the computational basis of dimension 'dim'\n",
    "    \"\"\"\n",
    "    vec = []\n",
    "    Psi = 0\n",
    "    for digito in seq:\n",
    "        vec.append(digito)\n",
    "    for j in range(len(vec)):\n",
    "        if vec[j]==\"r\":\n",
    "            vec[j] = \"\\\\oplus\"\n",
    "        else:\n",
    "            vec[j] = vec[j].replace(\"P\", \"\\Phi_{+}\").replace(\"Q\", \"\\Phi_{-}\")\\\n",
    "                       .replace(\"R\", \"\\Psi_{+}\").replace(\"S\", \"\\Psi_{-}\")\\\n",
    "                       .replace(\"l\", \"\\ominus\")\n",
    "    string = ''.join(vec)\n",
    "    string2 = string.replace(\"\\Phi_{+}\", \"P\").replace(\"\\Phi_{-}\", \"Q\")\\\n",
    "                       .replace(\"\\Psi_{+}\", \"R\").replace(\"\\Psi_{-}\", \"S\")\\\n",
    "                       .replace(\"\\ominus\", \"l\").replace(\"\\oplus\", \"r\")\n",
    "    for j in range(len(vec)):\n",
    "        if j==0:\n",
    "            Psi = Ket(vec[j])\n",
    "        else:\n",
    "            Psi = tp(Psi, Ket(vec[j]))\n",
    "    return Psi"
   ]
  },
  {
   "cell_type": "code",
   "execution_count": 186,
   "id": "d00de8f5",
   "metadata": {},
   "outputs": [
    {
     "data": {
      "image/png": "[encoded data removed]",
      "text/latex": [
       "$\\displaystyle \\frac{\\sqrt{2} {{\\left|\\Phi_{+}\\right\\rangle }}\\otimes \\left({{\\left|\\Phi_{+}\\right\\rangle } + {\\left|\\Psi_{+}\\right\\rangle }}\\right)}{2}$"
      ],
      "text/plain": [
       "√2⋅❘\\Phi_{+}⟩⨂ (❘\\Phi_{+}⟩ + ❘\\Psi_{+}⟩)\n",
       "────────────────────────────────────────\n",
       "                   2                    "
      ]
     },
     "execution_count": 186,
     "metadata": {},
     "output_type": "execute_result"
    }
   ],
   "source": [
    "ψ = (1/sqrt(2))*tp(mbk_pbk(\"P\"),(mbk_pbk(\"P\") + mbk_pbk(\"R\")))\n",
    "mysim(ψ)"
   ]
  },
  {
   "cell_type": "code",
   "execution_count": 187,
   "id": "31794629",
   "metadata": {},
   "outputs": [
    {
     "data": {
      "image/png": "[encoded data removed]",
      "text/latex": [
       "$\\displaystyle {{{{\\left|\\Phi_{+}\\right\\rangle }}\\otimes {{\\left|\\Phi_{-}\\right\\rangle }}}\\otimes {{\\left|\\Psi_{+}\\right\\rangle }}}\\otimes {{\\left|\\Psi_{-}\\right\\rangle }}$"
      ],
      "text/plain": [
       "❘\\Phi_{+}⟩⨂ ❘\\Phi_{-}⟩⨂ ❘\\Psi_{+}⟩⨂ ❘\\Psi_{-}⟩"
      ]
     },
     "execution_count": 187,
     "metadata": {},
     "output_type": "execute_result"
    }
   ],
   "source": [
    "ψ = mbk_pbk(\"PQRS\")\n",
    "mysim(ψ)"
   ]
  },
  {
   "cell_type": "code",
   "execution_count": 172,
   "id": "d77c63f0",
   "metadata": {},
   "outputs": [
    {
     "data": {
      "image/png": "[encoded data removed]",
      "text/latex": [
       "$\\displaystyle {{\\left|\\Phi_{+}\\right\\rangle }}\\otimes {{\\left|\\Phi_{-}\\right\\rangle }}\\otimes {{\\left|\\Psi_{+}\\right\\rangle }}\\otimes {{\\left|\\Psi_{-}\\right\\rangle }}$"
      ],
      "text/plain": [
       "❘\\Phi_{+}⟩⨂ ❘\\Phi_{-}⟩⨂ ❘\\Psi_{+}⟩⨂ ❘\\Psi_{-}⟩"
      ]
     },
     "execution_count": 172,
     "metadata": {},
     "output_type": "execute_result"
    }
   ],
   "source": [
    "ψ = tp(mbk_pbk(\"P\"), mbk_pbk(\"Q\"), mbk_pbk(\"R\"), mbk_pbk(\"S\"))\n",
    "ψ"
   ]
  },
  {
   "cell_type": "code",
   "execution_count": null,
   "id": "e03936c2",
   "metadata": {},
   "outputs": [],
   "source": []
  }
 ],
 "metadata": {
  "kernelspec": {
   "display_name": "Python 3 (ipykernel)",
   "language": "python",
   "name": "python3"
  },
  "language_info": {
   "codemirror_mode": {
    "name": "ipython",
    "version": 3
   },
   "file_extension": ".py",
   "mimetype": "text/x-python",
   "name": "python",
   "nbconvert_exporter": "python",
   "pygments_lexer": "ipython3",
   "version": "3.9.13"
  }
 },
 "nbformat": 4,
 "nbformat_minor": 5
}
