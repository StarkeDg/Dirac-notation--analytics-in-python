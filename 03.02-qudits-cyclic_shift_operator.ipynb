{
 "cells": [
  {
   "cell_type": "code",
   "execution_count": 4,
   "id": "ef9618a5",
   "metadata": {},
   "outputs": [],
   "source": [
    "%run init.ipynb\n",
    "%run init-quantum_gates.ipynb"
   ]
  },
  {
   "cell_type": "markdown",
   "id": "e960e559",
   "metadata": {},
   "source": [
    "# Cyclic shift operator or state shift operator"
   ]
  },
  {
   "cell_type": "markdown",
   "id": "98c73161",
   "metadata": {},
   "source": [
    "The cyclic shift operator is the generalization of the X Pauli gate. Its definition is given by\n",
    "\\begin{equation}\n",
    "X(j)|k\\rangle = |j\\oplus k\\rangle \\equiv |(j+k)\\mod(d)\\rangle.\n",
    "\\end{equation}\n",
    "\n",
    "The elements of the matrix X(j) are given by $\\langle k|X(j)|l\\rangle = \\delta_{k,j\\oplus l}$"
   ]
  },
  {
   "cell_type": "markdown",
   "id": "4e519d51",
   "metadata": {},
   "source": [
    "## `X_j(d,j)`"
   ]
  },
  {
   "cell_type": "code",
   "execution_count": 31,
   "id": "64be4d45",
   "metadata": {},
   "outputs": [],
   "source": [
    "def X_j(d, j):\n",
    "    \"\"\"\n",
    "    Args:\n",
    "        d (int): levels\n",
    "        j (int): 1,2,...,d-1.\n",
    "    Returns:\n",
    "        array: returns a square matrix dxd\n",
    "    \"\"\"\n",
    "    X_j = zeros(d,d)\n",
    "    if j==0:\n",
    "        X_j = sym.eye(d)\n",
    "        return X_j\n",
    "    for k in range(0,d):\n",
    "        for l in range(0,d):\n",
    "            resul = l + j\n",
    "            s = resul % d\n",
    "            if k == s:\n",
    "                X_j[k,l] = 1\n",
    "    return X_j"
   ]
  },
  {
   "cell_type": "markdown",
   "id": "e3e65b8e",
   "metadata": {},
   "source": [
    "## Qubits - $d=2$"
   ]
  },
  {
   "cell_type": "code",
   "execution_count": 32,
   "id": "e0e28dc8",
   "metadata": {},
   "outputs": [
    {
     "data": {
      "image/png": "[encoded data removed]",
      "text/latex": [
       "$\\displaystyle \\left( \\left[\\begin{matrix}1 & 0\\\\0 & 1\\end{matrix}\\right], \\  \\left[\\begin{matrix}0 & 1\\\\1 & 0\\end{matrix}\\right]\\right)$"
      ],
      "text/plain": [
       "⎛⎡1  0⎤  ⎡0  1⎤⎞\n",
       "⎜⎢    ⎥, ⎢    ⎥⎟\n",
       "⎝⎣0  1⎦  ⎣1  0⎦⎠"
      ]
     },
     "execution_count": 32,
     "metadata": {},
     "output_type": "execute_result"
    }
   ],
   "source": [
    "X2_0 = X_j(2,0)\n",
    "X2_1 = X_j(2,1)\n",
    "X2_0, X2_1"
   ]
  },
  {
   "cell_type": "markdown",
   "id": "07853457",
   "metadata": {},
   "source": [
    "Indeed, $X2_1 = X$ where $X$ is the Pauli gate."
   ]
  },
  {
   "cell_type": "markdown",
   "id": "713e0334",
   "metadata": {},
   "source": [
    "Consider"
   ]
  },
  {
   "cell_type": "code",
   "execution_count": 33,
   "id": "fb066a08",
   "metadata": {},
   "outputs": [
    {
     "data": {
      "image/png": "[encoded data removed]",
      "text/latex": [
       "$\\displaystyle \\left( {\\left|0\\right\\rangle }, \\  {\\left|1\\right\\rangle }\\right)$"
      ],
      "text/plain": [
       "(❘0⟩, ❘1⟩)"
      ]
     },
     "execution_count": 33,
     "metadata": {},
     "output_type": "execute_result"
    }
   ],
   "source": [
    "ψ2_0 = pbk('0')\n",
    "ψ2_1 = pbk('1')\n",
    "mbk(ψ2_0), mbk(ψ2_1)"
   ]
  },
  {
   "cell_type": "markdown",
   "id": "84a27249",
   "metadata": {},
   "source": [
    "so"
   ]
  },
  {
   "cell_type": "code",
   "execution_count": 34,
   "id": "524b6754",
   "metadata": {},
   "outputs": [
    {
     "data": {
      "image/png": "[encoded data removed]",
      "text/latex": [
       "$\\displaystyle {\\left|0\\right\\rangle }$"
      ],
      "text/plain": [
       "❘0⟩"
      ]
     },
     "execution_count": 34,
     "metadata": {},
     "output_type": "execute_result"
    }
   ],
   "source": [
    "mbk(X2_0 * ψ2_0)"
   ]
  },
  {
   "cell_type": "code",
   "execution_count": 35,
   "id": "7e9e7f7d",
   "metadata": {},
   "outputs": [
    {
     "data": {
      "image/png": "[encoded data removed]",
      "text/latex": [
       "$\\displaystyle {\\left|1\\right\\rangle }$"
      ],
      "text/plain": [
       "❘1⟩"
      ]
     },
     "execution_count": 35,
     "metadata": {},
     "output_type": "execute_result"
    }
   ],
   "source": [
    "mbk(X2_1 * ψ2_0)"
   ]
  },
  {
   "cell_type": "code",
   "execution_count": 36,
   "id": "250d2b26",
   "metadata": {},
   "outputs": [
    {
     "data": {
      "image/png": "[encoded data removed]",
      "text/latex": [
       "$\\displaystyle {\\left|1\\right\\rangle }$"
      ],
      "text/plain": [
       "❘1⟩"
      ]
     },
     "execution_count": 36,
     "metadata": {},
     "output_type": "execute_result"
    }
   ],
   "source": [
    "mbk(X2_0 * ψ2_1)"
   ]
  },
  {
   "cell_type": "code",
   "execution_count": 37,
   "id": "cc199d9e",
   "metadata": {},
   "outputs": [
    {
     "data": {
      "image/png": "[encoded data removed]",
      "text/latex": [
       "$\\displaystyle {\\left|0\\right\\rangle }$"
      ],
      "text/plain": [
       "❘0⟩"
      ]
     },
     "execution_count": 37,
     "metadata": {},
     "output_type": "execute_result"
    }
   ],
   "source": [
    "mbk(X2_1 * ψ2_1)"
   ]
  },
  {
   "cell_type": "markdown",
   "id": "81b436bb",
   "metadata": {},
   "source": [
    "## Qutrits - $d=3$"
   ]
  },
  {
   "cell_type": "code",
   "execution_count": 40,
   "id": "1b64e613",
   "metadata": {},
   "outputs": [
    {
     "name": "stdout",
     "output_type": "stream",
     "text": [
      "[0 0 0]\n"
     ]
    }
   ],
   "source": [
    "# python vector to save the vectors we will get\n",
    "X3 = np.zeros(3, dtype=object)\n",
    "print(X3)"
   ]
  },
  {
   "cell_type": "code",
   "execution_count": 41,
   "id": "3b25882f",
   "metadata": {},
   "outputs": [
    {
     "name": "stdout",
     "output_type": "stream",
     "text": [
      "X3[0] =\n"
     ]
    },
    {
     "data": {
      "image/png": "[encoded data removed]",
      "text/latex": [
       "$\\displaystyle \\left[\\begin{matrix}1 & 0 & 0\\\\0 & 1 & 0\\\\0 & 0 & 1\\end{matrix}\\right]$"
      ],
      "text/plain": [
       "⎡1  0  0⎤\n",
       "⎢       ⎥\n",
       "⎢0  1  0⎥\n",
       "⎢       ⎥\n",
       "⎣0  0  1⎦"
      ]
     },
     "metadata": {},
     "output_type": "display_data"
    },
    {
     "name": "stdout",
     "output_type": "stream",
     "text": [
      "X3[1] =\n"
     ]
    },
    {
     "data": {
      "image/png": "[encoded data removed]",
      "text/latex": [
       "$\\displaystyle \\left[\\begin{matrix}0 & 0 & 1\\\\1 & 0 & 0\\\\0 & 1 & 0\\end{matrix}\\right]$"
      ],
      "text/plain": [
       "⎡0  0  1⎤\n",
       "⎢       ⎥\n",
       "⎢1  0  0⎥\n",
       "⎢       ⎥\n",
       "⎣0  1  0⎦"
      ]
     },
     "metadata": {},
     "output_type": "display_data"
    },
    {
     "name": "stdout",
     "output_type": "stream",
     "text": [
      "X3[2] =\n"
     ]
    },
    {
     "data": {
      "image/png": "[encoded data removed]",
      "text/latex": [
       "$\\displaystyle \\left[\\begin{matrix}0 & 1 & 0\\\\0 & 0 & 1\\\\1 & 0 & 0\\end{matrix}\\right]$"
      ],
      "text/plain": [
       "⎡0  1  0⎤\n",
       "⎢       ⎥\n",
       "⎢0  0  1⎥\n",
       "⎢       ⎥\n",
       "⎣1  0  0⎦"
      ]
     },
     "metadata": {},
     "output_type": "display_data"
    }
   ],
   "source": [
    "from IPython.display import display, Math\n",
    "d = 3\n",
    "for j in range(3):\n",
    "    X3[j] = X_j(d,j)\n",
    "    print('X3[{}] ='.format(j))\n",
    "    display(X3[j])"
   ]
  },
  {
   "cell_type": "markdown",
   "id": "45de6571",
   "metadata": {},
   "source": [
    "Consider"
   ]
  },
  {
   "cell_type": "code",
   "execution_count": 42,
   "id": "64beca5d",
   "metadata": {},
   "outputs": [
    {
     "name": "stdout",
     "output_type": "stream",
     "text": [
      "[0 0 0]\n"
     ]
    }
   ],
   "source": [
    "# python vector to save the vectors we will get\n",
    "ψ3 = np.zeros(3, dtype=object)\n",
    "print(ψ3)"
   ]
  },
  {
   "cell_type": "code",
   "execution_count": 43,
   "id": "fde31151",
   "metadata": {},
   "outputs": [
    {
     "name": "stdout",
     "output_type": "stream",
     "text": [
      "ψ3[0] = \n"
     ]
    },
    {
     "data": {
      "image/png": "[encoded data removed]",
      "text/latex": [
       "$\\displaystyle {\\left|0\\right\\rangle }$"
      ],
      "text/plain": [
       "❘0⟩"
      ]
     },
     "metadata": {},
     "output_type": "display_data"
    },
    {
     "name": "stdout",
     "output_type": "stream",
     "text": [
      "ψ3[1] = \n"
     ]
    },
    {
     "data": {
      "image/png": "[encoded data removed]",
      "text/latex": [
       "$\\displaystyle {\\left|1\\right\\rangle }$"
      ],
      "text/plain": [
       "❘1⟩"
      ]
     },
     "metadata": {},
     "output_type": "display_data"
    },
    {
     "name": "stdout",
     "output_type": "stream",
     "text": [
      "ψ3[2] = \n"
     ]
    },
    {
     "data": {
      "image/png": "[encoded data removed]",
      "text/latex": [
       "$\\displaystyle {\\left|2\\right\\rangle }$"
      ],
      "text/plain": [
       "❘2⟩"
      ]
     },
     "metadata": {},
     "output_type": "display_data"
    }
   ],
   "source": [
    "d = 3\n",
    "for j in range(3):\n",
    "    ψ3[j] = pbk(str(j), dim=d)\n",
    "    print('ψ3[{}] = '.format(j))\n",
    "    display(mbk(ψ3[j], dim=3))"
   ]
  },
  {
   "cell_type": "markdown",
   "id": "b8433713",
   "metadata": {},
   "source": [
    "so"
   ]
  },
  {
   "cell_type": "code",
   "execution_count": 44,
   "id": "e5965108",
   "metadata": {},
   "outputs": [
    {
     "name": "stdout",
     "output_type": "stream",
     "text": [
      "X3[0] * ψ3[0] = \n"
     ]
    },
    {
     "data": {
      "image/png": "[encoded data removed]",
      "text/latex": [
       "$\\displaystyle {\\left|0\\right\\rangle }$"
      ],
      "text/plain": [
       "❘0⟩"
      ]
     },
     "metadata": {},
     "output_type": "display_data"
    },
    {
     "name": "stdout",
     "output_type": "stream",
     "text": [
      "X3[0] * ψ3[1] = \n"
     ]
    },
    {
     "data": {
      "image/png": "[encoded data removed]",
      "text/latex": [
       "$\\displaystyle {\\left|1\\right\\rangle }$"
      ],
      "text/plain": [
       "❘1⟩"
      ]
     },
     "metadata": {},
     "output_type": "display_data"
    },
    {
     "name": "stdout",
     "output_type": "stream",
     "text": [
      "X3[0] * ψ3[2] = \n"
     ]
    },
    {
     "data": {
      "image/png": "[encoded data removed]",
      "text/latex": [
       "$\\displaystyle {\\left|2\\right\\rangle }$"
      ],
      "text/plain": [
       "❘2⟩"
      ]
     },
     "metadata": {},
     "output_type": "display_data"
    },
    {
     "name": "stdout",
     "output_type": "stream",
     "text": [
      "X3[1] * ψ3[0] = \n"
     ]
    },
    {
     "data": {
      "image/png": "[encoded data removed]",
      "text/latex": [
       "$\\displaystyle {\\left|1\\right\\rangle }$"
      ],
      "text/plain": [
       "❘1⟩"
      ]
     },
     "metadata": {},
     "output_type": "display_data"
    },
    {
     "name": "stdout",
     "output_type": "stream",
     "text": [
      "X3[1] * ψ3[1] = \n"
     ]
    },
    {
     "data": {
      "image/png": "[encoded data removed]",
      "text/latex": [
       "$\\displaystyle {\\left|2\\right\\rangle }$"
      ],
      "text/plain": [
       "❘2⟩"
      ]
     },
     "metadata": {},
     "output_type": "display_data"
    },
    {
     "name": "stdout",
     "output_type": "stream",
     "text": [
      "X3[1] * ψ3[2] = \n"
     ]
    },
    {
     "data": {
      "image/png": "[encoded data removed]",
      "text/latex": [
       "$\\displaystyle {\\left|0\\right\\rangle }$"
      ],
      "text/plain": [
       "❘0⟩"
      ]
     },
     "metadata": {},
     "output_type": "display_data"
    },
    {
     "name": "stdout",
     "output_type": "stream",
     "text": [
      "X3[2] * ψ3[0] = \n"
     ]
    },
    {
     "data": {
      "image/png": "[encoded data removed]",
      "text/latex": [
       "$\\displaystyle {\\left|2\\right\\rangle }$"
      ],
      "text/plain": [
       "❘2⟩"
      ]
     },
     "metadata": {},
     "output_type": "display_data"
    },
    {
     "name": "stdout",
     "output_type": "stream",
     "text": [
      "X3[2] * ψ3[1] = \n"
     ]
    },
    {
     "data": {
      "image/png": "[encoded data removed]",
      "text/latex": [
       "$\\displaystyle {\\left|0\\right\\rangle }$"
      ],
      "text/plain": [
       "❘0⟩"
      ]
     },
     "metadata": {},
     "output_type": "display_data"
    },
    {
     "name": "stdout",
     "output_type": "stream",
     "text": [
      "X3[2] * ψ3[2] = \n"
     ]
    },
    {
     "data": {
      "image/png": "[encoded data removed]",
      "text/latex": [
       "$\\displaystyle {\\left|1\\right\\rangle }$"
      ],
      "text/plain": [
       "❘1⟩"
      ]
     },
     "metadata": {},
     "output_type": "display_data"
    }
   ],
   "source": [
    "d = 3\n",
    "for j,k in product(range(3), repeat=2):\n",
    "    print('X3[{}] * ψ3[{}] = '.format(j,k))\n",
    "    display(mbk(X3[j]*ψ3[k], dim=d))"
   ]
  },
  {
   "cell_type": "markdown",
   "id": "4c1dec85",
   "metadata": {},
   "source": [
    "The same idea remains for higher dimensions."
   ]
  },
  {
   "cell_type": "code",
   "execution_count": null,
   "id": "ae4e748b",
   "metadata": {},
   "outputs": [],
   "source": []
  }
 ],
 "metadata": {
  "kernelspec": {
   "display_name": "Python 3 (ipykernel)",
   "language": "python",
   "name": "python3"
  },
  "language_info": {
   "codemirror_mode": {
    "name": "ipython",
    "version": 3
   },
   "file_extension": ".py",
   "mimetype": "text/x-python",
   "name": "python",
   "nbconvert_exporter": "python",
   "pygments_lexer": "ipython3",
   "version": "3.9.13"
  }
 },
 "nbformat": 4,
 "nbformat_minor": 5
}
