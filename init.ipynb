{
 "cells": [
  {
   "cell_type": "code",
   "execution_count": 56,
   "id": "d965883b",
   "metadata": {},
   "outputs": [],
   "source": [
    "import numpy\n",
    "from numpy import *\n",
    "import sympy\n",
    "from sympy import *\n",
    "import sympy as sym\n",
    "init_printing(use_unicode=True)\n",
    "from sympy.physics.quantum import TensorProduct as tp\n",
    "from sympy.physics.quantum import Ket, Bra\n",
    "import math"
   ]
  },
  {
   "cell_type": "markdown",
   "id": "70247c40",
   "metadata": {},
   "source": [
    "# Auxiliary functions"
   ]
  },
  {
   "cell_type": "code",
   "execution_count": 14,
   "id": "2c9ccabe",
   "metadata": {},
   "outputs": [],
   "source": [
    "def inner_product(v,w):\n",
    "    d = len(v); ip = 0\n",
    "    for j in range(0,d):\n",
    "        ip += conjugate(v[j])*w[j]\n",
    "    return ip\n",
    "#a,b,c,d = symbols(\"a b c d\"); v = [b,a]; w = [c,d]; inner_product(v,w)"
   ]
  },
  {
   "cell_type": "code",
   "execution_count": 12,
   "id": "0aaa038f",
   "metadata": {},
   "outputs": [],
   "source": [
    "def norm(v):\n",
    "    v = inner_product(v,v)\n",
    "    return sqrt(v)\n",
    "#v = [2,2]; norm(v)"
   ]
  },
  {
   "cell_type": "code",
   "execution_count": null,
   "id": "46f63677",
   "metadata": {},
   "outputs": [],
   "source": [
    "def cb(n,j):\n",
    "    \"\"\"\n",
    "    Args:\n",
    "        n (int): levels\n",
    "        j (int): element that will be non-zero\n",
    "\n",
    "    Returns:\n",
    "        array: returns a standard base vector of C^n\n",
    "    \"\"\"\n",
    "    vec = zeros(n,1)\n",
    "    vec[j] = 1\n",
    "    return vec"
   ]
  },
  {
   "cell_type": "code",
   "execution_count": 17,
   "id": "aa8aded4",
   "metadata": {},
   "outputs": [],
   "source": [
    "def proj(psi): \n",
    "    '''returns the projector in the psi vector'''\n",
    "    d = psi.shape[0]\n",
    "    P = zeros(d,d)\n",
    "    for j in range(0,d):\n",
    "        for k in range(0,d):\n",
    "            P[j,k] = psi[j]*conjugate(psi[k])\n",
    "    return P\n",
    "#proj(cb(2,0))"
   ]
  },
  {
   "cell_type": "code",
   "execution_count": 13,
   "id": "6c08f732",
   "metadata": {},
   "outputs": [],
   "source": [
    "def tsco(A):\n",
    "    '''returns the conjugate transpose'''\n",
    "    d = A.shape[0]\n",
    "    new = zeros(d)\n",
    "    new = sympy.transpose(A)\n",
    "    new = sympy.conjugate(new)\n",
    "    return new\n",
    "#tsco(cb(2,0))"
   ]
  },
  {
   "cell_type": "markdown",
   "id": "5a25931e",
   "metadata": {},
   "source": [
    "# Generic vector state"
   ]
  },
  {
   "cell_type": "code",
   "execution_count": 13,
   "id": "917b19d8",
   "metadata": {},
   "outputs": [],
   "source": [
    "def psi_c(n, mtype=0):\n",
    "    \"\"\"\n",
    "    Args:\n",
    "        n (int): state vector levels\n",
    "        mtype (int): array type, column array or row array. Zero (0) for\n",
    "            row matrix and one (1) for row matrix\n",
    "\n",
    "    Returns:\n",
    "        array: Returns a row or column array depending on the \n",
    "               type (tp) selected with n levels. \n",
    "    \"\"\"\n",
    "    # Calculate the number of digits in n\n",
    "    num_digits = len(str(n-1))\n",
    "    # Create a list of symbolic variables with names 'c00' to 'cnn'\n",
    "    psi = sympy.symbols(['c{:0{}}'.format(i, num_digits) for i in range(n)])\n",
    "    # Create a numpy array of zeros with size n x 1\n",
    "    A = zeros(n,1)\n",
    "    # Set the first n elements of A to the psi symbols\n",
    "    for j in range(0,n):\n",
    "        A[j] = psi[j]\n",
    "    # Return the resulting array A\n",
    "    if mtype == 1:\n",
    "        return transpose(A).as_mutable()\n",
    "    return A"
   ]
  },
  {
   "cell_type": "code",
   "execution_count": 15,
   "id": "e84f18c1",
   "metadata": {},
   "outputs": [],
   "source": [
    "\"\"\"\n",
    "Same situation as the function above, but write the coefficients \n",
    "with indices in binary form. Useful to verify some patterns after \n",
    "the actions of certain ports like CNOT among other utilities.\n",
    "\"\"\"\n",
    "def pbin(n, mtype=0):\n",
    "    num_digits = len(str(n))\n",
    "    A = zeros(n,1)\n",
    "    psi = [sympy.symbols('c_{}'.format(format(i, '0{}b'.format(int(math.ceil(log(n, 2))))))) for i in range(n)]\n",
    "    for j in range(0,n):\n",
    "        A[j] = psi[j]\n",
    "    if mtype == 1:\n",
    "        return transpose(A).as_mutable()\n",
    "    return A"
   ]
  },
  {
   "cell_type": "code",
   "execution_count": 38,
   "id": "a8c532ee",
   "metadata": {},
   "outputs": [],
   "source": [
    "\"\"\"\n",
    "Interesting function to say exactly which matrix values\n",
    "are different from zero and at the same time have a visualization\n",
    "of the state vector as if it were written in Dirac notation\n",
    "\"\"\"\n",
    "def pbk(seq, dim=2, mtype=0):\n",
    "    \"\"\"\n",
    "    Args:\n",
    "        seq (str): input sequence. Ex: '010110'\n",
    "        dim (int): computational basis dimension (default=2 for qubits)\n",
    "        mtype (int): array type, column array or row array. Zero (default=0) for\n",
    "            row matrix and one (1) for row matrix\n",
    "\n",
    "    Returns:\n",
    "        array: ket vector for the input sequence in the computational basis of dimension 'dim'\n",
    "    \"\"\"\n",
    "    vec = []\n",
    "    for digito in seq:\n",
    "        vec.append(int(digito))\n",
    "    n = len(vec)\n",
    "    psi = cb(dim, vec[0])\n",
    "    for j in range(1,n):\n",
    "        psi = tp(psi,cb(dim, vec[j]))\n",
    "    if mtype == 1:\n",
    "        return transpose(psi).as_mutable()\n",
    "    return psi"
   ]
  },
  {
   "cell_type": "markdown",
   "id": "41aa3741",
   "metadata": {},
   "source": [
    "# Generic density matrix ($\\rho$)"
   ]
  },
  {
   "cell_type": "code",
   "execution_count": 45,
   "id": "dadc1ac4",
   "metadata": {},
   "outputs": [],
   "source": [
    "\"\"\"\n",
    "Returns a symbolic generic rho\n",
    "n = column dimension\n",
    "Returns a symbolic generic rho\n",
    "square matrix\n",
    "n = row/column levels\n",
    "\"\"\"\n",
    "def rho_g(n, symbol=0):\n",
    "    num_digits = len(str(n**2 - 1))\n",
    "    A = zeros(n,n)\n",
    "    l = 0\n",
    "    if symbol == 1:\n",
    "        rho = sympy.symbols(['sigma{:0{}}'.format(i, num_digits) for i in range(n**2)])\n",
    "        for j in range(0,n):\n",
    "            for k in range(0,n):\n",
    "                    A[j,k] = rho[l]\n",
    "                    l += 1\n",
    "    else: \n",
    "        rho = sympy.symbols(['rho_{:0{}}'.format(i, num_digits) for i in range(n**2)])\n",
    "        for j in range(0,n):\n",
    "            for k in range(0,n):\n",
    "                    A[j,k] = rho[l]\n",
    "                    l += 1\n",
    "    return A"
   ]
  },
  {
   "cell_type": "code",
   "execution_count": 48,
   "id": "4de03022",
   "metadata": {},
   "outputs": [],
   "source": [
    "\"\"\"\n",
    "Returns a symbolic generic rho with indices in binary form\n",
    "square matrix\n",
    "n = row/column levels\n",
    "\"\"\"\n",
    "def rho_bin(n):\n",
    "    rho = [sympy.symbols('rho_{}'.format(format(i, '0{}b'.format(int(math.ceil(log(n**2, 2))))))) for i in range(n**2)]\n",
    "    A = zeros(n,n)\n",
    "    l = 0\n",
    "    for j in range(0,n):\n",
    "        for k in range(0,n):\n",
    "                A[j,k] = rho[l]\n",
    "                l += 1\n",
    "    return A"
   ]
  },
  {
   "cell_type": "markdown",
   "id": "e4c232dd",
   "metadata": {},
   "source": [
    "# Dirac notation"
   ]
  },
  {
   "cell_type": "code",
   "execution_count": 51,
   "id": "1ca7ca5c",
   "metadata": {},
   "outputs": [],
   "source": [
    "\"\"\"\n",
    "Return Psi or rho in bra-ket notation\n",
    "Sent Psi - return Psi in bra-ket notation\n",
    "Send rho - return rho in bra-ket notation\n",
    "\"\"\"\n",
    "def mbk(matrix, dim=2):\n",
    "    \"\"\"\n",
    "    Args:\n",
    "        matrix (sympy.matrices.dense.MutableDenseMatrix): The input must be a sympy array.\n",
    "                                            It can be a state vector or a density matrix\n",
    "\n",
    "    Returns:\n",
    "        Prints the matrix in Dirac notation\n",
    "    \"\"\"\n",
    "    def convert_dim(x, dim, min_digits):\n",
    "        \"\"\"\n",
    "        Helper function that checks how many digits the bra-ket will \n",
    "        have based on the dimension and size of the input matrix\n",
    "        \"\"\"\n",
    "        digits = '0123456789'[:dim]\n",
    "        result = ''\n",
    "        while x > 0 or len(result) < min_digits:\n",
    "            x, digit = divmod(x, dim)\n",
    "            result = digits[digit] + result\n",
    "        return result\n",
    "    posicoes = []\n",
    "    posicoes_bin = []\n",
    "    val = []\n",
    "    if isinstance(matrix, sympy.matrices.dense.MutableDenseMatrix):\n",
    "        n_linhas, n_colunas = matrix.shape\n",
    "        \"\"\"\n",
    "        If the row == 1 the notation will be Bra, if the column == 1 the notation will be Ket and if \n",
    "        it doesn't fit in any of these cases, then it's because it's a density matrix and will be handled by 'else'\n",
    "        \"\"\"\n",
    "        if n_linhas == 1:\n",
    "            Psi = 0\n",
    "            x = len(matrix)\n",
    "            for i in range(x):\n",
    "                if matrix[i] != 0:\n",
    "                    val.append(matrix[i])\n",
    "                    posicoes.append(i)\n",
    "                    posicoes_bin.append(convert_dim(i, dim, int(math.ceil(math.log(x)/math.log(dim)))))\n",
    "            for i in range(len(val)):\n",
    "                Psi = val[i] * Bra(posicoes_bin[i]) + Psi\n",
    "            return simplify(Psi)\n",
    "        if n_colunas == 1:\n",
    "            Psi = 0\n",
    "            x = len(matrix)\n",
    "            for i in range(x):\n",
    "                if matrix[i] != 0:\n",
    "                    val.append(matrix[i])\n",
    "                    posicoes.append(i)\n",
    "                    posicoes_bin.append(convert_dim(i, dim, int(math.ceil(math.log(x)/math.log(dim)))))\n",
    "            for i in range(len(val)):\n",
    "                Psi = val[i] * Ket(posicoes_bin[i]) + Psi\n",
    "            return Psi\n",
    "        else:\n",
    "            m, n = matrix.shape\n",
    "            rho = 0\n",
    "            for i in range(m):\n",
    "                for j in range(n):\n",
    "                    if matrix[i, j] != 0:\n",
    "                        val.append(matrix[i, j])\n",
    "                        posicoes.append((i, j))\n",
    "                        posicoes_bin.append((convert_dim(i, dim, int(math.ceil(math.log(m)/math.log(dim)))),\\\n",
    "                                             convert_dim(j, dim, int(math.ceil(math.log(m)/math.log(dim))))))\n",
    "            for i in range(len(val)):\n",
    "                rho = val[i] * (Ket(posicoes_bin[i][0])) * (Bra(posicoes_bin[i][1])) + rho\n",
    "            return rho"
   ]
  },
  {
   "cell_type": "markdown",
   "id": "28b02df1",
   "metadata": {},
   "source": [
    "# A simpler way to put the expression result in a more elegant and eye-pleasing form"
   ]
  },
  {
   "cell_type": "code",
   "execution_count": null,
   "id": "8db0c865",
   "metadata": {},
   "outputs": [],
   "source": [
    "def mysim(expr):\n",
    "    return sympy.simplify(expr, rational=True)"
   ]
  }
 ],
 "metadata": {
  "kernelspec": {
   "display_name": "Python 3 (ipykernel)",
   "language": "python",
   "name": "python3"
  },
  "language_info": {
   "codemirror_mode": {
    "name": "ipython",
    "version": 3
   },
   "file_extension": ".py",
   "mimetype": "text/x-python",
   "name": "python",
   "nbconvert_exporter": "python",
   "pygments_lexer": "ipython3",
   "version": "3.9.13"
  }
 },
 "nbformat": 4,
 "nbformat_minor": 5
}
