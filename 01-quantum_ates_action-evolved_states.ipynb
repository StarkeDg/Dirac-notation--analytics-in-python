{
 "cells": [
  {
   "cell_type": "code",
   "execution_count": 2,
   "id": "05b98ab8",
   "metadata": {},
   "outputs": [],
   "source": [
    "%run init.ipynb\n",
    "%run init-quantum_gates.ipynb"
   ]
  },
  {
   "cell_type": "markdown",
   "id": "962dd3e6",
   "metadata": {},
   "source": [
    "# Quantum gates"
   ]
  },
  {
   "cell_type": "markdown",
   "id": "1f8a0cb6",
   "metadata": {},
   "source": [
    "## Quantum gates and subspaces"
   ]
  },
  {
   "cell_type": "markdown",
   "id": "14268289",
   "metadata": {},
   "source": [
    "When you have a gate that has the same dimension as the state vector you are acting on, everything is simpler in the case of matrices, just perform the operation and you get the result. But when the port is of a smaller dimension, you must adjust the port so that it is the same dimension as the state vector. For example, we want to actuate the Hadamard gate on $\\vert 0\\rangle$, like this"
   ]
  },
  {
   "cell_type": "code",
   "execution_count": 3,
   "id": "da4aa1a3",
   "metadata": {},
   "outputs": [
    {
     "data": {
      "image/png": "[encoded data removed]",
      "text/latex": [
       "$\\displaystyle \\left[\\begin{matrix}1\\\\0\\end{matrix}\\right]$"
      ],
      "text/plain": [
       "⎡1⎤\n",
       "⎢ ⎥\n",
       "⎣0⎦"
      ]
     },
     "execution_count": 3,
     "metadata": {},
     "output_type": "execute_result"
    }
   ],
   "source": [
    "ψ0 = pbk('0')\n",
    "ψ0"
   ]
  },
  {
   "cell_type": "code",
   "execution_count": 7,
   "id": "124f350b",
   "metadata": {},
   "outputs": [
    {
     "data": {
      "image/png": "[encoded data removed]",
      "text/latex": [
       "$\\displaystyle \\frac{\\sqrt{2} \\left({\\left|0\\right\\rangle } + {\\left|1\\right\\rangle }\\right)}{2}$"
      ],
      "text/plain": [
       "√2⋅(❘0⟩ + ❘1⟩)\n",
       "──────────────\n",
       "      2       "
      ]
     },
     "execution_count": 7,
     "metadata": {},
     "output_type": "execute_result"
    }
   ],
   "source": [
    "ψ1 = H*pbk('0')\n",
    "mysim(mbk(ψ1))"
   ]
  },
  {
   "cell_type": "markdown",
   "id": "3aa3b781",
   "metadata": {},
   "source": [
    "however, when we act the Hadamard gate on two qubits, we first need to say which subsystems we are going to act on and then we need to perform the tensor product with the identity, however, when we act the Hadamard gate on two qubits, we first need to say which subsystems we are going to act on and then we need to perform the tensor product with the identity of the other subsystem. If we act on the first qubit of a state $\\vert01\\rangle_{AB}$, we have $H_{A}\\otimes \\mathbb{I}_{B}$, so\n",
    "\\begin{eqnarray}\n",
    "\\vert \\psi\\rangle_1 &=& (H_{A}\\otimes \\mathbb{I}_{B})\\vert 01\\rangle_{AB} \\\\\n",
    "&=& H_{A}\\vert0\\rangle_{A} \\otimes \\mathbb{I}_{B}\\vert 1\\rangle_{B}\\\\\n",
    "&=& \\vert+\\rangle_{A} \\otimes \\vert 1\\rangle_{B}\\\\\n",
    "&=& \\vert +1\\rangle_{AB}\n",
    "\\end{eqnarray}\n",
    "where\n",
    "$$\\vert+\\rangle = \\frac{1}{\\sqrt{2}} \\left({\\left|0\\right\\rangle } + {\\left|1\\right\\rangle }\\right)$$\n",
    "\n",
    "If we wanted to actuate $H$ in subsystem $B$, then we would get\n",
    "\\begin{eqnarray}\n",
    "\\vert \\psi\\rangle_1 &=& (\\mathbb{I}_{B} \\otimes H_{B})\\vert 01\\rangle_{AB} \\\\\n",
    "&=&\\mathbb{I}_{A}\\vert0\\rangle_{A} \\otimes  H_{B}\\vert 1\\rangle_{B}\\\\\n",
    "&=& \\vert0\\rangle_{A} \\otimes \\vert -\\rangle_{B}\\\\\n",
    "&=& \\vert 0-\\rangle_{AB}\n",
    "\\end{eqnarray}\n",
    "where\n",
    "$$\\vert+\\rangle = \\frac{1}{\\sqrt{2}} \\left({\\left|0\\right\\rangle } - {\\left|1\\right\\rangle }\\right)$$"
   ]
  },
  {
   "cell_type": "markdown",
   "id": "3bfb4cbe",
   "metadata": {},
   "source": [
    "## Tensorial product"
   ]
  },
  {
   "cell_type": "markdown",
   "id": "b4f3ad08",
   "metadata": {},
   "source": [
    "From a matrix point of view, we perform the tensor products of both $H_{A}\\otimes \\mathbb{I}_{B}$ and $\\vert01\\rangle_{AB}$. Para o primeiro caso, temos\n",
    "\\begin{align}\n",
    "H\\otimes\\mathbb{I}  & =\\frac{1}{\\sqrt{2}}\\left[\n",
    "\\begin{array}\n",
    "[c]{cc}%\n",
    "1 & 1\\\\\n",
    "1 & -1\n",
    "\\end{array}\n",
    "\\right]  \\otimes\\left[\n",
    "\\begin{array}\n",
    "[c]{cc}%\n",
    "1 & 0\\\\\n",
    "0 & 1\n",
    "\\end{array}\n",
    "\\right]  \\\\\n",
    "& =\\frac{1}{\\sqrt{2}}\\left[\n",
    "\\begin{array}\n",
    "[c]{cccc}%\n",
    "1 & 0 & 1 & 0\\\\\n",
    "0 & 1 & 0 & 1\\\\\n",
    "1 & 0 & -1 & 0\\\\\n",
    "0 & 1 & 0 & -1\n",
    "\\end{array}\n",
    "\\right]\n",
    "\\end{align}\n",
    "and we have to\n",
    "\\begin{align}\n",
    "\\left\\vert 01\\right\\rangle  & =\\left[\n",
    "\\begin{array}\n",
    "[c]{c}%\n",
    "1\\\\\n",
    "0\n",
    "\\end{array}\n",
    "\\right]  \\otimes\\left[\n",
    "\\begin{array}\n",
    "[c]{c}%\n",
    "0\\\\\n",
    "1\n",
    "\\end{array}\n",
    "\\right]  \\\\\n",
    "& =\\left[\n",
    "\\begin{array}\n",
    "[c]{c}%\n",
    "0\\\\\n",
    "1\\\\\n",
    "0\\\\\n",
    "0\n",
    "\\end{array}\n",
    "\\right].\n",
    "\\end{align}\n",
    "Therefore, we have to\n",
    "\\begin{align}\n",
    "\\vert \\psi\\rangle_1 = \\left(  H_{A}\\otimes\\mathbb{I}_{B}\\right)  \\left\\vert 01\\right\\rangle _{AB}  &\n",
    "=\\frac{1}{\\sqrt{2}}\\left[\n",
    "\\begin{array}\n",
    "[c]{cccc}%\n",
    "1 & 0 & 1 & 0\\\\\n",
    "0 & 1 & 0 & 1\\\\\n",
    "1 & 0 & -1 & 0\\\\\n",
    "0 & 1 & 0 & -1\n",
    "\\end{array}\n",
    "\\right]  \\left[\n",
    "\\begin{array}\n",
    "[c]{c}%\n",
    "0\\\\\n",
    "1\\\\\n",
    "0\\\\\n",
    "0\n",
    "\\end{array}\n",
    "\\right]  \\\\\n",
    "& =\\frac{1}{\\sqrt{2}}\\left[\n",
    "\\begin{array}\n",
    "[c]{c}%\n",
    "0\\\\\n",
    "1\\\\\n",
    "0\\\\\n",
    "1\n",
    "\\end{array}\n",
    "\\right]  ,\n",
    "\\end{align}\n",
    "which can be translated into bra-ket notation as\n",
    "\\begin{align}\n",
    "\\vert \\psi\\rangle_1    &\n",
    "=\\frac{1}{\\sqrt{2}}\\left(  \\left\\vert 01\\right\\rangle _{AB}+\\left\\vert\n",
    "11\\right\\rangle _{AB}\\right)  \\\\\n",
    "& =\\frac{1}{\\sqrt{2}}\\left(  \\left\\vert 0\\right\\rangle _{A}+\\left\\vert\n",
    "1\\right\\rangle _{A}\\right)  \\otimes\\left\\vert 1\\right\\rangle _{B}\\\\\n",
    "& =\\left\\vert +1\\right\\rangle ,\n",
    "\\end{align}\n",
    "which was exactly what we got earlier.\n",
    "\n",
    "We can see this using the code presented in the other file, so the final state is given by:"
   ]
  },
  {
   "cell_type": "code",
   "execution_count": 17,
   "id": "a4546c44",
   "metadata": {},
   "outputs": [
    {
     "data": {
      "image/png": "[encoded data removed]",
      "text/latex": [
       "$\\displaystyle \\left[\\begin{matrix}0\\\\\\frac{\\sqrt{2}}{2}\\\\0\\\\\\frac{\\sqrt{2}}{2}\\end{matrix}\\right]$"
      ],
      "text/plain": [
       "⎡0 ⎤\n",
       "⎢  ⎥\n",
       "⎢√2⎥\n",
       "⎢──⎥\n",
       "⎢2 ⎥\n",
       "⎢  ⎥\n",
       "⎢0 ⎥\n",
       "⎢  ⎥\n",
       "⎢√2⎥\n",
       "⎢──⎥\n",
       "⎣2 ⎦"
      ]
     },
     "execution_count": 17,
     "metadata": {},
     "output_type": "execute_result"
    }
   ],
   "source": [
    "ψ1 = (1/sqrt(2))* (pbk('01') + pbk('11'))\n",
    "ψ1"
   ]
  },
  {
   "cell_type": "markdown",
   "id": "76ccdf20",
   "metadata": {},
   "source": [
    "or"
   ]
  },
  {
   "cell_type": "code",
   "execution_count": 18,
   "id": "ad5abcde",
   "metadata": {},
   "outputs": [
    {
     "data": {
      "image/png": "[encoded data removed]",
      "text/latex": [
       "$\\displaystyle \\frac{\\sqrt{2} \\left({\\left|01\\right\\rangle } + {\\left|11\\right\\rangle }\\right)}{2}$"
      ],
      "text/plain": [
       "√2⋅(❘01⟩ + ❘11⟩)\n",
       "────────────────\n",
       "       2        "
      ]
     },
     "execution_count": 18,
     "metadata": {},
     "output_type": "execute_result"
    }
   ],
   "source": [
    "mysim(mbk(ψ1))"
   ]
  },
  {
   "cell_type": "markdown",
   "id": "f6ffc05d",
   "metadata": {},
   "source": [
    "## `pgate(psi, gate, ssystem)`"
   ]
  },
  {
   "cell_type": "markdown",
   "id": "6ba2f22d",
   "metadata": {},
   "source": [
    "The main idea of this function is to send a state `psi` that will be acted by a certain `gate`in a certain `ssystem`.\n",
    "The first subsystem that appears in the ket is the most numerically relevant, so this will be subsystem n-1, where n is the number of qubits. Thus, system will receive the position of the subsystem that we want to activate the door and can receive the values n-1, n-2, ..., 2,1,0. For example, we have three qubits whose ket is given by $\\vert 100\\rangle_{ABC} = \\vert 1\\rangle_{A} \\otimes \\vert 0\\rangle_{B} \\otimes \\vert 0\\rangle_{C}$ . Therefore, we have three qubits, that is, system can receive only 0, 1 or 2, where:\n",
    "- `ssystem = 2` we will act the gate on \\vert 1\\rangle_{A}\n",
    "- `ssystem = 1` we will operate the gate on \\vert 0\\rangle_{B}\n",
    "- `ssystem = 0` we will set the gate to \\vert 0\\rangle_{C}."
   ]
  },
  {
   "cell_type": "code",
   "execution_count": 36,
   "id": "3b68daaa",
   "metadata": {},
   "outputs": [],
   "source": [
    "# Produto tensorial para poder atuar nos vetores de estado\n",
    "# Faz a mesma operação da gate de cima, mas direto no estado\n",
    "# n = número de qubits\n",
    "def pgate(psi, gate, ssystem):  #   system ---> |q_n-1, q_n-2,..., q1, q0 >\n",
    "    n = int(log(len(psi), 2))\n",
    "    obj = sym.eye(2)\n",
    "    if n == 1:\n",
    "        return gate*psi\n",
    "    for i in range(0, n-1):\n",
    "        if ssystem == 0 and i==0:\n",
    "            # last system\n",
    "            obj = tp(obj, gate)\n",
    "            gate = sym.eye(2)\n",
    "        elif ssystem == (i+1) and ssystem == n-1:\n",
    "            # última system\n",
    "            obj = tp(gate, obj)\n",
    "            gate = sym.eye(2)\n",
    "        elif ssystem == i+1:\n",
    "            # caso a systemição seja a próxima, aí precisamos fazer nesse loop\n",
    "            obj = tp(gate, obj)\n",
    "            gate = sym.eye(2)\n",
    "        else:\n",
    "            # casos em que não é a systemição\n",
    "            obj = tp(sym.eye(2), obj)\n",
    "    return obj * psi"
   ]
  },
  {
   "cell_type": "markdown",
   "id": "657cdb66",
   "metadata": {},
   "source": [
    "### Example given before"
   ]
  },
  {
   "cell_type": "code",
   "execution_count": 34,
   "id": "d9ad739d",
   "metadata": {},
   "outputs": [
    {
     "data": {
      "image/png": "[encoded data removed]",
      "text/latex": [
       "$\\displaystyle {\\left|01\\right\\rangle }$"
      ],
      "text/plain": [
       "❘01⟩"
      ]
     },
     "execution_count": 34,
     "metadata": {},
     "output_type": "execute_result"
    }
   ],
   "source": [
    "ψ0 = pbk('01')\n",
    "mbk(ψ0)"
   ]
  },
  {
   "cell_type": "markdown",
   "id": "f538bbb2",
   "metadata": {},
   "source": [
    "with $H_{A}\\otimes \\mathbb{I}_{B}$, we have that"
   ]
  },
  {
   "cell_type": "code",
   "execution_count": 40,
   "id": "047896a2",
   "metadata": {},
   "outputs": [
    {
     "data": {
      "image/png": "[encoded data removed]",
      "text/latex": [
       "$\\displaystyle \\frac{\\sqrt{2} \\left({\\left|01\\right\\rangle } + {\\left|11\\right\\rangle }\\right)}{2}$"
      ],
      "text/plain": [
       "√2⋅(❘01⟩ + ❘11⟩)\n",
       "────────────────\n",
       "       2        "
      ]
     },
     "execution_count": 40,
     "metadata": {},
     "output_type": "execute_result"
    }
   ],
   "source": [
    "mysim(mbk(pgate(ψ0, H, 1)))"
   ]
  },
  {
   "cell_type": "markdown",
   "id": "7b8adba3",
   "metadata": {},
   "source": [
    "with $\\mathbb{I}_{A}\\otimes H_{B}$, we have that"
   ]
  },
  {
   "cell_type": "code",
   "execution_count": 41,
   "id": "332b9a7e",
   "metadata": {},
   "outputs": [
    {
     "data": {
      "image/png": "[encoded data removed]",
      "text/latex": [
       "$\\displaystyle \\frac{\\sqrt{2} \\left({\\left|00\\right\\rangle } - {\\left|01\\right\\rangle }\\right)}{2}$"
      ],
      "text/plain": [
       "√2⋅(❘00⟩ - ❘01⟩)\n",
       "────────────────\n",
       "       2        "
      ]
     },
     "execution_count": 41,
     "metadata": {},
     "output_type": "execute_result"
    }
   ],
   "source": [
    "mysim(mbk(pgate(ψ0, H, 0)))"
   ]
  },
  {
   "cell_type": "markdown",
   "id": "fffbbf83",
   "metadata": {},
   "source": [
    "## Pauli matrices"
   ]
  },
  {
   "cell_type": "code",
   "execution_count": 20,
   "id": "b578cac6",
   "metadata": {},
   "outputs": [],
   "source": [
    "def pauli(j):\n",
    "    '''\n",
    "    Returns the Pauli matrices\n",
    "    \n",
    "    Args:\n",
    "        j (int): 0 for id, 1 for X, 2 for Y and 3 for Z\n",
    "    '''\n",
    "    if j == 0:\n",
    "        return sym.eye(2)\n",
    "    if j == 1:\n",
    "        return Matrix([[0,1],[1,0]])\n",
    "    elif j == 2:\n",
    "        return Matrix([[0,-1j],[1j,0]])\n",
    "    elif j == 3:\n",
    "        return Matrix([[1,0],[0,-1]])"
   ]
  },
  {
   "cell_type": "code",
   "execution_count": 21,
   "id": "16ec91d8",
   "metadata": {},
   "outputs": [
    {
     "data": {
      "image/png": "[encoded data removed]",
      "text/latex": [
       "$\\displaystyle \\left( \\left[\\begin{matrix}0 & 1\\\\1 & 0\\end{matrix}\\right], \\  \\left[\\begin{matrix}0 & - i\\\\i & 0\\end{matrix}\\right], \\  \\left[\\begin{matrix}1 & 0\\\\0 & -1\\end{matrix}\\right]\\right)$"
      ],
      "text/plain": [
       "⎛⎡0  1⎤  ⎡0  -ⅈ⎤  ⎡1  0 ⎤⎞\n",
       "⎜⎢    ⎥, ⎢     ⎥, ⎢     ⎥⎟\n",
       "⎝⎣1  0⎦  ⎣ⅈ  0 ⎦  ⎣0  -1⎦⎠"
      ]
     },
     "execution_count": 21,
     "metadata": {},
     "output_type": "execute_result"
    }
   ],
   "source": [
    "pauli(1), mysim(pauli(2)), pauli(3)"
   ]
  },
  {
   "cell_type": "markdown",
   "id": "36904412",
   "metadata": {},
   "source": [
    "## Hadamard"
   ]
  },
  {
   "cell_type": "code",
   "execution_count": 22,
   "id": "6dae9044",
   "metadata": {},
   "outputs": [
    {
     "data": {
      "image/png": "[encoded data removed]",
      "text/latex": [
       "$\\displaystyle \\left[\\begin{matrix}\\frac{\\sqrt{2}}{2} & \\frac{\\sqrt{2}}{2}\\\\\\frac{\\sqrt{2}}{2} & - \\frac{\\sqrt{2}}{2}\\end{matrix}\\right]$"
      ],
      "text/plain": [
       "⎡√2   √2 ⎤\n",
       "⎢──   ── ⎥\n",
       "⎢2    2  ⎥\n",
       "⎢        ⎥\n",
       "⎢√2  -√2 ⎥\n",
       "⎢──  ────⎥\n",
       "⎣2    2  ⎦"
      ]
     },
     "execution_count": 22,
     "metadata": {},
     "output_type": "execute_result"
    }
   ],
   "source": [
    "H = (1/sqrt(2))*(pauli(1) + pauli(3))\n",
    "H"
   ]
  },
  {
   "cell_type": "markdown",
   "id": "c44dd661",
   "metadata": {},
   "source": [
    "## S and S$^\\dagger$"
   ]
  },
  {
   "cell_type": "code",
   "execution_count": 23,
   "id": "4bd700a2",
   "metadata": {},
   "outputs": [
    {
     "data": {
      "image/png": "[encoded data removed]",
      "text/latex": [
       "$\\displaystyle \\left[\\begin{matrix}1 & 0\\\\0 & i\\end{matrix}\\right]$"
      ],
      "text/plain": [
       "⎡1  0⎤\n",
       "⎢    ⎥\n",
       "⎣0  ⅈ⎦"
      ]
     },
     "execution_count": 23,
     "metadata": {},
     "output_type": "execute_result"
    }
   ],
   "source": [
    "S = pauli(3).applyfunc(lambda x: sqrt(x))\n",
    "S"
   ]
  },
  {
   "cell_type": "code",
   "execution_count": 24,
   "id": "bd205e1a",
   "metadata": {},
   "outputs": [
    {
     "data": {
      "image/png": "[encoded data removed]",
      "text/latex": [
       "$\\displaystyle \\left[\\begin{matrix}1 & 0\\\\0 & - i\\end{matrix}\\right]$"
      ],
      "text/plain": [
       "⎡1  0 ⎤\n",
       "⎢     ⎥\n",
       "⎣0  -ⅈ⎦"
      ]
     },
     "execution_count": 24,
     "metadata": {},
     "output_type": "execute_result"
    }
   ],
   "source": [
    "Sdg = tsco(S)\n",
    "Sdg"
   ]
  },
  {
   "cell_type": "markdown",
   "id": "b01b3d4b",
   "metadata": {},
   "source": [
    "# Quantum controlled gates"
   ]
  },
  {
   "cell_type": "markdown",
   "id": "b88b4088",
   "metadata": {},
   "source": [
    "## CNOT"
   ]
  },
  {
   "cell_type": "code",
   "execution_count": 25,
   "id": "ac2fc427",
   "metadata": {},
   "outputs": [
    {
     "data": {
      "image/png": "[encoded data removed]",
      "text/latex": [
       "$\\displaystyle {\\left|00\\right\\rangle }{\\left\\langle 00\\right|} + {\\left|01\\right\\rangle }{\\left\\langle 01\\right|} + {\\left|10\\right\\rangle }{\\left\\langle 11\\right|} + {\\left|11\\right\\rangle }{\\left\\langle 10\\right|}$"
      ],
      "text/plain": [
       "❘00⟩⟨00❘ + ❘01⟩⟨01❘ + ❘10⟩⟨11❘ + ❘11⟩⟨10❘"
      ]
     },
     "execution_count": 25,
     "metadata": {},
     "output_type": "execute_result"
    }
   ],
   "source": [
    "CNOT_ct = tp(proj(pbk('0')), pauli(0)) + tp(proj(pbk('1')), pauli(1))\n",
    "mbk(CNOT_ct)"
   ]
  },
  {
   "cell_type": "code",
   "execution_count": 26,
   "id": "d04380e2",
   "metadata": {},
   "outputs": [
    {
     "data": {
      "image/png": "[encoded data removed]",
      "text/latex": [
       "$\\displaystyle \\left[\\begin{matrix}1 & 0 & 0 & 0\\\\0 & 1 & 0 & 0\\\\0 & 0 & 0 & 1\\\\0 & 0 & 1 & 0\\end{matrix}\\right]$"
      ],
      "text/plain": [
       "⎡1  0  0  0⎤\n",
       "⎢          ⎥\n",
       "⎢0  1  0  0⎥\n",
       "⎢          ⎥\n",
       "⎢0  0  0  1⎥\n",
       "⎢          ⎥\n",
       "⎣0  0  1  0⎦"
      ]
     },
     "execution_count": 26,
     "metadata": {},
     "output_type": "execute_result"
    }
   ],
   "source": [
    "CNOT_ct"
   ]
  },
  {
   "cell_type": "code",
   "execution_count": null,
   "id": "c7a9577d",
   "metadata": {},
   "outputs": [],
   "source": []
  }
 ],
 "metadata": {
  "kernelspec": {
   "display_name": "Python 3 (ipykernel)",
   "language": "python",
   "name": "python3"
  },
  "language_info": {
   "codemirror_mode": {
    "name": "ipython",
    "version": 3
   },
   "file_extension": ".py",
   "mimetype": "text/x-python",
   "name": "python",
   "nbconvert_exporter": "python",
   "pygments_lexer": "ipython3",
   "version": "3.9.13"
  }
 },
 "nbformat": 4,
 "nbformat_minor": 5
}
