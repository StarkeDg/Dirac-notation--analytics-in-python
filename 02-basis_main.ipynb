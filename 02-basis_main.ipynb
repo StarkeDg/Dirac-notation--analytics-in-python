{
 "cells": [
  {
   "cell_type": "code",
   "execution_count": 1,
   "id": "a2725ff3",
   "metadata": {},
   "outputs": [],
   "source": [
    "%run init.ipynb"
   ]
  },
  {
   "cell_type": "markdown",
   "id": "47300eda",
   "metadata": {},
   "source": [
    "# $Z$-, $X$-, $Y$- and Bell's basis"
   ]
  },
  {
   "cell_type": "markdown",
   "id": "950551f6",
   "metadata": {},
   "source": [
    "The computational basis ($z$-base) is denoted in bra-ket terms as $\\vert0\\rangle$ and $\\vert1\\rangle$. We can write the base of $x$ (here denoted by $\\vert+\\rangle$ and $\\vert-\\rangle$) in terms of that base via:\n",
    "\\begin{align}\n",
    "\\left\\vert +\\right\\rangle  & =\\frac{1}{\\sqrt{2}}\\left(  \\left\\vert\n",
    "0\\right\\rangle +\\left\\vert 1\\right\\rangle \\right)  \\\\\n",
    "\\left\\vert -\\right\\rangle  & =\\frac{1}{\\sqrt{2}}\\left(  \\left\\vert\n",
    "0\\right\\rangle -\\left\\vert 1\\right\\rangle \\right)\n",
    "\\end{align}\n",
    "and the base of $y$ (here denoted by $\\vert\\oplus\\rangle$ and $\\vert\\ominus\\rangle$) as\n",
    "\\begin{align}\n",
    "\\left\\vert \\oplus\\right\\rangle  & =\\frac{1}{\\sqrt{2}}\\left(  \\left\\vert\n",
    "0\\right\\rangle +i\\left\\vert 1\\right\\rangle \\right)  \\\\\n",
    "\\left\\vert \\ominus\\right\\rangle  & =\\frac{1}{\\sqrt{2}}\\left(  \\left\\vert\n",
    "0\\right\\rangle -i\\left\\vert 1\\right\\rangle \\right)\n",
    "\\end{align}"
   ]
  },
  {
   "cell_type": "markdown",
   "id": "43e655dc",
   "metadata": {},
   "source": [
    "Of course, we can write the base of $x$ in terms of the base of $y$ and vice versa, but we'll leave that to the code that follows."
   ]
  },
  {
   "cell_type": "markdown",
   "id": "6e71d3ea",
   "metadata": {},
   "source": [
    "## `mbk_xyBB(matrix, *bpos)`"
   ]
  },
  {
   "cell_type": "markdown",
   "id": "22841075",
   "metadata": {},
   "source": [
    "What we have done here so far when we use `mbk` code is to write matrices in terms of the computational basis in bra-ket notation. So, we sent a state vector to the `mbk` function and it returned that state vector in bra-ket notation on the computational base.\n",
    "\n",
    "Analogous to what `mbk` does, `mbk_xyBB` receives the state and writes the desired qubists in the base of $x, y,$ or, if it \n",
    "has two or more qubits, in the base of Bell.\n",
    "\n",
    "The `matrix` parameter receives the state vector and `*bpos` are lists (or tuples) with the following order as e.g. `*bpos = ('base1', qubit_w, qubit_x, qubit_y), ('base2', qubit_z), ('BB', (qubit_w, qubit_{w-1}))`.\n",
    "\n",
    "Note that you can send one or several positions that will have a certain `base`. As for the Bell base, it is necessary to send the two qubits that make up the base and they must already be positioned in the descending order that you want to write."
   ]
  },
  {
   "cell_type": "markdown",
   "id": "0dbc1429",
   "metadata": {},
   "source": [
    "Let's start with some examples to make things more sense."
   ]
  },
  {
   "cell_type": "markdown",
   "id": "d1d9508d",
   "metadata": {},
   "source": [
    "### One qubit"
   ]
  },
  {
   "cell_type": "markdown",
   "id": "e48f877e",
   "metadata": {},
   "source": [
    "Consider the state $\\vert\\psi_0\\rangle = \\vert 0 \\rangle$ which in our notation can be obtained in python through:"
   ]
  },
  {
   "cell_type": "code",
   "execution_count": 2,
   "id": "eaf73522",
   "metadata": {},
   "outputs": [
    {
     "data": {
      "image/png": "[encoded data removed]",
      "text/latex": [
       "$\\displaystyle {\\left|0\\right\\rangle }$"
      ],
      "text/plain": [
       "❘0⟩"
      ]
     },
     "execution_count": 2,
     "metadata": {},
     "output_type": "execute_result"
    }
   ],
   "source": [
    "ψ_0 = pbk('0')\n",
    "mbk(ψ_0)"
   ]
  },
  {
   "cell_type": "markdown",
   "id": "891307d4",
   "metadata": {},
   "source": [
    "Considering the state $\\vert\\psi_0\\rangle$ above, we can write this computational basis state in the basis of $x$:"
   ]
  },
  {
   "cell_type": "code",
   "execution_count": 3,
   "id": "5655b8e4",
   "metadata": {},
   "outputs": [
    {
     "data": {
      "image/png": "[encoded data removed]",
      "text/latex": [
       "$\\displaystyle \\frac{\\sqrt{2} \\left({\\left|+\\right\\rangle } + {\\left|-\\right\\rangle }\\right)}{2}$"
      ],
      "text/plain": [
       "√2⋅(❘+⟩ + ❘-⟩)\n",
       "──────────────\n",
       "      2       "
      ]
     },
     "execution_count": 3,
     "metadata": {},
     "output_type": "execute_result"
    }
   ],
   "source": [
    "mysim(mbk_xyBB( ψ_0, ('x', 0)))"
   ]
  },
  {
   "cell_type": "markdown",
   "id": "2ebde3f7",
   "metadata": {},
   "source": [
    "and in the basis of $y$:"
   ]
  },
  {
   "cell_type": "code",
   "execution_count": 4,
   "id": "628ed20e",
   "metadata": {
    "scrolled": true
   },
   "outputs": [
    {
     "data": {
      "image/png": "[encoded data removed]",
      "text/latex": [
       "$\\displaystyle \\frac{\\sqrt{2} \\left({\\left|\\ominus\\right\\rangle } + {\\left|\\oplus\\right\\rangle }\\right)}{2}$"
      ],
      "text/plain": [
       "√2⋅(❘\\ominus⟩ + ❘\\oplus⟩)\n",
       "─────────────────────────\n",
       "            2            "
      ]
     },
     "execution_count": 4,
     "metadata": {},
     "output_type": "execute_result"
    }
   ],
   "source": [
    "mysim(mbk_xyBB( ψ_0, ('y', 0)))"
   ]
  },
  {
   "cell_type": "markdown",
   "id": "7e1346ea",
   "metadata": {},
   "source": [
    "Now consider the state $\\vert\\psi_1\\rangle = \\vert 1 \\rangle$ which in our notation can be obtained in python through:"
   ]
  },
  {
   "cell_type": "code",
   "execution_count": 5,
   "id": "e15a5e8c",
   "metadata": {},
   "outputs": [
    {
     "data": {
      "image/png": "[encoded data removed]",
      "text/latex": [
       "$\\displaystyle {\\left|1\\right\\rangle }$"
      ],
      "text/plain": [
       "❘1⟩"
      ]
     },
     "execution_count": 5,
     "metadata": {},
     "output_type": "execute_result"
    }
   ],
   "source": [
    "ψ_1 = pbk('1')\n",
    "mbk(ψ_1)"
   ]
  },
  {
   "cell_type": "markdown",
   "id": "3c398c75",
   "metadata": {},
   "source": [
    "In the basis of $x$, we have:"
   ]
  },
  {
   "cell_type": "code",
   "execution_count": 6,
   "id": "301e15f0",
   "metadata": {},
   "outputs": [
    {
     "data": {
      "image/png": "[encoded data removed]",
      "text/latex": [
       "$\\displaystyle \\frac{\\sqrt{2} \\left({\\left|+\\right\\rangle } - {\\left|-\\right\\rangle }\\right)}{2}$"
      ],
      "text/plain": [
       "√2⋅(❘+⟩ - ❘-⟩)\n",
       "──────────────\n",
       "      2       "
      ]
     },
     "execution_count": 6,
     "metadata": {},
     "output_type": "execute_result"
    }
   ],
   "source": [
    "mysim(mbk_xyBB( ψ_1, ('x', 0)))"
   ]
  },
  {
   "cell_type": "markdown",
   "id": "770ba798",
   "metadata": {},
   "source": [
    "and in the basis of $y$:"
   ]
  },
  {
   "cell_type": "code",
   "execution_count": 7,
   "id": "c4497c27",
   "metadata": {
    "scrolled": true
   },
   "outputs": [
    {
     "data": {
      "image/png": "[encoded data removed]",
      "text/latex": [
       "$\\displaystyle \\frac{\\sqrt{2} i \\left({\\left|\\ominus\\right\\rangle } - {\\left|\\oplus\\right\\rangle }\\right)}{2}$"
      ],
      "text/plain": [
       "√2⋅ⅈ⋅(❘\\ominus⟩ - ❘\\oplus⟩)\n",
       "───────────────────────────\n",
       "             2             "
      ]
     },
     "execution_count": 7,
     "metadata": {},
     "output_type": "execute_result"
    }
   ],
   "source": [
    "mysim(mbk_xyBB( ψ_1, ('y', 0)))"
   ]
  },
  {
   "cell_type": "markdown",
   "id": "c173217a",
   "metadata": {},
   "source": [
    "Consider the state $\\vert\\psi_{xp}\\rangle = \\vert+\\rangle$ which in our notation can be obtained in python through:"
   ]
  },
  {
   "cell_type": "code",
   "execution_count": 8,
   "id": "f5f0357a",
   "metadata": {},
   "outputs": [
    {
     "data": {
      "image/png": "[encoded data removed]",
      "text/latex": [
       "$\\displaystyle \\frac{\\sqrt{2} \\left({\\left|0\\right\\rangle } + {\\left|1\\right\\rangle }\\right)}{2}$"
      ],
      "text/plain": [
       "√2⋅(❘0⟩ + ❘1⟩)\n",
       "──────────────\n",
       "      2       "
      ]
     },
     "execution_count": 8,
     "metadata": {},
     "output_type": "execute_result"
    }
   ],
   "source": [
    "ψ_xp = pbk('+')\n",
    "mysim(mbk(ψ_xp))"
   ]
  },
  {
   "cell_type": "markdown",
   "id": "82c59ac4",
   "metadata": {},
   "source": [
    "In the basis of $x$, we have:"
   ]
  },
  {
   "cell_type": "code",
   "execution_count": 9,
   "id": "a3e745e8",
   "metadata": {},
   "outputs": [
    {
     "data": {
      "image/png": "[encoded data removed]",
      "text/latex": [
       "$\\displaystyle {\\left|+\\right\\rangle }$"
      ],
      "text/plain": [
       "❘+⟩"
      ]
     },
     "execution_count": 9,
     "metadata": {},
     "output_type": "execute_result"
    }
   ],
   "source": [
    "mysim(mbk_xyBB( ψ_xp, ('x', 0)))"
   ]
  },
  {
   "cell_type": "markdown",
   "id": "e3f75ede",
   "metadata": {},
   "source": [
    "how it should be, and in the basis of $y$:"
   ]
  },
  {
   "cell_type": "code",
   "execution_count": 10,
   "id": "9d508058",
   "metadata": {},
   "outputs": [
    {
     "data": {
      "image/png": "[encoded data removed]",
      "text/latex": [
       "$\\displaystyle \\frac{\\left(1 + i\\right) {\\left|\\ominus\\right\\rangle } + \\left(1 - i\\right) {\\left|\\oplus\\right\\rangle }}{2}$"
      ],
      "text/plain": [
       "(1 + ⅈ)⋅❘\\ominus⟩ + (1 - ⅈ)⋅❘\\oplus⟩\n",
       "────────────────────────────────────\n",
       "                 2                  "
      ]
     },
     "execution_count": 10,
     "metadata": {},
     "output_type": "execute_result"
    }
   ],
   "source": [
    "mysim(mbk_xyBB( ψ_xp, ('y', 0)))"
   ]
  },
  {
   "cell_type": "markdown",
   "id": "ff692dcd",
   "metadata": {},
   "source": [
    "That is, we can write the base of $\\vert +\\rangle$ in terms of the base of $y$."
   ]
  },
  {
   "cell_type": "markdown",
   "id": "7cda1a01",
   "metadata": {},
   "source": [
    "In order not to get too repetitive, let's consider $\\vert\\psi_{ym}\\rangle = \\left|\\ominus\\right\\rangle$  given by:"
   ]
  },
  {
   "cell_type": "code",
   "execution_count": 11,
   "id": "60387b0a",
   "metadata": {},
   "outputs": [
    {
     "data": {
      "image/png": "[encoded data removed]",
      "text/latex": [
       "$\\displaystyle \\frac{\\sqrt{2} \\left({\\left|0\\right\\rangle } - i {\\left|1\\right\\rangle }\\right)}{2}$"
      ],
      "text/plain": [
       "√2⋅(❘0⟩ - ⅈ⋅❘1⟩)\n",
       "────────────────\n",
       "       2        "
      ]
     },
     "execution_count": 11,
     "metadata": {},
     "output_type": "execute_result"
    }
   ],
   "source": [
    "ψ_ym = pbk('l')\n",
    "mysim(mbk(ψ_ym))"
   ]
  },
  {
   "cell_type": "markdown",
   "id": "059f47cd",
   "metadata": {},
   "source": [
    "So in the basis of $y$:"
   ]
  },
  {
   "cell_type": "code",
   "execution_count": 12,
   "id": "162a6d44",
   "metadata": {},
   "outputs": [
    {
     "data": {
      "image/png": "[encoded data removed]",
      "text/latex": [
       "$\\displaystyle {\\left|\\ominus\\right\\rangle }$"
      ],
      "text/plain": [
       "❘\\ominus⟩"
      ]
     },
     "execution_count": 12,
     "metadata": {},
     "output_type": "execute_result"
    }
   ],
   "source": [
    "mysim(mbk_xyBB( ψ_ym, ('y', 0)))"
   ]
  },
  {
   "cell_type": "markdown",
   "id": "55c08839",
   "metadata": {},
   "source": [
    "how it should be, and in the basis of $x$:"
   ]
  },
  {
   "cell_type": "code",
   "execution_count": 13,
   "id": "a24100ea",
   "metadata": {},
   "outputs": [
    {
     "data": {
      "image/png": "[encoded data removed]",
      "text/latex": [
       "$\\displaystyle \\frac{\\left(1 - i\\right) {\\left|+\\right\\rangle } + \\left(1 + i\\right) {\\left|-\\right\\rangle }}{2}$"
      ],
      "text/plain": [
       "(1 - ⅈ)⋅❘+⟩ + (1 + ⅈ)⋅❘-⟩\n",
       "─────────────────────────\n",
       "            2            "
      ]
     },
     "execution_count": 13,
     "metadata": {},
     "output_type": "execute_result"
    }
   ],
   "source": [
    "mysim(mbk_xyBB( ψ_ym, ('x', 0)))"
   ]
  },
  {
   "cell_type": "markdown",
   "id": "a86e7c73",
   "metadata": {},
   "source": [
    "Now we write the base $\\left|\\ominus\\right\\rangle$ in terms of the base $x$."
   ]
  },
  {
   "cell_type": "markdown",
   "id": "455d186a",
   "metadata": {},
   "source": [
    "### Two or more qubits"
   ]
  },
  {
   "cell_type": "markdown",
   "id": "6453c4a1",
   "metadata": {},
   "source": [
    "Let's consider the state given by"
   ]
  },
  {
   "cell_type": "code",
   "execution_count": 14,
   "id": "f70b01b9",
   "metadata": {},
   "outputs": [
    {
     "data": {
      "image/png": "[encoded data removed]",
      "text/latex": [
       "$\\displaystyle {\\left|10\\right\\rangle }$"
      ],
      "text/plain": [
       "❘10⟩"
      ]
     },
     "execution_count": 14,
     "metadata": {},
     "output_type": "execute_result"
    }
   ],
   "source": [
    "ψ_AB = pbk('10')\n",
    "mbk(ψ_AB)"
   ]
  },
  {
   "cell_type": "markdown",
   "id": "4d7bf80c",
   "metadata": {},
   "source": [
    "Now we need to specify the qubit (or qubits) we want to write in a given basis. If it is in the base $x,y$, we can write only one of the qubits in that base, both in the same base, it is still possible to write one in each different base and so on. Here it is already possible to also write in the base of Bell. So let's show some examples:\n",
    "\n",
    "1) Qubit 1 in base $x$:"
   ]
  },
  {
   "cell_type": "code",
   "execution_count": 16,
   "id": "a96b7d43",
   "metadata": {},
   "outputs": [
    {
     "data": {
      "image/png": "[encoded data removed]",
      "text/latex": [
       "$\\displaystyle \\frac{\\sqrt{2} \\left({\\left|+\\right\\rangle } {\\left|0\\right\\rangle } - {\\left|-\\right\\rangle } {\\left|0\\right\\rangle }\\right)}{2}$"
      ],
      "text/plain": [
       "√2⋅(❘+⟩⋅❘0⟩ - ❘-⟩⋅❘0⟩)\n",
       "──────────────────────\n",
       "          2           "
      ]
     },
     "execution_count": 16,
     "metadata": {},
     "output_type": "execute_result"
    }
   ],
   "source": [
    "mysim(mbk_xyBB(ψ_AB, ('x', 1), split=1))"
   ]
  },
  {
   "cell_type": "markdown",
   "id": "4d3f54be",
   "metadata": {},
   "source": [
    "and the qubit 0 too"
   ]
  },
  {
   "cell_type": "code",
   "execution_count": 17,
   "id": "a6cb351e",
   "metadata": {},
   "outputs": [
    {
     "data": {
      "image/png": "[encoded data removed]",
      "text/latex": [
       "$\\displaystyle \\frac{\\sqrt{2} \\left({\\left|1\\right\\rangle } {\\left|+\\right\\rangle } + {\\left|1\\right\\rangle } {\\left|-\\right\\rangle }\\right)}{2}$"
      ],
      "text/plain": [
       "√2⋅(❘1⟩⋅❘+⟩ + ❘1⟩⋅❘-⟩)\n",
       "──────────────────────\n",
       "          2           "
      ]
     },
     "execution_count": 17,
     "metadata": {},
     "output_type": "execute_result"
    }
   ],
   "source": [
    "mysim(mbk_xyBB(ψ_AB, ('x', 0), split=1))"
   ]
  },
  {
   "cell_type": "markdown",
   "id": "2c1e0489",
   "metadata": {},
   "source": [
    "2) Qubit 1 in base $y$:"
   ]
  },
  {
   "cell_type": "code",
   "execution_count": 18,
   "id": "144c5e0b",
   "metadata": {},
   "outputs": [
    {
     "data": {
      "image/png": "[encoded data removed]",
      "text/latex": [
       "$\\displaystyle \\frac{\\sqrt{2} i \\left({\\left|\\ominus\\right\\rangle } {\\left|0\\right\\rangle } - {\\left|\\oplus\\right\\rangle } {\\left|0\\right\\rangle }\\right)}{2}$"
      ],
      "text/plain": [
       "√2⋅ⅈ⋅(❘\\ominus⟩⋅❘0⟩ - ❘\\oplus⟩⋅❘0⟩)\n",
       "───────────────────────────────────\n",
       "                 2                 "
      ]
     },
     "execution_count": 18,
     "metadata": {},
     "output_type": "execute_result"
    }
   ],
   "source": [
    "mysim(mbk_xyBB(ψ_AB, ('y', 1), split=1))"
   ]
  },
  {
   "cell_type": "markdown",
   "id": "641b123d",
   "metadata": {},
   "source": [
    "and the qubit 0 in the same base"
   ]
  },
  {
   "cell_type": "code",
   "execution_count": 19,
   "id": "7433bc0f",
   "metadata": {},
   "outputs": [
    {
     "data": {
      "image/png": "[encoded data removed]",
      "text/latex": [
       "$\\displaystyle \\frac{\\sqrt{2} \\left({\\left|1\\right\\rangle } {\\left|\\ominus\\right\\rangle } + {\\left|1\\right\\rangle } {\\left|\\oplus\\right\\rangle }\\right)}{2}$"
      ],
      "text/plain": [
       "√2⋅(❘1⟩⋅❘\\ominus⟩ + ❘1⟩⋅❘\\oplus⟩)\n",
       "─────────────────────────────────\n",
       "                2                "
      ]
     },
     "execution_count": 19,
     "metadata": {},
     "output_type": "execute_result"
    }
   ],
   "source": [
    "mysim(mbk_xyBB(ψ_AB, ('y', 0), split=1))"
   ]
  },
  {
   "cell_type": "markdown",
   "id": "45a508ba",
   "metadata": {},
   "source": [
    "3) And now in the Bell basis:"
   ]
  },
  {
   "cell_type": "code",
   "execution_count": 12,
   "id": "d3cfde93",
   "metadata": {},
   "outputs": [
    {
     "data": {
      "image/png": "[encoded data removed]",
      "text/latex": [
       "$\\displaystyle \\frac{\\sqrt{2} \\left({\\left|\\Psi_{+}\\right\\rangle } - {\\left|\\Psi_{-}\\right\\rangle }\\right)}{2}$"
      ],
      "text/plain": [
       "√2⋅(❘\\Psi_{+}⟩ - ❘\\Psi_{-}⟩)\n",
       "────────────────────────────\n",
       "             2              "
      ]
     },
     "execution_count": 12,
     "metadata": {},
     "output_type": "execute_result"
    }
   ],
   "source": [
    "mysim(mbk_xyBB(ψ_AB, ('BB', (1,0))))"
   ]
  },
  {
   "cell_type": "markdown",
   "id": "7e5e05b7",
   "metadata": {},
   "source": [
    "The programming used here is precisely to force the perception of the order in which the qubits are inserted to form the Bell base, so the two qubits that will compose the base and their order must be included."
   ]
  },
  {
   "cell_type": "markdown",
   "id": "e4a2cdfd",
   "metadata": {},
   "source": [
    "### Bell basis"
   ]
  },
  {
   "cell_type": "code",
   "execution_count": 15,
   "id": "fe544116",
   "metadata": {},
   "outputs": [
    {
     "data": {
      "image/png": "[encoded data removed]",
      "text/latex": [
       "$\\displaystyle {\\left|\\Phi_{+}\\right\\rangle }$"
      ],
      "text/plain": [
       "❘\\Phi_{+}⟩"
      ]
     },
     "execution_count": 15,
     "metadata": {},
     "output_type": "execute_result"
    }
   ],
   "source": [
    "Φ_p = pbk('P')\n",
    "mbk_xyBB(Φ_p, ('BB', (1,0)))"
   ]
  },
  {
   "cell_type": "code",
   "execution_count": 17,
   "id": "2b059777",
   "metadata": {},
   "outputs": [
    {
     "data": {
      "image/png": "[encoded data removed]",
      "text/latex": [
       "$\\displaystyle {\\left|\\Phi_{-}\\right\\rangle }$"
      ],
      "text/plain": [
       "❘\\Phi_{-}⟩"
      ]
     },
     "execution_count": 17,
     "metadata": {},
     "output_type": "execute_result"
    }
   ],
   "source": [
    "Φ_m = pbk('Q')\n",
    "mbk_xyBB(Φ_m, ('BB', (1,0)))"
   ]
  },
  {
   "cell_type": "code",
   "execution_count": 18,
   "id": "16743f34",
   "metadata": {},
   "outputs": [
    {
     "data": {
      "image/png": "[encoded data removed]",
      "text/latex": [
       "$\\displaystyle {\\left|\\Psi_{+}\\right\\rangle }$"
      ],
      "text/plain": [
       "❘\\Psi_{+}⟩"
      ]
     },
     "execution_count": 18,
     "metadata": {},
     "output_type": "execute_result"
    }
   ],
   "source": [
    "Ψ_p = pbk('R')\n",
    "mbk_xyBB(Ψ_p, ('BB', (1,0)))"
   ]
  },
  {
   "cell_type": "code",
   "execution_count": 19,
   "id": "ab820d83",
   "metadata": {},
   "outputs": [
    {
     "data": {
      "image/png": "[encoded data removed]",
      "text/latex": [
       "$\\displaystyle {\\left|\\Psi_{-}\\right\\rangle }$"
      ],
      "text/plain": [
       "❘\\Psi_{-}⟩"
      ]
     },
     "execution_count": 19,
     "metadata": {},
     "output_type": "execute_result"
    }
   ],
   "source": [
    "Ψ_m = pbk('S')\n",
    "mbk_xyBB(Ψ_m, ('BB', (1,0)))"
   ]
  },
  {
   "cell_type": "markdown",
   "id": "3e7d8677",
   "metadata": {},
   "source": [
    "### Computational base in terms of Bell Base"
   ]
  },
  {
   "cell_type": "code",
   "execution_count": 21,
   "id": "0b27ba2e",
   "metadata": {},
   "outputs": [
    {
     "data": {
      "image/png": "[encoded data removed]",
      "text/latex": [
       "$\\displaystyle \\frac{\\sqrt{2} \\left({\\left|\\Phi_{+}\\right\\rangle } + {\\left|\\Phi_{-}\\right\\rangle }\\right)}{2}$"
      ],
      "text/plain": [
       "√2⋅(❘\\Phi_{+}⟩ + ❘\\Phi_{-}⟩)\n",
       "────────────────────────────\n",
       "             2              "
      ]
     },
     "execution_count": 21,
     "metadata": {},
     "output_type": "execute_result"
    }
   ],
   "source": [
    "ψ_00 = pbk('00')\n",
    "mysim(mbk_xyBB(ψ_00, ('BB', (1,0))))"
   ]
  },
  {
   "cell_type": "code",
   "execution_count": 22,
   "id": "a2ab424d",
   "metadata": {},
   "outputs": [
    {
     "data": {
      "image/png": "[encoded data removed]",
      "text/latex": [
       "$\\displaystyle \\frac{\\sqrt{2} \\left({\\left|\\Psi_{+}\\right\\rangle } + {\\left|\\Psi_{-}\\right\\rangle }\\right)}{2}$"
      ],
      "text/plain": [
       "√2⋅(❘\\Psi_{+}⟩ + ❘\\Psi_{-}⟩)\n",
       "────────────────────────────\n",
       "             2              "
      ]
     },
     "execution_count": 22,
     "metadata": {},
     "output_type": "execute_result"
    }
   ],
   "source": [
    "ψ_01 = pbk('01')\n",
    "mysim(mbk_xyBB(ψ_01, ('BB', (1,0))))"
   ]
  },
  {
   "cell_type": "code",
   "execution_count": 23,
   "id": "a2e4b29f",
   "metadata": {},
   "outputs": [
    {
     "data": {
      "image/png": "[encoded data removed]",
      "text/latex": [
       "$\\displaystyle \\frac{\\sqrt{2} \\left({\\left|\\Psi_{+}\\right\\rangle } - {\\left|\\Psi_{-}\\right\\rangle }\\right)}{2}$"
      ],
      "text/plain": [
       "√2⋅(❘\\Psi_{+}⟩ - ❘\\Psi_{-}⟩)\n",
       "────────────────────────────\n",
       "             2              "
      ]
     },
     "execution_count": 23,
     "metadata": {},
     "output_type": "execute_result"
    }
   ],
   "source": [
    "ψ_10 = pbk('10')\n",
    "mysim(mbk_xyBB(ψ_10, ('BB', (1,0))))"
   ]
  },
  {
   "cell_type": "code",
   "execution_count": 30,
   "id": "7d6f3941",
   "metadata": {},
   "outputs": [
    {
     "data": {
      "image/png": "[encoded data removed]",
      "text/latex": [
       "$\\displaystyle \\frac{\\sqrt{2} \\left({\\left|\\Phi_{+}\\right\\rangle } - {\\left|\\Phi_{-}\\right\\rangle }\\right)}{2}$"
      ],
      "text/plain": [
       "√2⋅(❘\\Phi_{+}⟩ - ❘\\Phi_{-}⟩)\n",
       "────────────────────────────\n",
       "             2              "
      ]
     },
     "execution_count": 30,
     "metadata": {},
     "output_type": "execute_result"
    }
   ],
   "source": [
    "ψ_11 = pbk('11')\n",
    "mysim(mbk_xyBB(ψ_11, ('BB', (1,0))))"
   ]
  },
  {
   "cell_type": "markdown",
   "id": "555b1699",
   "metadata": {},
   "source": [
    "### More examples"
   ]
  },
  {
   "cell_type": "markdown",
   "id": "3659dcc0",
   "metadata": {},
   "source": [
    "Below is a slightly more complex example. We can see that this state vector written in the computational base is quite extensive:"
   ]
  },
  {
   "cell_type": "code",
   "execution_count": 5,
   "id": "fae48d0c",
   "metadata": {
    "scrolled": false
   },
   "outputs": [
    {
     "data": {
      "image/png": "[encoded data removed]",
      "text/latex": [
       "$\\displaystyle \\frac{\\sqrt{2} \\left({\\left|000010000\\right\\rangle } + {\\left|000010001\\right\\rangle } + i {\\left|000010010\\right\\rangle } - i {\\left|000010011\\right\\rangle } + {\\left|000010100\\right\\rangle } - {\\left|000010101\\right\\rangle } + i {\\left|000010110\\right\\rangle } + i {\\left|000010111\\right\\rangle } - i {\\left|000011000\\right\\rangle } + i {\\left|000011001\\right\\rangle } + {\\left|000011010\\right\\rangle } + {\\left|000011011\\right\\rangle } - i {\\left|000011100\\right\\rangle } - i {\\left|000011101\\right\\rangle } + {\\left|000011110\\right\\rangle } - {\\left|000011111\\right\\rangle } + {\\left|000100000\\right\\rangle } + {\\left|000100001\\right\\rangle } + i {\\left|000100010\\right\\rangle } - i {\\left|000100011\\right\\rangle } + {\\left|000100100\\right\\rangle } - {\\left|000100101\\right\\rangle } + i {\\left|000100110\\right\\rangle } + i {\\left|000100111\\right\\rangle } - i {\\left|000101000\\right\\rangle } + i {\\left|000101001\\right\\rangle } + {\\left|000101010\\right\\rangle } + {\\left|000101011\\right\\rangle } - i {\\left|000101100\\right\\rangle } - i {\\left|000101101\\right\\rangle } + {\\left|000101110\\right\\rangle } - {\\left|000101111\\right\\rangle } - {\\left|001010000\\right\\rangle } + {\\left|001010001\\right\\rangle } - i {\\left|001010010\\right\\rangle } - i {\\left|001010011\\right\\rangle } - {\\left|001010100\\right\\rangle } - {\\left|001010101\\right\\rangle } - i {\\left|001010110\\right\\rangle } + i {\\left|001010111\\right\\rangle } + i {\\left|001011000\\right\\rangle } + i {\\left|001011001\\right\\rangle } - {\\left|001011010\\right\\rangle } + {\\left|001011011\\right\\rangle } + i {\\left|001011100\\right\\rangle } - i {\\left|001011101\\right\\rangle } - {\\left|001011110\\right\\rangle } - {\\left|001011111\\right\\rangle } - {\\left|001100000\\right\\rangle } + {\\left|001100001\\right\\rangle } - i {\\left|001100010\\right\\rangle } - i {\\left|001100011\\right\\rangle } - {\\left|001100100\\right\\rangle } - {\\left|001100101\\right\\rangle } - i {\\left|001100110\\right\\rangle } + i {\\left|001100111\\right\\rangle } + i {\\left|001101000\\right\\rangle } + i {\\left|001101001\\right\\rangle } - {\\left|001101010\\right\\rangle } + {\\left|001101011\\right\\rangle } + i {\\left|001101100\\right\\rangle } - i {\\left|001101101\\right\\rangle } - {\\left|001101110\\right\\rangle } - {\\left|001101111\\right\\rangle } + {\\left|110010000\\right\\rangle } + {\\left|110010001\\right\\rangle } + i {\\left|110010010\\right\\rangle } - i {\\left|110010011\\right\\rangle } + {\\left|110010100\\right\\rangle } - {\\left|110010101\\right\\rangle } + i {\\left|110010110\\right\\rangle } + i {\\left|110010111\\right\\rangle } - i {\\left|110011000\\right\\rangle } + i {\\left|110011001\\right\\rangle } + {\\left|110011010\\right\\rangle } + {\\left|110011011\\right\\rangle } - i {\\left|110011100\\right\\rangle } - i {\\left|110011101\\right\\rangle } + {\\left|110011110\\right\\rangle } - {\\left|110011111\\right\\rangle } + {\\left|110100000\\right\\rangle } + {\\left|110100001\\right\\rangle } + i {\\left|110100010\\right\\rangle } - i {\\left|110100011\\right\\rangle } + {\\left|110100100\\right\\rangle } - {\\left|110100101\\right\\rangle } + i {\\left|110100110\\right\\rangle } + i {\\left|110100111\\right\\rangle } - i {\\left|110101000\\right\\rangle } + i {\\left|110101001\\right\\rangle } + {\\left|110101010\\right\\rangle } + {\\left|110101011\\right\\rangle } - i {\\left|110101100\\right\\rangle } - i {\\left|110101101\\right\\rangle } + {\\left|110101110\\right\\rangle } - {\\left|110101111\\right\\rangle } - {\\left|111010000\\right\\rangle } + {\\left|111010001\\right\\rangle } - i {\\left|111010010\\right\\rangle } - i {\\left|111010011\\right\\rangle } - {\\left|111010100\\right\\rangle } - {\\left|111010101\\right\\rangle } - i {\\left|111010110\\right\\rangle } + i {\\left|111010111\\right\\rangle } + i {\\left|111011000\\right\\rangle } + i {\\left|111011001\\right\\rangle } - {\\left|111011010\\right\\rangle } + {\\left|111011011\\right\\rangle } + i {\\left|111011100\\right\\rangle } - i {\\left|111011101\\right\\rangle } - {\\left|111011110\\right\\rangle } - {\\left|111011111\\right\\rangle } - {\\left|111100000\\right\\rangle } + {\\left|111100001\\right\\rangle } - i {\\left|111100010\\right\\rangle } - i {\\left|111100011\\right\\rangle } - {\\left|111100100\\right\\rangle } - {\\left|111100101\\right\\rangle } - i {\\left|111100110\\right\\rangle } + i {\\left|111100111\\right\\rangle } + i {\\left|111101000\\right\\rangle } + i {\\left|111101001\\right\\rangle } - {\\left|111101010\\right\\rangle } + {\\left|111101011\\right\\rangle } + i {\\left|111101100\\right\\rangle } - i {\\left|111101101\\right\\rangle } - {\\left|111101110\\right\\rangle } - {\\left|111101111\\right\\rangle }\\right)}{16}$"
      ],
      "text/plain": [
       "√2⋅(❘000010000⟩ + ❘000010001⟩ + ⅈ⋅❘000010010⟩ - ⅈ⋅❘000010011⟩ + ❘000010100⟩ - \n",
       "──────────────────────────────────────────────────────────────────────────────\n",
       "                                                                              \n",
       "\n",
       "❘000010101⟩ + ⅈ⋅❘000010110⟩ + ⅈ⋅❘000010111⟩ - ⅈ⋅❘000011000⟩ + ⅈ⋅❘000011001⟩ + \n",
       "──────────────────────────────────────────────────────────────────────────────\n",
       "                                                                              \n",
       "\n",
       "❘000011010⟩ + ❘000011011⟩ - ⅈ⋅❘000011100⟩ - ⅈ⋅❘000011101⟩ + ❘000011110⟩ - ❘000\n",
       "──────────────────────────────────────────────────────────────────────────────\n",
       "                                                                              \n",
       "\n",
       "011111⟩ + ❘000100000⟩ + ❘000100001⟩ + ⅈ⋅❘000100010⟩ - ⅈ⋅❘000100011⟩ + ❘0001001\n",
       "──────────────────────────────────────────────────────────────────────────────\n",
       "                                                                              \n",
       "\n",
       "00⟩ - ❘000100101⟩ + ⅈ⋅❘000100110⟩ + ⅈ⋅❘000100111⟩ - ⅈ⋅❘000101000⟩ + ⅈ⋅❘0001010\n",
       "──────────────────────────────────────────────────────────────────────────────\n",
       "                                                                              \n",
       "\n",
       "01⟩ + ❘000101010⟩ + ❘000101011⟩ - ⅈ⋅❘000101100⟩ - ⅈ⋅❘000101101⟩ + ❘000101110⟩ \n",
       "──────────────────────────────────────────────────────────────────────────────\n",
       "                                                                              \n",
       "\n",
       "- ❘000101111⟩ - ❘001010000⟩ + ❘001010001⟩ - ⅈ⋅❘001010010⟩ - ⅈ⋅❘001010011⟩ - ❘0\n",
       "──────────────────────────────────────────────────────────────────────────────\n",
       "                                                                              \n",
       "\n",
       "01010100⟩ - ❘001010101⟩ - ⅈ⋅❘001010110⟩ + ⅈ⋅❘001010111⟩ + ⅈ⋅❘001011000⟩ + ⅈ⋅❘0\n",
       "──────────────────────────────────────────────────────────────────────────────\n",
       "                                                                              \n",
       "\n",
       "01011001⟩ - ❘001011010⟩ + ❘001011011⟩ + ⅈ⋅❘001011100⟩ - ⅈ⋅❘001011101⟩ - ❘00101\n",
       "──────────────────────────────────────────────────────────────────────────────\n",
       "                                                                              \n",
       "\n",
       "1110⟩ - ❘001011111⟩ - ❘001100000⟩ + ❘001100001⟩ - ⅈ⋅❘001100010⟩ - ⅈ⋅❘001100011\n",
       "──────────────────────────────────────────────────────────────────────────────\n",
       "                                                                              \n",
       "\n",
       "⟩ - ❘001100100⟩ - ❘001100101⟩ - ⅈ⋅❘001100110⟩ + ⅈ⋅❘001100111⟩ + ⅈ⋅❘001101000⟩ \n",
       "──────────────────────────────────────────────────────────────────────────────\n",
       "                                                                              \n",
       "\n",
       "+ ⅈ⋅❘001101001⟩ - ❘001101010⟩ + ❘001101011⟩ + ⅈ⋅❘001101100⟩ - ⅈ⋅❘001101101⟩ - \n",
       "──────────────────────────────────────────────────────────────────────────────\n",
       "                                                                              \n",
       "\n",
       "❘001101110⟩ - ❘001101111⟩ + ❘110010000⟩ + ❘110010001⟩ + ⅈ⋅❘110010010⟩ - ⅈ⋅❘110\n",
       "──────────────────────────────────────────────────────────────────────────────\n",
       "                        16                                                    \n",
       "\n",
       "010011⟩ + ❘110010100⟩ - ❘110010101⟩ + ⅈ⋅❘110010110⟩ + ⅈ⋅❘110010111⟩ - ⅈ⋅❘11001\n",
       "──────────────────────────────────────────────────────────────────────────────\n",
       "                                                                              \n",
       "\n",
       "1000⟩ + ⅈ⋅❘110011001⟩ + ❘110011010⟩ + ❘110011011⟩ - ⅈ⋅❘110011100⟩ - ⅈ⋅❘1100111\n",
       "──────────────────────────────────────────────────────────────────────────────\n",
       "                                                                              \n",
       "\n",
       "01⟩ + ❘110011110⟩ - ❘110011111⟩ + ❘110100000⟩ + ❘110100001⟩ + ⅈ⋅❘110100010⟩ - \n",
       "──────────────────────────────────────────────────────────────────────────────\n",
       "                                                                              \n",
       "\n",
       "ⅈ⋅❘110100011⟩ + ❘110100100⟩ - ❘110100101⟩ + ⅈ⋅❘110100110⟩ + ⅈ⋅❘110100111⟩ - ⅈ⋅\n",
       "──────────────────────────────────────────────────────────────────────────────\n",
       "                                                                              \n",
       "\n",
       "❘110101000⟩ + ⅈ⋅❘110101001⟩ + ❘110101010⟩ + ❘110101011⟩ - ⅈ⋅❘110101100⟩ - ⅈ⋅❘1\n",
       "──────────────────────────────────────────────────────────────────────────────\n",
       "                                                                              \n",
       "\n",
       "10101101⟩ + ❘110101110⟩ - ❘110101111⟩ - ❘111010000⟩ + ❘111010001⟩ - ⅈ⋅❘1110100\n",
       "──────────────────────────────────────────────────────────────────────────────\n",
       "                                                                              \n",
       "\n",
       "10⟩ - ⅈ⋅❘111010011⟩ - ❘111010100⟩ - ❘111010101⟩ - ⅈ⋅❘111010110⟩ + ⅈ⋅❘111010111\n",
       "──────────────────────────────────────────────────────────────────────────────\n",
       "                                                                              \n",
       "\n",
       "⟩ + ⅈ⋅❘111011000⟩ + ⅈ⋅❘111011001⟩ - ❘111011010⟩ + ❘111011011⟩ + ⅈ⋅❘111011100⟩ \n",
       "──────────────────────────────────────────────────────────────────────────────\n",
       "                                                                              \n",
       "\n",
       "- ⅈ⋅❘111011101⟩ - ❘111011110⟩ - ❘111011111⟩ - ❘111100000⟩ + ❘111100001⟩ - ⅈ⋅❘1\n",
       "──────────────────────────────────────────────────────────────────────────────\n",
       "                                                                              \n",
       "\n",
       "11100010⟩ - ⅈ⋅❘111100011⟩ - ❘111100100⟩ - ❘111100101⟩ - ⅈ⋅❘111100110⟩ + ⅈ⋅❘111\n",
       "──────────────────────────────────────────────────────────────────────────────\n",
       "                                                                              \n",
       "\n",
       "100111⟩ + ⅈ⋅❘111101000⟩ + ⅈ⋅❘111101001⟩ - ❘111101010⟩ + ❘111101011⟩ + ⅈ⋅❘11110\n",
       "──────────────────────────────────────────────────────────────────────────────\n",
       "                                                                              \n",
       "\n",
       "1100⟩ - ⅈ⋅❘111101101⟩ - ❘111101110⟩ - ❘111101111⟩)\n",
       "──────────────────────────────────────────────────\n",
       "                                                  "
      ]
     },
     "execution_count": 5,
     "metadata": {},
     "output_type": "execute_result"
    }
   ],
   "source": [
    "ψ = (1/sqrt(2))*(pbk('P+Rr-l1') + pbk('P-Rl+r0'))\n",
    "mysim(mbk(ψ))"
   ]
  },
  {
   "cell_type": "markdown",
   "id": "5e245f30",
   "metadata": {},
   "source": [
    "And using `mbk_xyBB`, we have"
   ]
  },
  {
   "cell_type": "code",
   "execution_count": 6,
   "id": "26c65575",
   "metadata": {},
   "outputs": [
    {
     "data": {
      "image/png": "[encoded data removed]",
      "text/latex": [
       "$\\displaystyle \\frac{\\sqrt{2} \\left({\\left|\\Phi_{+}\\right\\rangle } {\\left|+\\right\\rangle } {\\left|\\Psi_{+}\\right\\rangle } {\\left|\\oplus\\right\\rangle } {\\left|-\\right\\rangle } {\\left|\\ominus\\right\\rangle } {\\left|1\\right\\rangle } + {\\left|\\Phi_{+}\\right\\rangle } {\\left|-\\right\\rangle } {\\left|\\Psi_{+}\\right\\rangle } {\\left|\\ominus\\right\\rangle } {\\left|+\\right\\rangle } {\\left|\\oplus\\right\\rangle } {\\left|0\\right\\rangle }\\right)}{2}$"
      ],
      "text/plain": [
       "√2⋅(❘\\Phi_{+}⟩⋅❘+⟩⋅❘\\Psi_{+}⟩⋅❘\\oplus⟩⋅❘-⟩⋅❘\\ominus⟩⋅❘1⟩ + ❘\\Phi_{+}⟩⋅❘-⟩⋅❘\\Ps\n",
       "──────────────────────────────────────────────────────────────────────────────\n",
       "                                                       2                      \n",
       "\n",
       "i_{+}⟩⋅❘\\ominus⟩⋅❘+⟩⋅❘\\oplus⟩⋅❘0⟩)\n",
       "──────────────────────────────────\n",
       "                                  "
      ]
     },
     "execution_count": 6,
     "metadata": {},
     "output_type": "execute_result"
    }
   ],
   "source": [
    "mysim(mbk_xyBB( ψ, ('y', 3, 1), ('BB', (8,7), (5,4)), ('x', 6, 2), split=1))"
   ]
  },
  {
   "cell_type": "markdown",
   "id": "8da22cfe",
   "metadata": {},
   "source": [
    "It is also possible to send in this format"
   ]
  },
  {
   "cell_type": "code",
   "execution_count": 23,
   "id": "1393e01c",
   "metadata": {},
   "outputs": [
    {
     "data": {
      "image/png": "[encoded data removed]",
      "text/latex": [
       "$\\displaystyle \\frac{\\sqrt{2} \\left({\\left|\\Phi_{+}+\\Psi_{+}\\oplus-\\ominus1\\right\\rangle } + {\\left|\\Phi_{+}-\\Psi_{+}\\ominus+\\oplus0\\right\\rangle }\\right)}{2}$"
      ],
      "text/plain": [
       "√2⋅(❘\\Phi_{+}+\\Psi_{+}\\oplus-\\ominus1⟩ + ❘\\Phi_{+}-\\Psi_{+}\\ominus+\\oplus0⟩)\n",
       "────────────────────────────────────────────────────────────────────────────\n",
       "                                     2                                      "
      ]
     },
     "execution_count": 23,
     "metadata": {},
     "output_type": "execute_result"
    }
   ],
   "source": [
    "mysim(mbk_xyBB( ψ, ['y', 3, 1], ['BB', (8,7), [5,4]], ['x', 6, 2]))"
   ]
  },
  {
   "cell_type": "markdown",
   "id": "fbc68fab",
   "metadata": {},
   "source": [
    "Here is worth an observation: if you run this code, it is very possible that it will take a long time for this result to appear. This is due to the fact that we are considering 9 qubits, that is, we have a column matrix of $2^9=512$ rows. The `mbk_xyBB` function needs to rewrite the computational base in terms of the desired base in each qubit and then perform the new encoding that is presented to the user."
   ]
  },
  {
   "cell_type": "markdown",
   "id": "65a5de8e",
   "metadata": {},
   "source": [
    "Another example, but with a slightly different configuration to show that the similar bases of a qubit stay in the same bracket and the Bell basis is always separated in a ket from the other elements of the state vector"
   ]
  },
  {
   "cell_type": "code",
   "execution_count": 75,
   "id": "372202a9",
   "metadata": {},
   "outputs": [
    {
     "data": {
      "image/png": "[encoded data removed]",
      "text/latex": [
       "$\\displaystyle \\frac{{\\left|0000000010\\right\\rangle } - i {\\left|0000000110\\right\\rangle } + i {\\left|0000001010\\right\\rangle } + {\\left|0000001110\\right\\rangle } - {\\left|0000010010\\right\\rangle } + i {\\left|0000010110\\right\\rangle } - i {\\left|0000011010\\right\\rangle } - {\\left|0000011110\\right\\rangle } - {\\left|0000100010\\right\\rangle } + i {\\left|0000100110\\right\\rangle } - i {\\left|0000101010\\right\\rangle } - {\\left|0000101110\\right\\rangle } + {\\left|0000110010\\right\\rangle } - i {\\left|0000110110\\right\\rangle } + i {\\left|0000111010\\right\\rangle } + {\\left|0000111110\\right\\rangle } + {\\left|0011000001\\right\\rangle } + i {\\left|0011000101\\right\\rangle } - i {\\left|0011001001\\right\\rangle } + {\\left|0011001101\\right\\rangle } + {\\left|0011010001\\right\\rangle } + i {\\left|0011010101\\right\\rangle } - i {\\left|0011011001\\right\\rangle } + {\\left|0011011101\\right\\rangle } - {\\left|0011100001\\right\\rangle } - i {\\left|0011100101\\right\\rangle } + i {\\left|0011101001\\right\\rangle } - {\\left|0011101101\\right\\rangle } - {\\left|0011110001\\right\\rangle } - i {\\left|0011110101\\right\\rangle } + i {\\left|0011111001\\right\\rangle } - {\\left|0011111101\\right\\rangle } + {\\left|1100000010\\right\\rangle } - i {\\left|1100000110\\right\\rangle } + i {\\left|1100001010\\right\\rangle } + {\\left|1100001110\\right\\rangle } - {\\left|1100010010\\right\\rangle } + i {\\left|1100010110\\right\\rangle } - i {\\left|1100011010\\right\\rangle } - {\\left|1100011110\\right\\rangle } - {\\left|1100100010\\right\\rangle } + i {\\left|1100100110\\right\\rangle } - i {\\left|1100101010\\right\\rangle } - {\\left|1100101110\\right\\rangle } + {\\left|1100110010\\right\\rangle } - i {\\left|1100110110\\right\\rangle } + i {\\left|1100111010\\right\\rangle } + {\\left|1100111110\\right\\rangle } + {\\left|1111000001\\right\\rangle } + i {\\left|1111000101\\right\\rangle } - i {\\left|1111001001\\right\\rangle } + {\\left|1111001101\\right\\rangle } + {\\left|1111010001\\right\\rangle } + i {\\left|1111010101\\right\\rangle } - i {\\left|1111011001\\right\\rangle } + {\\left|1111011101\\right\\rangle } - {\\left|1111100001\\right\\rangle } - i {\\left|1111100101\\right\\rangle } + i {\\left|1111101001\\right\\rangle } - {\\left|1111101101\\right\\rangle } - {\\left|1111110001\\right\\rangle } - i {\\left|1111110101\\right\\rangle } + i {\\left|1111111001\\right\\rangle } - {\\left|1111111101\\right\\rangle }}{8}$"
      ],
      "text/plain": [
       "❘0000000010⟩ - ⅈ⋅❘0000000110⟩ + ⅈ⋅❘0000001010⟩ + ❘0000001110⟩ - ❘0000010010⟩ +\n",
       "──────────────────────────────────────────────────────────────────────────────\n",
       "                                                                              \n",
       "\n",
       " ⅈ⋅❘0000010110⟩ - ⅈ⋅❘0000011010⟩ - ❘0000011110⟩ - ❘0000100010⟩ + ⅈ⋅❘0000100110\n",
       "──────────────────────────────────────────────────────────────────────────────\n",
       "                                                                              \n",
       "\n",
       "⟩ - ⅈ⋅❘0000101010⟩ - ❘0000101110⟩ + ❘0000110010⟩ - ⅈ⋅❘0000110110⟩ + ⅈ⋅❘0000111\n",
       "──────────────────────────────────────────────────────────────────────────────\n",
       "                                                                              \n",
       "\n",
       "010⟩ + ❘0000111110⟩ + ❘0011000001⟩ + ⅈ⋅❘0011000101⟩ - ⅈ⋅❘0011001001⟩ + ❘001100\n",
       "──────────────────────────────────────────────────────────────────────────────\n",
       "                                                                              \n",
       "\n",
       "1101⟩ + ❘0011010001⟩ + ⅈ⋅❘0011010101⟩ - ⅈ⋅❘0011011001⟩ + ❘0011011101⟩ - ❘00111\n",
       "──────────────────────────────────────────────────────────────────────────────\n",
       "                                                                              \n",
       "\n",
       "00001⟩ - ⅈ⋅❘0011100101⟩ + ⅈ⋅❘0011101001⟩ - ❘0011101101⟩ - ❘0011110001⟩ - ⅈ⋅❘00\n",
       "──────────────────────────────────────────────────────────────────────────────\n",
       "                                                                              \n",
       "\n",
       "11110101⟩ + ⅈ⋅❘0011111001⟩ - ❘0011111101⟩ + ❘1100000010⟩ - ⅈ⋅❘1100000110⟩ + ⅈ⋅\n",
       "──────────────────────────────────────────────────────────────────────────────\n",
       "                                          8                                   \n",
       "\n",
       "❘1100001010⟩ + ❘1100001110⟩ - ❘1100010010⟩ + ⅈ⋅❘1100010110⟩ - ⅈ⋅❘1100011010⟩ -\n",
       "──────────────────────────────────────────────────────────────────────────────\n",
       "                                                                              \n",
       "\n",
       " ❘1100011110⟩ - ❘1100100010⟩ + ⅈ⋅❘1100100110⟩ - ⅈ⋅❘1100101010⟩ - ❘1100101110⟩ \n",
       "──────────────────────────────────────────────────────────────────────────────\n",
       "                                                                              \n",
       "\n",
       "+ ❘1100110010⟩ - ⅈ⋅❘1100110110⟩ + ⅈ⋅❘1100111010⟩ + ❘1100111110⟩ + ❘1111000001⟩\n",
       "──────────────────────────────────────────────────────────────────────────────\n",
       "                                                                              \n",
       "\n",
       " + ⅈ⋅❘1111000101⟩ - ⅈ⋅❘1111001001⟩ + ❘1111001101⟩ + ❘1111010001⟩ + ⅈ⋅❘11110101\n",
       "──────────────────────────────────────────────────────────────────────────────\n",
       "                                                                              \n",
       "\n",
       "01⟩ - ⅈ⋅❘1111011001⟩ + ❘1111011101⟩ - ❘1111100001⟩ - ⅈ⋅❘1111100101⟩ + ⅈ⋅❘11111\n",
       "──────────────────────────────────────────────────────────────────────────────\n",
       "                                                                              \n",
       "\n",
       "01001⟩ - ❘1111101101⟩ - ❘1111110001⟩ - ⅈ⋅❘1111110101⟩ + ⅈ⋅❘1111111001⟩ - ❘1111\n",
       "──────────────────────────────────────────────────────────────────────────────\n",
       "                                                                              \n",
       "\n",
       "111101⟩\n",
       "───────\n",
       "       "
      ]
     },
     "execution_count": 75,
     "metadata": {},
     "output_type": "execute_result"
    }
   ],
   "source": [
    "ψ = (1/sqrt(2))*(pbk('P00--rl10') + pbk('P11-+lr01'))\n",
    "mysim(mbk(ψ))"
   ]
  },
  {
   "cell_type": "markdown",
   "id": "2e3840b4",
   "metadata": {},
   "source": [
    "And using `mbk_xyBB`, we have"
   ]
  },
  {
   "cell_type": "code",
   "execution_count": 78,
   "id": "26874b8c",
   "metadata": {},
   "outputs": [
    {
     "data": {
      "image/png": "[encoded data removed]",
      "text/latex": [
       "$\\displaystyle \\frac{\\sqrt{2} \\left({\\left|\\Phi_{+}\\right\\rangle } {\\left|00\\right\\rangle } {\\left|--\\right\\rangle } {\\left|\\oplus\\ominus\\right\\rangle } {\\left|10\\right\\rangle } + {\\left|\\Phi_{+}\\right\\rangle } {\\left|11\\right\\rangle } {\\left|-+\\right\\rangle } {\\left|\\ominus\\oplus\\right\\rangle } {\\left|01\\right\\rangle }\\right)}{2}$"
      ],
      "text/plain": [
       "√2⋅(❘\\Phi_{+}⟩⋅❘00⟩⋅❘--⟩⋅❘\\oplus\\ominus⟩⋅❘10⟩ + ❘\\Phi_{+}⟩⋅❘11⟩⋅❘-+⟩⋅❘\\ominus\\\n",
       "──────────────────────────────────────────────────────────────────────────────\n",
       "                                            2                                 \n",
       "\n",
       "oplus⟩⋅❘01⟩)\n",
       "────────────\n",
       "            "
      ]
     },
     "execution_count": 78,
     "metadata": {},
     "output_type": "execute_result"
    }
   ],
   "source": [
    "mysim(mbk_xyBB( ψ, ('BB', (9,8)), ('y', 3, 2), ('x', 4, 5)))"
   ]
  },
  {
   "cell_type": "code",
   "execution_count": null,
   "id": "a4fbccc3",
   "metadata": {},
   "outputs": [],
   "source": [
    "Ke"
   ]
  }
 ],
 "metadata": {
  "kernelspec": {
   "display_name": "Python 3 (ipykernel)",
   "language": "python",
   "name": "python3"
  },
  "language_info": {
   "codemirror_mode": {
    "name": "ipython",
    "version": 3
   },
   "file_extension": ".py",
   "mimetype": "text/x-python",
   "name": "python",
   "nbconvert_exporter": "python",
   "pygments_lexer": "ipython3",
   "version": "3.9.13"
  }
 },
 "nbformat": 4,
 "nbformat_minor": 5
}
